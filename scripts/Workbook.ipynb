{
 "cells": [
  {
   "cell_type": "markdown",
   "id": "overhead-tracy",
   "metadata": {},
   "source": [
    "## Steam tables calculator\n",
    "We need a module in order to calculate thermodynamic properties. This module is called \"iapws\". "
   ]
  },
  {
   "cell_type": "code",
   "execution_count": 1,
   "id": "incident-connecticut",
   "metadata": {},
   "outputs": [],
   "source": [
    "# we will import the module this way since it is already in our directory\n",
    "import iapws97"
   ]
  },
  {
   "cell_type": "code",
   "execution_count": 2,
   "id": "signal-intake",
   "metadata": {},
   "outputs": [],
   "source": [
    "from iapws97 import IAPWS97"
   ]
  },
  {
   "cell_type": "code",
   "execution_count": 27,
   "id": "political-divide",
   "metadata": {},
   "outputs": [],
   "source": [
    "# Define thermodynamic properties that are known.\n",
    "# Substitute your values here. delete the variables that aren't known.\n",
    "# Please append units for your variables using \"_\" and then the dimension. See examples below.\n",
    "# T1_K = 400\n",
    "p1_MPa = 5\n",
    "x1 = 0\n",
    "# mVapor_kg = 10\n",
    "# mLiquid_kg = 5\n",
    "# x1 = (mVapor_kg)/(mVapor_kg+mLiquid_kg)\n",
    "# h1_kJperKg = 1000\n",
    "# V1_m3 = 10"
   ]
  },
  {
   "cell_type": "code",
   "execution_count": 28,
   "id": "resistant-teach",
   "metadata": {},
   "outputs": [],
   "source": [
    "# Calculate the \"class\" at that state. Some examples are commented out here:\n",
    "# water = IAPWS97(T=T1_K, P=p1_MPa)\n",
    "# water = IAPWS97(T=T1_K, x=x1)\n",
    "# water = IAPWS97(P=p1_MPa, h=h1_kJperKg)\n",
    "water = IAPWS97(P=p1_MPa, x=x1)\n",
    "\n",
    "# The properties of that class can then be accessed by using the dot notation.\n",
    "T1_K = water.T # MPa\n",
    "s1_kJperKgperK = water.s # kJ/(kg*K)\n",
    "h1_kJperKg = water.h # kJ/kg\n",
    "v1_m3PerKg = water.v # m3/kg\n",
    "u1_kJperKg = water.u # kJ/kg\n",
    "cp_kJperKgperK = water.cp # kJ/(kg*K)"
   ]
  },
  {
   "cell_type": "markdown",
   "id": "illegal-apple",
   "metadata": {},
   "source": [
    "We can then print the values as:"
   ]
  },
  {
   "cell_type": "code",
   "execution_count": 29,
   "id": "earlier-october",
   "metadata": {},
   "outputs": [
    {
     "name": "stdout",
     "output_type": "stream",
     "text": [
      "T1_K = 537.09 K\n",
      "s1_kJperKgperK = 2.921 kJ/kg*K\n",
      "h1_kJperKg = 1154.50 kJ/kg\n",
      "v1_m3PerKg = 0.00129 m3/kg\n",
      "u1_kJperKg = 1148.07 kJ/kg\n",
      "cp_kJperKgperK = 5.032 kJ/kg\n"
     ]
    }
   ],
   "source": [
    "print('T1_K = {0:1.2f} K'.format(T1_K))\n",
    "print('s1_kJperKgperK = {0:1.3f} kJ/kg*K'.format(s1_kJperKgperK))\n",
    "print('h1_kJperKg = {0:1.2f} kJ/kg'.format(h1_kJperKg))\n",
    "print('v1_m3PerKg = {0:1.5f} m3/kg'.format(v1_m3PerKg))\n",
    "print('u1_kJperKg = {0:1.2f} kJ/kg'.format(u1_kJperKg))\n",
    "print('cp_kJperKgperK = {0:1.3f} kJ/kg'.format(cp_kJperKgperK))"
   ]
  },
  {
   "cell_type": "code",
   "execution_count": 30,
   "id": "cardiovascular-bottle",
   "metadata": {},
   "outputs": [],
   "source": [
    "# check your units\n",
    "T1_C = T1_K - 273.15\n",
    "p1_kPa = p1_MPa*1000\n",
    "# V1_m3 = V1_L*1000"
   ]
  },
  {
   "cell_type": "code",
   "execution_count": 31,
   "id": "nuclear-queen",
   "metadata": {},
   "outputs": [
    {
     "name": "stdout",
     "output_type": "stream",
     "text": [
      "T1_C = 263.94 C\n",
      "p1_kPa = 5000.00 kPa\n"
     ]
    }
   ],
   "source": [
    "print('T1_C = {0:1.2f} C'.format(T1_C))\n",
    "print('p1_kPa = {0:1.2f} kPa'.format(p1_kPa))"
   ]
  },
  {
   "cell_type": "markdown",
   "id": "apparent-right",
   "metadata": {},
   "source": [
    "### Python calculator with basic operations"
   ]
  },
  {
   "cell_type": "code",
   "execution_count": 33,
   "id": "noble-prerequisite",
   "metadata": {},
   "outputs": [
    {
     "data": {
      "text/plain": [
       "22"
      ]
     },
     "execution_count": 33,
     "metadata": {},
     "output_type": "execute_result"
    }
   ],
   "source": [
    "# Calculator operations in Python\n",
    "# addition\n",
    "10 + 12"
   ]
  },
  {
   "cell_type": "code",
   "execution_count": 34,
   "id": "offshore-grounds",
   "metadata": {},
   "outputs": [
    {
     "data": {
      "text/plain": [
       "14"
      ]
     },
     "execution_count": 34,
     "metadata": {},
     "output_type": "execute_result"
    }
   ],
   "source": [
    "# subtraction\n",
    "20 - 6"
   ]
  },
  {
   "cell_type": "code",
   "execution_count": 35,
   "id": "adjusted-activation",
   "metadata": {},
   "outputs": [
    {
     "data": {
      "text/plain": [
       "60"
      ]
     },
     "execution_count": 35,
     "metadata": {},
     "output_type": "execute_result"
    }
   ],
   "source": [
    "# multiplication\n",
    "20* 3"
   ]
  },
  {
   "cell_type": "code",
   "execution_count": 36,
   "id": "thorough-stand",
   "metadata": {},
   "outputs": [
    {
     "data": {
      "text/plain": [
       "10.0"
      ]
     },
     "execution_count": 36,
     "metadata": {},
     "output_type": "execute_result"
    }
   ],
   "source": [
    "# division\n",
    "60/6"
   ]
  },
  {
   "cell_type": "code",
   "execution_count": 37,
   "id": "conservative-superintendent",
   "metadata": {},
   "outputs": [
    {
     "data": {
      "text/plain": [
       "100"
      ]
     },
     "execution_count": 37,
     "metadata": {},
     "output_type": "execute_result"
    }
   ],
   "source": [
    "# power 10^2\n",
    "10**2"
   ]
  },
  {
   "cell_type": "code",
   "execution_count": 38,
   "id": "rapid-poland",
   "metadata": {},
   "outputs": [
    {
     "data": {
      "text/plain": [
       "10.0"
      ]
     },
     "execution_count": 38,
     "metadata": {},
     "output_type": "execute_result"
    }
   ],
   "source": [
    "# square-root\n",
    "100**(0.5)"
   ]
  }
 ],
 "metadata": {
  "kernelspec": {
   "display_name": "Python 3",
   "language": "python",
   "name": "python3"
  },
  "language_info": {
   "codemirror_mode": {
    "name": "ipython",
    "version": 3
   },
   "file_extension": ".py",
   "mimetype": "text/x-python",
   "name": "python",
   "nbconvert_exporter": "python",
   "pygments_lexer": "ipython3",
   "version": "3.8.6"
  }
 },
 "nbformat": 4,
 "nbformat_minor": 5
}
