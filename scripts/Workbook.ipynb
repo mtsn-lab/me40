{
 "cells": [
  {
   "cell_type": "markdown",
   "id": "silver-hampshire",
   "metadata": {},
   "source": [
    "## Steam tables calculator\n",
    "We need a module in order to calculate thermodynamic properties. This module is called \"iapws\". "
   ]
  },
  {
   "cell_type": "code",
   "execution_count": 1,
   "id": "reserved-argentina",
   "metadata": {},
   "outputs": [
    {
     "name": "stdout",
     "output_type": "stream",
     "text": [
      "Requirement already satisfied: iapws in /srv/conda/lib/python3.11/site-packages (1.5.4)\n",
      "Requirement already satisfied: scipy>=1.2 in /srv/conda/lib/python3.11/site-packages (from iapws) (1.10.0)\n",
      "Requirement already satisfied: numpy<1.27.0,>=1.19.5 in /srv/conda/lib/python3.11/site-packages (from scipy>=1.2->iapws) (1.26.4)\n"
     ]
    }
   ],
   "source": [
    "!pip install iapws # comment this line out for PrairieLearn\n",
    "# we will import the module this way since it is already in our directory\n",
    "# import iapws97 # uncomment this line for PrairieLearn"
   ]
  },
  {
   "cell_type": "code",
   "execution_count": 2,
   "id": "played-coalition",
   "metadata": {},
   "outputs": [],
   "source": [
    "from iapws import IAPWS97 # comment this line for PrairieLearn\n",
    "# from iapws97 import IAPWS97 #uncomment this line for PrairieLearn"
   ]
  },
  {
   "cell_type": "code",
   "execution_count": 3,
   "id": "stuck-heating",
   "metadata": {},
   "outputs": [],
   "source": [
    "# Define thermodynamic properties that are known.\n",
    "# Substitute your values here. delete the variables that aren't known.\n",
    "# Please append units for your variables using \"_\" and then the dimension. See examples below.\n",
    "# T1_K = 400\n",
    "p1_MPa = 1\n",
    "x1 = 0\n",
    "# mVapor_kg = 10\n",
    "# mLiquid_kg = 5\n",
    "# x1 = (mVapor_kg)/(mVapor_kg+mLiquid_kg)\n",
    "# h1_kJperKg = 1000\n",
    "# V1_m3 = 10"
   ]
  },
  {
   "cell_type": "code",
   "execution_count": 4,
   "id": "genuine-diabetes",
   "metadata": {},
   "outputs": [],
   "source": [
    "# Calculate the \"class\" at that state. Some examples are commented out here:\n",
    "# water = IAPWS97(T=T1_K, P=p1_MPa)\n",
    "# water = IAPWS97(T=T1_K, x=x1)\n",
    "# water = IAPWS97(P=p1_MPa, h=h1_kJperKg)\n",
    "water = IAPWS97(P=p1_MPa, x=x1)\n",
    "\n",
    "# The properties of that class can then be accessed by using the dot notation.\n",
    "T1_K = water.T # MPa\n",
    "s1_kJperKgperK = water.s # kJ/(kg*K)\n",
    "h1_kJperKg = water.h # kJ/kg\n",
    "v1_m3PerKg = water.v # m3/kg\n",
    "u1_kJperKg = water.u # kJ/kg\n",
    "# cp_kJperKgperK = water.cp # kJ/(kg*K)"
   ]
  },
  {
   "cell_type": "markdown",
   "id": "unique-simple",
   "metadata": {},
   "source": [
    "We can then print the values as:"
   ]
  },
  {
   "cell_type": "code",
   "execution_count": 5,
   "id": "ethical-healing",
   "metadata": {},
   "outputs": [
    {
     "name": "stdout",
     "output_type": "stream",
     "text": [
      "T1_K = 453.04 K\n",
      "s1_kJperKgperK = 2.138 kJ/kg*K\n",
      "h1_kJperKg = 762.68 kJ/kg\n",
      "v1_m3PerKg = 0.00113 m3/kg\n",
      "u1_kJperKg = 761.56 kJ/kg\n"
     ]
    }
   ],
   "source": [
    "print('T1_K = {0:1.2f} K'.format(T1_K))\n",
    "print('s1_kJperKgperK = {0:1.3f} kJ/kg*K'.format(s1_kJperKgperK))\n",
    "print('h1_kJperKg = {0:1.2f} kJ/kg'.format(h1_kJperKg))\n",
    "print('v1_m3PerKg = {0:1.5f} m3/kg'.format(v1_m3PerKg))\n",
    "print('u1_kJperKg = {0:1.2f} kJ/kg'.format(u1_kJperKg))\n",
    "# print('cp_kJperKgperK = {0:1.3f} kJ/(kg*K)'.format(cp_kJperKgperK))"
   ]
  },
  {
   "cell_type": "code",
   "execution_count": 6,
   "id": "split-graham",
   "metadata": {},
   "outputs": [],
   "source": [
    "# check your units\n",
    "T1_C = T1_K - 273.15\n",
    "p1_kPa = p1_MPa*1000\n",
    "# V1_m3 = V1_L*1000"
   ]
  },
  {
   "cell_type": "code",
   "execution_count": 7,
   "id": "crude-danish",
   "metadata": {},
   "outputs": [
    {
     "name": "stdout",
     "output_type": "stream",
     "text": [
      "T1_C = 179.89 C\n",
      "p1_kPa = 1000.00 kPa\n"
     ]
    }
   ],
   "source": [
    "print('T1_C = {0:1.2f} C'.format(T1_C))\n",
    "print('p1_kPa = {0:1.2f} kPa'.format(p1_kPa))"
   ]
  },
  {
   "cell_type": "markdown",
   "id": "persistent-draft",
   "metadata": {},
   "source": [
    "### Python calculator with basic operations"
   ]
  },
  {
   "cell_type": "code",
   "execution_count": 8,
   "id": "678b37b0-4894-4cff-b091-132a002bbfef",
   "metadata": {},
   "outputs": [
    {
     "name": "stdout",
     "output_type": "stream",
     "text": [
      "Requirement already satisfied: numpy in /srv/conda/lib/python3.11/site-packages (1.26.4)\n"
     ]
    }
   ],
   "source": [
    "# we don't need to install this package on PrairieLearn\n",
    "# it is pre-installed\n",
    "!pip install numpy"
   ]
  },
  {
   "cell_type": "code",
   "execution_count": 9,
   "id": "tested-advertiser",
   "metadata": {},
   "outputs": [
    {
     "data": {
      "text/plain": [
       "2.0"
      ]
     },
     "execution_count": 9,
     "metadata": {},
     "output_type": "execute_result"
    }
   ],
   "source": [
    "# Calculator operations in Python\n",
    "# Remove the hashtags \"#\" to uncomment the lines and do the calculation\n",
    "import numpy as np\n",
    "\n",
    "# subtraction\n",
    "# 20 - 6\n",
    "\n",
    "# multiplication\n",
    "# 20* 3\n",
    "\n",
    "# # division\n",
    "# 60/6\n",
    "\n",
    "# power 10^2\n",
    "# 10**2\n",
    "\n",
    "# square-root\n",
    "# 100**(0.5)\n",
    "# or\n",
    "np.sqrt(4)\n",
    "\n",
    "# natural log\n",
    "# np.log(5)"
   ]
  },
  {
   "cell_type": "code",
   "execution_count": null,
   "id": "honey-timeline",
   "metadata": {},
   "outputs": [],
   "source": []
  }
 ],
 "metadata": {
  "kernelspec": {
   "display_name": "Python 3 (ipykernel)",
   "language": "python",
   "name": "python3"
  },
  "language_info": {
   "codemirror_mode": {
    "name": "ipython",
    "version": 3
   },
   "file_extension": ".py",
   "mimetype": "text/x-python",
   "name": "python",
   "nbconvert_exporter": "python",
   "pygments_lexer": "ipython3",
   "version": "3.11.9"
  }
 },
 "nbformat": 4,
 "nbformat_minor": 5
}
