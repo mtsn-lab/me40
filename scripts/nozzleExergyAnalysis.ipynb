{
 "cells": [
  {
   "cell_type": "markdown",
   "id": "5e246d03-4c3e-44ea-8812-2f960aaa07c6",
   "metadata": {},
   "source": [
    "Problem 8-52, Thermodynamics, Cengels"
   ]
  },
  {
   "cell_type": "markdown",
   "id": "b68a1d17-2fa7-449d-9d30-f066374fc04d",
   "metadata": {},
   "source": [
    "Air enters a nozzle steadily at 200 kPa and 65°C with a velocity of 35 m/s and exits at 95 kPa and 240 m/s. The heat loss from the nozzle to the surrounding medium at 17°C is estimated to be 3 kJ/kg. \n",
    "\n",
    "Determine (a) the exit temperature and (b) the exergy destroyed during this process.\n",
    "\n",
    "Answers: \n",
    "- (a) 34.0°C,\n",
    "- (b) 36.9 kJ/kg"
   ]
  },
  {
   "cell_type": "code",
   "execution_count": 1,
   "id": "c6811354-a291-4597-95c9-b9a1564e7a88",
   "metadata": {},
   "outputs": [
    {
     "name": "stdout",
     "output_type": "stream",
     "text": [
      "Collecting CoolProp\n",
      "  Using cached CoolProp-6.6.0-cp311-cp311-manylinux_2_17_x86_64.manylinux2014_x86_64.whl (7.3 MB)\n",
      "Installing collected packages: CoolProp\n",
      "Successfully installed CoolProp-6.6.0\n"
     ]
    }
   ],
   "source": [
    "!pip install CoolProp"
   ]
  },
  {
   "cell_type": "code",
   "execution_count": 2,
   "id": "37e43484-02fb-4487-9cda-851ed9988eeb",
   "metadata": {},
   "outputs": [],
   "source": [
    "from CoolProp.CoolProp import PropsSI"
   ]
  },
  {
   "cell_type": "code",
   "execution_count": 3,
   "id": "acf74b51-7a76-439b-8692-c8d442229120",
   "metadata": {},
   "outputs": [],
   "source": [
    "p1_MPa = 200/1000\n",
    "T1_K = 65+273.15\n",
    "w1_mPerS = 35"
   ]
  },
  {
   "cell_type": "code",
   "execution_count": 4,
   "id": "1eb549ea-a82b-46a8-99ea-2a54b696773b",
   "metadata": {},
   "outputs": [],
   "source": [
    "p2_MPa = 95/1000\n",
    "w2_mPerS = 240"
   ]
  },
  {
   "cell_type": "code",
   "execution_count": 5,
   "id": "a2ba0f35-654f-419f-b683-7460b9b2e6cd",
   "metadata": {},
   "outputs": [],
   "source": [
    "T0_K = 17+273.15\n",
    "qOut_kJperKg = 3\n",
    "fluid = 'air'"
   ]
  },
  {
   "cell_type": "code",
   "execution_count": 6,
   "id": "36775def-59ac-49ad-8488-fccce459e40a",
   "metadata": {},
   "outputs": [],
   "source": [
    "h1_JperKg = PropsSI('H','P',p1_MPa*1e6,'T',T1_K,fluid)\n",
    "h1_kJperKg = h1_JperKg/1000\n",
    "s1_JperKgperK = PropsSI('S','P',p1_MPa*1e6,'T',T1_K,fluid)\n",
    "s1_kJperKgperK = s1_JperKgperK/1000"
   ]
  },
  {
   "cell_type": "markdown",
   "id": "311b2a73-4c24-4989-8a4a-553c68a07d30",
   "metadata": {},
   "source": [
    "$$h_1 + w^2_1/2 = q_\\text{out} + h_2 + w^2_2/2 $$\n",
    "$$\\implies h_2 = h_1 + (1/2)(w_1^2 - w^2_2) -q_\\text{out} $$"
   ]
  },
  {
   "cell_type": "code",
   "execution_count": 7,
   "id": "c53871a1-51c3-4942-b73b-2dd8a648ec93",
   "metadata": {},
   "outputs": [
    {
     "name": "stdout",
     "output_type": "stream",
     "text": [
      "433.3655959672886\n"
     ]
    }
   ],
   "source": [
    "h2_JperKg = h1_kJperKg*1000 + (1/2)*(w1_mPerS**2 - w2_mPerS**2) - qOut_kJperKg*1000\n",
    "h2_kJperKg = h2_JperKg/1000; print(h2_kJperKg)"
   ]
  },
  {
   "cell_type": "code",
   "execution_count": 8,
   "id": "659f0517-e8ff-4b10-b9dc-d0165033015f",
   "metadata": {},
   "outputs": [
    {
     "name": "stdout",
     "output_type": "stream",
     "text": [
      "(a) T2_K = 33.9 C.\n"
     ]
    }
   ],
   "source": [
    "T2_K = PropsSI('T','P',p2_MPa*1e6,'H',h2_JperKg,fluid)\n",
    "s2_JperKgperK = PropsSI('S','P',p2_MPa*1e6,'H',h2_JperKg,fluid)\n",
    "s2_kJperKgperK = s2_JperKgperK/1000\n",
    "\n",
    "print('(a) T2_K = {0:1.1f} C.'.format(T2_K - 273.15))"
   ]
  },
  {
   "cell_type": "markdown",
   "id": "b8ce6a45-d176-4a72-a25a-07ec3da7cf5f",
   "metadata": {},
   "source": [
    "That value looks close to the one given by the textbook. \n",
    "\n",
    "----------------------------------\n",
    "part (b)\n",
    "\n",
    "-----\n",
    "We will now proceed with using entropy analysis to determine the entropy generated and answer part (b)."
   ]
  },
  {
   "cell_type": "markdown",
   "id": "9fd28139-cd6a-4420-92eb-1f70fc68f819",
   "metadata": {},
   "source": [
    "Here is the formula for the the rate of change of entropy within a control volue:\n",
    "\n",
    "$\\frac{dS_\\text{CV}}{dt} = \\dot{S}_\\text{in} - \\dot{S}_\\text{out} + \\dot{S}_\\text{gen} $\n",
    "\n",
    "Assume: steady state\n",
    "\n",
    "$\\implies \\dot{S}_\\text{gen} = \\dot{S}_\\text{out} - \\dot{S}_\\text{in} = \\dot{m} \\left(s_2 - s_1 + q_\\text{out}/T_0\\right)$\n",
    "\n",
    "$s_\\text{gen} = s_2 - s_1 + q_\\text{out}/T_0$"
   ]
  },
  {
   "cell_type": "markdown",
   "id": "f38bb5bd-c810-4beb-bc8a-2b22b1c93106",
   "metadata": {},
   "source": [
    "Recall the definition of exergy destruction:\n",
    "\n",
    "$x_\\text{destroyed} = T_0 s_\\text{gen}$"
   ]
  },
  {
   "cell_type": "code",
   "execution_count": 9,
   "id": "11b119f4-cf5b-4d18-99cf-72c73883c4ee",
   "metadata": {},
   "outputs": [
    {
     "name": "stdout",
     "output_type": "stream",
     "text": [
      "(b) xDestroyed_kJperKg = 36.9 kJ/kg.\n"
     ]
    }
   ],
   "source": [
    "sGen_kJperKgperK = (s2_kJperKgperK - s1_kJperKgperK) + qOut_kJperKg/T0_K\n",
    "\n",
    "xDestroyed_kJperKg = T0_K * sGen_kJperKgperK\n",
    "\n",
    "print('(b) xDestroyed_kJperKg = {0:1.1f} kJ/kg.'.format(xDestroyed_kJperKg))"
   ]
  },
  {
   "cell_type": "markdown",
   "id": "31e55df4-f5a6-4771-aa5f-d1d52ce85296",
   "metadata": {},
   "source": [
    "------\n",
    "part (b) alternative\n",
    "\n",
    "------"
   ]
  },
  {
   "cell_type": "markdown",
   "id": "2f6132c4-a09b-4cf0-8920-1d1c1c0c7f02",
   "metadata": {},
   "source": [
    "Here is the formula for the the rate of change of exergy within a control volue:\n",
    "\n",
    "$$\\frac{dX_\\text{CV}}{dt} = \\dot{X}_\\text{in} - \\dot{X}_\\text{out} - \\dot{X}_\\text{destroyed} $$\n",
    "\n",
    "At steady state, we have:\n",
    "\n",
    "$$\\dot{X}_\\text{destroyed} =  \\dot{X}_\\text{in} - \\dot{X}_\\text{out}  $$\n",
    "\n",
    "The exergy rate for a fluid stream is (called flow exergy):\n",
    "\n",
    "$$\\dot{X} = \\dot{W} + \\left(1 - \\frac{T_0}{T} \\right)\\dot{Q} + \\dot{m} \\psi$$\n",
    "\n",
    "where \n",
    "\n",
    "$$\\psi = (h - h_0) - T_0 (s - s_0) + w^2/2 + gz$$"
   ]
  },
  {
   "cell_type": "markdown",
   "id": "24674eb2-03d5-4349-9f5a-5dfa0903e206",
   "metadata": {},
   "source": [
    "$$\\dot{X}_\\text{destroyed} = \\left[ \\dot{W} + \\left(1 - \\frac{T_0}{T} \\right)\\dot{Q} + \\dot{m} \\psi \\right]_\\text{in} - \\left[ \\dot{W} + \\left(1 - \\frac{T_0}{T} \\right)\\dot{Q} + \\dot{m} \\psi \\right]_\\text{out}$$\n",
    "\n",
    "For a nozzle, we assume: \n",
    "- no shaft work.\n",
    "- no heat transferred in.\n",
    "- no potential energy changes.\n",
    "- heat is transferred out to the environment, which is at temperature $T_0$. So the heat exergy, $\\dot{X}_\\text{heat} = \\left(1 - \\frac{T_0}{T} \\right)\\dot{Q}$, will be zero. \n",
    "\n",
    "Therefore:\n",
    "$$\\dot{X}_\\text{destroyed} = \\left[\\dot{m} \\psi \\right]_\\text{in} - \\left[ \\left(1 - \\frac{T_0}{T_0} \\right)\\dot{Q} + \\dot{m} \\psi \\right]_\\text{out}$$\n",
    "\n",
    "$$\\implies \\dot{X}_\\text{destroyed} = \\left[\\dot{m} \\psi \\right]_\\text{in} - \\left[\\dot{m} \\psi \\right]_\\text{out}$$\n",
    "\n",
    "$$\\implies \\dot{X}_\\text{destroyed} = \\dot{m} \\left[ \\psi_\\text{in} - \\psi_\\text{out} \\right]$$\n",
    "\n",
    "$$\\implies \\dot{X}_\\text{destroyed} = \\dot{m} \\left[ ((h - h_0) - T_0 (s - s_0) + w^2/2)_\\text{in} - ((h - h_0) - T_0 (s - s_0) + w^2/2)_\\text{out} \\right]$$\n",
    "\n",
    "If the fluid enters the nozzle at state 1, then we will note that \"in\" is \"1\" and \"out\" is \"2\"\n",
    "\n",
    "$$\\implies \\dot{X}_\\text{destroyed} = \\dot{m} \\left[ ((h_1 - h_0) - T_0 (s_1 - s_0) + w_1^2/2) - ((h_2 - h_0) - T_0 (s_2 - s_0) + w_2^2/2) \\right]$$\n",
    "\n",
    "$$\\implies \\dot{X}_\\text{destroyed} = \\dot{m} \\left[ (h_1 - h_2) - T_0 (s_1 - s_2) + (w_1^2/2 - w_2^2/2) \\right]$$\n",
    "\n",
    "Dividing both sides by the mass flow rate:\n",
    "\n",
    "$$x_\\text{destroyed} = (h_1 - h_2) - T_0 (s_1 - s_2) + (w_1^2/2 - w_2^2/2)$$"
   ]
  },
  {
   "cell_type": "code",
   "execution_count": 12,
   "id": "e34559d8-74e5-494e-88cd-8e2b4cc1fe89",
   "metadata": {},
   "outputs": [
    {
     "name": "stdout",
     "output_type": "stream",
     "text": [
      "(c) xDestroyed_kJperKg = 36.9 kJ/kg.\n"
     ]
    }
   ],
   "source": [
    "xDestroyed_JperKg_ = (h1_JperKg - h2_JperKg) - T0_K*(s1_JperKgperK - s2_JperKgperK) + ((w1_mPerS**2)/2 - (w2_mPerS**2)/2)\n",
    "xDestroyed_kJperKg_ = xDestroyed_JperKg_/1000\n",
    "print('(c) xDestroyed_kJperKg = {0:1.1f} kJ/kg.'.format(xDestroyed_kJperKg))"
   ]
  },
  {
   "cell_type": "code",
   "execution_count": null,
   "id": "0c69f242-4072-4985-b0cc-0dee5b202450",
   "metadata": {},
   "outputs": [],
   "source": []
  }
 ],
 "metadata": {
  "kernelspec": {
   "display_name": "Python 3 (ipykernel)",
   "language": "python",
   "name": "python3"
  },
  "language_info": {
   "codemirror_mode": {
    "name": "ipython",
    "version": 3
   },
   "file_extension": ".py",
   "mimetype": "text/x-python",
   "name": "python",
   "nbconvert_exporter": "python",
   "pygments_lexer": "ipython3",
   "version": "3.11.10"
  }
 },
 "nbformat": 4,
 "nbformat_minor": 5
}
