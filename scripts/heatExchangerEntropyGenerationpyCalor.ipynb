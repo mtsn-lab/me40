{
 "cells": [
  {
   "cell_type": "code",
   "execution_count": 12,
   "id": "f4ed255b-d79f-4ec6-88c1-ead66e30ae98",
   "metadata": {},
   "outputs": [
    {
     "name": "stdout",
     "output_type": "stream",
     "text": [
      "Requirement already satisfied: pyCalor in /srv/conda/lib/python3.11/site-packages (1.0.21)\n",
      "Requirement already satisfied: CoolProp in /srv/conda/lib/python3.11/site-packages (from pyCalor) (7.1.0)\n",
      "Requirement already satisfied: igraph in /srv/conda/lib/python3.11/site-packages (from pyCalor) (0.11.9)\n",
      "Requirement already satisfied: texttable>=1.6.2 in /srv/conda/lib/python3.11/site-packages (from igraph->pyCalor) (1.7.0)\n"
     ]
    }
   ],
   "source": [
    "!pip install pyCalor"
   ]
  },
  {
   "attachments": {},
   "cell_type": "markdown",
   "id": "4b988abe-7f86-4d87-ab6e-8f3c083b43d6",
   "metadata": {},
   "source": [
    "Problem 7-141 from Cengels Thermodynamics 9th edition\n",
    "\n",
    "Cold water (Cp = 4.18 kJ/kg.°C) leading to a shower enters a well-insulated, thin-walled, double-pipe, counterflow heat exchanger at 10°C at a rate of 0.95 kg/s and is heated to 70°C by hot water (Cp = 4.19 kJ/kg.°C) that enters at 85°C at a rate of 1.6 kg/s. Determine (a) the rate of heat transfer and (b) the rate of entropy generation in the heat exchanger.\n",
    "\n",
    "We will say that the cold water enters the heat exchanger at state 1 and exits at state 2. \n",
    "We will say that the hot water enters the heat exchanger at state 3 and exits at state 4. "
   ]
  },
  {
   "cell_type": "code",
   "execution_count": 13,
   "id": "9242ecd8-1278-44e3-9b27-915383e04b64",
   "metadata": {},
   "outputs": [],
   "source": [
    "from pyCalor import thermo as th"
   ]
  },
  {
   "cell_type": "code",
   "execution_count": 14,
   "id": "6fdef8c5-281f-4d3d-8e3a-0860ca51836e",
   "metadata": {},
   "outputs": [],
   "source": [
    "cpCold_kJperKgperK = 4.18\n",
    "cpHot_kJperKgperK = 4.19\n",
    "\n",
    "T1_C = 10\n",
    "T2_C = 70\n",
    "mdot12_kgPerS = 0.95\n",
    "\n",
    "T3_C = 85\n",
    "mdot34_kgPerS = 1.6\n",
    "\n",
    "substance = 'water'"
   ]
  },
  {
   "cell_type": "markdown",
   "id": "3aac4fe2-50b5-458f-9acb-3c2bee3ba92e",
   "metadata": {},
   "source": [
    "Analyze the cold water control volume. Assume steady state.\n",
    "\n",
    "$\\dot{m}_\\text{in} = \\dot{m}_\\text{out}$\n",
    "\n",
    "$\\dot{E}_\\text{in} = \\dot{E}_\\text{out}$\n",
    "\n",
    "$\\dot{W}_\\text{in} + \\dot{Q}_\\text{in} + \\dot{m}\\left(h_1 + w_1^2/2 + gz_1 \\right) = \\dot{W}_\\text{out} + \\dot{Q}_\\text{out} + \\dot{m}\\left(h_2 + w_2^2/2 + gz_1 \\right)$ \n",
    "\n",
    "$\\dot{Q}_\\text{in} + \\dot{m}\\left(h_1\\right) = \\dot{m}\\left(h_2 \\right)$ \n",
    "\n",
    "$\\dot{Q}_\\text{in} = \\dot{m}\\left(h_2 - h_1 \\right) = \\dot{m} c_p \\left(T_2 - T_1 \\right)$ "
   ]
  },
  {
   "cell_type": "code",
   "execution_count": 15,
   "id": "6181a765-0a59-453e-bdb2-e1b337ae8164",
   "metadata": {},
   "outputs": [
    {
     "name": "stdout",
     "output_type": "stream",
     "text": [
      "(a) QdotIn_kW = 238.3 kW.\n"
     ]
    }
   ],
   "source": [
    "QdotIn_kW = mdot12_kgPerS * cpCold_kJperKgperK* (T2_C  - T1_C) \n",
    "print('(a) QdotIn_kW = {0:1.1f} kW.'.format(QdotIn_kW))"
   ]
  },
  {
   "cell_type": "markdown",
   "id": "8f942592-5ff5-4c82-9e74-a97851367f3c",
   "metadata": {},
   "source": [
    "Let's compare this value with what we get when we use the property tables. "
   ]
  },
  {
   "cell_type": "code",
   "execution_count": 16,
   "id": "2c8022c3-655a-4d96-a0f3-2671e93c94d2",
   "metadata": {},
   "outputs": [],
   "source": [
    "p1_MPa = 0.1\n",
    "water_1 = th.state(substance,p=(p1_MPa,'Mpa'),T=(T1_C,'C'),name='1')\n",
    "water_2 = th.state(substance,p=(p1_MPa,'Mpa'),T=(T2_C,'C'),name='2')"
   ]
  },
  {
   "cell_type": "code",
   "execution_count": 17,
   "id": "15d32dbc-f74f-4e33-8c30-8465fc938b98",
   "metadata": {},
   "outputs": [
    {
     "name": "stdout",
     "output_type": "stream",
     "text": [
      "(a) Alternate answer: QdotIn_kW = 238.5 kW.\n"
     ]
    }
   ],
   "source": [
    "QdotIn_kW_ = mdot12_kgPerS * (water_2.h  - water_1.h)\n",
    "print('(a) Alternate answer: QdotIn_kW = {0:1.1f} kW.'.format(QdotIn_kW_))"
   ]
  },
  {
   "cell_type": "markdown",
   "id": "17a8e3da-8c9b-4782-91ff-df06efb7434b",
   "metadata": {},
   "source": [
    "$\\dot{S}_\\text{in} - \\dot{S}_\\text{out} + \\dot{S}_\\text{gen} = \\frac{dS_\\text{system}}{dt}$\n",
    "\n",
    "We assume steady state, therefore:\n",
    "\n",
    "$\\dot{m}_\\text{cold}s_1 + \\dot{m}_\\text{hot}s_3 - \\dot{m}_\\text{cold}s_2 - \\dot{m}_\\text{hot}s_4 + \\dot{S}_\\text{gen} = 0$ \n",
    "\n",
    "$\\implies  \\dot{S}_\\text{gen} = -\\dot{m}_\\text{cold}s_1 + -\\dot{m}_\\text{hot}s_3 + \\dot{m}_\\text{cold}s_2 + \\dot{m}_\\text{hot}s_4$ \n",
    "\n",
    "$\\implies  \\dot{S}_\\text{gen} = \\dot{m}_\\text{cold} \\left(s_2 - s_1 \\right)  + \\dot{m}_\\text{hot} \\left( s_4 -s_3 \\right)$"
   ]
  },
  {
   "cell_type": "code",
   "execution_count": 18,
   "id": "1b385137-7e4b-424c-9c5b-59df4b699d0f",
   "metadata": {},
   "outputs": [],
   "source": [
    "water_3 = th.state(substance,p=(p1_MPa,'Mpa'),T=(T3_C,'C'),name='3')"
   ]
  },
  {
   "cell_type": "code",
   "execution_count": 19,
   "id": "c7539954-032b-4335-9a2c-bf6c676e71d9",
   "metadata": {},
   "outputs": [
    {
     "name": "stdout",
     "output_type": "stream",
     "text": [
      "207.0562758630595\n"
     ]
    }
   ],
   "source": [
    "h4_kJperKg = water_3.h  - QdotIn_kW_/mdot34_kgPerS; print(h4_kJperKg)"
   ]
  },
  {
   "cell_type": "code",
   "execution_count": 20,
   "id": "1e1ff4c0-1cd5-421f-b308-f64545ad8daf",
   "metadata": {},
   "outputs": [],
   "source": [
    "water_4 = th.state(substance,p=(p1_MPa,'Mpa'),h=(h4_kJperKg,'kJ/kg'),name='4')"
   ]
  },
  {
   "cell_type": "code",
   "execution_count": 21,
   "id": "9013a2b1-3f7a-47f6-b4fd-cc4acdda042b",
   "metadata": {},
   "outputs": [
    {
     "name": "stdout",
     "output_type": "stream",
     "text": [
      "(b) Sgen_kWperK = 0.063 kW/K.\n"
     ]
    }
   ],
   "source": [
    "Sgen_kWperK = mdot12_kgPerS*(water_2.s - water_1.s) + mdot34_kgPerS*(water_4.s - water_3.s)#; print(Sgen_kWperK)\n",
    "print('(b) Sgen_kWperK = {0:1.3f} kW/K.'.format(Sgen_kWperK))"
   ]
  },
  {
   "cell_type": "code",
   "execution_count": null,
   "id": "0d9f9db9-b5cb-482b-97c9-76545de9fa28",
   "metadata": {},
   "outputs": [],
   "source": []
  }
 ],
 "metadata": {
  "kernelspec": {
   "display_name": "Python 3 (ipykernel)",
   "language": "python",
   "name": "python3"
  },
  "language_info": {
   "codemirror_mode": {
    "name": "ipython",
    "version": 3
   },
   "file_extension": ".py",
   "mimetype": "text/x-python",
   "name": "python",
   "nbconvert_exporter": "python",
   "pygments_lexer": "ipython3",
   "version": "3.11.13"
  }
 },
 "nbformat": 4,
 "nbformat_minor": 5
}
