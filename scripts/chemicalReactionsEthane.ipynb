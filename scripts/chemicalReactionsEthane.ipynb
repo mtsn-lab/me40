{
 "cells": [
  {
   "attachments": {},
   "cell_type": "markdown",
   "id": "b48bda9d-6648-4bee-a6cf-c8e8416b8ecf",
   "metadata": {},
   "source": [
    "Ethane Gas (C2H6) at 25 C is burned in a steady-flow combustion chamber at a rate of 5 kg/h with the stoichiometric amount of air, which is preheated to 500 K before entering the combustion chamber. \n",
    "\n",
    "An analysis of the combustion gases reveals that all the hydrogen in the fuel burns to H2O, but only 95% of the carbon burns to CO2, the remaining 5% forming CO. The products leave the chamber at 800 K. \n",
    "\n",
    "Determine the rate of heat transfer from the combustion chamber.\r\n"
   ]
  },
  {
   "cell_type": "code",
   "execution_count": 1,
   "id": "c42fa399-97f6-4bd6-a028-973fe906f1e0",
   "metadata": {},
   "outputs": [],
   "source": [
    "mdot_kgPerH = 5\n",
    "mdot_kgPerS = mdot_kgPerH/(60*60)"
   ]
  },
  {
   "cell_type": "code",
   "execution_count": 2,
   "id": "cdcacdc7-61d7-4452-a9f3-98fa8dabf60f",
   "metadata": {},
   "outputs": [],
   "source": [
    "T1_C2H6_C = 25\n",
    "T1_C2H6_K = T1_C2H6_C + 273.15\n",
    "\n",
    "T1_Air_K = 500\n",
    "\n",
    "T2_H2O_K = 800\n",
    "T2_CO2_K = 800\n",
    "T2_CO_K = 800\n",
    "T2_O2_K = 800\n",
    "T2_N2_K = 800"
   ]
  },
  {
   "cell_type": "markdown",
   "id": "5b3a9d20-ede1-4d78-8928-018c6050e871",
   "metadata": {},
   "source": [
    "Steady flow analysis of the combustion chamber:\n",
    "\n",
    "$$\\sum n_r \\left(h_f^\\circ + h - h^{\\circ} \\right)_r = Q_\\text{out} + \\sum n_p \\left(h_f^\\circ + h - h^{\\circ} \\right)_p$$\n",
    "\n",
    "$$\\implies Q_\\text{out} =  \\sum n_r \\left(h_f^\\circ + h - h^{\\circ} \\right)_r - \\sum n_p \\left(h_f^\\circ + h - h^{\\circ} \\right)_p $$\n",
    "\n",
    "Where, \n",
    "\n",
    "$$h^{\\circ} = h(T=25^\\circ\\text{C},p=101,325 \\text{Pa})$$"
   ]
  },
  {
   "cell_type": "markdown",
   "id": "d3ec739c-7d86-4614-8dbf-8c3afc8cef44",
   "metadata": {},
   "source": [
    "$$\\implies Q_\\text{out} = n_\\text{C2H6}\\left(h_f^\\circ + h - h^{\\circ} \\right)_\\text{C3H8} + n_\\text{O2}\\left(h_f^\\circ + h - h^{\\circ} \\right)_\\text{O2} + n_\\text{N2}\\left(h_f^\\circ + h - h^{\\circ} \\right)_\\text{N2} +$$ \n",
    "$$-\\left[n_\\text{CO2}\\left(h_f^\\circ + h - h^{\\circ} \\right)_\\text{CO2} + n_\\text{CO}\\left(h_f^\\circ + h - h^{\\circ} \\right)_\\text{CO} + n_\\text{H2O}\\left(h_f^\\circ + h - h^{\\circ} \\right)_\\text{H2O} + n_\\text{O2}\\left(h_f^\\circ + h - h^{\\circ} \\right)_\\text{O2} + n_\\text{N2}\\left(h_f^\\circ + h - h^{\\circ} \\right)_\\text{N2} \\right]$$\n"
   ]
  },
  {
   "cell_type": "markdown",
   "id": "deb1c627-f3d8-4767-a595-52236bcd07e4",
   "metadata": {},
   "source": [
    "C$_2$H$_6$(g) + x(O$_2$ + 3.76 N$_2$) $\\implies$ yCO$_2$ + zCO + aH$_2$O + cN$_2$ "
   ]
  },
  {
   "cell_type": "markdown",
   "id": "a53935f0-6a25-4546-85fa-66200fd3a736",
   "metadata": {},
   "source": [
    "hydrogen: $6 = 2a$\n",
    "\n",
    "carbon: $2 = y + z; (2*0.95) + (2*0.05)$\n",
    "\n",
    "oxygen: $2x = 2y + z + a $\n",
    "\n",
    "nitrogen: $x(2*3.76) = 2c$"
   ]
  },
  {
   "cell_type": "markdown",
   "id": "97216208-c66c-4705-8152-9e8063b2c7ee",
   "metadata": {},
   "source": [
    "We see that \n",
    "\n",
    "C$_2$H$_6$(g) + 3.45(O$_2$ + 3.76 N$_2$) $\\implies$ 1.9 CO$_2$ + 0.1 CO + 3H$_2$O + 12.972N$_2$ "
   ]
  },
  {
   "cell_type": "markdown",
   "id": "5b74a651-32db-4182-8409-745ef8c3463f",
   "metadata": {},
   "source": [
    "carbon: 2 = 1.9 + 0.1 \n",
    "\n",
    "hydrogen: 6 = 6\n",
    "\n",
    "oxygen: 3.45*2 = 1.9*2 + 0.1*1 + 3"
   ]
  },
  {
   "cell_type": "code",
   "execution_count": 4,
   "id": "714f5d1e-12a4-4913-a906-979ff3ff1b99",
   "metadata": {},
   "outputs": [],
   "source": [
    "nC2H6_r_kmol = 1\n",
    "nO2_r_kmol = 3.45\n",
    "nN2_r_kmol = 3.45*3.76\n",
    "\n",
    "nCO2_p_kmol = 1.9\n",
    "nCO_p_kmol = 0.1\n",
    "nH2O_p_kmol = 3\n",
    "nN2_p_kmol = 12.972"
   ]
  },
  {
   "cell_type": "code",
   "execution_count": 8,
   "id": "c01007af-0e7b-4d2f-ad42-2c6a52b67892",
   "metadata": {},
   "outputs": [],
   "source": [
    "hf_O2_kJperKmol = 0\n",
    "hf_N2_kJperKmol = 0\n",
    "#hf_C3H8_gas_kJperKol = -103850\n",
    "hf_C2H6_gas_kJperKmol = -84680\n",
    "hf_H2O_gas_kJperKmol = -241820\n",
    "# hf_H2O_liq_kJperKmol = -285830\n",
    "hf_CO2_gas_kJperKmol = -393520\n",
    "hf_CO_gas_kJperKmol = -110530"
   ]
  },
  {
   "cell_type": "code",
   "execution_count": 9,
   "id": "7e510f2a-6370-474c-b296-bde2002f515a",
   "metadata": {},
   "outputs": [],
   "source": [
    "h_0_O2_kJperKmol = 8682\n",
    "h_0_N2_kJperKmol = 8669\n",
    "h_0_H2O_gas_kJperKmol = 9904\n",
    "h_0_CO2_kJperKmol = 9364\n",
    "h_0_CO_kJperKmol = 8669"
   ]
  },
  {
   "cell_type": "code",
   "execution_count": 15,
   "id": "a4f12776-3804-444a-bb52-bfaa63629df8",
   "metadata": {},
   "outputs": [],
   "source": [
    "h_500K_O2_kJperKmol = 14770\n",
    "h_500K_N2_kJperKmol = 14581"
   ]
  },
  {
   "cell_type": "code",
   "execution_count": 24,
   "id": "7533e830-2bc5-4779-877b-1cda98497545",
   "metadata": {},
   "outputs": [],
   "source": [
    "h_800K_CO2_kJperKmol = 32179\n",
    "h_800K_CO_kJperKmol = 23844\n",
    "h_800K_H2O_gas_kJperKmol = 27896\n",
    "h_800K_N2_kJperKmol = 23714"
   ]
  },
  {
   "cell_type": "code",
   "execution_count": 25,
   "id": "294c3ba7-c2ff-4a2e-9c68-d0b3730213af",
   "metadata": {},
   "outputs": [
    {
     "name": "stdout",
     "output_type": "stream",
     "text": [
      "-84680\n",
      "21003.600000000002\n",
      "76690.46399999999\n",
      "-704339.5\n",
      "-9535.5\n",
      "-671484\n",
      "195163.74\n"
     ]
    }
   ],
   "source": [
    "C2H6 = nC2H6_r_kmol*(hf_C2H6_gas_kJperKmol); print(C2H6)\n",
    "O2 = nO2_r_kmol*(hf_O2_kJperKmol + h_500K_O2_kJperKmol - h_0_O2_kJperKmol); print(O2)\n",
    "N2 = nN2_r_kmol*(hf_N2_kJperKmol + h_500K_N2_kJperKmol - h_0_N2_kJperKmol); print(N2)\n",
    "CO2 = nCO2_p_kmol*(hf_CO2_gas_kJperKmol + h_800K_CO2_kJperKmol - h_0_CO2_kJperKmol); print(CO2)\n",
    "CO = nCO_p_kmol*(hf_CO_gas_kJperKmol + h_800K_CO_kJperKmol - h_0_CO_kJperKmol); print(CO)\n",
    "H2O = nH2O_p_kmol*(hf_H2O_gas_kJperKmol + h_800K_H2O_gas_kJperKmol - h_0_H2O_gas_kJperKmol); print(H2O)\n",
    "#O2_ = nO2_p_kmol*(hf_O2_kJperKmol + h_1500K_O2_kJperKmol - h_0_O2_kJperKmol); print(O2_)\n",
    "N2_ = nN2_p_kmol*(hf_N2_kJperKmol + h_800K_N2_kJperKmol - h_0_N2_kJperKmol); print(N2_)"
   ]
  },
  {
   "cell_type": "code",
   "execution_count": 27,
   "id": "f5824b36-2ffd-4f21-8461-e60781959b93",
   "metadata": {},
   "outputs": [
    {
     "name": "stdout",
     "output_type": "stream",
     "text": [
      "The rate of heat transfer from the combustion chamber is: 1671.12 kW.\n"
     ]
    }
   ],
   "source": [
    "Qout_kJ = C2H6 + O2 + N2 - (CO2 + CO + H2O + N2_)\n",
    "Qdot_Out_kW = Qout_kJ*mdot_kgPerS\n",
    "\n",
    "print('The rate of heat transfer from the combustion chamber is: {0:1.2f} kW.'.format(Qdot_Out_kW))"
   ]
  }
 ],
 "metadata": {
  "kernelspec": {
   "display_name": "Python 3 (ipykernel)",
   "language": "python",
   "name": "python3"
  },
  "language_info": {
   "codemirror_mode": {
    "name": "ipython",
    "version": 3
   },
   "file_extension": ".py",
   "mimetype": "text/x-python",
   "name": "python",
   "nbconvert_exporter": "python",
   "pygments_lexer": "ipython3",
   "version": "3.11.10"
  }
 },
 "nbformat": 4,
 "nbformat_minor": 5
}
