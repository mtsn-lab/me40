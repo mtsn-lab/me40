{
 "cells": [
  {
   "cell_type": "markdown",
   "id": "c18d074f-c6ea-4313-b22b-8ea293553ce8",
   "metadata": {},
   "source": [
    "An air-standard Stirling cycle operates with a maximum pressure of 600 psia and a minimum pressure of 10 psia. The maximum volume of the air is 10 times the minimum volume. The temperature during the heat rejection process is 100°F.\n",
    "\n",
    "Calculate the: \n",
    "- specific heat added to and rejected by this cycle, as well as\n",
    "- the net specific work produced by the cycle.\n",
    "\n",
    "Use constant specific heats at room temperature."
   ]
  },
  {
   "cell_type": "code",
   "execution_count": 11,
   "id": "971a6ec0-14a6-477a-a19c-d4489e3bfd93",
   "metadata": {},
   "outputs": [],
   "source": [
    "pMax_Pa = 600*6894.76\n",
    "pMin_Pa = 10*6894.76\n",
    "\n",
    "Vratio = 10\n",
    "\n",
    "Tl_K = 37.7778 + 273.15\n",
    "\n",
    "T0_K = 273.15+25\n",
    "p0_Pa = 101325\n",
    "\n",
    "fluid = 'air'\n",
    "\n",
    "R_JperKgPerK = 287"
   ]
  },
  {
   "cell_type": "code",
   "execution_count": 19,
   "id": "811b0f18-88a5-4100-8dd4-6a139f7edf96",
   "metadata": {},
   "outputs": [],
   "source": [
    "p3_Pa = pMin_Pa\n",
    "p1_Pa = pMax_Pa\n",
    "\n",
    "T3_K = Tl_K \n",
    "T4_K = Tl_K "
   ]
  },
  {
   "cell_type": "code",
   "execution_count": 20,
   "id": "a5039c84-5421-4848-a0af-7e8411f58490",
   "metadata": {},
   "outputs": [
    {
     "name": "stdout",
     "output_type": "stream",
     "text": [
      "Requirement already satisfied: CoolProp in /srv/conda/lib/python3.11/site-packages (6.6.0)\n"
     ]
    }
   ],
   "source": [
    "!pip install CoolProp"
   ]
  },
  {
   "cell_type": "code",
   "execution_count": 21,
   "id": "8343ff50-47e8-46c9-809b-263f1d1ac130",
   "metadata": {},
   "outputs": [],
   "source": [
    "from CoolProp.CoolProp import PropsSI"
   ]
  },
  {
   "cell_type": "code",
   "execution_count": 8,
   "id": "bce6fffc-5638-4e94-8d70-a9d28fed64a1",
   "metadata": {},
   "outputs": [
    {
     "name": "stdout",
     "output_type": "stream",
     "text": [
      "1006.308142514125\n",
      "717.8858124361477\n"
     ]
    }
   ],
   "source": [
    "cp_JperKgPerK = PropsSI('C','P',p0_Pa,'T',T0_K,fluid); print(cp_JperKgPerK)\n",
    "cv_JperKgPerK = PropsSI('O','P',p0_Pa,'T',T0_K,fluid); print(cv_JperKgPerK)\n",
    "k = cp_JperKgPerK/cv_JperKgPerK"
   ]
  },
  {
   "cell_type": "code",
   "execution_count": 42,
   "id": "85ba247c-26b0-42aa-8e48-f56d7606d57b",
   "metadata": {},
   "outputs": [
    {
     "name": "stdout",
     "output_type": "stream",
     "text": [
      "437365.5873066244\n"
     ]
    }
   ],
   "source": [
    "h3_JperKg = PropsSI('H','P',p3_Pa,'T',T3_K,fluid); print(h3_JperKg)\n",
    "s3_JperKgPerK = PropsSI('S','P',p3_Pa,'T',T3_K,fluid)\n",
    "rho3_JperKgPerK = PropsSI('D','P',p3_Pa,'T',T3_K,fluid)"
   ]
  },
  {
   "cell_type": "code",
   "execution_count": 71,
   "id": "e83d040e-983f-413d-a59e-3aead8cd9c64",
   "metadata": {},
   "outputs": [],
   "source": [
    "# state 4\n",
    "rho4_JperKgPerK = rho3_JperKgPerK*Vratio\n",
    "s4_JperKgPerK = PropsSI('S','D',rho4_JperKgPerK,'T',T4_K,fluid)\n",
    "h4_JperKg = PropsSI('H','D',rho4_JperKgPerK,'T',T4_K,fluid)\n",
    "p4_Pa = PropsSI('P','D',rho4_JperKgPerK,'T',T4_K,fluid)"
   ]
  },
  {
   "cell_type": "code",
   "execution_count": 44,
   "id": "b666bb0e-f381-4834-a78e-02d924b8bcc7",
   "metadata": {},
   "outputs": [],
   "source": [
    "# state 1\n",
    "rho1_JperKgPerK = rho4_JperKgPerK\n",
    "s1_JperKgPerK = PropsSI('S','D',rho1_JperKgPerK,'P',p1_Pa,fluid)\n",
    "h1_JperKg = PropsSI('H','D',rho1_JperKgPerK,'P',p1_Pa,fluid)\n",
    "T1_K = PropsSI('T','D',rho1_JperKgPerK,'P',p1_Pa,fluid)"
   ]
  },
  {
   "cell_type": "code",
   "execution_count": 37,
   "id": "5fcc122a-9a27-44fb-8fa0-c3f7fb7c93fa",
   "metadata": {},
   "outputs": [
    {
     "name": "stdout",
     "output_type": "stream",
     "text": [
      "1760430.7564297689\n"
     ]
    }
   ],
   "source": [
    "# regenerative heating 4 to 1\n",
    "qRegen14_JperKg = (h1_JperKg - h4_JperKg); print(qRegen_JperKg)"
   ]
  },
  {
   "cell_type": "code",
   "execution_count": 38,
   "id": "9e07431f-364e-4d20-9082-d8f8f1118928",
   "metadata": {},
   "outputs": [
    {
     "name": "stdout",
     "output_type": "stream",
     "text": [
      "-1760430.7564297689\n"
     ]
    }
   ],
   "source": [
    "# regenerative cooling 2 to 3\n",
    "qRegen32_JperKg = -qRegen14_JperKg; print(qRegen32_JperKg)"
   ]
  },
  {
   "cell_type": "code",
   "execution_count": 49,
   "id": "135ee2e0-f6a3-468c-97c4-14439e51b093",
   "metadata": {},
   "outputs": [
    {
     "name": "stdout",
     "output_type": "stream",
     "text": [
      "(a) Heat out 206.57 kJ/kg.\n"
     ]
    }
   ],
   "source": [
    "# heat trasnferred out, states 3 to 4\n",
    "qOut_JperKg = Tl_K*(s3_JperKgPerK - s4_JperKgPerK)\n",
    "\n",
    "print('(a) Heat out {0:1.2f} kJ/kg.'.format(qOut_JperKg/1000))"
   ]
  },
  {
   "cell_type": "code",
   "execution_count": 75,
   "id": "bf136215-d5a7-4dda-a727-79115983bf0a",
   "metadata": {},
   "outputs": [],
   "source": [
    "# state 2\n",
    "rho2_JperKgPerK = rho3_JperKgPerK\n",
    "T2_K = T1_K\n",
    "# h2_JperKg = h3_JperKg - qRegen32_JperKg\n",
    "\n",
    "s2_JperKgPerK = PropsSI('S','D',rho2_JperKgPerK,'T',T2_K,fluid)\n",
    "p2_Pa = PropsSI('P','D',rho2_JperKgPerK,'T',T2_K,fluid)\n",
    "h2_JperKg = PropsSI('H','D',rho2_JperKgPerK,'T',T2_K,fluid)"
   ]
  },
  {
   "cell_type": "code",
   "execution_count": 50,
   "id": "42d0b869-7aa9-4281-9bc9-b8dd14be64a5",
   "metadata": {},
   "outputs": [
    {
     "name": "stdout",
     "output_type": "stream",
     "text": [
      "1850.8140915661013\n",
      "(a) Heat in 1227.24 kJ/kg.\n"
     ]
    }
   ],
   "source": [
    "# heat transferred in, states 1 to 2\n",
    "Th_K = T1_K; \n",
    "print(Th_K)\n",
    "\n",
    "qIn_JperKg = Th_K*(s2_JperKgPerK - s1_JperKgPerK)\n",
    "print('(a) Heat in {0:1.2f} kJ/kg.'.format(qIn_JperKg/1000))"
   ]
  },
  {
   "cell_type": "code",
   "execution_count": 51,
   "id": "c38e3521-edaf-4b60-bff0-81e98f222eca",
   "metadata": {},
   "outputs": [
    {
     "name": "stdout",
     "output_type": "stream",
     "text": [
      "(b) Net work 1020.67 kJ/kg.\n"
     ]
    }
   ],
   "source": [
    "wNet_JperKg = qIn_JperKg - qOut_JperKg\n",
    "print('(b) Net work {0:1.2f} kJ/kg.'.format(wNet_JperKg/1000))"
   ]
  },
  {
   "cell_type": "code",
   "execution_count": 79,
   "id": "ae9fcb9e-e152-4cf5-b0e4-dc786c2a29ec",
   "metadata": {},
   "outputs": [
    {
     "name": "stdout",
     "output_type": "stream",
     "text": [
      "(c) eta_th 83.17 %.\n"
     ]
    }
   ],
   "source": [
    "eta_th = wNet_JperKg/qIn_JperKg\n",
    "print('(c) eta_th {0:1.2f} %.'.format(eta_th*100))"
   ]
  },
  {
   "cell_type": "code",
   "execution_count": 80,
   "id": "6f6004d5-1525-483a-8750-aa5f12af75cd",
   "metadata": {},
   "outputs": [
    {
     "name": "stdout",
     "output_type": "stream",
     "text": [
      "(d) eta_carnot 83.20 %.\n"
     ]
    }
   ],
   "source": [
    "eta_carnot = 1 - (Tl_K/Th_K)\n",
    "print('(d) eta_carnot {0:1.2f} %.'.format(eta_carnot*100))"
   ]
  },
  {
   "cell_type": "code",
   "execution_count": 52,
   "id": "f67ae67d-4a2b-4ee7-b121-1bfdc5f39219",
   "metadata": {},
   "outputs": [],
   "source": [
    "import numpy as np\n",
    "import matplotlib.pyplot as plt"
   ]
  },
  {
   "cell_type": "code",
   "execution_count": 59,
   "id": "651ca0b9-3209-45b9-9639-20b56e4ec6d8",
   "metadata": {},
   "outputs": [
    {
     "data": {
      "image/png": "[encoded data removed]",
      "text/plain": [
       "<Figure size 640x480 with 1 Axes>"
      ]
     },
     "metadata": {},
     "output_type": "display_data"
    }
   ],
   "source": [
    "plt.figure()\n",
    "plt.clf()\n",
    "\n",
    "plt.plot([s1_JperKgPerK, s2_JperKgPerK], [T1_K, T2_K], 'g-', lw=2) \n",
    "\n",
    "plt.xlabel('s (kJ/(kg K))')\n",
    "plt.ylabel('T (K)')\n",
    "\n",
    "T23 = np.linspace(T2_K, T3_K)\n",
    "S23 = [PropsSI('S','T',t,'D',rho3_JperKgPerK,fluid) for t in T23]\n",
    "plt.plot(S23, T23, 'g-', lw=2) \n",
    "\n",
    "plt.plot([s3_JperKgPerK, s4_JperKgPerK], [T3_K, T4_K], 'g-', lw=2) \n",
    "\n",
    "T41 = np.linspace(T4_K, T1_K)\n",
    "S41 = [PropsSI('S','T',t,'D',rho4_JperKgPerK,fluid) for t in T41]\n",
    "plt.plot(S41, T41, 'g-', lw=2) \n",
    "\n",
    "plt.savefig('stirlingCycleTSdiagram_plot.png')"
   ]
  },
  {
   "cell_type": "code",
   "execution_count": 78,
   "id": "4d0c2b5a-2a12-4fa8-b7b3-c6f9cc83cef8",
   "metadata": {},
   "outputs": [
    {
     "data": {
      "image/png": "[encoded data removed]",
      "text/plain": [
       "<Figure size 640x480 with 1 Axes>"
      ]
     },
     "metadata": {},
     "output_type": "display_data"
    }
   ],
   "source": [
    "plt.figure()\n",
    "plt.clf()\n",
    "\n",
    "v4 = 1/rho4_JperKgPerK\n",
    "v3 = 1/rho3_JperKgPerK\n",
    "\n",
    "v2 = v3\n",
    "v1 = v4\n",
    "\n",
    "\n",
    "plt.plot([v2, v3], [p2_Pa, p3_Pa], 'g-', lw=2) \n",
    "\n",
    "plt.xlabel('v (m3/kg))')\n",
    "plt.ylabel('P (Pa)')\n",
    "\n",
    "\n",
    "p34 = np.linspace(p3_Pa, p4_Pa,1000)\n",
    "v34 = [1/PropsSI('D','P',t,'T',Tl_K,fluid) for t in p34]\n",
    "plt.plot(v34, p34, 'g-', lw=2) \n",
    "\n",
    "plt.plot([v4, v1], [p4_Pa, p1_Pa], 'g-', lw=2) \n",
    "\n",
    "p12 = np.linspace(p2_Pa, p1_Pa,1000)\n",
    "v12 = [1/PropsSI('D','P',t,'T',Th_K,fluid) for t in p12]\n",
    "plt.plot(v12, p12, 'g-', lw=2) \n",
    "\n",
    "plt.savefig('stirlingCyclePVdiagram_plot.png')"
   ]
  },
  {
   "cell_type": "code",
   "execution_count": 63,
   "id": "9627047a-e690-4706-94c7-ea25f0c163af",
   "metadata": {},
   "outputs": [
    {
     "data": {
      "text/plain": [
       "410793.9454385927"
      ]
     },
     "execution_count": 63,
     "metadata": {},
     "output_type": "execute_result"
    }
   ],
   "source": [
    "p2_Pa"
   ]
  },
  {
   "cell_type": "code",
   "execution_count": 69,
   "id": "fb071028-4208-4b2d-a924-1de351b0b873",
   "metadata": {},
   "outputs": [
    {
     "data": {
      "text/plain": [
       "68947.6"
      ]
     },
     "execution_count": 69,
     "metadata": {},
     "output_type": "execute_result"
    }
   ],
   "source": [
    "p3_Pa"
   ]
  },
  {
   "cell_type": "code",
   "execution_count": 70,
   "id": "bbfae11b-014d-41c4-9f7f-d1e0f665d85d",
   "metadata": {},
   "outputs": [
    {
     "data": {
      "text/plain": [
       "68947.6"
      ]
     },
     "execution_count": 70,
     "metadata": {},
     "output_type": "execute_result"
    }
   ],
   "source": [
    "p4_Pa"
   ]
  },
  {
   "cell_type": "code",
   "execution_count": 76,
   "id": "590287d3-79d4-456b-8fa0-566a45febb09",
   "metadata": {},
   "outputs": [
    {
     "data": {
      "text/plain": [
       "1755612.6776375887"
      ]
     },
     "execution_count": 76,
     "metadata": {},
     "output_type": "execute_result"
    }
   ],
   "source": [
    "h2_JperKg - h3_JperKg"
   ]
  },
  {
   "cell_type": "code",
   "execution_count": 77,
   "id": "4cf13f42-b703-4377-9ad5-387e6777f15d",
   "metadata": {},
   "outputs": [
    {
     "data": {
      "text/plain": [
       "1760430.7564297689"
      ]
     },
     "execution_count": 77,
     "metadata": {},
     "output_type": "execute_result"
    }
   ],
   "source": [
    "h1_JperKg - h4_JperKg"
   ]
  },
  {
   "cell_type": "code",
   "execution_count": null,
   "id": "d72b30a1-4653-4dcb-ba97-97b4d2bf3e2a",
   "metadata": {},
   "outputs": [],
   "source": []
  }
 ],
 "metadata": {
  "kernelspec": {
   "display_name": "Python 3 (ipykernel)",
   "language": "python",
   "name": "python3"
  },
  "language_info": {
   "codemirror_mode": {
    "name": "ipython",
    "version": 3
   },
   "file_extension": ".py",
   "mimetype": "text/x-python",
   "name": "python",
   "nbconvert_exporter": "python",
   "pygments_lexer": "ipython3",
   "version": "3.11.10"
  }
 },
 "nbformat": 4,
 "nbformat_minor": 5
}
