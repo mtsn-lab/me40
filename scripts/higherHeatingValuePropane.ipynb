{
 "cells": [
  {
   "cell_type": "markdown",
   "id": "9b8a5185-cba3-4cd8-9e2f-9a22d3f8bf5b",
   "metadata": {},
   "source": [
    "## Evaluation of the HHV and LHV of Propone\n",
    "\n",
    "![title](figure.png)"
   ]
  },
  {
   "cell_type": "code",
   "execution_count": 52,
   "id": "16154e75-98e9-4c4b-969a-af4635ba1724",
   "metadata": {},
   "outputs": [],
   "source": [
    "TC3H8_C = 25\n",
    "pC3H8_atm = 1\n",
    "\n",
    "Tair_C = 25\n",
    "pair1_atm = 1\n",
    "\n",
    "TCO2_C = 25\n",
    "TH2O_C = 25\n",
    "TN2_C = 25\n",
    "pair2_atm = 1"
   ]
  },
  {
   "cell_type": "code",
   "execution_count": 53,
   "id": "48f9b7a3-4f04-4b92-ac86-a8a5b05b5870",
   "metadata": {},
   "outputs": [],
   "source": [
    "MC_kgPerKmol = 12\n",
    "MO2_kgPerKmol = 32\n",
    "MH2_kgPerKmol = 2\n",
    "MAir_kgPerKmol = 29\n",
    "MCO2_kgPerKmol = 44"
   ]
  },
  {
   "cell_type": "markdown",
   "id": "aebc0ef3-1ba6-40d1-8f83-31b34a408dd0",
   "metadata": {},
   "source": [
    "C$_3$H$_8$(l) + 5(O$_2$ + 3.76 N$_2$) $\\implies$ 3CO$_2$ + 4H$_2$O + 18.8N$_2$ \n",
    "\n",
    "The heat transfer for this process is equal to the enthalpy of combustion:"
   ]
  },
  {
   "cell_type": "markdown",
   "id": "a6fb19c5-b070-491f-9605-6b4b7a0fd18f",
   "metadata": {},
   "source": [
    "$$Q = H_\\text{prod} - H_\\text{react} = \\sum n_p h_{f,p} - \\sum n_r h_{f,r} $$"
   ]
  },
  {
   "cell_type": "markdown",
   "id": "86670604-65d4-458b-89e1-00a8a1ebb308",
   "metadata": {},
   "source": [
    "The enthalpy of formation, $h_{f}$, is the enthalpy change for the formation of 1 kmol of a compound from its component elements, such as the formation of carbon dioxide from carbon and oxygen. \n",
    "\n",
    "$h_{f} < 0$ when heat is released when elements combine and vice versa. \n",
    "\n",
    "We can find $h_{f}$ in Table A-26 (Enthalpy of formation, Gibbs function of formation, and absolute entropy at 25 deg. C, 1 atm."
   ]
  },
  {
   "cell_type": "code",
   "execution_count": 54,
   "id": "44561106-5a69-4d55-9cd2-b76319950fa0",
   "metadata": {},
   "outputs": [],
   "source": [
    "hf_C_kJperKmol = 0\n",
    "hf_H2_kJperKmol = 0\n",
    "hf_N2_kJperKmol = 0\n",
    "hf_O2_kJperKmol = 0\n",
    "\n",
    "hf_CO2_gas_kJperKmol = -393520\n",
    "hf_H2O_gas_kJperKmol = -241820\n",
    "hf_H2O_liq_kJperKmol = -285830\n",
    "hf_C3H8_gas_kJperKol = -103850"
   ]
  },
  {
   "cell_type": "markdown",
   "id": "d68ca726-b7ec-44a9-b4c9-8c7cb5626284",
   "metadata": {},
   "source": [
    "We see that we only can find the enthalpy of formation for gaseous propane, but we need to know it for its liquid state. We can simply add the enthalpy of vapoization ($h_{fg}$). The subscript \"f\", here stands for the liquid state and not for \"formation\"."
   ]
  },
  {
   "cell_type": "code",
   "execution_count": 55,
   "id": "61889694-ba7d-42d7-a092-0ecee7c72de9",
   "metadata": {},
   "outputs": [
    {
     "name": "stdout",
     "output_type": "stream",
     "text": [
      "-118622.495\n"
     ]
    }
   ],
   "source": [
    "hfg_C3H8_kJperKg = 335\n",
    "M_C3H8_kgPerKmol = 44.097\n",
    "hfg_C3H8_kJperKmol = hfg_C3H8_kJperKg*M_C3H8_kgPerKmol\n",
    "\n",
    "hf_C3H8_liquid_kJperKmol = -(-hf_C3H8_gas_kJperKol + hfg_C3H8_kJperKmol)\n",
    "print(hf_C3H8_liquid_kJperKmol)"
   ]
  },
  {
   "cell_type": "markdown",
   "id": "c0200e63-858f-43d0-8b54-b699c859b955",
   "metadata": {},
   "source": [
    "For higher heating value (HHV), the water in the products is assumed to be a liquid (l)."
   ]
  },
  {
   "cell_type": "code",
   "execution_count": 59,
   "id": "69ce56f1-f772-44d2-ada7-a2ed8a96aa69",
   "metadata": {},
   "outputs": [
    {
     "name": "stdout",
     "output_type": "stream",
     "text": [
      "The higher heating value of liquid propane is: 50009.241 kJ/kg.\n"
     ]
    }
   ],
   "source": [
    "h_C_HHV_kJperKmol = 3*hf_CO2_gas_kJperKmol + 4*hf_H2O_liq_kJperKmol + 18.8*hf_N2_kJperKmol - 1*hf_C3H8_liquid_kJperKmol - 5*hf_O2_kJperKmol - 5*3.76*hf_N2_kJperKmol\n",
    "# print(h_C_HHV_kJperKmol)\n",
    "h_C_HHV_kJperKg = -h_C_HHV_kJperKmol/M_C3H8_kgPerKmol\n",
    "print('The higher heating value of liquid propane is: {0:1.3f} kJ/kg.'.format(h_C_HHV_kJperKg))"
   ]
  },
  {
   "cell_type": "markdown",
   "id": "0afe2e0b-fcdb-414d-a077-a9de4a88ca0f",
   "metadata": {},
   "source": [
    "For lower heating value (HHV), the water in the products is assumed to be a vapor."
   ]
  },
  {
   "cell_type": "code",
   "execution_count": 58,
   "id": "f38b1cb7-d8e0-49e8-85b3-8c00d77dc111",
   "metadata": {},
   "outputs": [
    {
     "name": "stdout",
     "output_type": "stream",
     "text": [
      "The lower heating value of liquid propane is: 46017.133 kJ/kg.\n"
     ]
    }
   ],
   "source": [
    "h_C_LHV_kJperKmol = 3*hf_CO2_gas_kJperKmol + 4*hf_H2O_gas_kJperKmol + 18.8*hf_N2_kJperKmol - 1*hf_C3H8_liquid_kJperKmol - 5*hf_O2_kJperKmol - 5*3.76*hf_N2_kJperKmol\n",
    "# print(h_C_LHV_kJperKmol)\n",
    "LHV_kJperKg = -h_C_LHV_kJperKmol/M_C3H8_kgPerKmol\n",
    "print('The lower heating value of liquid propane is: {0:1.3f} kJ/kg.'.format(LHV_kJperKg))"
   ]
  },
  {
   "cell_type": "code",
   "execution_count": null,
   "id": "5f1f9f5c-bad9-47b8-a18c-fdf5d0f9196e",
   "metadata": {},
   "outputs": [],
   "source": []
  }
 ],
 "metadata": {
  "kernelspec": {
   "display_name": "Python 3 (ipykernel)",
   "language": "python",
   "name": "python3"
  },
  "language_info": {
   "codemirror_mode": {
    "name": "ipython",
    "version": 3
   },
   "file_extension": ".py",
   "mimetype": "text/x-python",
   "name": "python",
   "nbconvert_exporter": "python",
   "pygments_lexer": "ipython3",
   "version": "3.11.10"
  }
 },
 "nbformat": 4,
 "nbformat_minor": 5
}
