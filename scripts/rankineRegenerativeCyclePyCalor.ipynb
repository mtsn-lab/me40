{
 "cells": [
  {
   "cell_type": "markdown",
   "id": "1531ae64",
   "metadata": {},
   "source": [
    "## The Ideal Regenerative Rankine Cycle\n",
    "Consider a steam power plant operating on the ideal regenerative Rankine cycle with one open feedwater heater. Here are the states:\n",
    "\n"
   ]
  },
  {
   "cell_type": "markdown",
   "id": "301f24f2",
   "metadata": {},
   "source": [
    "- (1) after the condenser, entering the pump;\n",
    "- (2) after the pump, entering the feedwater heater;\n",
    "- (3) after the feedwater heater, entering the second pump;\n",
    "- (4) after the second pump, entering the boiler;\n",
    "- (5) after the boiler, entering the turbine;\n",
    "- (6) after the turbine, entering the feedwater heater;\n",
    "- (7) after the turbine, entering the condenser."
   ]
  },
  {
   "cell_type": "markdown",
   "id": "299bb340",
   "metadata": {},
   "source": [
    "Steam enters the high-pressure turbine at $p_5$ and $T_5$.\n",
    "\n",
    "Steam then enters the feedwater heater at $p_6$.\n",
    "\n",
    "Steam is then condensed in the condenser at a pressure of $p_7$. \n",
    "\n",
    "Determine:\n",
    "- the fraction of steam extracted from the turbine, $y$;\n",
    "- the thermal efficiency of this cycle, $\\eta_\\text{th}$."
   ]
  },
  {
   "cell_type": "markdown",
   "id": "63ee666a-933e-4233-9259-c0fd541763df",
   "metadata": {},
   "source": [
    "We are given information about the temperature and pressure of the water exiting the boiler and entering the turbine (state 5):"
   ]
  },
  {
   "cell_type": "code",
   "execution_count": 4,
   "id": "2cfead37",
   "metadata": {},
   "outputs": [],
   "source": [
    "T5_C = 600\n",
    "p5_MPa = 15\n",
    "\n",
    "# conversion \n",
    "T5_K = T5_C + 273.15"
   ]
  },
  {
   "cell_type": "markdown",
   "id": "8892a88c-5632-43e1-81d3-fc56880f9b8a",
   "metadata": {},
   "source": [
    "We are also given the pressure at both exits of the turbine, $p_6$ and $p_7$:"
   ]
  },
  {
   "cell_type": "code",
   "execution_count": 5,
   "id": "32c438cf-55f0-42fa-beac-2fff4c419098",
   "metadata": {},
   "outputs": [],
   "source": [
    "p6_MPa = 1.2\n",
    "p7_MPa = 10/1000"
   ]
  },
  {
   "cell_type": "markdown",
   "id": "31e597a3-4263-4e54-b7ac-1f0c5cdf70c5",
   "metadata": {},
   "source": [
    "We also know that the quality of the water at the exit of the condenser and open feed water heater (FWH) are zero (saturated liquids): $x_1$ and $x_3$. "
   ]
  },
  {
   "cell_type": "code",
   "execution_count": 6,
   "id": "5e71cccf-e611-41c2-a238-36ac26506fe5",
   "metadata": {},
   "outputs": [],
   "source": [
    "x1 = 0\n",
    "x3 = 0"
   ]
  },
  {
   "cell_type": "markdown",
   "id": "32769975",
   "metadata": {},
   "source": [
    "### Solution\n",
    "A steam power plant operates on the ideal regenerative Rankine cycle with one open feedwater heater. The fraction of steam extracted from the turbine and the thermal efficiency are to be determined. \n",
    "\n",
    "### Assumptions\n",
    "- steady operating conditions exist\n",
    "- kinetic and potential energy changes are negligible \n",
    "- as the power plant operates on the ideal Rankine cycle, we assume that the pump and turbine are isentropic; there are no pressure drops in the boiler and condenser; and steam leaves the condenser and feedwater heater and enters the pump as a saturated liquid at the condenser pressure."
   ]
  },
  {
   "cell_type": "markdown",
   "id": "8cd434ca",
   "metadata": {},
   "source": [
    "### Analysis\n"
   ]
  },
  {
   "cell_type": "code",
   "execution_count": 7,
   "id": "365c887a",
   "metadata": {},
   "outputs": [
    {
     "name": "stdout",
     "output_type": "stream",
     "text": [
      "Requirement already satisfied: pyCalor in /srv/conda/lib/python3.11/site-packages (1.0.21)\n",
      "Requirement already satisfied: CoolProp in /srv/conda/lib/python3.11/site-packages (from pyCalor) (7.1.0)\n",
      "Requirement already satisfied: igraph in /srv/conda/lib/python3.11/site-packages (from pyCalor) (1.0.0)\n",
      "Requirement already satisfied: texttable>=1.6.2 in /srv/conda/lib/python3.11/site-packages (from igraph->pyCalor) (1.7.0)\n"
     ]
    }
   ],
   "source": [
    "#!pip install iapws\n",
    "!pip install pyCalor"
   ]
  },
  {
   "cell_type": "code",
   "execution_count": 8,
   "id": "eb884353",
   "metadata": {},
   "outputs": [],
   "source": [
    "#from iapws import IAPWS97\n",
    "from pyCalor import thermo as th"
   ]
  },
  {
   "cell_type": "markdown",
   "id": "e28bb60b",
   "metadata": {},
   "source": [
    "#### Determining properties at state 1:"
   ]
  },
  {
   "cell_type": "markdown",
   "id": "a196cfec-0ec3-4e0d-b084-1b5d4e1bc95b",
   "metadata": {},
   "source": [
    "We assume that there is no pressure drop across the condenser, which is a heat exchanger: $p_1 = p_7$."
   ]
  },
  {
   "cell_type": "code",
   "execution_count": 10,
   "id": "1495c28e",
   "metadata": {},
   "outputs": [],
   "source": [
    "# pressure should be in the units MPa, \n",
    "# temperature in the units K, \n",
    "# quality a number betwee 0 and 1. \n",
    "substance = 'water'\n",
    "p1_MPa = p7_MPa\n",
    "P1 = p1_MPa\n",
    "#sat_liquid1 = IAPWS97(P=P1, x=x1)\n",
    "st1 = th.state(substance,p=(P1,'Mpa'),x=x1,name='1')"
   ]
  },
  {
   "cell_type": "markdown",
   "id": "8b23cb58",
   "metadata": {},
   "source": [
    "From this, we can now calculate $T_1$ (K), $s_1$ (kJ/(kg K)), $h_1$ (kJ/kg), specific volume $v_1$ (m$^3$/kg)."
   ]
  },
  {
   "cell_type": "code",
   "execution_count": 11,
   "id": "fd14dade",
   "metadata": {},
   "outputs": [],
   "source": [
    "T1 = st1.T # K\n",
    "s1 = st1.s # kJ/kg*K\n",
    "h1 = st1.h # kJ/kg\n",
    "v1 = st1.v # m3/kg"
   ]
  },
  {
   "cell_type": "markdown",
   "id": "44d1990e",
   "metadata": {},
   "source": [
    "#### State 2\n",
    "\n",
    "State 2 is after the pump (I), so the pressure is higher ($p_2$), and we will assume that the compressor is isentropic ($s_1 = s_2$):"
   ]
  },
  {
   "cell_type": "code",
   "execution_count": 12,
   "id": "e0e7a22d",
   "metadata": {},
   "outputs": [],
   "source": [
    "p2_MPa = p6_MPa\n",
    "P2 = p2_MPa        # MPa\n",
    "s2 = s1            # kJ/kg*K\n",
    "\n",
    "#sat_liquid2 = IAPWS97(P=P2, s=s2)\n",
    "st2 = th.state(substance,p=(P2,'Mpa'),s=(s2,'kJ/kg K'),name='2')\n",
    "T2 = st2.T # K\n",
    "h2 = st2.h # kJ/kg"
   ]
  },
  {
   "cell_type": "markdown",
   "id": "aa962785",
   "metadata": {},
   "source": [
    "#### State 3\n",
    "\n",
    "We can now define state 3 of our regenerative Rankine cycle, which is after the feedwater heater. \n",
    "\n",
    "We know \n",
    "\n",
    "$$p_3 = p_2 = p_6$$ \n",
    "\n",
    "and \n",
    "\n",
    "$$\\dot{m} h_3  = \\dot{m} h_6  y + \\dot{m} h_7 (1 - y)$$"
   ]
  },
  {
   "cell_type": "code",
   "execution_count": 13,
   "id": "9246f9d5",
   "metadata": {},
   "outputs": [],
   "source": [
    "p3_MPa = p2_MPa\n",
    "P3 = p3_MPa # definition of isobaric, MPa"
   ]
  },
  {
   "cell_type": "markdown",
   "id": "bdbea589",
   "metadata": {},
   "source": [
    "Again, we can calculate the properties at this state as:"
   ]
  },
  {
   "cell_type": "code",
   "execution_count": 14,
   "id": "e89d5ac6",
   "metadata": {},
   "outputs": [],
   "source": [
    "#liquid = IAPWS97(P=P3, x=x3)\n",
    "st3 = th.state(substance,p=(P3,'Mpa'),x=x3,name='3')\n",
    "T3 = st3.T\n",
    "h3 = st3.h # kJ/kg\n",
    "s3 = st3.s # kJ/kg*K\n",
    "v3 = st3.v"
   ]
  },
  {
   "cell_type": "markdown",
   "id": "983adbbf",
   "metadata": {},
   "source": [
    "#### State 4\n",
    "\n",
    "Determining state 4. We can assume the pump operates isentropically:"
   ]
  },
  {
   "cell_type": "code",
   "execution_count": 16,
   "id": "d8b56553",
   "metadata": {},
   "outputs": [],
   "source": [
    "s4 = s3\n",
    "\n",
    "p4_MPa = p5_MPa\n",
    "P4 = p4_MPa\n",
    "\n",
    "#liquid4 = IAPWS97(P=P4, s=s4)\n",
    "st4 = th.state(substance,p=(P4,'Mpa'),s=(s4,'kJ/kg K'),name='4')\n",
    "\n",
    "T4 = st4.T # K\n",
    "h4 = st4.h # kJ/kg\n",
    "#x4 = st4.x"
   ]
  },
  {
   "cell_type": "markdown",
   "id": "15604c68-6e03-4e6f-ab47-0a068fc2b489",
   "metadata": {},
   "source": [
    "#### State 5\n",
    "\n",
    "We are given the properties of state 5:"
   ]
  },
  {
   "cell_type": "code",
   "execution_count": 17,
   "id": "6b8aecba",
   "metadata": {},
   "outputs": [],
   "source": [
    "P5 = p5_MPa\n",
    "T5 = T5_K\n",
    "\n",
    "#steam = IAPWS97(P=P5,T=T5)\n",
    "st5 = th.state(substance,p=(P5,'Mpa'),T=(T5_K,'K'),name='5')\n",
    "h5 = st5.h # kJ/kg\n",
    "s5 = st5.s #kJ/kg/K"
   ]
  },
  {
   "cell_type": "markdown",
   "id": "1ec2b572-9fd5-4d16-a192-7c859ee55c40",
   "metadata": {},
   "source": [
    "#### State 6\n",
    "\n",
    "We assume that the turbine operates isentropically, therefore $s_6 = s_5$. We also recall that $p_3 = p_2 = p_6$ "
   ]
  },
  {
   "cell_type": "code",
   "execution_count": 18,
   "id": "dfc68475",
   "metadata": {},
   "outputs": [],
   "source": [
    "s6 = s5\n",
    "\n",
    "P6 = P2\n",
    "#sat_liquid6 = IAPWS97(P=P6, s=s6)\n",
    "st6 = th.state(substance,p=(P6,'Mpa'),s=(s6,'kJ/kg K'),name='6')\n",
    "\n",
    "h6 = st6.h\n",
    "x6 = st6.x\n",
    "T6 = st6.T"
   ]
  },
  {
   "cell_type": "markdown",
   "id": "c8a395c3",
   "metadata": {},
   "source": [
    "#### State 7\n",
    "\n",
    "The final state can be determined from:"
   ]
  },
  {
   "cell_type": "code",
   "execution_count": 19,
   "id": "6b7c4c99",
   "metadata": {},
   "outputs": [],
   "source": [
    "s7 = s5\n",
    "P7 = p7_MPa\n",
    "\n",
    "#sat_liquid7 = IAPWS97(P=P7, s=s7)\n",
    "st7 = th.state(substance,p=(P7,'Mpa'),s=(s7,'kJ/kg K'),name='7')\n",
    "h7 = st7.h\n",
    "x7 = st7.x\n",
    "T7 = st7.T"
   ]
  },
  {
   "cell_type": "markdown",
   "id": "cca270ec",
   "metadata": {},
   "source": [
    "$y$ is the fraction of steam extracted from the turbine, $y = \\frac{\\dot{m}_6}{\\dot{m}_5}$."
   ]
  },
  {
   "cell_type": "markdown",
   "id": "6a165207-5714-46b3-a7ed-423c460ee466",
   "metadata": {},
   "source": [
    "We can analyze the Open FWH. If we say that the energy leaving that control volume is \n",
    "\n",
    "$$\\dot{m}_5 h_3 $$ \n",
    "\n",
    "and that entering the control volume is \n",
    "\n",
    "$$\\dot{m}_6 h_6 $$ \n",
    "\n",
    "and is \n",
    "\n",
    "$$\\dot{m}_7 h_7$$\n",
    "\n",
    "and assuming steady state, we can write: \n",
    "\n",
    "$$y = \\frac{h_3 - h_2}{h_6 - h_2} $$"
   ]
  },
  {
   "cell_type": "code",
   "execution_count": 20,
   "id": "1e676883",
   "metadata": {},
   "outputs": [
    {
     "name": "stdout",
     "output_type": "stream",
     "text": [
      "(a) The value of y is: 0.23 (-)\n"
     ]
    }
   ],
   "source": [
    "y = (h3- h2)/(h6 - h2)\n",
    "print('(a) The value of y is: {0:1.2f} (-)'.format(y))"
   ]
  },
  {
   "cell_type": "markdown",
   "id": "087a5d6c",
   "metadata": {},
   "source": [
    "The steam enters the condenser where it is cooled, condensing back into a liquid, where is it is then pumped by the compressor back into the boiler. The amount of heat removed by the condenser can be calculated as ($Q_{\\text{c}}$):"
   ]
  },
  {
   "cell_type": "code",
   "execution_count": 21,
   "id": "b5d6425c",
   "metadata": {},
   "outputs": [
    {
     "name": "stdout",
     "output_type": "stream",
     "text": [
      "The condenser heat duty is 1486.68 kJ/kg\n"
     ]
    }
   ],
   "source": [
    "Qc = (1-y)*(h7 - h1) # kJ/kg\n",
    "print('The condenser heat duty is {0:1.2f} kJ/kg'.format(Qc))"
   ]
  },
  {
   "cell_type": "code",
   "execution_count": 22,
   "id": "60939cbe",
   "metadata": {},
   "outputs": [
    {
     "name": "stdout",
     "output_type": "stream",
     "text": [
      "The boiler heat duty is: 2769.16 kJ/kg\n"
     ]
    }
   ],
   "source": [
    "Qb = (h5 - h4) # heat required to make the steam, kJ/kg\n",
    "\n",
    "print('The boiler heat duty is: {0:1.2f} kJ/kg'.format(Qb))"
   ]
  },
  {
   "cell_type": "markdown",
   "id": "c527032b",
   "metadata": {},
   "source": [
    "The efficiency of the Rankine cycle can be calculated then as:"
   ]
  },
  {
   "cell_type": "code",
   "execution_count": 23,
   "id": "c4ab1f86",
   "metadata": {},
   "outputs": [
    {
     "name": "stdout",
     "output_type": "stream",
     "text": [
      "(b) The overall efficiency is 46.31%.\n"
     ]
    }
   ],
   "source": [
    "eta = 1 - Qc/Qb\n",
    "print('(b) The overall efficiency is {0:1.2%}.'.format(eta))"
   ]
  },
  {
   "cell_type": "markdown",
   "id": "a1545e69",
   "metadata": {},
   "source": [
    "It is instructive to compare the efficiency we calculated here with the Carnot efficiency. Recall that:\n",
    "\n",
    "$\\eta_\\text{Carnot} = 1 - \\frac{T_\\text{C}}{T_\\text{H}}$."
   ]
  },
  {
   "cell_type": "code",
   "execution_count": 24,
   "id": "65242ce6",
   "metadata": {},
   "outputs": [],
   "source": [
    "TC_K = T1\n",
    "TH_K = T5"
   ]
  },
  {
   "cell_type": "code",
   "execution_count": 25,
   "id": "8b05a9ba",
   "metadata": {},
   "outputs": [
    {
     "name": "stdout",
     "output_type": "stream",
     "text": [
      "The Carnot efficiency of this power plant is 63.47%.\n"
     ]
    }
   ],
   "source": [
    "eta_carnot = 1 - TC_K / TH_K\n",
    "\n",
    "print('The Carnot efficiency of this power plant is {0:1.2%}.'.format(eta_carnot))"
   ]
  },
  {
   "cell_type": "code",
   "execution_count": 30,
   "id": "e4ddc98c-cc65-4bc4-b416-205e1bf2abbb",
   "metadata": {},
   "outputs": [
    {
     "data": {
      "image/png": "[encoded data removed]",
      "text/plain": [
       "<Figure size 640x480 with 1 Axes>"
      ]
     },
     "metadata": {},
     "output_type": "display_data"
    },
    {
     "data": {
      "image/png": "[encoded data removed]",
      "text/plain": [
       "<Figure size 640x480 with 1 Axes>"
      ]
     },
     "metadata": {},
     "output_type": "display_data"
    }
   ],
   "source": [
    "#pr = th.process([(st1,st2),(st2,st3),(st3,st4),(st4,st5),(st5,st7),(st7,st1)])\n",
    "pr = th.process([(st1,st2),(st2,st3),(st3,st4),(st4,st5),(st5,st7),(st7,st1),(st1,st2),(st2,st3),(st3,st4),(st4,st5),(st5,st6),(st6,st3)])\n",
    "fig1 = pr.plot('Ts');\n",
    "fig2 = pr.plot('pv');"
   ]
  },
  {
   "cell_type": "code",
   "execution_count": null,
   "id": "b14ed193-ff57-4f7b-8568-7d4aa598256d",
   "metadata": {},
   "outputs": [],
   "source": []
  }
 ],
 "metadata": {
  "kernelspec": {
   "display_name": "Python 3 (ipykernel)",
   "language": "python",
   "name": "python3"
  },
  "language_info": {
   "codemirror_mode": {
    "name": "ipython",
    "version": 3
   },
   "file_extension": ".py",
   "mimetype": "text/x-python",
   "name": "python",
   "nbconvert_exporter": "python",
   "pygments_lexer": "ipython3",
   "version": "3.11.13"
  }
 },
 "nbformat": 4,
 "nbformat_minor": 5
}
