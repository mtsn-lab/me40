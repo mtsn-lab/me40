{
 "cells": [
  {
   "cell_type": "code",
   "execution_count": 1,
   "id": "1be5b563-9c3e-4c1c-9e22-394f49c7d27e",
   "metadata": {},
   "outputs": [
    {
     "name": "stdout",
     "output_type": "stream",
     "text": [
      "Collecting pyCalor\n",
      "  Using cached pycalor-1.0.7-py3-none-any.whl.metadata (3.6 kB)\n",
      "Collecting CoolProp (from pyCalor)\n",
      "  Using cached coolprop-7.0.0-cp311-cp311-manylinux_2_17_x86_64.manylinux2014_x86_64.whl.metadata (282 bytes)\n",
      "Collecting igraph (from pyCalor)\n",
      "  Using cached igraph-0.11.9-cp39-abi3-manylinux_2_17_x86_64.manylinux2014_x86_64.whl.metadata (4.4 kB)\n",
      "Collecting texttable>=1.6.2 (from igraph->pyCalor)\n",
      "  Using cached texttable-1.7.0-py2.py3-none-any.whl.metadata (9.8 kB)\n",
      "Using cached pycalor-1.0.7-py3-none-any.whl (22 kB)\n",
      "Using cached coolprop-7.0.0-cp311-cp311-manylinux_2_17_x86_64.manylinux2014_x86_64.whl (15.8 MB)\n",
      "Using cached igraph-0.11.9-cp39-abi3-manylinux_2_17_x86_64.manylinux2014_x86_64.whl (4.4 MB)\n",
      "Using cached texttable-1.7.0-py2.py3-none-any.whl (10 kB)\n",
      "Installing collected packages: texttable, CoolProp, igraph, pyCalor\n",
      "\u001b[2K   \u001b[90m━━━━━━━━━━━━━━━━━━━━━━━━━━━━━━━━━━━━━━━━\u001b[0m \u001b[32m4/4\u001b[0m [pyCalor]m2/4\u001b[0m [igraph]p]\n",
      "\u001b[1A\u001b[2KSuccessfully installed CoolProp-7.0.0 igraph-0.11.9 pyCalor-1.0.7 texttable-1.7.0\n"
     ]
    }
   ],
   "source": [
    "!pip install pyCalor"
   ]
  },
  {
   "cell_type": "code",
   "execution_count": 2,
   "id": "9e8872df-de88-4f71-8066-451d43a3471e",
   "metadata": {},
   "outputs": [],
   "source": [
    "Qout_kJ = 500\n",
    "Win_kJ = 100\n",
    "\n",
    "U1_kJ = 800"
   ]
  },
  {
   "cell_type": "markdown",
   "id": "d65e5f82-bb4c-46f1-8782-f616d9a8e917",
   "metadata": {},
   "source": [
    "$$E_\\text{in} - E_\\text{out} = (Q_\\text{in} - Q_\\text{out}) + (W_\\text{in} - W_\\text{out})$$\n",
    "\n",
    "also\n",
    "\n",
    "$$ E_\\text{in} - E_\\text{out} = \\Delta E_\\text{system} = U_2 - U_1 $$"
   ]
  },
  {
   "cell_type": "code",
   "execution_count": 4,
   "id": "49acbf5b-2ec8-4f05-9848-b523a55b1ea1",
   "metadata": {},
   "outputs": [
    {
     "name": "stdout",
     "output_type": "stream",
     "text": [
      "400\n"
     ]
    }
   ],
   "source": [
    "U2_kJ = U1_kJ + (-Qout_kJ) - (-Win_kJ); print(U2_kJ)"
   ]
  },
  {
   "cell_type": "code",
   "execution_count": null,
   "id": "d948d93e-f2aa-4ca0-b449-e370869b6a86",
   "metadata": {},
   "outputs": [],
   "source": []
  }
 ],
 "metadata": {
  "kernelspec": {
   "display_name": "Python 3 (ipykernel)",
   "language": "python",
   "name": "python3"
  },
  "language_info": {
   "codemirror_mode": {
    "name": "ipython",
    "version": 3
   },
   "file_extension": ".py",
   "mimetype": "text/x-python",
   "name": "python",
   "nbconvert_exporter": "python",
   "pygments_lexer": "ipython3",
   "version": "3.11.13"
  }
 },
 "nbformat": 4,
 "nbformat_minor": 5
}
