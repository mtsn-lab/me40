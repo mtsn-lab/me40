{
 "cells": [
  {
   "cell_type": "markdown",
   "id": "87a3aefc-5590-4e30-9dfd-b7455c875f20",
   "metadata": {},
   "source": [
    "### Problem 13-79 from Thermodynamics by Cengel, 9th edition\n",
    "\n",
    "A river is discharging into the ocean at a rate of $\\dot{V} = 150,000$ m$^3$/s. \n",
    "\n",
    "Determine the amount of power that can be generated if the river water mixes with the ocean water reversibly. Take the salinity of the ocean to be 2.5% on mass basis, and assume both the river and the ocean are at 15$^\\circ$C.\n",
    "\n",
    "---------"
   ]
  },
  {
   "cell_type": "markdown",
   "id": "fbde0f82-7ddb-490a-a07d-bbc527171e6c",
   "metadata": {},
   "source": [
    "#### Our approach\n",
    "\n",
    "For a reversible process, the entropy generation—and thus the exergy destroyed—is zero. The work output for a reversible process is a maximum. The definition of exergy destruction is:\n",
    "\n",
    "$$X_\\text{destruction} = W_\\text{reversible} - W_\\text{actual} $$\n",
    "\n",
    "It then follows that for a naturally occurring process where no work is produced ($W_\\text{actual} = 0$), the reversible work is equal to exergy destruction: $X_\\text{destruction} = W_\\text{reversible}$."
   ]
  },
  {
   "cell_type": "markdown",
   "id": "1e0d8742-823b-491e-af63-de9956334aa0",
   "metadata": {},
   "source": [
    "Let's consider a two-component mixture of A and B whose mole fractions are $y_A$ and $y_B$. We note that $y_B = 1 - y_A$. \n",
    "\n",
    "The minimum work required to separate this mixture at temperature $T_0$ into pure substance A and B is:\n",
    "\n",
    "$$\\bar{w}_\\text{min,in} = -R_u T_0 \\left( y_A \\ln y_A + y_B \\ln y_B \\right) [=] \\text{kJ/kmol mixture}$$"
   ]
  },
  {
   "cell_type": "markdown",
   "id": "d2aca997-6919-465a-831e-d209c139a627",
   "metadata": {},
   "source": [
    "--------\n",
    "#### Chemical potential\n",
    "\n",
    "Where does that previous expression come from? "
   ]
  },
  {
   "cell_type": "markdown",
   "id": "8fbfd32a-1e07-45ab-816d-428e67a30ffd",
   "metadata": {},
   "source": [
    "Recall the Gibbs function:\n",
    "\n",
    "$$dG = \\left(\\frac{\\partial G}{\\partial p} \\right)_{T,n} dp + \\left(\\frac{\\partial G}{\\partial T} \\right)_{p,n} dT + \\sum_i \\left(\\frac{\\partial G}{\\partial n} \\right)_{p,T,n_j} dn_i $$\n",
    "\n",
    "which is:\n",
    "\n",
    "$$dG = V dp  - S dT + \\sum_i \\mu_i dn_i $$\n",
    "\n",
    "and the chemical potential:\n",
    "\n",
    "$$\\mu_i = \\left(\\frac{\\partial G}{\\partial n_i} \\right)_{p,T,n_j} = \\tilde{g}_i = \\tilde{h}_i - T \\tilde{s}_i $$\n",
    "\n",
    "where the tilde denotes the partial molar properties of the components. Which we can write as:\n",
    "\n",
    "$$ V = \\sum_i n_i \\tilde{v}_i$$\n",
    "$$ H = \\sum_i n_i \\tilde{h}_i$$\n",
    "$$ S = \\sum_i n_i \\tilde{s}_i$$\n",
    "\n",
    "The changes in extensive properties during mixing is then:\n",
    "\n",
    "$$\\Delta V_\\text{mixing} = \\sum_i n_i (\\tilde{v}_i - v_i) $$\n",
    "\n",
    "$$\\Delta H_\\text{mixing} = \\sum_i n_i (\\tilde{h}_i - h_i) $$\n",
    "\n",
    "$$\\Delta S_\\text{mixing} = \\sum_i n_i (\\tilde{s}_i - s_i) $$"
   ]
  },
  {
   "cell_type": "markdown",
   "id": "be9862c9-80c1-4930-9aee-7e761cd3845e",
   "metadata": {},
   "source": [
    "The specific volume, enthalpy, and entropy of a mixture are then:\n",
    "$$v = \\sum_i y_i \\tilde{v}_i $$ \n",
    "$$h = \\sum_i y_i \\tilde{h}_i $$\n",
    "$$s = \\sum_i y_i \\tilde{s}_i $$"
   ]
  },
  {
   "cell_type": "markdown",
   "id": "38c31c27-68be-4ac1-913e-7d29366ff81c",
   "metadata": {},
   "source": [
    "The total differential of chemical potential can be expressed as (see textbook; read also [Gibbs-Duhem equation](https://en.wikipedia.org/wiki/Gibbs–Duhem_equation)):\n",
    "\n",
    "$$d \\mu_i = d\\tilde{g}_i = \\left(\\frac{\\partial \\mu_i}{\\partial p}\\right)_{T,y}dp + \\left(\\frac{\\partial \\mu_i}{\\partial T}\\right)_{p,y}dT + \\sum_i \\left(\\frac{\\partial \\mu_i}{\\partial y_i}\\right)_{p,T,y_j}dy_i $$\n",
    "\n"
   ]
  },
  {
   "cell_type": "markdown",
   "id": "41d9c65d-d0a7-4335-9280-5e95a288b124",
   "metadata": {},
   "source": [
    "where, \n",
    "\n",
    "$$\\left(\\frac{\\partial \\mu_i}{\\partial p}\\right)_{T,y} = \\tilde{v}_i$$\n",
    "\n",
    "$$\\left(\\frac{\\partial \\mu_i}{\\partial T}\\right)_{p,y} = -\\tilde{s}_i$$"
   ]
  },
  {
   "cell_type": "markdown",
   "id": "a9fc581b-3def-4524-aafa-43d9341cfafb",
   "metadata": {},
   "source": [
    "$$d \\mu_i = \\tilde{v}_i dp - \\tilde{s}_i dT + \\sum_i \\left(\\frac{\\partial \\mu_i}{\\partial y_i} \\right)_{p,T,y_j} dy_i $$"
   ]
  },
  {
   "cell_type": "markdown",
   "id": "039706a3-2cba-4c81-9d02-30b6cb515ffd",
   "metadata": {},
   "source": [
    "For a mixture of fixed composition ($y_i = $constant) undergoing an isothermal process ($T = $constant), this equation simplifies to:\n",
    "\n",
    "$$d \\mu_i = \\tilde{v}_i dp  $$\n",
    "\n",
    "--------"
   ]
  },
  {
   "cell_type": "markdown",
   "id": "b6ac2aa5-b0b1-41a8-bbcd-3aef9fe1b922",
   "metadata": {},
   "source": [
    "#### Ideal-gas Mixtures\n",
    "\n",
    "When the effect of dissimilar molecules in a mixture on each other is negligible, the mixture is said to be an ideal mixture or ideal solution. \n",
    "\n",
    "The chemical potential of a component in such a mixture equals the Gibbs function of the pure component. \n",
    "\n",
    "Many liquid solutions encountered in practice, e.g., dilute ones, satisfy this condition. There is no attraction or repulsion of the molecules and other components. "
   ]
  },
  {
   "cell_type": "markdown",
   "id": "9618d4d6-a908-4010-9f0d-0fc3b2d8fc9b",
   "metadata": {},
   "source": [
    "For an ideal gas mixture at temperature $T$ and total pressure $p$, the partial molar volue of a component $i$ is:\n",
    "\n",
    "$$\\tilde{v}_i = R_u T/p $$"
   ]
  },
  {
   "cell_type": "markdown",
   "id": "7ad608ae-ce1a-47d7-958c-71b15183a76b",
   "metadata": {},
   "source": [
    "For a mixture of fixed composition undergoing an isothermal process, we can write:\n",
    "\n",
    "$$d \\mu_i = \\frac{R_u T}{p}dp \\text{ (constant temperature and composition; ideal gas)}$$ \n",
    "\n",
    "which we can write as:\n",
    "\n",
    "$$d \\mu_i = R_u T d \\ln p $$"
   ]
  },
  {
   "cell_type": "markdown",
   "id": "18c312c9-3c9e-4db6-8df9-866dd6ee3966",
   "metadata": {},
   "source": [
    "If we integrate the above at constant temperature from the total mixture pressure, $p$, to the component pressure, $p_i$, of component $i$ gives:\n",
    "\n",
    "$$\\mu_i(T,p_i) = \\mu_i(T,p) + R_u T \\ln \\frac{p_i}{p} \\text{  (ideal gas)}$$\n",
    "\n",
    "Recall that the definition of $y_i$ is:\n",
    "\n",
    "$$y_i = \\frac{p_i}{p} = \\frac{v_i}{v} = \\frac{n_i}{n} $$\n",
    "\n",
    "Therefore:\n",
    "\n",
    "$$\\mu_i(T,p_i) = \\mu_i(T,p) + R_u T \\ln y_i \\text{  (ideal gas)}$$\n",
    "\n",
    "which can be written as:\n",
    "\n",
    "$$\\mu_{i,\\text{mixture,ideal}}(T,p_i) = \\mu_{i,\\text{pure}}(T,p) + R_u T \\ln y_i \\text{(ideal gas)}$$"
   ]
  },
  {
   "cell_type": "markdown",
   "id": "a70c9aa3-5d85-4623-93e2-ca3210ac9d62",
   "metadata": {},
   "source": [
    "------------\n",
    "#### Ideal Solutions\n",
    "\n",
    "This formula is also applicable for mixtures or solutions that behave the same way: the effects of molecules of different components on each other are negligible. We call this an ideal solution or ideal mixture. \n",
    "\n",
    "One such solution is saline water. The enthalpy of mixing and the volume change due to mixing are zero for ideal solutions. This is not the case for entropy though."
   ]
  },
  {
   "cell_type": "markdown",
   "id": "2e95c585-1b7f-4c18-a5ca-aa595f2d5eb7",
   "metadata": {},
   "source": [
    "Recall: \n",
    "\n",
    "$$\\mu_{i,\\text{mixture,ideal}}(T,p_i) = \\mu_{i,\\text{pure}}(T,p) + R_u T \\ln y_i \\text{  (ideal gas)}$$\n",
    "\n",
    "To obtain a relation for entropy of a mixture, we differentiate the above with respect to temperature at constant pressure and mole fraction:\n",
    "\n",
    "$$\\left(\\frac{\\partial \\mu_{i,\\text{mixture}}(T,p_i)}{\\partial T} \\right)_{p,y} = \\left(\\frac{\\partial \\mu_{i,\\text{pure}}(T,p)}{\\partial T} \\right)_{p,y} + R_u \\ln y_i$$"
   ]
  },
  {
   "cell_type": "markdown",
   "id": "e213c12d-b345-49c9-ae87-bcc897adc780",
   "metadata": {},
   "source": [
    "For constant pressure and mole numbers ($n_j =$ const), the Gibbs equation can be written as:\n",
    "\n",
    "$$dG = -S dT + \\mu_i dn_i \\text{ } (n_j = \\text{const}; p = \\text{const})$$"
   ]
  },
  {
   "cell_type": "markdown",
   "id": "9dcaf58b-6e0e-4f03-b022-3e5dafb336ef",
   "metadata": {},
   "source": [
    "Recall that:\n",
    "$$\\left(\\frac{\\partial \\mu_i}{\\partial T}\\right)_{p,y} = -\\tilde{s}_i$$"
   ]
  },
  {
   "cell_type": "markdown",
   "id": "8aa01f43-d9ed-444f-be85-16cd0e866b1e",
   "metadata": {},
   "source": [
    "Therefore,\n",
    "$$s_{i,\\text{mixture,ideal}}(T,p_i) = s_{i,\\text{pure}} - R_u \\ln y_i \\text{  (ideal solution)} $$"
   ]
  },
  {
   "cell_type": "markdown",
   "id": "7f6ae012-fe3c-4ad1-9441-07054eafd231",
   "metadata": {},
   "source": [
    "It then follows that:\n",
    "$$\\Delta S_\\text{mixing} = \\sum_i n_i ( -R_u \\ln y_i) = -R_u\\sum_i n_i \\ln y_i \\text{ (ideal solution)}$$"
   ]
  },
  {
   "cell_type": "markdown",
   "id": "dd7c4d7f-ebed-41b7-99ee-6a48cb691198",
   "metadata": {},
   "source": [
    "And then:\n",
    "$$X_\\text{destroyed} = T_0 S_\\text{gen} = -R_u T_0 \\sum_i n_i \\ln y_i $$"
   ]
  },
  {
   "cell_type": "markdown",
   "id": "f57d4cbd-faf7-4ffd-ae12-3fa644edf570",
   "metadata": {},
   "source": [
    "Recall that:\n",
    "$$X_\\text{destroyed} = W_\\text{rev} - W_\\text{actual} $$\n",
    "\n",
    "Therefore, if no work is produced during a process, the reversible work is equal to exergy destruction. For an adiabatic mixing process that forms an ideal solution, the reversible work is:\n",
    "\n",
    "$$W_\\text{rev} = -R_u T_0 \\sum_i n_i \\ln y_i $$ \n",
    "\n",
    "The minimum work required for separation can also be expressed as:\n",
    "\n",
    "$$W_\\text{min,in} = -R_u T_0 \\sum_i n_i \\ln y_i $$ \n",
    "\n",
    "$$\\dot{W}_\\text{min,in} = -R_u T_0 \\sum_i \\dot{n}_i \\ln y_i = - \\dot{n} R_u T_0 \\sum_i y_i \\ln y_i $$ "
   ]
  },
  {
   "cell_type": "markdown",
   "id": "840dea2f-d034-414c-b099-2a8375ca222c",
   "metadata": {},
   "source": [
    "------\n",
    "#### Solution\n",
    "\n",
    "We need to determine $y_w$ and $y_s$. We know the mass fraction of the salts and water in seawater are 2.5% and 97.5%, respectively.\n",
    "\n",
    "The mole fractions are:\n",
    "\n",
    "$$M = \\frac{1}{f_s/M_s + f_w/M_w}$$"
   ]
  },
  {
   "cell_type": "code",
   "execution_count": 4,
   "id": "47ffadf7-b7ba-4451-8072-5c976ee7c5e3",
   "metadata": {},
   "outputs": [
    {
     "name": "stdout",
     "output_type": "stream",
     "text": [
      "18.316878232251998\n"
     ]
    }
   ],
   "source": [
    "fs = 0.025\n",
    "fw = 1 - fs\n",
    "\n",
    "Ms = 58.44\n",
    "Mw = 18\n",
    "\n",
    "M = 1/((fs/Ms) + (fw/Mw)); print(M)"
   ]
  },
  {
   "cell_type": "code",
   "execution_count": 5,
   "id": "7643687b-0c0e-4360-96be-2b3bc624690a",
   "metadata": {},
   "outputs": [
    {
     "name": "stdout",
     "output_type": "stream",
     "text": [
      "0.9921642375803165\n"
     ]
    }
   ],
   "source": [
    "yw = fw*(M/Mw); print(yw)"
   ]
  },
  {
   "cell_type": "code",
   "execution_count": 6,
   "id": "429b4f64-3820-4537-ae68-b06005375433",
   "metadata": {},
   "outputs": [
    {
     "name": "stdout",
     "output_type": "stream",
     "text": [
      "0.007835762419683534\n"
     ]
    }
   ],
   "source": [
    "ys = 1 - yw; print(ys)"
   ]
  },
  {
   "cell_type": "markdown",
   "id": "e29c251a-fc1a-45fa-893d-184898b5ea7f",
   "metadata": {},
   "source": [
    "Recall, the minimum separation work is also the maximum work that can be produced during the reverse process of mixing for pure water and pure salt:\n",
    "\n",
    "$$w_\\text{min,in} = -R_u T_0 \\left(y_w \\ln y_w + y_s \\ln y_s \\right) $$"
   ]
  },
  {
   "cell_type": "code",
   "execution_count": 7,
   "id": "8d9f8c85-0a6d-4a22-ad71-ccc48e4b3de7",
   "metadata": {},
   "outputs": [],
   "source": [
    "import math"
   ]
  },
  {
   "cell_type": "code",
   "execution_count": 8,
   "id": "b6cfcc22-5516-44b0-b3a0-7603cbfed7e4",
   "metadata": {},
   "outputs": [
    {
     "name": "stdout",
     "output_type": "stream",
     "text": [
      "109.72459839644445\n",
      "5.99035474305024\n"
     ]
    }
   ],
   "source": [
    "Ru_kJperKmolPerK = 8.314\n",
    "T0_K = 273.15+15\n",
    "\n",
    "wMinIn_kJperKmol = -Ru_kJperKmolPerK*T0_K*(yw*math.log(yw)+ys*math.log(ys)); print(wMinIn_kJperKmol)\n",
    "WMinIn_kJperKg = wMinIn_kJperKmol/M; print(WMinIn_kJperKg)"
   ]
  },
  {
   "cell_type": "markdown",
   "id": "e6dfcda1-0e37-43fe-ab6c-1699365660ea",
   "metadata": {},
   "source": [
    "The mass flow rate of the river water is then:"
   ]
  },
  {
   "cell_type": "code",
   "execution_count": 9,
   "id": "4dccc622-fbbe-4ed3-b5fc-a586016867b4",
   "metadata": {},
   "outputs": [],
   "source": [
    "rho_kgPerM3 = 1000\n",
    "vdot_m3PerS = 150e3"
   ]
  },
  {
   "cell_type": "code",
   "execution_count": 10,
   "id": "3a5fbed2-f5fe-4c55-a19d-59d95d155b68",
   "metadata": {},
   "outputs": [
    {
     "name": "stdout",
     "output_type": "stream",
     "text": [
      "The maximum work out from mixing pure salt with pure water is: 898.55 GW\n"
     ]
    }
   ],
   "source": [
    "WMaxOut_kJperKg = WMinIn_kJperKg\n",
    "\n",
    "WMaxOut_kW = WMaxOut_kJperKg*vdot_m3PerS*rho_kgPerM3\n",
    "print('The maximum work out from mixing pure salt with pure water is: {0:1.2f} GW'.format(WMaxOut_kW/1e6))"
   ]
  },
  {
   "cell_type": "markdown",
   "id": "14511efc-562d-4693-9bed-e162a32a9ff4",
   "metadata": {},
   "source": [
    "The minimum work required to produce fresh water from seawater is:\n",
    "\n",
    "$$w_\\text{min,in} = -R_u T_0 \\left(y_w \\ln y_w \\right) $$"
   ]
  },
  {
   "cell_type": "code",
   "execution_count": 11,
   "id": "7d5cf59e-5365-4336-a2ab-808dfaa5a57f",
   "metadata": {},
   "outputs": [
    {
     "name": "stdout",
     "output_type": "stream",
     "text": [
      "18.698233050574306\n",
      "1.038790725031906\n"
     ]
    }
   ],
   "source": [
    "wMinIn_kJperKmol_ = -Ru_kJperKmolPerK*T0_K*(yw*math.log(yw)); print(wMinIn_kJperKmol_)\n",
    "WMinIn_kJperKg_ = wMinIn_kJperKmol_/Mw; print(WMinIn_kJperKg_)"
   ]
  },
  {
   "cell_type": "code",
   "execution_count": 12,
   "id": "8b0ac043-fc87-4526-aca2-1228b9c47f24",
   "metadata": {},
   "outputs": [
    {
     "name": "stdout",
     "output_type": "stream",
     "text": [
      "The maximum work out from mixing pure water with sea water is: 155.82 GW\n"
     ]
    }
   ],
   "source": [
    "WMaxOut_kJperKg_ = WMinIn_kJperKg_\n",
    "\n",
    "WMaxOut_kW_ = WMaxOut_kJperKg_*vdot_m3PerS*rho_kgPerM3\n",
    "print('The maximum work out from mixing pure water with sea water is: {0:1.2f} GW'.format(WMaxOut_kW_/1e6))"
   ]
  },
  {
   "cell_type": "markdown",
   "id": "6ad55964-30c2-41ae-be21-440e2c225455",
   "metadata": {},
   "source": [
    "In 2022, global electricity consumption was 24,398 TWh (terawatt hours). \n",
    "\n",
    "So if the above plant ran for one year, then it would have ran for 8760 hours, meaning that it would have produced:"
   ]
  },
  {
   "cell_type": "code",
   "execution_count": 13,
   "id": "ed11e26e-58a4-499f-88fe-9f8914b6c905",
   "metadata": {},
   "outputs": [
    {
     "name": "stdout",
     "output_type": "stream",
     "text": [
      "The energy produced per year is then: 1364.97 TWh\n"
     ]
    }
   ],
   "source": [
    "hours = 24*365\n",
    "\n",
    "energyProduced_kWh = WMaxOut_kW_*hours\n",
    "energyProduced_TWh = energyProduced_kWh/1e9\n",
    "\n",
    "print('The energy produced per year is then: {0:1.2f} TWh'.format(energyProduced_TWh))"
   ]
  },
  {
   "cell_type": "code",
   "execution_count": 14,
   "id": "f23bfe07-34cd-4d45-8cf0-e8d16d75842b",
   "metadata": {},
   "outputs": [
    {
     "data": {
      "text/plain": [
       "5.594602068579083"
      ]
     },
     "execution_count": 14,
     "metadata": {},
     "output_type": "execute_result"
    }
   ],
   "source": [
    "totalConsumption_TWh = 24398\n",
    "(energyProduced_TWh/totalConsumption_TWh)*100"
   ]
  }
 ],
 "metadata": {
  "kernelspec": {
   "display_name": "Python 3 (ipykernel)",
   "language": "python",
   "name": "python3"
  },
  "language_info": {
   "codemirror_mode": {
    "name": "ipython",
    "version": 3
   },
   "file_extension": ".py",
   "mimetype": "text/x-python",
   "name": "python",
   "nbconvert_exporter": "python",
   "pygments_lexer": "ipython3",
   "version": "3.11.10"
  }
 },
 "nbformat": 4,
 "nbformat_minor": 5
}
