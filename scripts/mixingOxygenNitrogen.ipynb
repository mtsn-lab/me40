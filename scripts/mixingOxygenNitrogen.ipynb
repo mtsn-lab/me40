{
 "cells": [
  {
   "cell_type": "markdown",
   "id": "fc66feee-4fdd-4b9b-bd32-5490488a677c",
   "metadata": {},
   "source": [
    "#### Problem 13-56 Thermodynamics by Cengel, 9th Edition\n",
    "\n",
    "An insulated tank that contains 1 kg of O$_2$ at 15°C and 300 kPa is connected to a 2-m$^3$ uninsulated tank that contains N$_2$ at 50°C and 500 kPa. The valve connecting the two tanks is opened, and the two gases form a homogeneous mixture at 25°C. \n",
    "\n",
    "Determine: \n",
    "- (a) the final pressure in the tank,\n",
    "- (b) the heat transfer, and\n",
    "- (c) the entropy generated during this process.\n",
    "\n",
    "Assume $T_0 = $25°C. \n",
    "\n",
    "Answers: (a) 445 kPa, (b) 187 kJ, (c) 0.962 kJ/K"
   ]
  },
  {
   "cell_type": "markdown",
   "id": "6940d347-b606-4235-9b3d-e4aa6b7c1ccf",
   "metadata": {},
   "source": [
    "#### Part (a)\n"
   ]
  },
  {
   "cell_type": "code",
   "execution_count": 1,
   "id": "68263f9b-3fe0-40d7-a943-24072fe5e4de",
   "metadata": {},
   "outputs": [
    {
     "name": "stdout",
     "output_type": "stream",
     "text": [
      "0.24953789999999998\n"
     ]
    }
   ],
   "source": [
    "mO2_kg = 1\n",
    "TO2_1_K = 15+273.15\n",
    "p02_1_Pa = 300e3\n",
    "RO2_JperKgperK = 0.2598e3\n",
    "MO2_kgPerKmol = 15.99943*2\n",
    "\n",
    "nO2_kmol = mO2_kg/MO2_kgPerKmol\n",
    "VO2_m3 = mO2_kg*RO2_JperKgperK*TO2_1_K/p02_1_Pa; print(VO2_m3)"
   ]
  },
  {
   "cell_type": "code",
   "execution_count": 2,
   "id": "9ca17cf2-e0dc-40e5-bb2a-8390c6677eba",
   "metadata": {},
   "outputs": [
    {
     "name": "stdout",
     "output_type": "stream",
     "text": [
      "10.426341442663672\n"
     ]
    }
   ],
   "source": [
    "VN2_m3 = 2\n",
    "TN2_1_K = 50+273.15\n",
    "pN2_1_Pa = 500e3\n",
    "RN2_JperKgperK = 0.2968e3\n",
    "MN2_kgPerKmol = 14.006747*2\n",
    "\n",
    "mN2_kg = (pN2_1_Pa*VN2_m3)/(RN2_JperKgperK*TN2_1_K); print(mN2_kg)\n",
    "nN2_kmol = mN2_kg/MN2_kgPerKmol"
   ]
  },
  {
   "cell_type": "code",
   "execution_count": 3,
   "id": "b8afaa00-3016-48df-8851-46ca6e7ea353",
   "metadata": {},
   "outputs": [
    {
     "name": "stdout",
     "output_type": "stream",
     "text": [
      "28.32220605283258\n"
     ]
    }
   ],
   "source": [
    "T2_K = 25+273.15\n",
    "\n",
    "V_m3 = VO2_m3 + VN2_m3\n",
    "\n",
    "M_kgPerKmol = (mO2_kg+mN2_kg)/((mO2_kg/MO2_kgPerKmol)+(mN2_kg/MN2_kgPerKmol)); print(M_kgPerKmol)"
   ]
  },
  {
   "cell_type": "markdown",
   "id": "32373ef7-672c-4e72-84a0-8c14766a8888",
   "metadata": {},
   "source": [
    "$$p = m R_m T / V $$\n",
    "\n",
    "$$R_m = R_u / M $$"
   ]
  },
  {
   "cell_type": "code",
   "execution_count": 4,
   "id": "000e0c7b-c47c-4657-af65-b498be7f93d9",
   "metadata": {},
   "outputs": [
    {
     "name": "stdout",
     "output_type": "stream",
     "text": [
      "0.29355057951668617\n"
     ]
    }
   ],
   "source": [
    "Ru_kJperKmolperK = 8.314\n",
    "Rm_kJperKgperK = Ru_kJperKmolperK/M_kgPerKmol; print(Rm_kJperKgperK)"
   ]
  },
  {
   "cell_type": "code",
   "execution_count": 12,
   "id": "f1fc9bcf-fbd6-4ec4-a0a3-9da5772865b2",
   "metadata": {},
   "outputs": [
    {
     "name": "stdout",
     "output_type": "stream",
     "text": [
      "(a) Final pressure: 444.56 kPa\n"
     ]
    }
   ],
   "source": [
    "p2_kPa = (mO2_kg+mN2_kg)*Rm_kJperKgperK*T2_K/V_m3\n",
    "p2_Pa = p2_kPa*1e3\n",
    "\n",
    "print('(a) Final pressure: {0:1.2f} kPa'.format(p2_kPa))"
   ]
  },
  {
   "cell_type": "markdown",
   "id": "79fb1c15-aca6-4a4a-b373-2a2e9e779a77",
   "metadata": {},
   "source": [
    "#### Part (b)"
   ]
  },
  {
   "cell_type": "code",
   "execution_count": 6,
   "id": "b23c6c84-95d3-4646-a3ee-8f055e583b88",
   "metadata": {},
   "outputs": [
    {
     "name": "stdout",
     "output_type": "stream",
     "text": [
      "(b) q_out: 187.09 kJ\n"
     ]
    }
   ],
   "source": [
    "cv_O2_kJperKgPerK = 0.658\n",
    "cv_N2_kJperKgPerK = 0.743\n",
    "\n",
    "du_kJ = mN2_kg*cv_N2_kJperKgPerK*(T2_K - TN2_1_K) + mO2_kg*cv_O2_kJperKgPerK*(T2_K - TO2_1_K)\n",
    "print('(b) q_out: {0:1.2f} kJ'.format(-du_kJ))"
   ]
  },
  {
   "cell_type": "markdown",
   "id": "cb0d91a4-2845-442d-823e-86fa6f13ae62",
   "metadata": {},
   "source": [
    "#### Part (c)"
   ]
  },
  {
   "cell_type": "code",
   "execution_count": 7,
   "id": "c2abf6a3-5a45-49ad-93aa-76ada8d63969",
   "metadata": {},
   "outputs": [
    {
     "name": "stdout",
     "output_type": "stream",
     "text": [
      "0.07746140576112179\n"
     ]
    }
   ],
   "source": [
    "yO2 = nO2_kmol/(nO2_kmol+nN2_kmol); print(yO2)"
   ]
  },
  {
   "cell_type": "code",
   "execution_count": 8,
   "id": "39caafe5-07a6-4a1a-89db-e2f617971917",
   "metadata": {},
   "outputs": [
    {
     "name": "stdout",
     "output_type": "stream",
     "text": [
      "0.9225385942388782\n"
     ]
    }
   ],
   "source": [
    "yN2 = nN2_kmol/(nO2_kmol+nN2_kmol); print(yN2)"
   ]
  },
  {
   "cell_type": "code",
   "execution_count": 9,
   "id": "a3a8fc59-e157-4088-b367-5cbf607b758f",
   "metadata": {},
   "outputs": [],
   "source": [
    "import math"
   ]
  },
  {
   "cell_type": "code",
   "execution_count": 21,
   "id": "ca29dd81-5ee5-42fe-847a-54a6aaa8382d",
   "metadata": {},
   "outputs": [
    {
     "name": "stdout",
     "output_type": "stream",
     "text": [
      "(c) S_gen: 0.962 kJ/K\n"
     ]
    }
   ],
   "source": [
    "T0_K = 25+273.15\n",
    "\n",
    "cp_O2_kJperKgPerK = 0.918\n",
    "\n",
    "cp_N2_kJperKgPerK = 1.039\n",
    "\n",
    "dS_O2_kJperKperKg = cp_O2_kJperKgPerK*math.log(T2_K/TO2_1_K) - (RO2_JperKgperK/1000)*math.log(yO2*p2_Pa/p02_1_Pa)\n",
    "dS_N2_kJperKperKg = cp_N2_kJperKgPerK*math.log(T2_K/TN2_1_K) - (RN2_JperKgperK/1000)*math.log(yN2*p2_Pa/pN2_1_Pa)\n",
    "\n",
    "dS_O2_kJperK = dS_O2_kJperKperKg*mO2_kg; \n",
    "dS_N2_kJperK = dS_N2_kJperKperKg*mN2_kg; \n",
    "\n",
    "dS_kJperK = dS_O2_kJperK + dS_N2_kJperK\n",
    "\n",
    "S0_kJperK = -du_kJ/T0_K; \n",
    "\n",
    "Sgen_kJperK = dS_kJperK + S0_kJperK\n",
    "\n",
    "print('(c) S_gen: {0:1.3f} kJ/K'.format(Sgen_kJperK))"
   ]
  },
  {
   "cell_type": "markdown",
   "id": "9ced653e-073d-42a5-afdd-36fc212c37f7",
   "metadata": {},
   "source": [
    "The above is based on the following:\n",
    "\n",
    "$$S_\\text{gen} = \\Delta S_\\text{O2} + \\Delta S_\\text{N2} + Q_\\text{out}/T_0 $$"
   ]
  },
  {
   "cell_type": "code",
   "execution_count": null,
   "id": "fd75e0ba-b68e-427f-8c3f-43cfee82df4a",
   "metadata": {},
   "outputs": [],
   "source": []
  }
 ],
 "metadata": {
  "kernelspec": {
   "display_name": "Python 3 (ipykernel)",
   "language": "python",
   "name": "python3"
  },
  "language_info": {
   "codemirror_mode": {
    "name": "ipython",
    "version": 3
   },
   "file_extension": ".py",
   "mimetype": "text/x-python",
   "name": "python",
   "nbconvert_exporter": "python",
   "pygments_lexer": "ipython3",
   "version": "3.11.10"
  }
 },
 "nbformat": 4,
 "nbformat_minor": 5
}
