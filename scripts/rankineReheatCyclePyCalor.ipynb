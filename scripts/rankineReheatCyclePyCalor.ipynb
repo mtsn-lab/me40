{
 "cells": [
  {
   "cell_type": "markdown",
   "id": "1531ae64",
   "metadata": {},
   "source": [
    "## The Ideal Reheat Rankine Cycle\n",
    "Consider a steam power plant operating on the ideal reheat Rankine cycle. Here are the states:\n",
    "\n",
    "<!-- ![title](rankineReheatCycle.png)\n",
    "--->\n",
    "\n"
   ]
  },
  {
   "cell_type": "markdown",
   "id": "301f24f2",
   "metadata": {},
   "source": [
    "- (1) after the condenser, entering the pump;\n",
    "- (2) after the pump, entering the boiler;\n",
    "- (3) after the boiler, entering the high pressure turbine;\n",
    "- (4) after the turbine, entering the boiler again (reheat);\n",
    "- (5) after the boiler, entering the low pressure turbine;\n",
    "- (6) after the turbine, entering the condenser."
   ]
  },
  {
   "cell_type": "markdown",
   "id": "299bb340",
   "metadata": {},
   "source": [
    "Steam enters the high-pressure turbine at $p_3$ and $T_3$.\n",
    "\n",
    "Steam then enters the low-pressure turbine at $p_5$ and $T_5$.\n",
    "\n",
    "Steam is then condensed in the condeser at a pressure of $p_6$. \n",
    "\n",
    "The net power produced by this plant is $W_\\text{net}$.\n",
    "\n",
    "Determine:\n",
    "- the rate of heat addition and rejection\n",
    "- the thermal efficiency of this cycle."
   ]
  },
  {
   "cell_type": "code",
   "execution_count": 6,
   "id": "2cfead37",
   "metadata": {},
   "outputs": [],
   "source": [
    "T3_C = 315.5556 # 600 F\n",
    "p3_MPa = 41.36854/10 # 600 psia\n",
    "\n",
    "T5_C = T3_C # 600 F\n",
    "p5_MPa = 13.78951/10 # 200 psia\n",
    "\n",
    "p6_kPa = (0.6894757/10)*1000 # 10 psia\n",
    "\n",
    "Wnet_kW = 5000\n",
    "\n",
    "# conversion \n",
    "T3_K = T3_C + 273.15\n",
    "T5_K = T5_C + 273.15\n",
    "p6_MPa = p6_kPa/1000"
   ]
  },
  {
   "cell_type": "markdown",
   "id": "32769975",
   "metadata": {},
   "source": [
    "### Solution\n",
    "An ideal reheat steam Rankine cycle produces power. The rates of heat addition and rejection and the thermal efficiency are to be determined. Also, the effect of changing reheat pressure is to be investigated. \n",
    "\n",
    "### Assumptions\n",
    "- steady operating conditions exist\n",
    "- kinetic and potential energy changes are negligible \n",
    "- as the power plant operates on the ideal Rankine cycle, we assume that the pump and turbine are isentropic; there are no pressure drops in the boiler and condenser; and steam leaves the condenser and enters the pump as a saturated liquid at the condenser pressure.\n",
    "\n",
    "<!--\n",
    "![title](rankineReheatCycleTSdiagram.png)\n",
    "-->"
   ]
  },
  {
   "cell_type": "code",
   "execution_count": 7,
   "id": "3942ab21",
   "metadata": {},
   "outputs": [],
   "source": [
    "# condenser:\n",
    "p1_MPa = p6_MPa\n",
    "\n",
    "# boiler:\n",
    "p2_MPa = p3_MPa"
   ]
  },
  {
   "cell_type": "markdown",
   "id": "8cd434ca",
   "metadata": {},
   "source": [
    "### Analysis\n",
    "To solve this, we need to know the properties at all of the states. For this, we can use the IAPWS module as our working fluid is water. "
   ]
  },
  {
   "cell_type": "code",
   "execution_count": 8,
   "id": "365c887a",
   "metadata": {},
   "outputs": [
    {
     "name": "stdout",
     "output_type": "stream",
     "text": [
      "Requirement already satisfied: pyCalor in /srv/conda/lib/python3.11/site-packages (1.0.21)\n",
      "Requirement already satisfied: CoolProp in /srv/conda/lib/python3.11/site-packages (from pyCalor) (7.1.0)\n",
      "Requirement already satisfied: igraph in /srv/conda/lib/python3.11/site-packages (from pyCalor) (1.0.0)\n",
      "Requirement already satisfied: texttable>=1.6.2 in /srv/conda/lib/python3.11/site-packages (from igraph->pyCalor) (1.7.0)\n"
     ]
    }
   ],
   "source": [
    "#!pip install iapws\n",
    "!pip install pyCalor"
   ]
  },
  {
   "cell_type": "markdown",
   "id": "75ea9b85",
   "metadata": {},
   "source": [
    "IAPWS stands for \"The International Association for the Properties of Water and Steam\". According to them, they are \"...an international non-profit association of national organizations concerned with the properties of water and steam, particularly thermophysical properties, cycle chemistry guidelines, and other aspects of high-temperature steam, water and aqueous mixtures relevant to thermal power cycles and other industrial and scientific applications.\"\n",
    "\n",
    "This looks like:"
   ]
  },
  {
   "cell_type": "code",
   "execution_count": 9,
   "id": "eb884353",
   "metadata": {},
   "outputs": [],
   "source": [
    "#from iapws import IAPWS97\n",
    "from pyCalor import thermo as th"
   ]
  },
  {
   "cell_type": "markdown",
   "id": "4cb22450",
   "metadata": {},
   "source": [
    "In order to calculate a thermodynamic property, we need to define several properties, such as temperature $T$ and pressure $p$, and for vapor-liquid mixtures, the quality $x$. $T$ should be in the units Kelvin, $p$ should be in MPa, and $x$ should be between 0 and 1.\n",
    "\n",
    "#### State 1: \n",
    "\n",
    "Saturated liquid. Therefore, $x_1 = 0$:"
   ]
  },
  {
   "cell_type": "code",
   "execution_count": 10,
   "id": "acbc8609",
   "metadata": {},
   "outputs": [],
   "source": [
    "x1 = 0"
   ]
  },
  {
   "cell_type": "markdown",
   "id": "e28bb60b",
   "metadata": {},
   "source": [
    "We then have enough information to calculate all of the thermodynamic properties at this state. The first step in determining properties like $p$, specific entropy $s$, specific enthalpy $h$, etc., is to use the IAPWS97 module. This is written in this case as:"
   ]
  },
  {
   "cell_type": "code",
   "execution_count": 11,
   "id": "1495c28e",
   "metadata": {},
   "outputs": [],
   "source": [
    "# pressure should be in the units MPa, \n",
    "# temperature in the units K, \n",
    "# quality a number betwee 0 and 1. \n",
    "substance = 'water'\n",
    "\n",
    "P1 = p1_MPa\n",
    "#sat_liquid1 = IAPWS97(P=P1, x=x1)\n",
    "st1 = th.state(substance,p=(P1,'Mpa'),x=x1,name='1')"
   ]
  },
  {
   "cell_type": "markdown",
   "id": "8b23cb58",
   "metadata": {},
   "source": [
    "From this, we can now calculate $T_1$ (K), $s_1$ (kJ/(kg K)), $h_1$ (kJ/kg), specific volume $v_1$ (m$^3$/kg)."
   ]
  },
  {
   "cell_type": "code",
   "execution_count": 12,
   "id": "fd14dade",
   "metadata": {},
   "outputs": [],
   "source": [
    "T1 = st1.T # K\n",
    "s1 = st1.s # kJ/kg*K\n",
    "h1 = st1.h # kJ/kg\n",
    "v1 = st1.v # m3/kg"
   ]
  },
  {
   "cell_type": "markdown",
   "id": "44d1990e",
   "metadata": {},
   "source": [
    "#### State 2\n",
    "\n",
    "State 2 is after the compressor, so the pressure is higher ($p_2$), and we will assume that the compressor is isentropic ($s_1 = s_2$):"
   ]
  },
  {
   "cell_type": "code",
   "execution_count": 13,
   "id": "e0e7a22d",
   "metadata": {},
   "outputs": [],
   "source": [
    "P2 = p2_MPa        # MPa\n",
    "s2 = s1            # kJ/kg*K"
   ]
  },
  {
   "cell_type": "markdown",
   "id": "00a0adb8",
   "metadata": {},
   "source": [
    "Again, we can calculate the properties at this state as:"
   ]
  },
  {
   "cell_type": "code",
   "execution_count": 14,
   "id": "7637516e",
   "metadata": {},
   "outputs": [],
   "source": [
    "#sat_liquid2 = IAPWS97(P=P2, s=s1)\n",
    "st2 = th.state(substance,p=(P2,'Mpa'),s=s2,name='2')\n",
    "T2 = st2.T # K\n",
    "h2 = st2.h # kJ/kg"
   ]
  },
  {
   "cell_type": "markdown",
   "id": "aa962785",
   "metadata": {},
   "source": [
    "#### State 3\n",
    "\n",
    "We can now define state 3 of our Re-heat Rankine cycle, which is after the boiler. \n",
    "\n",
    "We know $T_3$ and $p_3 = p_2$:"
   ]
  },
  {
   "cell_type": "code",
   "execution_count": 15,
   "id": "9246f9d5",
   "metadata": {},
   "outputs": [],
   "source": [
    "T3 = T3_K # K\n",
    "P3 = P2 # definition of isobaric, MPa"
   ]
  },
  {
   "cell_type": "markdown",
   "id": "bdbea589",
   "metadata": {},
   "source": [
    "Again, we can calculate the properties at this state as:"
   ]
  },
  {
   "cell_type": "code",
   "execution_count": 16,
   "id": "e89d5ac6",
   "metadata": {},
   "outputs": [],
   "source": [
    "#steam = IAPWS97(P=P3, T=T3)\n",
    "st3 = th.state(substance,p=(P3,'Mpa'),T=(T3,'K'),name='3')\n",
    "h3 = st3.h # kJ/kg\n",
    "s3 = st3.s # kJ/kg*K"
   ]
  },
  {
   "cell_type": "markdown",
   "id": "bf681b6a",
   "metadata": {},
   "source": [
    "#### State 4\n",
    "\n",
    "Next, the high pressure steam passes through the turbine, which is used to generate electricity in a powerplant. Here we assume that the turbine operates isentropically, $s_4 = s_3$:"
   ]
  },
  {
   "cell_type": "code",
   "execution_count": 17,
   "id": "d983c9f2",
   "metadata": {},
   "outputs": [],
   "source": [
    "s4 = s3 # isentropic #kJ/kg*K"
   ]
  },
  {
   "cell_type": "markdown",
   "id": "9a007c6a-98eb-4806-9e71-a04a2d7d76c2",
   "metadata": {},
   "source": [
    "We also assume that the pressure at the exit of the high pressure turbine is the same as the pressure entering the low pressure turbine, $p_4 = p_5$"
   ]
  },
  {
   "cell_type": "code",
   "execution_count": 18,
   "id": "3d7f1c8f",
   "metadata": {},
   "outputs": [],
   "source": [
    "# boiler:\n",
    "p4_MPa = p5_MPa\n",
    "P4 = p4_MPa # MPa\n",
    "\n",
    "#steam = IAPWS97(P=P4,s=s4)\n",
    "st4 = th.state(substance,p=(P4,'Mpa'),s=(s4,'kJ/kg K'),name='4')\n",
    "T4 = st4.T # K\n",
    "h4 = st4.h # kJ/kg\n",
    "x4 = st4.x"
   ]
  },
  {
   "cell_type": "markdown",
   "id": "9cd0194a",
   "metadata": {},
   "source": [
    "#### State 5\n",
    "\n",
    "After the reheating stage, we can calculate the properties of the steam as we are given the temperature and pressure:"
   ]
  },
  {
   "cell_type": "code",
   "execution_count": 19,
   "id": "6e8f597b",
   "metadata": {},
   "outputs": [],
   "source": [
    "P5 = p5_MPa\n",
    "T5 = T5_K\n",
    "\n",
    "#steamReheat = IAPWS97(P=P5, T=T5)\n",
    "st5 = th.state(substance,p=(P5,'Mpa'),T=(T5,'K'),name='5')\n",
    "h5 = st5.h # kJ/kg\n",
    "s5 = st5.s # kJ/kg*K"
   ]
  },
  {
   "cell_type": "markdown",
   "id": "caf04e83",
   "metadata": {},
   "source": [
    "#### State 6\n",
    "\n",
    "We assume that the turbine operates isentropically, therefore $s_6 = s_5$:"
   ]
  },
  {
   "cell_type": "code",
   "execution_count": 20,
   "id": "328ddb98",
   "metadata": {},
   "outputs": [],
   "source": [
    "s6 = s5"
   ]
  },
  {
   "cell_type": "markdown",
   "id": "0927a220",
   "metadata": {},
   "source": [
    "The pressure of the steam entering the condenser is given. So with the entropy and pressure at that state defined, we know the properties:"
   ]
  },
  {
   "cell_type": "code",
   "execution_count": 21,
   "id": "f705ee32",
   "metadata": {},
   "outputs": [],
   "source": [
    "P6 = p6_MPa\n",
    "#vapor = IAPWS97(P=P6, s=s6)\n",
    "st6 = th.state(substance,p=(P6,'Mpa'),s=(s6,'kJ/kg K'),name='6')\n",
    "h6 = st6.h\n",
    "x6 = st6.x\n",
    "T6 = st6.T"
   ]
  },
  {
   "cell_type": "markdown",
   "id": "087a5d6c",
   "metadata": {},
   "source": [
    "Next, the steam enters the condenser where it is cooled, condensing back into a liquid, where is it is then pumped by the compressor back into the boiler. The amount of heat removed by the condenser can be calculated as ($Q_{\\text{c}}$):"
   ]
  },
  {
   "cell_type": "code",
   "execution_count": 22,
   "id": "b5d6425c",
   "metadata": {},
   "outputs": [
    {
     "name": "stdout",
     "output_type": "stream",
     "text": [
      "The condenser heat duty is 2116.01 kJ/kg\n"
     ]
    }
   ],
   "source": [
    "Qc = h6 - h1 # Cooling from T6 to T1, kJ/kg\n",
    "print('The condenser heat duty is {0:1.2f} kJ/kg'.format(Qc))"
   ]
  },
  {
   "cell_type": "code",
   "execution_count": 23,
   "id": "60939cbe",
   "metadata": {},
   "outputs": [
    {
     "name": "stdout",
     "output_type": "stream",
     "text": [
      "The boiler heat duty is: 2934.64 kJ/kg\n"
     ]
    }
   ],
   "source": [
    "Qb = (h3 - h2)+(h5 - h4) # heat required to make the steam, kJ/kg\n",
    "\n",
    "print('The boiler heat duty is: {0:1.2f} kJ/kg'.format(Qb))"
   ]
  },
  {
   "cell_type": "markdown",
   "id": "e580df64",
   "metadata": {},
   "source": [
    "Since we know the power output, we can calculate the mass flow rate as: $$\\dot{W}_\\text{net} = \\dot{m}w_\\text{net} $$\n",
    "\n",
    "$$\\implies \\dot{m} =  \\frac{\\dot{W}_\\text{net}}{w_\\text{net}}$$"
   ]
  },
  {
   "cell_type": "code",
   "execution_count": 24,
   "id": "312137e9",
   "metadata": {},
   "outputs": [
    {
     "name": "stdout",
     "output_type": "stream",
     "text": [
      "The mass flow rate is: 6.11 kg/s\n"
     ]
    }
   ],
   "source": [
    "w34_out = (h3 - h4)\n",
    "w56_out = (h5 - h6)\n",
    "w12_in = (h2 - h1)\n",
    "\n",
    "wnet = w34_out + w56_out - w12_in\n",
    "\n",
    "mdot_kgPerS = Wnet_kW / wnet\n",
    "print('The mass flow rate is: {0:1.2f} kg/s'.format(mdot_kgPerS))"
   ]
  },
  {
   "cell_type": "markdown",
   "id": "82b8ada8",
   "metadata": {},
   "source": [
    "The heat addition and rejection are:"
   ]
  },
  {
   "cell_type": "code",
   "execution_count": 25,
   "id": "a1dfc901",
   "metadata": {},
   "outputs": [
    {
     "name": "stdout",
     "output_type": "stream",
     "text": [
      "(a) The boiler heat duty is: 17924.18 kW\n"
     ]
    }
   ],
   "source": [
    "Qin_kW = mdot_kgPerS*Qb\n",
    "print('(a) The boiler heat duty is: {0:1.2f} kW'.format(Qin_kW))"
   ]
  },
  {
   "cell_type": "code",
   "execution_count": 26,
   "id": "006e5bf7",
   "metadata": {},
   "outputs": [
    {
     "name": "stdout",
     "output_type": "stream",
     "text": [
      "(a) The condenser heat duty is 12924.18 kW\n"
     ]
    }
   ],
   "source": [
    "Qout_kW = mdot_kgPerS*Qc\n",
    "print('(a) The condenser heat duty is {0:1.2f} kW'.format(Qout_kW))"
   ]
  },
  {
   "cell_type": "markdown",
   "id": "c527032b",
   "metadata": {},
   "source": [
    "The efficiency of the Rankine cycle can be calculated then as:"
   ]
  },
  {
   "cell_type": "code",
   "execution_count": 27,
   "id": "c4ab1f86",
   "metadata": {},
   "outputs": [
    {
     "name": "stdout",
     "output_type": "stream",
     "text": [
      "(b) The overall efficiency is 27.90%.\n"
     ]
    }
   ],
   "source": [
    "eta = Wnet_kW / Qin_kW\n",
    "print('(b) The overall efficiency is {0:1.2%}.'.format(eta))"
   ]
  },
  {
   "cell_type": "markdown",
   "id": "ba3ed0a7",
   "metadata": {},
   "source": [
    "We can now show this Rankine cycle on the T-s diagram, as is customary. We can also save this plot as an image. For this we need to import some additional modules. "
   ]
  },
  {
   "cell_type": "code",
   "execution_count": 28,
   "id": "3c50d515-79df-4647-9f17-79e566269c4e",
   "metadata": {},
   "outputs": [
    {
     "data": {
      "image/png": "[encoded data removed]",
      "text/plain": [
       "<Figure size 640x480 with 1 Axes>"
      ]
     },
     "metadata": {},
     "output_type": "display_data"
    },
    {
     "data": {
      "image/png": "[encoded data removed]",
      "text/plain": [
       "<Figure size 640x480 with 1 Axes>"
      ]
     },
     "metadata": {},
     "output_type": "display_data"
    }
   ],
   "source": [
    "pr = th.process([(st1,st2),(st2,st3),(st3,st4),(st4,st5),(st5,st6),(st6,st1)])\n",
    "fig1 = pr.plot('pv');\n",
    "fig2 = pr.plot('Ts');"
   ]
  },
  {
   "cell_type": "markdown",
   "id": "a1545e69",
   "metadata": {},
   "source": [
    "It is instructive to compare the efficiency we calculated here with the Carnot efficiency. Recall that:\n",
    "\n",
    "$\\eta_\\text{Carnot} = 1 - \\frac{T_\\text{C}}{T_\\text{H}}$."
   ]
  },
  {
   "cell_type": "code",
   "execution_count": 29,
   "id": "65242ce6",
   "metadata": {},
   "outputs": [],
   "source": [
    "TC_K = T6\n",
    "TH_K = T3"
   ]
  },
  {
   "cell_type": "code",
   "execution_count": 30,
   "id": "8b05a9ba",
   "metadata": {},
   "outputs": [
    {
     "name": "stdout",
     "output_type": "stream",
     "text": [
      "The Carnot efficiency of this power plant is 38.39%.\n"
     ]
    }
   ],
   "source": [
    "eta_carnot = 1 - TC_K / TH_K\n",
    "\n",
    "print('The Carnot efficiency of this power plant is {0:1.2%}.'.format(eta_carnot))"
   ]
  },
  {
   "cell_type": "code",
   "execution_count": null,
   "id": "e283628c-f893-45fb-bb45-8b9b2a7bb369",
   "metadata": {},
   "outputs": [],
   "source": []
  }
 ],
 "metadata": {
  "kernelspec": {
   "display_name": "Python 3 (ipykernel)",
   "language": "python",
   "name": "python3"
  },
  "language_info": {
   "codemirror_mode": {
    "name": "ipython",
    "version": 3
   },
   "file_extension": ".py",
   "mimetype": "text/x-python",
   "name": "python",
   "nbconvert_exporter": "python",
   "pygments_lexer": "ipython3",
   "version": "3.11.13"
  }
 },
 "nbformat": 4,
 "nbformat_minor": 5
}
