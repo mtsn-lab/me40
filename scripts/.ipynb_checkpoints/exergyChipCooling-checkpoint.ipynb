{
 "cells": [
  {
   "cell_type": "code",
   "execution_count": 1,
   "id": "fb3bfbd4-2728-4137-99e6-f3265060d1a2",
   "metadata": {},
   "outputs": [
    {
     "name": "stdout",
     "output_type": "stream",
     "text": [
      "Collecting CoolProp\n",
      "  Using cached CoolProp-6.6.0-cp311-cp311-manylinux_2_17_x86_64.manylinux2014_x86_64.whl (7.3 MB)\n",
      "Installing collected packages: CoolProp\n",
      "Successfully installed CoolProp-6.6.0\n"
     ]
    }
   ],
   "source": [
    "!pip install CoolProp"
   ]
  },
  {
   "cell_type": "code",
   "execution_count": 2,
   "id": "f1d415aa-5f11-4c2f-bf87-532a0b647b20",
   "metadata": {},
   "outputs": [],
   "source": [
    "from CoolProp.CoolProp import PropsSI"
   ]
  },
  {
   "cell_type": "markdown",
   "id": "7f078aa5-7bcb-44b8-b640-937d36774955",
   "metadata": {},
   "source": [
    "Problem 8-65, Thermodynamics, Cengel\n",
    "\n",
    "Refrigerant-134a is condensed in a refrigeration system by rejecting heat to ambient air at 25°C. R-134a enters the condenser at 700 kPa and 50°C at a rate of 0.05 kg/s and leaves at the same pressure as a saturated liquid.\n",
    "\n",
    "Determine \n",
    "- (a) the rate of heat rejected in the condenser,\n",
    "- (b) the COP of this refrigeration cycle if the cooling load at these conditions is 6 kW, and\n",
    "- (c) the rate of exergy destruction in the condenser."
   ]
  },
  {
   "cell_type": "code",
   "execution_count": 6,
   "id": "318bc08e-2a6a-4ce6-88c7-e5d743c331c4",
   "metadata": {},
   "outputs": [],
   "source": [
    "fluid = 'R134a'"
   ]
  },
  {
   "cell_type": "code",
   "execution_count": 31,
   "id": "2e835cda-9653-4cf9-9509-b6cbaacfc785",
   "metadata": {},
   "outputs": [],
   "source": [
    "T0_K = 25+273.15\n",
    "p0_Pa = 1e5\n",
    "\n",
    "p1_Pa = 700e3\n",
    "T1_K = 50+273.15\n",
    "mdot_kgPerS = 0.05\n",
    "\n",
    "p2_Pa = p1_Pa\n",
    "x2 = 0"
   ]
  },
  {
   "cell_type": "code",
   "execution_count": 37,
   "id": "e4084749-82e1-4b60-81ff-959930e62e89",
   "metadata": {},
   "outputs": [],
   "source": [
    "u1_JperKg = PropsSI('U','P',p1_Pa,'T',T1_K,fluid)\n",
    "h1_JperKg = PropsSI('H','P',p1_Pa,'T',T1_K,fluid)\n",
    "s1_JperKgPerK = PropsSI('S','P',p1_Pa,'T',T1_K,fluid)\n",
    "rho1_kgPerM3 = PropsSI('D','P',p1_Pa,'T',T1_K,fluid)\n",
    "v1_m3perKg = 1/rho1_kgPerM3\n",
    "\n",
    "u2_JperKg = PropsSI('U','P',p2_Pa,'Q',x2,fluid)\n",
    "h2_JperKg = PropsSI('H','P',p2_Pa,'Q',x2,fluid)\n",
    "s2_JperKgPerK = PropsSI('S','P',p2_Pa,'Q',x2,fluid)\n",
    "rho2_kgPerM3 = PropsSI('D','P',p2_Pa,'Q',x2,fluid)\n",
    "v2_m3perKg = 1/rho2_kgPerM3"
   ]
  },
  {
   "cell_type": "code",
   "execution_count": 33,
   "id": "d516a92a-80b4-4a7c-9c7c-45e5c2bbc66f",
   "metadata": {},
   "outputs": [
    {
     "name": "stdout",
     "output_type": "stream",
     "text": [
      "(a) Qdot_W = 9983.974555 W.\n"
     ]
    }
   ],
   "source": [
    "Qdot_W = mdot_kgPerS*(h1_JperKg - h2_JperKg)\n",
    "print('(a) Qdot_W = {0:1.6f} W.'.format(Qdot_W))"
   ]
  },
  {
   "cell_type": "markdown",
   "id": "9115637f-535f-4556-a4bf-cf43cd07ae7c",
   "metadata": {},
   "source": [
    "-----\n",
    "part (b)\n",
    "\n",
    "------\n",
    "\n",
    "$$Q_\\text{H} = W + Q_\\text{L}$$\n",
    "\n",
    "We know $Q_\\text{H}$ and $Q_\\text{L}$. Therefore, we can determine $W$. The definition of the COP of a refrigerator is:\n",
    "\n",
    "$$\\text{COP} = Q_\\text{L}/W $$"
   ]
  },
  {
   "cell_type": "code",
   "execution_count": 34,
   "id": "c43d29de-21d4-4438-9736-68282220cf1c",
   "metadata": {},
   "outputs": [
    {
     "name": "stdout",
     "output_type": "stream",
     "text": [
      "(b) COP = 1.5.\n"
     ]
    }
   ],
   "source": [
    "QdotL_W = 6000\n",
    "\n",
    "Wdot_W = Qdot_W - QdotL_W\n",
    "\n",
    "COP = QdotL_W/Wdot_W\n",
    "\n",
    "print('(b) COP = {0:1.1f}.'.format(COP))"
   ]
  },
  {
   "cell_type": "markdown",
   "id": "3b507e06-5ac2-4d98-88cd-5125485bf1a1",
   "metadata": {},
   "source": [
    "-----\n",
    "part (c)\n",
    "\n",
    "------"
   ]
  },
  {
   "cell_type": "markdown",
   "id": "e1900462-9ab4-4977-bfbb-07e2cc42f2d0",
   "metadata": {},
   "source": [
    "$\\frac{dS_\\text{CV}}{dt} = \\dot{S}_\\text{in} - \\dot{S}_\\text{out} + \\dot{S}_\\text{gen} $\n",
    "\n",
    "Assume: steady state\n",
    "\n",
    "$\\implies \\dot{S}_\\text{gen} = \\dot{S}_\\text{out} - \\dot{S}_\\text{in} = \\dot{m} \\left(s_2 - s_1 \\right) + \\frac{\\dot{Q}_\\text{out}}{T_0}$\n",
    "\n",
    "And:\n",
    "\n",
    "$\\dot{X}_\\text{destroyed} = T_0 \\dot{S}_\\text{gen}$"
   ]
  },
  {
   "cell_type": "code",
   "execution_count": 35,
   "id": "dafe28cb-8515-456f-bdf4-6444d31723ea",
   "metadata": {},
   "outputs": [
    {
     "name": "stdout",
     "output_type": "stream",
     "text": [
      "(c) Xdestroyed_W = 99.8.\n"
     ]
    }
   ],
   "source": [
    "SdotGen_WperK = mdot_kgPerS * (s2_JperKgPerK - s1_JperKgPerK) + Qdot_W/T0_K\n",
    "Xdestroyed_W = T0_K*SdotGen_WperK\n",
    "\n",
    "print('(c) Xdestroyed_W = {0:1.1f}.'.format(Xdestroyed_W))"
   ]
  },
  {
   "cell_type": "markdown",
   "id": "9d796939-1808-4425-afe2-4f2a29a5d6bc",
   "metadata": {},
   "source": [
    "-----\n",
    "part (c), alternative\n",
    "\n",
    "------"
   ]
  },
  {
   "cell_type": "markdown",
   "id": "34ed7137-e048-41ee-aeb8-05277b9d9bfe",
   "metadata": {},
   "source": [
    "From the textbook we are told that the maximum power output is the reversible power. For this we need to analyze the system and its immediate surroundings, whose boundary is at the environmental temperature of $T_0$. The rate of change of exergy within the extended system is:\n",
    "\n",
    "$$\\frac{dX_\\text{system}}{dt} = \\dot{X}_\\text{in} - \\dot{X}_\\text{out} - \\dot{X}_\\text{destroyed} $$\n",
    "\n",
    "We assume the following:\n",
    "- steady state\n",
    "- no work transfer\n",
    "- no heat transfer in\n",
    "- heat is transferred out to the environment, which is at temperature $T_0$\n",
    "\n",
    "Therefore,\n",
    "\n",
    "$$\\dot{X}_\\text{destroyed} = \\dot{X}_\\text{in} - \\dot{X}_\\text{out} $$\n",
    "\n",
    "The exergy rate for a fluid stream is (called flow exergy):\n",
    "\n",
    "$$\\dot{X} = \\dot{W} + \\left(1 - \\frac{T_0}{T} \\right)\\dot{Q} + \\dot{m} \\psi$$\n",
    "\n",
    "where \n",
    "\n",
    "$$\\psi = (h - h_0) - T_0 (s - s_0) + w^2/2 + gz$$\n",
    "\n",
    "If we neglect kinetic and potential energy effects, we can then write:\n",
    "\n",
    "$$\\dot{X}_\\text{destroyed} = \\left[ \\dot{W}_\\text{in} + \\left(1 - \\frac{T_0}{T_i} \\right)\\dot{Q}_\\text{in} + \\dot{m}\\left[(h_1 - h_0) - T_0 (s_1 - s_0)\\right] \\right] - \\left[ \\dot{W}_\\text{out} + \\left(1 - \\frac{T_0}{T_j} \\right)\\dot{Q}_\\text{out} + \\dot{m}\\left[(h_2 - h_0) - T_0 (s_2 - s_0)\\right] \\right]$$\n",
    "\n",
    "We can eliminate some terms (see assumptions):\n",
    "\n",
    "$$\\dot{X}_\\text{destroyed} = \\left[\\dot{m}\\left[(h_1 - h_0) - T_0 (s_1 - s_0)\\right] \\right] - \\left[ \\left(1 - \\frac{T_0}{T_0} \\right)\\dot{Q}_\\text{out} + \\dot{m}\\left[(h_2 - h_0) - T_0 (s_2 - s_0)\\right] \\right]$$\n",
    "\n",
    "$$\\implies \\dot{X}_\\text{destroyed} = \\left[\\dot{m}\\left[(h_1 - h_0) - T_0 (s_1 - s_0)\\right] \\right] - \\left[ \\dot{m}\\left[(h_2 - h_0) - T_0 (s_2 - s_0)\\right] \\right]$$\n",
    "\n",
    "$$\\implies \\dot{X}_\\text{destroyed} = \\dot{m}\\left[(h_1 - h_2) - T_0 (s_1 - s_2)\\right]$$"
   ]
  },
  {
   "cell_type": "code",
   "execution_count": null,
   "id": "62a9b1f3-c96c-4b59-b875-3366ecdad750",
   "metadata": {},
   "outputs": [],
   "source": [
    "Xdestroyed_W_ = mdot_kgPerS*((h1_JperKg - h2_JperKg) - T0_K*(s1_JperKgPerK - s2_JperKgPerK))\n",
    "print('(c) alternative: Xdestroyed_W_ = {0:1.1f}.'.format(Xdestroyed_W_))"
   ]
  }
 ],
 "metadata": {
  "kernelspec": {
   "display_name": "Python 3 (ipykernel)",
   "language": "python",
   "name": "python3"
  },
  "language_info": {
   "codemirror_mode": {
    "name": "ipython",
    "version": 3
   },
   "file_extension": ".py",
   "mimetype": "text/x-python",
   "name": "python",
   "nbconvert_exporter": "python",
   "pygments_lexer": "ipython3",
   "version": "3.11.13"
  }
 },
 "nbformat": 4,
 "nbformat_minor": 5
}
