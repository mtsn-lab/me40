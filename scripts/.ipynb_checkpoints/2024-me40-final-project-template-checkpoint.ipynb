{
 "cells": [
  {
   "cell_type": "markdown",
   "id": "4754daba-1f40-45ff-9ac0-48219a8fa9d0",
   "metadata": {},
   "source": [
    "# Title:....\n",
    "\n",
    "Date: 31 Dec 2099\n",
    "\n",
    "Group member 1:\n",
    "- Name: Last Name, First Name\n",
    "- University ID: \n",
    "- Email: \n",
    "\n",
    "Group member 2:\n",
    "- Name: Last Name, First Name\n",
    "- University ID: \n",
    "- Email: "
   ]
  },
  {
   "cell_type": "markdown",
   "id": "27b7727a-c449-4357-af13-ac2e7af7e7d0",
   "metadata": {},
   "source": [
    "-------\n",
    "\n",
    "## Summary and Problem Statement (200 words maximum)\n",
    "Driven by the dual needs to reduce the use of refrigerants with high global warming potential and increase the COP of refrigerators to reduce electricity consumption, scientists have looked at developing solid-state refrigerators to replace convential vapor-compression systems.\n",
    "\n",
    "One class of materials used for this purpose are called elastocalorics. For example, if you take a rubberband and quickly stretch it, it heats up. The reason for that elastocaloric effect is that upon rapid stretching, the entropy associated with the rubber molecules, which are now more odered, is lowered. Because you do this process rapidly, it is quasi-adiabatic, hence the heating effect. Subsequent relaxation will cool it.\n",
    "\n",
    "Can you design a refrigeration cycle in which rubber is repeatedly stretched and released with heat being exchanged with the environment?"
   ]
  },
  {
   "cell_type": "markdown",
   "id": "0e484ac0-1941-44f8-8d9f-e2d8c28e8acc",
   "metadata": {},
   "source": [
    "-------\n",
    "\n",
    "## Background information (250 words maximum)\n",
    "Solid-state refrigeration represents a transformative approach to cooling technologies. Unlike traditional refrigeration systems that rely on vapor-compression cycles using gaseous refrigerants, solid-state refrigeration utilizes solid materials and physical mechanisms to achieve cooling effects. This technology has gained attention due to its potential for higher energy efficiency, environmental friendliness, and the absence of moving parts, which could lead to quieter and more reliable systems. Elastocaloric material (ECMs) are at the core of solid-state refrigeration technology. These materials exhibit a significant temperature change when subjected to mechanical stress, such as stretching or compression.\n",
    "\n",
    "#### Nitinol: A Prime Example (is rubber a good choice?)\n",
    "- **Composition:** Nickel-Titanium (NiTi) alloys, known as Nitinol, are prominent elastocaloric materials.\n",
    "- **Functioning:** When mechanically deformed, Nitinol heats up; upon release of the stress, it cools down. This reversible thermal effect is harnessed in a refrigeration cycle.\n",
    "\n",
    "#### Advantages of Elastocaloric Materials:\n",
    "1. **No Greenhouse Gases:** They eliminate the need for traditional refrigerants.\n",
    "2. **High Efficiency:** Capable of achieving significant temperature changes with small mechanical forces.\n",
    "3. **Innovative Design:** Enables the development of compact and modular refrigeration units.\n",
    "\n",
    "#### Challenges and Future Prospects\n",
    "While solid-state refrigeration using elastocaloric materials offers numerous advantages, several challenges need to be addressed:\n",
    "- **Material Fatigue:** Repeated mechanical stress can lead to material degradation.\n",
    "- **Cost and Scalability:** Developing cost-effective and scalable systems for commercial use.\n",
    "- **System Design:** Designing systems that efficiently harness the elastocaloric effect for practical applications."
   ]
  },
  {
   "cell_type": "markdown",
   "id": "84a3a063-9b44-4abe-bc2f-9d4d5aa1a293",
   "metadata": {},
   "source": [
    "-------\n",
    "\n",
    "## Modeling the Thermodynamic Process\n",
    "\n"
   ]
  },
  {
   "cell_type": "code",
   "execution_count": 2,
   "id": "ca63d327-cac4-41ac-ab9a-a2da302926f4",
   "metadata": {},
   "outputs": [
    {
     "name": "stdout",
     "output_type": "stream",
     "text": [
      "Requirement already satisfied: sympy in /srv/conda/lib/python3.11/site-packages (1.8)\n",
      "Requirement already satisfied: mpmath>=0.19 in /srv/conda/lib/python3.11/site-packages (from sympy) (1.3.0)\n",
      "Requirement already satisfied: CoolProp in /srv/conda/lib/python3.11/site-packages (6.6.0)\n"
     ]
    }
   ],
   "source": [
    "import numpy as np\n",
    "import matplotlib.pyplot as plt\n",
    "from scipy.interpolate import interp1d\n",
    "!pip3 install sympy\n",
    "import sympy as sp\n",
    "!pip3 install CoolProp\n",
    "from CoolProp.CoolProp import PropsSI"
   ]
  },
  {
   "cell_type": "markdown",
   "id": "ff4f1ad2-f6ab-4e69-9c22-bdff39dcee3c",
   "metadata": {},
   "source": [
    "1-2: Adiabatic Stretching: The material is stretched which causes the temperature of the material to increase due to the work being done on it. This is done without any heat exchange with the environment. By the end of this process, the material reaches the room temp (21°C)\n",
    "\n",
    "2-3: Heat Removal: The material will heat up to the higher temperature achieved after stretching and is allowed to reject heat to the environment until it returns to room temperature.\n",
    "\n",
    "3-4: Adiabatic Compression: The material is compressed which causes the temperature of the material to decrease. There is no heat exchange with the environment. By the end of adiabatic compression, the material reaches the lower temperature desired for the fridge interior (let's assume 10°C).\n",
    "\n",
    "4-1: Isothermal Heat Rejection: Heat is then transferred to the material cooling the refrigerator. The final temperature should be the starting temperature for state 1."
   ]
  },
  {
   "cell_type": "markdown",
   "id": "df7f481e-89d5-4fe9-9a28-aae1462ba938",
   "metadata": {},
   "source": [
    "#### Process 1-2\n",
    "\n",
    "We are given adiabatic temperature change can be estimated as:\n",
    "$$\n",
    "\\Delta T_{\\text{adiabatic}} \\approx -\\frac{T}{\\rho c} \\Delta S_{\\text{isothermal}}\n",
    "$$\n",
    "\n",
    "We are also given isothermal entropy change between initial and final stress to be estimated as:\n",
    "\n",
    "$$\n",
    "\\Delta s_{\\text{isothermal}} = -\\frac{1}{\\rho} \\left( \\frac{\\partial \\varepsilon}{\\partial T} \\right)_\\sigma \\Delta  \\sigma\n",
    "$$\n",
    "\n",
    "from our useful equations list, we also know that $\\alpha$ can be re-written as\n",
    "$$\n",
    "\\left( \\frac{\\partial \\varepsilon}{\\partial T} \\right)_\\sigma = \\alpha\n",
    "$$\n",
    "\n",
    "where $\\alpha$ is the coefficient of linear thermal expansion. Rearranging yields:\n",
    "$$\n",
    "\\Delta T_{\\text{adiabatic}} \\approx \\frac{T}{\\rho^2 c}\\alpha \\Delta \\sigma\n",
    "$$\n",
    "\n",
    "We will assume some values for the constants. "
   ]
  },
  {
   "cell_type": "markdown",
   "id": "2b813ff4-b98b-4a1d-b8f4-a1e8a5a8d095",
   "metadata": {},
   "source": [
    "For rubber and other elastocaloric materials, the work done on the system is also related to the stress and strain put on the material. Stress $\\sigma $ is the force per unit area, and strain $\\epsilon$ is the change in length divided by the original length. The work done can also be expressed as the area under the stress-strain curve for the material:\n",
    "\n",
    "$$\n",
    "W_{\\text{in}}= \\int_{\\epsilon_1}^{\\epsilon_2} \\sigma(\\epsilon) \\, d\\epsilon\n",
    "$$\n",
    "\n",
    "where $\\sigma(\\epsilon)$ is the stress as a function of strain $ \\epsilon$, and $\\epsilon_1$ and $\\epsilon_2$ are the initial and final strains, respectively. Note $W_{\\text{in}}$ is the work done per unit volume\n",
    "\n",
    "... some details about the strain applied, etc. "
   ]
  },
  {
   "cell_type": "code",
   "execution_count": 4,
   "id": "931e7bf5-6c16-48b1-adff-393cc2395076",
   "metadata": {},
   "outputs": [],
   "source": [
    "alpha = 0.000666 # Coefficient of linear thermal expansion (1/K)\n",
    "rho = 930 # Density of rubber (kg/m^3)\n",
    "c = 450 # Specific heat capacity of rubber (J/kg*K)\n",
    "V = 0.5 # Volume of rubber (m^3)\n",
    "m = rho * V # Mass of rubber block"
   ]
  },
  {
   "cell_type": "code",
   "execution_count": 6,
   "id": "f3ee5105-fe80-4f2e-87c4-7458dad4d5fd",
   "metadata": {},
   "outputs": [
    {
     "name": "stdout",
     "output_type": "stream",
     "text": [
      "We need to apply a stress of 11351422939.803658 Pa/kg\n"
     ]
    }
   ],
   "source": [
    "Delta_T_ad = 11  \n",
    "T_initial = 10 + 273.15\n",
    "Delta_sigma  = Delta_T_ad * rho**2 * c / (alpha * T_initial) * V # K * kg2/m6 * (kgm2/s2)/kgK / (1/K * K * kg) * m3 = kg/ms2\n",
    "print(f\"We need to apply a stress of {Delta_sigma} Pa/kg\")"
   ]
  },
  {
   "cell_type": "code",
   "execution_count": 7,
   "id": "bce09ac6-b402-4782-b0d5-b92c92d4539e",
   "metadata": {},
   "outputs": [
    {
     "name": "stdout",
     "output_type": "stream",
     "text": [
      "2301750.0\n"
     ]
    }
   ],
   "source": [
    "Win = Delta_T_ad * c * m\n",
    "print(Win)"
   ]
  },
  {
   "cell_type": "markdown",
   "id": "08855aed-5a59-40db-91a3-f993716f83c3",
   "metadata": {},
   "source": [
    "#### Process 3-4\n",
    "\n",
    "Determine the heat transfer into the elastocaloric material..."
   ]
  },
  {
   "cell_type": "code",
   "execution_count": 10,
   "id": "fa791f66-31c5-49f6-b937-9ec84a715d59",
   "metadata": {},
   "outputs": [],
   "source": [
    "# need to define the Q_in.... from the cold side... difference in min temp and the temp allowed to warm up to at state 1. \n",
    "# Q = m * c * Delta_T_ad # kg * (kgm2/s2)/kgK * K = kgm2/s2\n",
    "# print(Q)"
   ]
  },
  {
   "cell_type": "markdown",
   "id": "801f06b8-0656-47ad-a717-3a09eeacf7a4",
   "metadata": {},
   "source": [
    "#### Determining the COP\n",
    "\n",
    "The COP is then...."
   ]
  },
  {
   "cell_type": "code",
   "execution_count": 9,
   "id": "429a43a4-ec2c-41b5-9e37-a6b996949bac",
   "metadata": {},
   "outputs": [],
   "source": [
    "# COP_m = Q / W_in\n",
    "# print(f'We get a final COP of %.3f.' % COP_m)"
   ]
  },
  {
   "cell_type": "markdown",
   "id": "20f81f7c-ad20-4ff0-945b-9904837f2d64",
   "metadata": {},
   "source": [
    "-----\n",
    "\n",
    "## Improving the performance\n",
    "\n",
    "One way to improve the performance is to make this change..."
   ]
  },
  {
   "cell_type": "code",
   "execution_count": null,
   "id": "89506042-dc82-422d-be9c-98349ac2d5a8",
   "metadata": {},
   "outputs": [],
   "source": [
    "# some code..."
   ]
  },
  {
   "cell_type": "markdown",
   "id": "b42c55a9-e746-457c-b6ec-646fc8f07d41",
   "metadata": {},
   "source": [
    "----\n",
    "\n",
    "## Conclusions (150 words max)\n",
    "\n",
    "Here are our conclusions..."
   ]
  },
  {
   "cell_type": "code",
   "execution_count": null,
   "id": "0944b43f-bc36-4bb6-b424-63b22418346c",
   "metadata": {},
   "outputs": [],
   "source": []
  }
 ],
 "metadata": {
  "kernelspec": {
   "display_name": "Python 3 (ipykernel)",
   "language": "python",
   "name": "python3"
  },
  "language_info": {
   "codemirror_mode": {
    "name": "ipython",
    "version": 3
   },
   "file_extension": ".py",
   "mimetype": "text/x-python",
   "name": "python",
   "nbconvert_exporter": "python",
   "pygments_lexer": "ipython3",
   "version": "3.11.10"
  }
 },
 "nbformat": 4,
 "nbformat_minor": 5
}
