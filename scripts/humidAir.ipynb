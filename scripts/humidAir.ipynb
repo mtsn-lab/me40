{
 "cells": [
  {
   "cell_type": "markdown",
   "id": "e0dd47a0-7d03-434b-9bf0-24f2a5ab6c5a",
   "metadata": {},
   "source": [
    "# Humid air\n",
    "\n",
    "Here we will analyze the properties of humid air. For this we will work with the package [pyfluids](http://www.coolprop.org/coolprop/wrappers/Python/index.html), which is a third-party wrapper for [CoolProp](http://www.coolprop.org). Here I am using problem 14-41 from Cengels and Bowles, Thermodynamics and engineering approach, 9th Edition"
   ]
  },
  {
   "cell_type": "code",
   "execution_count": 3,
   "id": "8bdb1ce5-e30d-45a9-b7ab-d5f09ca7cee4",
   "metadata": {},
   "outputs": [
    {
     "name": "stdout",
     "output_type": "stream",
     "text": [
      "Collecting pyfluids\n",
      "  Using cached pyfluids-2.6.0-py3-none-any.whl (23 kB)\n",
      "Collecting CoolProp==6.6.0\n",
      "  Using cached CoolProp-6.6.0-cp311-cp311-manylinux_2_17_x86_64.manylinux2014_x86_64.whl (7.3 MB)\n",
      "Requirement already satisfied: tomli==2.0.1 in /srv/conda/lib/python3.11/site-packages (from pyfluids) (2.0.1)\n",
      "Installing collected packages: CoolProp, pyfluids\n",
      "Successfully installed CoolProp-6.6.0 pyfluids-2.6.0\n"
     ]
    }
   ],
   "source": [
    "!pip install pyfluids"
   ]
  },
  {
   "cell_type": "markdown",
   "id": "a9f30c69-5387-4027-9b2f-63cb1ae1538d",
   "metadata": {},
   "source": [
    "Here are the classes:\n",
    "- Fluid class - an implementation of pure fluids and binary mixtures.\n",
    "- Mixture class - an implementation of mixtures with pure fluids components.\n",
    "- FluidsList enum - the list of all available fluids.\n",
    "- Input class - the inputs for the Fluid and Mixture classes.\n",
    "- HumidAir class - an implementation of real humid air.\n",
    "- InputHumidAir class - the inputs for the HumidAir class.\n",
    "\n",
    "The units are in SI unless otherwise stated:\n",
    "- temperature unit - degree Celsius (°C);\n",
    "- decimal fraction unit - percent (%, from 0 to 100).\n",
    "\n",
    "We will use HumidAir and InputHumidAir:"
   ]
  },
  {
   "cell_type": "code",
   "execution_count": 4,
   "id": "add91039-eadb-45af-9ae6-934be0a84502",
   "metadata": {},
   "outputs": [],
   "source": [
    "from pyfluids import HumidAir, InputHumidAir"
   ]
  },
  {
   "cell_type": "code",
   "execution_count": 5,
   "id": "e5d4cbd4-1501-421e-903c-61af6e4b1352",
   "metadata": {},
   "outputs": [],
   "source": [
    "# Define your properties. \n",
    "pAir_Pa = 101325 # Pa\n",
    "Tair_C = 24 # deg C\n",
    "# RH = 50 # 0 to 100, relative humidity\n",
    "Twb_C = 17"
   ]
  },
  {
   "cell_type": "markdown",
   "id": "d04ccef7-de6c-411a-8a4f-c2a4d98817df",
   "metadata": {},
   "source": [
    "Similar to IAPWS, we can then define the class for that state, which can give us every property we need:"
   ]
  },
  {
   "cell_type": "code",
   "execution_count": 6,
   "id": "6c3f1f65-0a22-4155-9a1f-55babaac85a0",
   "metadata": {},
   "outputs": [],
   "source": [
    "humid_air = HumidAir().with_state(\n",
    "    InputHumidAir.pressure(pAir_Pa),\n",
    "    InputHumidAir.temperature(Tair_C),\n",
    "    #InputHumidAir.relative_humidity(RH),\n",
    "    InputHumidAir.wet_bulb_temperature(Twb_C),\n",
    ")"
   ]
  },
  {
   "cell_type": "markdown",
   "id": "66f87366-15b4-4a91-a9ec-2afb04b098ac",
   "metadata": {},
   "source": [
    "We can get a property from that state by using the \"dot\" notation. \n",
    "\n",
    "Here's a list of the other properties you can get using \"HumidAir\":\n",
    "- compressibility - compressibility factor (dimensionless).\n",
    "- conductivity - thermal conductivity (W/m/K).\n",
    "- density - mass density per humid air unit (kg/m3).\n",
    "- dew_temperature - dew-point temperature (by default, °C; see how to change it).\n",
    "- dynamic_viscosity - dynamic viscosity (Pa*s).\n",
    "- enthalpy - mass specific enthalpy per humid air (J/kg).\n",
    "- entropy - mass specific entropy per humid air (J/kg/K).\n",
    "- humidity - absolute humidity ratio (kg/kg d.a.).\n",
    "- kinematic_viscosity - kinematic viscosity (m2/s).\n",
    "- partial_pressure - partial pressure of water vapor (Pa).\n",
    "- prandtl - Prandtl number (dimensionless).\n",
    "- pressure - absolute pressure (Pa).\n",
    "- relative_humidity - relative humidity ratio (by default, %; see how to change it).\n",
    "- specific_heat - mass specific constant pressure specific heat per humid air (J/kg/K).\n",
    "- specific_volume - mass specific volume per humid air unit (m3/kg).\n",
    "- temperature - dry-bulb temperature (by default, °C; see how to change it).\n",
    "- wet_bulb_temperature - wet-bulb temperature (by default, °C; see how to change it).\n",
    "- units_system - configured units system (enum).\n",
    "\n",
    "We would like to determine the (a) specific (absolute) humidity (b) enthalpy (in kJ/kg dry air) (c) relative humidity (d) the dew-point temperature, and (e) the specific volume of the air, in m$^3$/kg dry air."
   ]
  },
  {
   "cell_type": "code",
   "execution_count": 8,
   "id": "642626c2-3280-46c3-b261-6d9a1ab79110",
   "metadata": {},
   "outputs": [
    {
     "name": "stdout",
     "output_type": "stream",
     "text": [
      "(a) Absolute (specific) humidity: 0.00927 kg/kg.\n",
      "(b) Enthalpy: 47283.4 J/kg.\n",
      "(c) Relative humidity: 49.6 %.\n",
      "(d) Dew-point temperature: 12.8 deg C.\n",
      "(e) Specific volume: 0.8 m3/kg.\n"
     ]
    }
   ],
   "source": [
    "enthalpy_JperKg = humid_air.enthalpy\n",
    "RH = humid_air.relative_humidity\n",
    "Tdew_C = humid_air.dew_temperature\n",
    "v_m3perkg = humid_air.specific_volume\n",
    "\n",
    "print('(a) Absolute (specific) humidity: {0:1.5f} kg/kg.'.format(humid_air.humidity))\n",
    "print('(b) Enthalpy: {0:1.1f} J/kg.'.format(enthalpy_JperKg))\n",
    "print('(c) Relative humidity: {0:1.1f} %.'.format(RH))\n",
    "print('(d) Dew-point temperature: {0:1.1f} deg C.'.format(Tdew_C))\n",
    "print('(e) Specific volume: {0:1.3f} m3/kg.'.format(v_m3perkg))"
   ]
  }
 ],
 "metadata": {
  "kernelspec": {
   "display_name": "Python 3 (ipykernel)",
   "language": "python",
   "name": "python3"
  },
  "language_info": {
   "codemirror_mode": {
    "name": "ipython",
    "version": 3
   },
   "file_extension": ".py",
   "mimetype": "text/x-python",
   "name": "python",
   "nbconvert_exporter": "python",
   "pygments_lexer": "ipython3",
   "version": "3.11.9"
  }
 },
 "nbformat": 4,
 "nbformat_minor": 5
}
