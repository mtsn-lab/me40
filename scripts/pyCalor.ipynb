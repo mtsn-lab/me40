{
 "cells": [
  {
   "cell_type": "markdown",
   "id": "2e71a92b-1bb3-475c-ad63-7a3c03732476",
   "metadata": {},
   "source": [
    "# pyCalor"
   ]
  },
  {
   "cell_type": "code",
   "execution_count": 5,
   "id": "d518d1a5-2c06-4783-994b-3f15d601a113",
   "metadata": {},
   "outputs": [
    {
     "name": "stdout",
     "output_type": "stream",
     "text": [
      "Requirement already satisfied: pyCalor in /srv/conda/lib/python3.11/site-packages (1.0.5)\n",
      "Requirement already satisfied: CoolProp in /srv/conda/lib/python3.11/site-packages (from pyCalor) (6.8.0)\n",
      "Requirement already satisfied: igraph in /srv/conda/lib/python3.11/site-packages (from pyCalor) (0.11.9)\n",
      "Requirement already satisfied: texttable>=1.6.2 in /srv/conda/lib/python3.11/site-packages (from igraph->pyCalor) (1.7.0)\n"
     ]
    }
   ],
   "source": [
    "!pip install pyCalor"
   ]
  },
  {
   "cell_type": "markdown",
   "id": "4540121e-c9a8-456e-8978-df7d65bb3b14",
   "metadata": {},
   "source": [
    "Instead of using the \"tables\" in the back of your textbook to determine thermodynamic properties, here we will use a Python module called [`pyCalor`](https://pypi.org/project/pyCalor/).\n",
    "\n",
    "This Python module was developed in the Department of Mechanical Engineering at the University of California, Berkeley. It is used for teaching undergraduate thermodynamics (ME40).\n",
    "\n",
    "The software package contains classes `state` and `process`. The following is the description of their use. You can also get the built-in information by typing the following statements in the Python command line:  \n",
    "\n",
    "`from pyCalor import thermo as th`\n",
    "\n",
    "`print(th.state.__doc__)`   \n",
    "\n",
    "`print(th.process.__doc__)`  "
   ]
  },
  {
   "cell_type": "code",
   "execution_count": 7,
   "id": "6fda1db8-32ea-460f-b20b-3df9b877c742",
   "metadata": {},
   "outputs": [],
   "source": [
    "from pyCalor import thermo as th"
   ]
  },
  {
   "cell_type": "code",
   "execution_count": 8,
   "id": "6096a511-f0e1-4790-af4a-a0b43c7ee408",
   "metadata": {},
   "outputs": [
    {
     "name": "stdout",
     "output_type": "stream",
     "text": [
      "stateObject = state(fluidName, property1=value1, property2, value2, name=\"A\")\n",
      "    \n",
      "    fluidName = 'water, 'r134a', 'air', ''nitrogen', etc.\n",
      "    proporty1 and property2 are two independent intensive properties\n",
      "    value1 and value2 are propery values (in base units; see >>> th.state.units)\n",
      "    \n",
      "    Examples:\n",
      "        >>> import thermo as th\n",
      "        >>> th.state.units\n",
      "        >>> st1 = th.state('water', p=(1,'bar'), v=0.1, name=\"1\")\n",
      "        >>> st1.plot(\"Pv\")\n",
      "        >>> st2 = th.state('R134a', x=1, t=300, name=\"B\")\n",
      "        >>> st2.plot(\"Ts\",isoProp=\"v\")    \n",
      "        >>> st3 = th.state('air', p=(1,'Mpa'), t=(10,'c'))\n",
      "        >>> st3.name = \"2a\"\n",
      "    \n"
     ]
    }
   ],
   "source": [
    "print(th.state.__doc__)"
   ]
  },
  {
   "cell_type": "code",
   "execution_count": 9,
   "id": "52f5e364-d43b-4b1c-8e1b-1a93e3b3c9ee",
   "metadata": {},
   "outputs": [
    {
     "name": "stdout",
     "output_type": "stream",
     "text": [
      "pr = process([(state1,state2),(state2,state3),...])\n",
      "    \n",
      "    Examples:\n",
      "        >>> import thermo as th\n",
      "        >>> st1 = th.state('water', p=( 1,'bar'), x=0, name=\"A\")\n",
      "        >>> st2 = th.state('water', p=(20,'bar'), s=st1.s, name=\"B\")\n",
      "        >>> pr = process([st1,st2])\n",
      "        >>> pr.plot(\"pv\")\n",
      "        >>> st3 = th.state('water', p=(20,'bar'), x=1,name=\"C\")\n",
      "        >>> st4 = th.state('water', p=( 1,'bar'), s=st3.s, name=\"D\")\n",
      "        >>> pr2 = th.process([(st1,st2),(st2,st3),(st3,st4),(st4,st1)])\n",
      "        >>> pr2.plot(\"Ts\")\n",
      "    \n"
     ]
    }
   ],
   "source": [
    "print(th.process.__doc__)"
   ]
  },
  {
   "cell_type": "markdown",
   "id": "4a459928-e1ce-40ce-847f-f701fead95f9",
   "metadata": {},
   "source": [
    "## Class **state**  \n",
    "\n",
    "A call\n",
    "\n",
    "`from pyCalor import thermo as th`\n",
    "\n",
    "`st = th.state(substance, property1=value1, property2=value2, name=\"A\")`  \n",
    "\n",
    "creates an object of class `state`. Each such object contains the following fields:  \n",
    "\n",
    "\n",
    "| - | name | description |\n",
    "| :-----------: | :--------------: | :-------------------------: |\n",
    "| `st.p` | pressure | (in units of kPa)  |\n",
    "| `st.t` | temperature | (in units of K)  |\n",
    "| `st.v` | specific volume | (in units of m3/kg)  |\n",
    "| `st.u` | specific energy | (in units of kJ/kg)  |\n",
    "| `st.h` | specific enthalpy | (in units of kJ/kg)  |\n",
    "| `st.s` | specific entropy | (in units of kJ/kg K)  |\n",
    "| `st.x` | quality | (fraction)  |\n",
    "| `st.molW` | molecular weight | (in units of kg/kmol)  |\n",
    "| `st.R` | gas constant | (in units of kJ/kg K)  |\n",
    "| `st.substance` | 'water', 'air', 'nitrogen', ... | ()  |\n",
    "\n",
    "The property values are in the “base units”; they can be viewed by issuing a command:\n",
    "\n",
    "`state.units`\n",
    "\n",
    "Examples:"
   ]
  },
  {
   "cell_type": "code",
   "execution_count": 17,
   "id": "e3300431-687e-497d-95e5-d57e40e9af14",
   "metadata": {},
   "outputs": [],
   "source": [
    "from pyCalor import thermo as th\n",
    "import matplotlib.pyplot as plt"
   ]
  },
  {
   "cell_type": "code",
   "execution_count": 18,
   "id": "ea5bc9e7-abd9-4461-a852-cd6b738a59d1",
   "metadata": {},
   "outputs": [
    {
     "data": {
      "text/plain": [
       "{'T': 'K',\n",
       " 'P': 'kPa',\n",
       " 'v': 'm3/kg',\n",
       " 'u': 'kJ/kg',\n",
       " 'h': 'kJ/kg',\n",
       " 's': 'kJ/kg K',\n",
       " 'x': 'fraction'}"
      ]
     },
     "execution_count": 18,
     "metadata": {},
     "output_type": "execute_result"
    }
   ],
   "source": [
    "th.state.units"
   ]
  },
  {
   "cell_type": "code",
   "execution_count": 47,
   "id": "5c6a73f6-968e-4950-84a8-70af9441525c",
   "metadata": {},
   "outputs": [
    {
     "name": "stdout",
     "output_type": "stream",
     "text": [
      "['P', 'R', 'T', '__class__', '__delattr__', '__dict__', '__dir__', '__doc__', '__eq__', '__format__', '__ge__', '__getattribute__', '__getstate__', '__gt__', '__hash__', '__init__', '__init_subclass__', '__le__', '__lt__', '__module__', '__ne__', '__new__', '__reduce__', '__reduce_ex__', '__repr__', '__setattr__', '__sizeof__', '__str__', '__subclasshook__', '__weakref__', 'cp', 'cv', 'fluidName', 'fluidSet', 'h', 'molW', 'name', 'p', 'phase', 'phases', 'plot', 'propList', 'prop_array', 's', 't', 'u', 'units', 'v', 'x']\n"
     ]
    },
    {
     "data": {
      "text/plain": [
       "{'water': <CoolProp.CoolProp.AbstractState at 0x7c8d2c307eb0>,\n",
       " 'R134a': <CoolProp.CoolProp.AbstractState at 0x7c8cbdebd9f0>,\n",
       " 'air': <CoolProp.CoolProp.AbstractState at 0x7c8cbdebe7b0>}"
      ]
     },
     "execution_count": 47,
     "metadata": {},
     "output_type": "execute_result"
    }
   ],
   "source": [
    "st1 = th.state('water', p=(1,'bar'), v=0.1, name=\"1\")\n",
    "# st1.substance\n",
    "print(dir(st1))\n",
    "st1.fluidName\n",
    "st1.fluidSet"
   ]
  },
  {
   "cell_type": "code",
   "execution_count": 33,
   "id": "dc5b0830-0ba5-4b6e-bf73-dad8297f58a1",
   "metadata": {},
   "outputs": [
    {
     "ename": "AttributeError",
     "evalue": "'state' object has no attribute 'fluid'",
     "output_type": "error",
     "traceback": [
      "\u001b[31m---------------------------------------------------------------------------\u001b[39m",
      "\u001b[31mAttributeError\u001b[39m                            Traceback (most recent call last)",
      "\u001b[36mCell\u001b[39m\u001b[36m \u001b[39m\u001b[32mIn[33]\u001b[39m\u001b[32m, line 1\u001b[39m\n\u001b[32m----> \u001b[39m\u001b[32m1\u001b[39m \u001b[43mst1\u001b[49m\u001b[43m.\u001b[49m\u001b[43mplot\u001b[49m\u001b[43m(\u001b[49m\u001b[33;43m\"\u001b[39;49m\u001b[33;43mpv\u001b[39;49m\u001b[33;43m\"\u001b[39;49m\u001b[43m)\u001b[49m \u001b[38;5;66;03m# supported plots are: \"pv\",\"Ts\",\"ph\"\u001b[39;00m\n",
      "\u001b[36mFile \u001b[39m\u001b[32m/srv/conda/lib/python3.11/site-packages/pyCalor/thermo.py:116\u001b[39m, in \u001b[36mstate.plot\u001b[39m\u001b[34m(self, opt, isoProp)\u001b[39m\n\u001b[32m    115\u001b[39m \u001b[38;5;28;01mdef\u001b[39;00m\u001b[38;5;250m \u001b[39m\u001b[34mplot\u001b[39m(\u001b[38;5;28mself\u001b[39m, opt, isoProp=\u001b[33m'\u001b[39m\u001b[33m'\u001b[39m):\n\u001b[32m--> \u001b[39m\u001b[32m116\u001b[39m     \u001b[43mplots\u001b[49m\u001b[43m.\u001b[49m\u001b[43mplotState\u001b[49m\u001b[43m(\u001b[49m\u001b[38;5;28;43mself\u001b[39;49m\u001b[43m,\u001b[49m\u001b[43mopt\u001b[49m\u001b[43m,\u001b[49m\u001b[43misoProp\u001b[49m\u001b[43m)\u001b[49m\n",
      "\u001b[36mFile \u001b[39m\u001b[32m/srv/conda/lib/python3.11/site-packages/pyCalor/plots.py:30\u001b[39m, in \u001b[36mplotState\u001b[39m\u001b[34m(st, opt, isoProp)\u001b[39m\n\u001b[32m     28\u001b[39m \u001b[38;5;250m\u001b[39m\u001b[33;03m\"\"\" opt: 'Ts', 'Pv, 'Ph', 'PD''  \"\"\"\u001b[39;00m\n\u001b[32m     29\u001b[39m flName = st.fluidName\n\u001b[32m---> \u001b[39m\u001b[32m30\u001b[39m fluid = \u001b[43mst\u001b[49m\u001b[43m.\u001b[49m\u001b[43mfluid\u001b[49m\n\u001b[32m     31\u001b[39m \u001b[38;5;66;03m# if not (flName.lower()==\"water\" or flName.startswith(\"R\" or \"r\")\u001b[39;00m\n\u001b[32m     32\u001b[39m \u001b[38;5;66;03m#         or flName.lower()==\"ammonia\"):\u001b[39;00m\n\u001b[32m     33\u001b[39m \u001b[38;5;28;01mif\u001b[39;00m fluid.T_crtical() < \u001b[32m200\u001b[39m:\n",
      "\u001b[31mAttributeError\u001b[39m: 'state' object has no attribute 'fluid'"
     ]
    }
   ],
   "source": [
    "st1.plot(\"pv\") # supported plots are: \"pv\",\"Ts\",\"ph\""
   ]
  },
  {
   "cell_type": "code",
   "execution_count": 29,
   "id": "0df1cd78-d383-4522-8025-2c207f342221",
   "metadata": {},
   "outputs": [
    {
     "ename": "AttributeError",
     "evalue": "'state' object has no attribute 'fluid'",
     "output_type": "error",
     "traceback": [
      "\u001b[31m---------------------------------------------------------------------------\u001b[39m",
      "\u001b[31mAttributeError\u001b[39m                            Traceback (most recent call last)",
      "\u001b[36mCell\u001b[39m\u001b[36m \u001b[39m\u001b[32mIn[29]\u001b[39m\u001b[32m, line 2\u001b[39m\n\u001b[32m      1\u001b[39m st2 = th.state(\u001b[33m'\u001b[39m\u001b[33mR134a\u001b[39m\u001b[33m'\u001b[39m, x=\u001b[32m1\u001b[39m, t=\u001b[32m300\u001b[39m, name=\u001b[33m\"\u001b[39m\u001b[33mB\u001b[39m\u001b[33m\"\u001b[39m)\n\u001b[32m----> \u001b[39m\u001b[32m2\u001b[39m \u001b[43mst2\u001b[49m\u001b[43m.\u001b[49m\u001b[43mplot\u001b[49m\u001b[43m(\u001b[49m\u001b[33;43m\"\u001b[39;49m\u001b[33;43mTs\u001b[39;49m\u001b[33;43m\"\u001b[39;49m\u001b[43m,\u001b[49m\u001b[43m \u001b[49m\u001b[43misoProp\u001b[49m\u001b[43m=\u001b[49m\u001b[33;43m\"\u001b[39;49m\u001b[33;43mv\u001b[39;49m\u001b[33;43m\"\u001b[39;49m\u001b[43m)\u001b[49m\n",
      "\u001b[36mFile \u001b[39m\u001b[32m/srv/conda/lib/python3.11/site-packages/pyCalor/thermo.py:116\u001b[39m, in \u001b[36mstate.plot\u001b[39m\u001b[34m(self, opt, isoProp)\u001b[39m\n\u001b[32m    115\u001b[39m \u001b[38;5;28;01mdef\u001b[39;00m\u001b[38;5;250m \u001b[39m\u001b[34mplot\u001b[39m(\u001b[38;5;28mself\u001b[39m, opt, isoProp=\u001b[33m'\u001b[39m\u001b[33m'\u001b[39m):\n\u001b[32m--> \u001b[39m\u001b[32m116\u001b[39m     \u001b[43mplots\u001b[49m\u001b[43m.\u001b[49m\u001b[43mplotState\u001b[49m\u001b[43m(\u001b[49m\u001b[38;5;28;43mself\u001b[39;49m\u001b[43m,\u001b[49m\u001b[43mopt\u001b[49m\u001b[43m,\u001b[49m\u001b[43misoProp\u001b[49m\u001b[43m)\u001b[49m\n",
      "\u001b[36mFile \u001b[39m\u001b[32m/srv/conda/lib/python3.11/site-packages/pyCalor/plots.py:30\u001b[39m, in \u001b[36mplotState\u001b[39m\u001b[34m(st, opt, isoProp)\u001b[39m\n\u001b[32m     28\u001b[39m \u001b[38;5;250m\u001b[39m\u001b[33;03m\"\"\" opt: 'Ts', 'Pv, 'Ph', 'PD''  \"\"\"\u001b[39;00m\n\u001b[32m     29\u001b[39m flName = st.fluidName\n\u001b[32m---> \u001b[39m\u001b[32m30\u001b[39m fluid = \u001b[43mst\u001b[49m\u001b[43m.\u001b[49m\u001b[43mfluid\u001b[49m\n\u001b[32m     31\u001b[39m \u001b[38;5;66;03m# if not (flName.lower()==\"water\" or flName.startswith(\"R\" or \"r\")\u001b[39;00m\n\u001b[32m     32\u001b[39m \u001b[38;5;66;03m#         or flName.lower()==\"ammonia\"):\u001b[39;00m\n\u001b[32m     33\u001b[39m \u001b[38;5;28;01mif\u001b[39;00m fluid.T_crtical() < \u001b[32m200\u001b[39m:\n",
      "\u001b[31mAttributeError\u001b[39m: 'state' object has no attribute 'fluid'"
     ]
    }
   ],
   "source": [
    "st2 = th.state('R134a', x=1, t=300, name=\"B\")\n",
    "st2.plot(\"Ts\", isoProp=\"v\")"
   ]
  },
  {
   "cell_type": "code",
   "execution_count": 21,
   "id": "c17e8779-adcc-4c12-86a2-9e3061009737",
   "metadata": {},
   "outputs": [],
   "source": [
    "st3 = th.state('air', p=(1,'Mpa'), t=(10,'c'))\n",
    "st3.name = \"2a\""
   ]
  },
  {
   "cell_type": "markdown",
   "id": "45ccba79-657b-4dbd-a234-c61a248639e5",
   "metadata": {},
   "source": [
    "This information can also be viewed in the programming environment; \n",
    "\n",
    "`th.state.__doc__`"
   ]
  },
  {
   "cell_type": "code",
   "execution_count": 22,
   "id": "c848f6ed-6dfc-440f-9585-99f535fd8e48",
   "metadata": {},
   "outputs": [
    {
     "data": {
      "text/plain": [
       "'stateObject = state(fluidName, property1=value1, property2, value2, name=\"A\")\\n    \\n    fluidName = \\'water, \\'r134a\\', \\'air\\', \\'\\'nitrogen\\', etc.\\n    proporty1 and property2 are two independent intensive properties\\n    value1 and value2 are propery values (in base units; see >>> th.state.units)\\n    \\n    Examples:\\n        >>> import thermo as th\\n        >>> th.state.units\\n        >>> st1 = th.state(\\'water\\', p=(1,\\'bar\\'), v=0.1, name=\"1\")\\n        >>> st1.plot(\"Pv\")\\n        >>> st2 = th.state(\\'R134a\\', x=1, t=300, name=\"B\")\\n        >>> st2.plot(\"Ts\",isoProp=\"v\")    \\n        >>> st3 = th.state(\\'air\\', p=(1,\\'Mpa\\'), t=(10,\\'c\\'))\\n        >>> st3.name = \"2a\"\\n    '"
      ]
     },
     "execution_count": 22,
     "metadata": {},
     "output_type": "execute_result"
    }
   ],
   "source": [
    "th.state.__doc__"
   ]
  },
  {
   "cell_type": "markdown",
   "id": "6ecce040-9f63-4d72-acd0-d2a73e4fa1f3",
   "metadata": {},
   "source": [
    "## Class process\n",
    "\n",
    "A call\n",
    "\n",
    "`from pyCalor import thermo as th`\n",
    "\n",
    "`pr = th.process([(state1,state2),(state2,state3),...])`\n",
    "\n",
    "creates an object of class process. An object of this class represent a simple process, from `st1` to `st2`,\n",
    "\n",
    "`pr = th.process(st1,st2)`\n",
    "\n",
    "a simple cyclic process,\n",
    "\n",
    "`pr = th.process([(st1,st2),(st2,st3),(st3,st4),(st4,st1)])`,\n",
    "\n",
    "which can also be created as \n",
    "\n",
    "`pr = th.process(st1,st2,st3,st4,st1)`,\n",
    "\n",
    "or any complex process, but for a single working fluid.  \n",
    "\n",
    "You can access process object properties by the following calls\n",
    "\n",
    "|  |  description |\n",
    "| :----------- | :--------------: |\n",
    "| `pr.StateList` | returns a list of `state` objects| \n",
    "| `pr.isoProp(st1,st2)` | returns a dictionary of `{isoProperty: value,...}` for process `st1` &rarr; `st2` |\n",
    "\n",
    "Once you created process object `pr`, you can display its states on a thermodynamic diagram via  \n",
    "\n",
    "`pr.plot('ts')`   \n",
    "\n",
    "to display process `pr` on a *T-s* diagram; you may likewise to make such plot in other coordinates, like `'pv'`, `'ph'`, etc.  \n",
    "\n",
    "\n",
    "\n",
    "\n"
   ]
  },
  {
   "cell_type": "code",
   "execution_count": 23,
   "id": "29075515-c3cd-47ff-8f7a-1bd75b49d36a",
   "metadata": {},
   "outputs": [
    {
     "data": {
      "image/png": "[encoded data removed]",
      "text/plain": [
       "<Figure size 640x480 with 1 Axes>"
      ]
     },
     "metadata": {},
     "output_type": "display_data"
    }
   ],
   "source": [
    "st1 = th.state('water', p=( 1,'bar'), x=0, name=\"A\")\n",
    "st2 = th.state('water', p=(20,'bar'), s=st1.s,name=\"B\")\n",
    "st3 = th.state('water', p=(20,'bar'), x=1,name=\"C\")\n",
    "st4 = th.state('water', p=( 1,'bar'), s=st3.s, name=\"D\")\n",
    "pr = th.process([(st1,st2),(st2,st3),(st3,st4),(st4,st1)])\n",
    "pr.plot(\"pv\")"
   ]
  },
  {
   "cell_type": "code",
   "execution_count": 24,
   "id": "467cc9f6-26e9-4dd7-b769-a4eb0a029e1a",
   "metadata": {},
   "outputs": [
    {
     "data": {
      "image/png": "[encoded data removed]",
      "text/plain": [
       "<Figure size 640x480 with 1 Axes>"
      ]
     },
     "metadata": {},
     "output_type": "display_data"
    }
   ],
   "source": [
    "plt.figure\n",
    "sub = 'air'\n",
    "st5 = th.state(sub, p=(1,'bar'), t=300, name=\"1\")\n",
    "st6 = th.state(sub, p=(2,'Mpa'), s=st5.s, name=\"2\")\n",
    "st7 = th.state(sub, p=(2,'Mpa'), t=1600, name=\"3\")\n",
    "st8 = th.state(sub, p=(1,'bar'), s=st7.s)\n",
    "st8.name = \"4\"\n",
    "pr = th.process([st5, st6, st7, st8, st5])\n",
    "pr.plot(\"ts\")"
   ]
  },
  {
   "cell_type": "code",
   "execution_count": null,
   "id": "4484320d-544a-4cf9-bede-e94ba7cb99cf",
   "metadata": {},
   "outputs": [],
   "source": []
  }
 ],
 "metadata": {
  "kernelspec": {
   "display_name": "Python 3 (ipykernel)",
   "language": "python",
   "name": "python3"
  },
  "language_info": {
   "codemirror_mode": {
    "name": "ipython",
    "version": 3
   },
   "file_extension": ".py",
   "mimetype": "text/x-python",
   "name": "python",
   "nbconvert_exporter": "python",
   "pygments_lexer": "ipython3",
   "version": "3.11.13"
  }
 },
 "nbformat": 4,
 "nbformat_minor": 5
}
