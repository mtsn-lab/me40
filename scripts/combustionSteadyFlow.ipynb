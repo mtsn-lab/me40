{
 "cells": [
  {
   "cell_type": "markdown",
   "id": "f127682f-cd02-4952-a989-82e1ecc1e040",
   "metadata": {},
   "source": [
    "![combustion](figure-combustion.png)"
   ]
  },
  {
   "cell_type": "code",
   "execution_count": 35,
   "id": "84b5274e-9151-4d74-8eff-09767288575d",
   "metadata": {},
   "outputs": [],
   "source": [
    "mdot_kgPerMin = 0.05\n",
    "mdot_kgPerS = mdot_kgPerMin/60\n",
    "T_C3H8_C = 25\n",
    "T_C3H8_K = T_C3H8_C +273.15\n",
    "\n",
    "T_air_C = 7\n",
    "T_air_K = T_air_C + 273.15\n",
    "\n",
    "T_2_K = 1500"
   ]
  },
  {
   "cell_type": "markdown",
   "id": "4f4e74a4-1089-4e65-82ba-51f4e16c2f9a",
   "metadata": {},
   "source": [
    "Steady flow analysis of the combustion chamber:\n",
    "\n",
    "$$\\sum n_r \\left(h_f + h - h^{\\circ} \\right)_r = Q_\\text{out} + \\sum n_p \\left(h_f + h - h^{\\circ} \\right)_p$$\n",
    "\n",
    "$$\\implies Q_\\text{out} =  \\sum n_r \\left(h_f + h - h^{\\circ} \\right)_r - \\sum n_p \\left(h_f + h - h^{\\circ} \\right)_p $$\n",
    "\n",
    "Where, \n",
    "\n",
    "$$h^{\\circ} = h(T=25^\\circ\\text{C},p=101,325 \\text{Pa})$$"
   ]
  },
  {
   "cell_type": "code",
   "execution_count": 3,
   "id": "2a00f6d6-a963-427b-a282-45233a233f94",
   "metadata": {},
   "outputs": [
    {
     "name": "stdout",
     "output_type": "stream",
     "text": [
      "-118622.495\n"
     ]
    }
   ],
   "source": [
    "hf_O2_kJperKmol = 0\n",
    "hf_N2_kJperKmol = 0\n",
    "hf_C3H8_gas_kJperKol = -103850\n",
    "hf_H2O_gas_kJperKmol = -241820\n",
    "# hf_H2O_liq_kJperKmol = -285830\n",
    "hf_CO2_gas_kJperKmol = -393520\n",
    "hf_CO_gas_kJperKmol = -110530\n",
    "\n",
    "hfg_C3H8_kJperKg = 335\n",
    "M_C3H8_kgPerKmol = 44.097\n",
    "hfg_C3H8_kJperKmol = hfg_C3H8_kJperKg*M_C3H8_kgPerKmol\n",
    "\n",
    "hf_C3H8_liquid_kJperKmol = -(-hf_C3H8_gas_kJperKol + hfg_C3H8_kJperKmol)\n",
    "print(hf_C3H8_liquid_kJperKmol)"
   ]
  },
  {
   "cell_type": "code",
   "execution_count": 6,
   "id": "85d877bf-a482-4036-9182-ba2c42715976",
   "metadata": {},
   "outputs": [],
   "source": [
    "h_280K_O2_kJperKmol = 8150\n",
    "h_280K_N2_kJperKmol = 8141"
   ]
  },
  {
   "cell_type": "code",
   "execution_count": 7,
   "id": "519efe8f-6d79-486b-9ff5-7b47225ba3e3",
   "metadata": {},
   "outputs": [],
   "source": [
    "h_0_O2_kJperKmol = 8682\n",
    "h_0_N2_kJperKmol = 8669\n",
    "h_0_H2O_gas_kJperKmol = 9904\n",
    "h_0_CO2_kJperKmol = 9364\n",
    "h_0_CO_kJperKmol = 8669"
   ]
  },
  {
   "cell_type": "code",
   "execution_count": 8,
   "id": "706d5df2-7fea-49a3-88ae-6c9c4383c8a9",
   "metadata": {},
   "outputs": [],
   "source": [
    "h_1500K_O2_kJperKmol = 49292\n",
    "h_1500K_N2_kJperKmol = 47073\n",
    "h_1500K_H2O_gas_kJperKmol = 57999\n",
    "h_1500K_CO2_kJperKmol = 71078\n",
    "h_1500K_CO_kJperKmol = 47517"
   ]
  },
  {
   "cell_type": "code",
   "execution_count": 9,
   "id": "d474fd68-c231-4a85-b6c3-1f9c148d118e",
   "metadata": {},
   "outputs": [],
   "source": [
    "nC3H8_r_kmol = 1\n",
    "nO2_r_kmol = 7.5\n",
    "nN2_r_kmol = 28.2\n",
    "nCO2_p_kmol = 2.7\n",
    "nCO_p_kmol = 0.3\n",
    "nH2O_p_kmol = 4\n",
    "nO2_p_kmol = 2.65\n",
    "nN2_p_kmol = 28.2"
   ]
  },
  {
   "cell_type": "markdown",
   "id": "8a98ed77-917d-44f4-bfb7-3b7796006fe6",
   "metadata": {},
   "source": [
    "$$\\implies Q_\\text{out} = n_\\text{C3H8}\\left(h_f + h - h^{\\circ} \\right)_\\text{C3H8} + n_\\text{O2}\\left(h_f + h - h^{\\circ} \\right)_\\text{O2} + n_\\text{N2}\\left(h_f + h - h^{\\circ} \\right)_\\text{N2} - n_\\text{CO2}\\left(h_f + h - h^{\\circ} \\right)_\\text{CO2} -n_\\text{CO}\\left(h_f + h - h^{\\circ} \\right)_\\text{CO} + n_\\text{H2O}\\left(h_f + h - h^{\\circ} \\right)_\\text{H2O} + n_\\text{O2}\\left(h_f + h - h^{\\circ} \\right)_\\text{O2} + n_\\text{N2}\\left(h_f + h - h^{\\circ} \\right)_\\text{N2}$$\n"
   ]
  },
  {
   "cell_type": "code",
   "execution_count": 26,
   "id": "c3e6c975-3ace-4464-b9b5-f7cda1e8bf87",
   "metadata": {},
   "outputs": [
    {
     "name": "stdout",
     "output_type": "stream",
     "text": [
      "-118622.495\n",
      "-3990.0\n",
      "-14889.6\n",
      "-895876.2000000001\n",
      "-21504.6\n",
      "-774900\n",
      "107616.5\n",
      "1082992.8\n"
     ]
    }
   ],
   "source": [
    "C3H8 = nC3H8_r_kmol*(hf_C3H8_liquid_kJperKmol); print(C3H8)\n",
    "O2 = nO2_r_kmol*(hf_O2_kJperKmol + h_280K_O2_kJperKmol - h_0_O2_kJperKmol); print(O2)\n",
    "N2 = nN2_r_kmol*(hf_N2_kJperKmol + h_280K_N2_kJperKmol - h_0_N2_kJperKmol); print(N2)\n",
    "CO2 = nCO2_p_kmol*(hf_CO2_gas_kJperKmol + h_1500K_CO2_kJperKmol - h_0_CO2_kJperKmol); print(CO2)\n",
    "CO = nCO_p_kmol*(hf_CO_gas_kJperKmol + h_1500K_CO_kJperKmol - h_0_CO_kJperKmol); print(CO)\n",
    "H2O = nH2O_p_kmol*(hf_H2O_gas_kJperKmol + h_1500K_H2O_gas_kJperKmol - h_0_H2O_gas_kJperKmol); print(H2O)\n",
    "O2_ = nO2_p_kmol*(hf_O2_kJperKmol + h_1500K_O2_kJperKmol - h_0_O2_kJperKmol); print(O2_)\n",
    "N2_ = nN2_p_kmol*(hf_N2_kJperKmol + h_1500K_N2_kJperKmol - h_0_N2_kJperKmol); print(N2_)"
   ]
  },
  {
   "cell_type": "code",
   "execution_count": 37,
   "id": "baf61d6e-3cef-4110-9825-0e0f362ce1db",
   "metadata": {},
   "outputs": [
    {
     "name": "stdout",
     "output_type": "stream",
     "text": [
      "(a) The 364169.41 kJ of heat is transferred from the combustion chamber for each kmol of propane.\n"
     ]
    }
   ],
   "source": [
    "Qout_kJ = C3H8 + O2 + N2 - (CO2 + CO + H2O + O2_ + N2_)# ; print(Qout_kJ)\n",
    "\n",
    "print('(a) The {0:1.2f} kJ of heat is transferred from the combustion chamber for each kmol of propane.'.format(Qout_kJ))"
   ]
  },
  {
   "cell_type": "code",
   "execution_count": 38,
   "id": "ab02a864-c65e-4c04-a9c5-cfa07b1a4f32",
   "metadata": {},
   "outputs": [
    {
     "name": "stdout",
     "output_type": "stream",
     "text": [
      "44.097\n",
      "8258.371431163117\n",
      "(b) The rate of heat transfer is then Qdot_out: 6.88 kW.\n"
     ]
    }
   ],
   "source": [
    "M_C3H8_kgPerKmol = 44.097\n",
    "m_C3H8_kg = nC3H8_r_kmol*M_C3H8_kgPerKmol; print(m_C3H8_kg)\n",
    "\n",
    "q_kJperKg = Qout_kJ/m_C3H8_kg; print(q_kJperKg)\n",
    "Qdot_out_kW = mdot_kgPerS*q_kJperKg\n",
    "print('(b) The rate of heat transfer is then Qdot_out: {0:1.2f} kW.'.format(Qdot_out_kW))"
   ]
  },
  {
   "cell_type": "code",
   "execution_count": null,
   "id": "48592587-07b8-4a5e-962f-e31c65e0463f",
   "metadata": {},
   "outputs": [],
   "source": []
  }
 ],
 "metadata": {
  "kernelspec": {
   "display_name": "Python 3 (ipykernel)",
   "language": "python",
   "name": "python3"
  },
  "language_info": {
   "codemirror_mode": {
    "name": "ipython",
    "version": 3
   },
   "file_extension": ".py",
   "mimetype": "text/x-python",
   "name": "python",
   "nbconvert_exporter": "python",
   "pygments_lexer": "ipython3",
   "version": "3.11.10"
  }
 },
 "nbformat": 4,
 "nbformat_minor": 5
}
