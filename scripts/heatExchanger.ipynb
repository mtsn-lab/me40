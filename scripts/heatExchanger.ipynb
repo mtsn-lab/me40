{
 "cells": [
  {
   "cell_type": "code",
   "execution_count": 1,
   "id": "8bd60577-a6e3-49e7-85d3-cb892bc8b052",
   "metadata": {},
   "outputs": [
    {
     "name": "stdout",
     "output_type": "stream",
     "text": [
      "Requirement already satisfied: CoolProp in /srv/conda/lib/python3.11/site-packages (6.6.0)\n"
     ]
    }
   ],
   "source": [
    "!pip install CoolProp"
   ]
  },
  {
   "cell_type": "code",
   "execution_count": 2,
   "id": "fe9c07fc-8d37-4d4d-8c7e-32d18ed8926e",
   "metadata": {},
   "outputs": [],
   "source": [
    "from CoolProp.CoolProp import PropsSI"
   ]
  },
  {
   "cell_type": "code",
   "execution_count": 3,
   "id": "92847a58-1f29-4998-8d50-6a08ae2ff3c4",
   "metadata": {},
   "outputs": [
    {
     "name": "stdout",
     "output_type": "stream",
     "text": [
      "Requirement already satisfied: iapws in /srv/conda/lib/python3.11/site-packages (1.5.4)\n",
      "Requirement already satisfied: scipy>=1.2 in /srv/conda/lib/python3.11/site-packages (from iapws) (1.10.0)\n",
      "Requirement already satisfied: numpy<1.27.0,>=1.19.5 in /srv/conda/lib/python3.11/site-packages (from scipy>=1.2->iapws) (1.26.4)\n"
     ]
    }
   ],
   "source": [
    "!pip install iapws"
   ]
  },
  {
   "cell_type": "code",
   "execution_count": 4,
   "id": "2a2d2b56-7b5e-4839-b4a7-321c9b129ea9",
   "metadata": {},
   "outputs": [],
   "source": [
    "from iapws import IAPWS97"
   ]
  },
  {
   "cell_type": "markdown",
   "id": "7b9c0fdf-d723-48e4-9822-7442a82de7d6",
   "metadata": {},
   "source": [
    "Consider a heat exchanger operating under steady flow conditions. We assume that there is no pressure drop across the heat exchanger from the inlets to the outlets. Water is used to cool a refrigerant (R-134a). Here are the inlet (state 1) and outlet (state 2) conditions of the water:"
   ]
  },
  {
   "cell_type": "code",
   "execution_count": 6,
   "id": "49fd222b-d505-45f3-9ee2-da866f5892b0",
   "metadata": {},
   "outputs": [],
   "source": [
    "T1_K = 15+273.15\n",
    "p1_MPa = 300/1000\n",
    "\n",
    "T2_K = 25+273.15\n",
    "p2_MPa = p1_MPa"
   ]
  },
  {
   "cell_type": "markdown",
   "id": "192cfabb-2ed6-4573-9704-756160ee2c52",
   "metadata": {},
   "source": [
    "Here are the inlet (state 3) and outlet (state 4) properties of the refrigerant as well as its mass flow rate, which is given:"
   ]
  },
  {
   "cell_type": "code",
   "execution_count": 8,
   "id": "741994b0-30d3-445d-9894-f330a28a2104",
   "metadata": {},
   "outputs": [],
   "source": [
    "fluid = 'R134a'\n",
    "\n",
    "T3_K = 70+273.15\n",
    "p3_Pa = 1e6\n",
    "\n",
    "T4_K = 35+273.15\n",
    "p4_Pa = p3_Pa\n",
    "\n",
    "mdot_r134a_kgPerMin = 6\n",
    "mdot_r134a_kgPerS = mdot_r134a_kgPerMin/60"
   ]
  },
  {
   "cell_type": "markdown",
   "id": "a19dd302-3d79-43dd-8e97-b087348c7bf4",
   "metadata": {},
   "source": [
    "Determine:\n",
    "- The mass flow rate of the cooling water.\n",
    "- The heat transfer rate from the refrigerant to the water."
   ]
  },
  {
   "cell_type": "markdown",
   "id": "3041b04d-5bfa-4a52-a7de-35776ec6f182",
   "metadata": {},
   "source": [
    "We can first analyze the water and refrigerant sections of the heat exchangers as separate control volumes:\n",
    "\n",
    "Water: $\\dot{Q}_\\text{in} + \\dot{m}_\\text{water}h_1 = \\dot{m}_\\text{water}h_2$\n",
    "\n",
    "Refrigerant: $\\dot{m}_\\text{R-134a}h_3 = \\dot{Q}_\\text{out} + \\dot{m}_\\text{R-134a}h_4$\n",
    "\n",
    "Note that as heat is transferred from the refrigerant to the water, we have:\n",
    "\n",
    "$\\dot{Q}_\\text{in} = \\dot{Q}_\\text{out}$"
   ]
  },
  {
   "cell_type": "markdown",
   "id": "809e9130-5e8f-48bf-812a-49e559432b11",
   "metadata": {},
   "source": [
    "Therefore, we can combine the above equations and solve for the water mass flow rate:\n",
    "\n"
   ]
  },
  {
   "cell_type": "markdown",
   "id": "6b1e0c74-f724-4262-9376-d75bc6672524",
   "metadata": {},
   "source": [
    "$\\dot{m}_\\text{water} = \\dot{m}_\\text{R-134a} \\frac{\\left( h_3 - h_4 \\right)}{\\left( h_2 - h_1 \\right)}$\n",
    "\n",
    "We see from this that we need to know the enthalpies at the inlets and outlets of the heat exchanger. From that we can calculate the water mass flow rate. "
   ]
  },
  {
   "cell_type": "code",
   "execution_count": 9,
   "id": "c5e670b8-be89-44d7-9be6-010d0eb62075",
   "metadata": {},
   "outputs": [
    {
     "name": "stdout",
     "output_type": "stream",
     "text": [
      "63269.22110794279\n",
      "105113.2796059467\n",
      "452000.5965967065\n",
      "248995.07776084734\n"
     ]
    }
   ],
   "source": [
    "# calculate water properties\n",
    "water_1 = IAPWS97(P=p1_MPa, T=T1_K)\n",
    "water_2 = IAPWS97(P=p2_MPa, T=T2_K)\n",
    "h1_kJperKg = water_1.h # kJ/kg\n",
    "h2_kJperKg = water_2.h # kJ/kg\n",
    "\n",
    "# convert to SI units\n",
    "h1_JperKg = h1_kJperKg*1000; print(h1_JperKg) # J/kg\n",
    "h2_JperKg = h2_kJperKg*1000; print(h2_JperKg) # J/kg\n",
    "\n",
    "# calculate refrigerant enthalpy properties\n",
    "h3_JperKg = PropsSI('H','P',p3_Pa,'T',T3_K,fluid); print(h3_JperKg) #J/kg\n",
    "h4_JperKg = PropsSI('H','P',p4_Pa,'T',T4_K,fluid); print(h4_JperKg) #J/kg"
   ]
  },
  {
   "cell_type": "code",
   "execution_count": 10,
   "id": "441f2d16-6475-440e-bf5a-cde5a5879d3d",
   "metadata": {},
   "outputs": [
    {
     "name": "stdout",
     "output_type": "stream",
     "text": [
      "(a): water mass flow rate: 0.4851 kg/s\n"
     ]
    }
   ],
   "source": [
    "mdot_water_kgPerS = mdot_r134a_kgPerS*(h3_JperKg-h4_JperKg)/(h2_JperKg-h1_JperKg)\n",
    "print('(a): water mass flow rate: {0:1.4f} kg/s'.format(mdot_water_kgPerS))"
   ]
  },
  {
   "cell_type": "markdown",
   "id": "a18ec435-e555-4b83-ad6e-3fdc4f25c721",
   "metadata": {},
   "source": [
    "Now we can determine the heat transfer rate from the refrigerant to the water from our formula above:\n",
    "\n",
    "$\\dot{m}_\\text{R-134a}h_3 = \\dot{Q}_\\text{out} + \\dot{m}_\\text{R-134a}h_4$\n",
    "\n",
    "Which we can rearrange as:\n",
    "\n",
    "$\\dot{Q}_\\text{out} = \\dot{m}_\\text{R-134a} \\left( h_3 - h_4 \\right)$"
   ]
  },
  {
   "cell_type": "code",
   "execution_count": 11,
   "id": "d5a50e95-32d8-485a-8165-6a322e60f998",
   "metadata": {},
   "outputs": [
    {
     "name": "stdout",
     "output_type": "stream",
     "text": [
      "(b): Q_out: 20300.5519 J/s\n"
     ]
    }
   ],
   "source": [
    "Qout_r134a_JperS = mdot_r134a_kgPerS*(h3_JperKg - h4_JperKg)\n",
    "print('(b): Q_out: {0:1.4f} J/s'.format(Qout_r134a_JperS))"
   ]
  },
  {
   "cell_type": "markdown",
   "id": "678f5b13-ab72-42d7-8863-44f58d6a2f5e",
   "metadata": {},
   "source": [
    "We would get the same answer if we solved for $Q_\\text{in}$:\n",
    "\n",
    "$\\dot{Q}_\\text{in} = \\dot{m}_\\text{water}\\left( h_2 - h_1 \\right)$"
   ]
  },
  {
   "cell_type": "code",
   "execution_count": 12,
   "id": "da1a9a29-74b0-4a9d-a9be-31b912c434a9",
   "metadata": {},
   "outputs": [
    {
     "name": "stdout",
     "output_type": "stream",
     "text": [
      "(b): Q_in: 20300.5519 J/s\n"
     ]
    }
   ],
   "source": [
    "Qin_water_JperS = mdot_water_kgPerS*(h2_JperKg - h1_JperKg)\n",
    "print('(b): Q_in: {0:1.4f} J/s'.format(Qin_water_JperS))"
   ]
  },
  {
   "cell_type": "code",
   "execution_count": null,
   "id": "60812455-f7bb-4ef3-a388-66178a376136",
   "metadata": {},
   "outputs": [],
   "source": []
  }
 ],
 "metadata": {
  "kernelspec": {
   "display_name": "Python 3 (ipykernel)",
   "language": "python",
   "name": "python3"
  },
  "language_info": {
   "codemirror_mode": {
    "name": "ipython",
    "version": 3
   },
   "file_extension": ".py",
   "mimetype": "text/x-python",
   "name": "python",
   "nbconvert_exporter": "python",
   "pygments_lexer": "ipython3",
   "version": "3.11.9"
  }
 },
 "nbformat": 4,
 "nbformat_minor": 5
}
