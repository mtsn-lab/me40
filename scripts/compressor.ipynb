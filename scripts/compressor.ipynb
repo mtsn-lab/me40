{
 "cells": [
  {
   "cell_type": "code",
   "execution_count": 13,
   "id": "cf3f8a1d",
   "metadata": {},
   "outputs": [
    {
     "name": "stdout",
     "output_type": "stream",
     "text": [
      "Requirement already satisfied: CoolProp in /srv/conda/lib/python3.11/site-packages (6.6.0)\n"
     ]
    }
   ],
   "source": [
    "!pip install CoolProp"
   ]
  },
  {
   "cell_type": "code",
   "execution_count": 14,
   "id": "16e82b45",
   "metadata": {},
   "outputs": [],
   "source": [
    "from CoolProp.CoolProp import PropsSI"
   ]
  },
  {
   "cell_type": "code",
   "execution_count": 15,
   "id": "c241c5e8",
   "metadata": {},
   "outputs": [
    {
     "name": "stdout",
     "output_type": "stream",
     "text": [
      "315645.5773254788\n",
      "629140.585939096\n"
     ]
    }
   ],
   "source": [
    "#For the properties, I am using the notation \"in\" and \"out\" as well as \"1\" and \"2\", where \"in\" is also \"1\" and \"out\" is also \"2\"\n",
    "\n",
    "fluid = 'Air'\n",
    "\n",
    "mdot_kgperS = 0.02 #kg/s\n",
    "\n",
    "P1_Pa = 100e3 #Pa\n",
    "T1_K = 190 #K\n",
    "\n",
    "P2_Pa = 600e3 #Pa\n",
    "T2_K = 500 #K\n",
    "\n",
    "qout_JperKg = 1e3 #J/kg\n",
    "QdotOut_JperS = qout_JperKg*mdot_kgperS #J/s\n",
    "\n",
    "#s1_JperKgperK = PropsSI('S','T',T1_K,'P',P1_Pa,fluid); print(s1_JperKgperK) #J/kg/K\n",
    "h1_JperKg = PropsSI('H','T',T1_K,'P',P1_Pa,fluid); print(h1_JperKg) #J/kg\n",
    "\n",
    "#s2_JperKgperK = PropsSI('S','T',T2_K,'P',P2_Pa,fluid); print(s2_JperKgperK) #J/kg/K\n",
    "h2_JperKg = PropsSI('H','T',T2_K,'P',P2_Pa,fluid); print(h2_JperKg) #J/kg"
   ]
  },
  {
   "cell_type": "code",
   "execution_count": 16,
   "id": "1fccff80",
   "metadata": {},
   "outputs": [
    {
     "name": "stdout",
     "output_type": "stream",
     "text": [
      "6289.900172272346\n"
     ]
    }
   ],
   "source": [
    "WdotIn_JperS = QdotOut_JperS + mdot_kgperS*(h2_JperKg-h1_JperKg); print(WdotIn_JperS) #J/s"
   ]
  }
 ],
 "metadata": {
  "kernelspec": {
   "display_name": "Python 3 (ipykernel)",
   "language": "python",
   "name": "python3"
  },
  "language_info": {
   "codemirror_mode": {
    "name": "ipython",
    "version": 3
   },
   "file_extension": ".py",
   "mimetype": "text/x-python",
   "name": "python",
   "nbconvert_exporter": "python",
   "pygments_lexer": "ipython3",
   "version": "3.11.9"
  }
 },
 "nbformat": 4,
 "nbformat_minor": 5
}
