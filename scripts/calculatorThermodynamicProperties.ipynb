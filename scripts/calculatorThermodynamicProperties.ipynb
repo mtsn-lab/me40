{
 "cells": [
  {
   "cell_type": "markdown",
   "id": "casual-madonna",
   "metadata": {},
   "source": [
    "## Steam tables calculator\n",
    "We need a module in order to calculate thermodynamic properties. This module is called \"iapws\". "
   ]
  },
  {
   "cell_type": "code",
   "execution_count": 11,
   "id": "persistent-music",
   "metadata": {},
   "outputs": [],
   "source": [
    "# we will import the module this way since it is already in our directory\n",
    "import iapws97"
   ]
  },
  {
   "cell_type": "code",
   "execution_count": 12,
   "id": "ready-ceiling",
   "metadata": {},
   "outputs": [],
   "source": [
    "from iapws97 import IAPWS97"
   ]
  },
  {
   "cell_type": "code",
   "execution_count": 13,
   "id": "passive-modeling",
   "metadata": {},
   "outputs": [],
   "source": [
    "# Cefine thermodynamic properties that are known.\n",
    "# Substitute your values here. delete the variables that aren't known.\n",
    "# Please append units for your variables using \"_\" and then the dimension. See examples below.\n",
    "T1_K = 400\n",
    "p1_MPa = 5\n",
    "x = 0"
   ]
  },
  {
   "cell_type": "code",
   "execution_count": 14,
   "id": "ruled-block",
   "metadata": {},
   "outputs": [],
   "source": [
    "# Calculate the \"class\" at that state. Some examples are commented out here:\n",
    "# water = IAPWS97(T=T1_K, P=p1_MPa)\n",
    "# water = IAPWS97(T=T1_K, x=x)\n",
    "# water = IAPWS97(P=p2_MPa, h=h2_kJperKg)\n",
    "water = IAPWS97(P=p1_MPa, x=x)\n",
    "\n",
    "# The properties of that class can then be accessed by using the dot notation.\n",
    "T1_K = water.T # MPa\n",
    "s1_kJperKgperK = water.s # kJ/kg*K\n",
    "h1_kJperKg = water.h # kJ/kg\n",
    "v1_m3PerKg = water.v # m3/kg\n",
    "u1_kJperKg = water.u # kJ/kg"
   ]
  },
  {
   "cell_type": "markdown",
   "id": "regulation-cowboy",
   "metadata": {},
   "source": [
    "We can then print the values as:"
   ]
  },
  {
   "cell_type": "code",
   "execution_count": 15,
   "id": "international-living",
   "metadata": {},
   "outputs": [
    {
     "name": "stdout",
     "output_type": "stream",
     "text": [
      "T1_K = 537.09 K\n",
      "s1_kJperKgperK = 2.92 kJ/kg*K\n",
      "h1_kJperKg = 1154.50 kJ/kg\n",
      "v1_m3PerKg = 0.00 m3/kg\n",
      "u1_kJperKg = 1148.07 kJ/kg\n"
     ]
    }
   ],
   "source": [
    "print('T1_K = {0:1.2f} K'.format(T1_K))\n",
    "print('s1_kJperKgperK = {0:1.2f} kJ/kg*K'.format(s1_kJperKgperK))\n",
    "print('h1_kJperKg = {0:1.2f} kJ/kg'.format(h1_kJperKg))\n",
    "print('v1_m3PerKg = {0:1.2f} m3/kg'.format(v1_m3PerKg))\n",
    "print('u1_kJperKg = {0:1.2f} kJ/kg'.format(u1_kJperKg))"
   ]
  },
  {
   "cell_type": "code",
   "execution_count": 16,
   "id": "hindu-click",
   "metadata": {},
   "outputs": [],
   "source": [
    "# check your units\n",
    "T1_C = T1_K - 273.15\n",
    "p1_kPa = p1_MPa*1000"
   ]
  },
  {
   "cell_type": "code",
   "execution_count": 17,
   "id": "excess-vatican",
   "metadata": {},
   "outputs": [
    {
     "name": "stdout",
     "output_type": "stream",
     "text": [
      "T1_C = 263.94 C\n",
      "p1_kPa = 5000.00 kPa\n"
     ]
    }
   ],
   "source": [
    "print('T1_C = {0:1.2f} C'.format(T1_C))\n",
    "print('p1_kPa = {0:1.2f} kPa'.format(p1_kPa))"
   ]
  }
 ],
 "metadata": {
  "kernelspec": {
   "display_name": "Python 3",
   "language": "python",
   "name": "python3"
  },
  "language_info": {
   "codemirror_mode": {
    "name": "ipython",
    "version": 3
   },
   "file_extension": ".py",
   "mimetype": "text/x-python",
   "name": "python",
   "nbconvert_exporter": "python",
   "pygments_lexer": "ipython3",
   "version": "3.8.6"
  }
 },
 "nbformat": 4,
 "nbformat_minor": 5
}
