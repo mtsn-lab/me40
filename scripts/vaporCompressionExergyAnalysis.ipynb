{
 "cells": [
  {
   "cell_type": "code",
   "execution_count": 63,
   "id": "1815b178",
   "metadata": {},
   "outputs": [
    {
     "name": "stdout",
     "output_type": "stream",
     "text": [
      "Requirement already satisfied: CoolProp in /opt/conda/lib/python3.9/site-packages (6.5.0.post1)\r\n"
     ]
    }
   ],
   "source": [
    "!pip install CoolProp"
   ]
  },
  {
   "cell_type": "code",
   "execution_count": 64,
   "id": "dae3996d",
   "metadata": {},
   "outputs": [],
   "source": [
    "from CoolProp.CoolProp import PropsSI"
   ]
  },
  {
   "cell_type": "markdown",
   "id": "3723510e",
   "metadata": {},
   "source": [
    "A vapor compression refrigeration cycle with refrigerant-134a as the working fluid is used to maintain a space at - 13 C by rejecting heat to ambient air at 27 C. \n",
    "\n",
    "R-134a enters the compressor at 100 kPa superheated by 6.4 C at a rate of 0.05 kg/s:"
   ]
  },
  {
   "cell_type": "code",
   "execution_count": 65,
   "id": "c9fb66ab",
   "metadata": {},
   "outputs": [],
   "source": [
    "fluid = 'R134a'\n",
    "\n",
    "P1 = 100*1e3\n",
    "Q1 = 1\n",
    "T1superheat = 6.4\n",
    "mdot_kgPerS = 0.05"
   ]
  },
  {
   "cell_type": "markdown",
   "id": "b40e169a",
   "metadata": {},
   "source": [
    "The isentropic efficency of the compressor is 85\\%. "
   ]
  },
  {
   "cell_type": "code",
   "execution_count": 66,
   "id": "a3c576c5",
   "metadata": {},
   "outputs": [],
   "source": [
    "eta = 0.85"
   ]
  },
  {
   "cell_type": "markdown",
   "id": "652d409a",
   "metadata": {},
   "source": [
    "The refrigerant leaves the condenser at 39.4 C as a saturated liquid."
   ]
  },
  {
   "cell_type": "code",
   "execution_count": 67,
   "id": "1551b893",
   "metadata": {},
   "outputs": [],
   "source": [
    "T3_C = 39.4\n",
    "T3 = T3_C + 273.15 "
   ]
  },
  {
   "cell_type": "markdown",
   "id": "7d9e9805",
   "metadata": {},
   "source": [
    "Determine:\n",
    "- (a) the rate of cooling provided and the COP of the system.\n",
    "- (b) the exergy destruction in each basic component.\n",
    "- (c) the minimum power input and the second-law efficiency of the cycle.\n",
    "- (d) the rate of total exergy destruction. \n",
    "\n",
    "All units will be SI.\n",
    "\n",
    "State 1:"
   ]
  },
  {
   "cell_type": "code",
   "execution_count": 68,
   "id": "ab847bd5",
   "metadata": {},
   "outputs": [
    {
     "name": "stdout",
     "output_type": "stream",
     "text": [
      "T1 = -19.96 C.\n"
     ]
    }
   ],
   "source": [
    "TsatP1 = PropsSI('T','P',P1,'Q',Q1,fluid)\n",
    "\n",
    "T1 = TsatP1 + T1superheat\n",
    "T1_C = T1 - 273.15\n",
    "print('T1 = {0:1.2f} C.'.format(T1_C))"
   ]
  },
  {
   "cell_type": "code",
   "execution_count": 69,
   "id": "8fb4bee9",
   "metadata": {},
   "outputs": [],
   "source": [
    "h1 = PropsSI('H','P',P1,'T',T1,fluid)\n",
    "# print('h1 = {0:1.2f} J/kg.'.format(h1))\n",
    "s1 = PropsSI('S','P',P1,'T',T1,fluid)"
   ]
  },
  {
   "cell_type": "code",
   "execution_count": 70,
   "id": "b03cec32",
   "metadata": {},
   "outputs": [
    {
     "name": "stdout",
     "output_type": "stream",
     "text": [
      "P3 = 1000333.12 Pa.\n"
     ]
    }
   ],
   "source": [
    "# state 3\n",
    "Q3 = 0\n",
    "P3 = PropsSI('P','T',T3,'Q',Q3,fluid)\n",
    "s3 = PropsSI('S','T',T3,'Q',Q3,fluid)\n",
    "h3 = PropsSI('H','T',T3,'Q',Q3,fluid)\n",
    "print('P3 = {0:1.2f} Pa.'.format(P3))"
   ]
  },
  {
   "cell_type": "code",
   "execution_count": 71,
   "id": "9d850f79",
   "metadata": {},
   "outputs": [],
   "source": [
    "# state 2\n",
    "P2 = P3 # isobaric\n",
    "s2s = s1\n",
    "h2s = PropsSI('H','P',P2,'S',s2s,fluid)"
   ]
  },
  {
   "cell_type": "code",
   "execution_count": 72,
   "id": "a2ba0b18",
   "metadata": {},
   "outputs": [],
   "source": [
    "# state 4\n",
    "h4 = h3\n",
    "P4 = P1\n",
    "s4 = PropsSI('S','P',P4,'H',h4,fluid)"
   ]
  },
  {
   "cell_type": "markdown",
   "id": "fef5cf10",
   "metadata": {},
   "source": [
    "Isentropic efficiency is by definition:\n",
    "$$\\eta_C = \\frac{h_{2s} - h_1}{h_2 - h_1} $$\n",
    "\n",
    "Re-arranging:"
   ]
  },
  {
   "cell_type": "code",
   "execution_count": 73,
   "id": "efa63706",
   "metadata": {},
   "outputs": [],
   "source": [
    "h2 = ((h2s - h1)/eta)+h1"
   ]
  },
  {
   "cell_type": "code",
   "execution_count": 74,
   "id": "e4ee4078",
   "metadata": {},
   "outputs": [],
   "source": [
    "s2 = PropsSI('S','P',P2,'H',h2,fluid)"
   ]
  },
  {
   "cell_type": "markdown",
   "id": "9b7fdd6c",
   "metadata": {},
   "source": [
    "### Part (a)\n",
    "\n",
    "The refrigeration load, the rate of heat rejected, and the power input are:"
   ]
  },
  {
   "cell_type": "code",
   "execution_count": 75,
   "id": "7f9d8a15",
   "metadata": {},
   "outputs": [
    {
     "name": "stdout",
     "output_type": "stream",
     "text": [
      "QL = 6608.27 W.\n",
      "QH = 9527.22 W.\n",
      "Win = 2918.96 W.\n"
     ]
    }
   ],
   "source": [
    "mdot = mdot_kgPerS\n",
    "\n",
    "QdotL = mdot*(h1 - h4)\n",
    "QdotH = mdot*(h2 - h3)\n",
    "Wdotin = mdot*(h2 - h1)\n",
    "\n",
    "print('QL = {0:1.2f} W.'.format(QdotL))\n",
    "print('QH = {0:1.2f} W.'.format(QdotH))\n",
    "print('Win = {0:1.2f} W.'.format(Wdotin))"
   ]
  },
  {
   "cell_type": "markdown",
   "id": "309fa620",
   "metadata": {},
   "source": [
    "The COP of the refrigeration cycle becomes:\n",
    "\n",
    "$$\\text{COP}_R = \\frac{\\dot{Q}_L}{\\dot{W}_\\text{in}} $$"
   ]
  },
  {
   "cell_type": "code",
   "execution_count": 76,
   "id": "11bbaa48",
   "metadata": {},
   "outputs": [
    {
     "name": "stdout",
     "output_type": "stream",
     "text": [
      "2.263913759378019\n"
     ]
    }
   ],
   "source": [
    "COPr = QdotL/Wdotin\n",
    "print(COPr)"
   ]
  },
  {
   "cell_type": "markdown",
   "id": "dcf2ba8b",
   "metadata": {},
   "source": [
    "### Part (b)"
   ]
  },
  {
   "cell_type": "markdown",
   "id": "d4e044d2",
   "metadata": {},
   "source": [
    "The dead state temperature is $T_0$, which is the temperature of the environment:"
   ]
  },
  {
   "cell_type": "code",
   "execution_count": 77,
   "id": "b3a7ea84",
   "metadata": {},
   "outputs": [],
   "source": [
    "T0 = 27 + 273.15"
   ]
  },
  {
   "cell_type": "markdown",
   "id": "ce58beb7",
   "metadata": {},
   "source": [
    "With this we can determine the exergy destruction in each component of the cycle:\n",
    "- Compressor, 1-2\n",
    "- Condenser, 2-3\n",
    "- Expansion valve, 3-4\n",
    "- Evaporator, 4-1"
   ]
  },
  {
   "cell_type": "markdown",
   "id": "95682b7b",
   "metadata": {},
   "source": [
    "$$\\dot{X}_\\text{dest,1-2} = T_0 \\dot{S}_\\text{gen,1-2} = T_0\\dot{m}\\left(s_2 - s_1\\right) $$"
   ]
  },
  {
   "cell_type": "code",
   "execution_count": 78,
   "id": "a01e33b8",
   "metadata": {},
   "outputs": [
    {
     "name": "stdout",
     "output_type": "stream",
     "text": [
      "X12 = 394.31 W.\n"
     ]
    }
   ],
   "source": [
    "X12 = T0*mdot*(s2-s1)\n",
    "print('X12 = {0:1.2f} W.'.format(X12))"
   ]
  },
  {
   "cell_type": "markdown",
   "id": "09969e5d",
   "metadata": {},
   "source": [
    "$$\\dot{X}_\\text{dest,2-3} = T_0 \\dot{S}_\\text{gen,2-3} = T_0 \\left[ \\dot{m}\\left(s_3 - s_2\\right) + \\frac{\\dot{Q}_H}{T_H} \\right]$$"
   ]
  },
  {
   "cell_type": "code",
   "execution_count": 79,
   "id": "e969da07",
   "metadata": {},
   "outputs": [
    {
     "name": "stdout",
     "output_type": "stream",
     "text": [
      "X23 = 426.23 W.\n"
     ]
    }
   ],
   "source": [
    "TH = T0\n",
    "X23 = T0*(mdot*(s3-s2)+(QdotH/TH))\n",
    "print('X23 = {0:1.2f} W.'.format(X23))"
   ]
  },
  {
   "cell_type": "markdown",
   "id": "55dabd7e",
   "metadata": {},
   "source": [
    "$$\\dot{X}_\\text{dest,3-4} = T_0 \\dot{S}_\\text{gen,3-4} = T_0\\dot{m}\\left(s_4 - s_3\\right) $$"
   ]
  },
  {
   "cell_type": "code",
   "execution_count": 80,
   "id": "0ccf764f",
   "metadata": {},
   "outputs": [
    {
     "name": "stdout",
     "output_type": "stream",
     "text": [
      "X34 = 673.50 W.\n"
     ]
    }
   ],
   "source": [
    "X34 = T0*mdot*(s4-s3)\n",
    "print('X34 = {0:1.2f} W.'.format(X34))"
   ]
  },
  {
   "cell_type": "markdown",
   "id": "458213f1",
   "metadata": {},
   "source": [
    "$$\\dot{X}_\\text{dest,4-1} = T_0 \\dot{S}_\\text{gen,4-1} = T_0 \\left[ \\dot{m}\\left(s_1 - s_4\\right) - \\frac{\\dot{Q}_L}{T_L} \\right]$$\n",
    "\n",
    "We are told that we are trying to keep a space at - 13 C. Therefore, $T_L = - 13 ^{\\circ}$C."
   ]
  },
  {
   "cell_type": "code",
   "execution_count": 81,
   "id": "1ea2b8d0",
   "metadata": {},
   "outputs": [
    {
     "name": "stdout",
     "output_type": "stream",
     "text": [
      "X41 = 408.84 W.\n"
     ]
    }
   ],
   "source": [
    "TL_C = - 13\n",
    "TL = TL_C+273.15 \n",
    "X41 = T0*(mdot*(s1-s4)-(QdotL/TL))\n",
    "print('X41 = {0:1.2f} W.'.format(X41))"
   ]
  },
  {
   "cell_type": "markdown",
   "id": "263c8849",
   "metadata": {},
   "source": [
    "### Part (c)\n",
    "\n",
    "The exergy flow associated with heat transferred from the low-temperature medium is:\n",
    "\n",
    "$$\\dot{X}_{Q_L} = \\dot{Q}_L\\frac{T_0 - T_L}{T_L} $$"
   ]
  },
  {
   "cell_type": "code",
   "execution_count": 82,
   "id": "db844e3b",
   "metadata": {},
   "outputs": [
    {
     "name": "stdout",
     "output_type": "stream",
     "text": [
      "XQL = 1016.07 W.\n"
     ]
    }
   ],
   "source": [
    "XQL = QdotL*((T0 - TL)/TL)\n",
    "print('XQL = {0:1.2f} W.'.format(XQL))"
   ]
  },
  {
   "cell_type": "markdown",
   "id": "4ab50d26",
   "metadata": {},
   "source": [
    "This is also the minimum or reversible power input for the cycle:\n",
    "$$\\dot{W}_\\text{min,in} = \\dot{X}_{Q_L} $$"
   ]
  },
  {
   "cell_type": "code",
   "execution_count": 83,
   "id": "9b96595f",
   "metadata": {},
   "outputs": [],
   "source": [
    "WdotMinIn = XQL"
   ]
  },
  {
   "cell_type": "markdown",
   "id": "5f081576",
   "metadata": {},
   "source": [
    "$$\\eta_\\text{II} = \\frac{\\dot{X}_{Q_L}}{\\dot{W}_\\text{in}} $$"
   ]
  },
  {
   "cell_type": "code",
   "execution_count": 84,
   "id": "2decda63",
   "metadata": {},
   "outputs": [
    {
     "name": "stdout",
     "output_type": "stream",
     "text": [
      "The second law efficiency of this cycle is 0.35.\n"
     ]
    }
   ],
   "source": [
    "eta_II = XQL/Wdotin\n",
    "print('The second law efficiency of this cycle is {0:1.2f}.'.format(eta_II))"
   ]
  },
  {
   "cell_type": "markdown",
   "id": "2820c9c0",
   "metadata": {},
   "source": [
    "### Part (d)\n",
    "\n",
    "The total exergy destruction is the difference between the exergy expended (power input) and the exergy recovered (the exergy of the heat transferred from the low-temperature medium):\n",
    "\n",
    "$$\\dot{X}_\\text{dest,total} = \\dot{W}_\\text{in} - \\dot{X}_{\\dot{Q}_L}$$"
   ]
  },
  {
   "cell_type": "code",
   "execution_count": 85,
   "id": "a790ab5f",
   "metadata": {},
   "outputs": [
    {
     "name": "stdout",
     "output_type": "stream",
     "text": [
      "Xtotal = 1902.89 W.\n"
     ]
    }
   ],
   "source": [
    "Xtotal = Wdotin - XQL\n",
    "print('Xtotal = {0:1.2f} W.'.format(Xtotal))"
   ]
  },
  {
   "cell_type": "markdown",
   "id": "77dd67f6",
   "metadata": {},
   "source": [
    "The total exergy destruction can also be calculated by summing the above terms:"
   ]
  },
  {
   "cell_type": "code",
   "execution_count": 86,
   "id": "63d5089c",
   "metadata": {},
   "outputs": [
    {
     "name": "stdout",
     "output_type": "stream",
     "text": [
      "Xdesttotal = 1902.89 W.\n"
     ]
    }
   ],
   "source": [
    "Xdesttotal = X12+X23+X34+X41\n",
    "print('Xdesttotal = {0:1.2f} W.'.format(Xdesttotal))"
   ]
  },
  {
   "cell_type": "markdown",
   "id": "7bd8fa14",
   "metadata": {},
   "source": [
    "So what's the most irreversible process?"
   ]
  },
  {
   "cell_type": "code",
   "execution_count": 87,
   "id": "843ca2dc",
   "metadata": {},
   "outputs": [
    {
     "name": "stdout",
     "output_type": "stream",
     "text": [
      "394.3123497098866\n",
      "426.23192777886044\n",
      "673.4987349192629\n",
      "408.8432533768627\n"
     ]
    }
   ],
   "source": [
    "print(X12)\n",
    "print(X23)\n",
    "print(X34)\n",
    "print(X41)"
   ]
  },
  {
   "cell_type": "markdown",
   "id": "4024c068",
   "metadata": {},
   "source": [
    "It's process 3 to 4, which is the expansion valve. Could we replace this with a turbine?\n",
    "\n",
    "We can also increase the evaporation temperature and decrease the condensing temperature. "
   ]
  },
  {
   "cell_type": "code",
   "execution_count": null,
   "id": "a1add404",
   "metadata": {},
   "outputs": [],
   "source": []
  }
 ],
 "metadata": {
  "kernelspec": {
   "display_name": "Python 3 (ipykernel)",
   "language": "python",
   "name": "python3"
  },
  "language_info": {
   "codemirror_mode": {
    "name": "ipython",
    "version": 3
   },
   "file_extension": ".py",
   "mimetype": "text/x-python",
   "name": "python",
   "nbconvert_exporter": "python",
   "pygments_lexer": "ipython3",
   "version": "3.11.10"
  }
 },
 "nbformat": 4,
 "nbformat_minor": 5
}
