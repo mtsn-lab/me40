{
 "cells": [
  {
   "cell_type": "code",
   "execution_count": 1,
   "id": "365c887a",
   "metadata": {},
   "outputs": [
    {
     "name": "stdout",
     "output_type": "stream",
     "text": [
      "Collecting pyCalor\n",
      "  Using cached pycalor-1.0.21-py3-none-any.whl.metadata (4.8 kB)\n",
      "Collecting CoolProp (from pyCalor)\n",
      "  Using cached coolprop-7.1.0-cp311-cp311-manylinux_2_17_x86_64.manylinux2014_x86_64.whl.metadata (282 bytes)\n",
      "Collecting igraph (from pyCalor)\n",
      "  Using cached igraph-0.11.9-cp39-abi3-manylinux_2_17_x86_64.manylinux2014_x86_64.whl.metadata (4.4 kB)\n",
      "Collecting texttable>=1.6.2 (from igraph->pyCalor)\n",
      "  Using cached texttable-1.7.0-py2.py3-none-any.whl.metadata (9.8 kB)\n",
      "Using cached pycalor-1.0.21-py3-none-any.whl (24 kB)\n",
      "Using cached coolprop-7.1.0-cp311-cp311-manylinux_2_17_x86_64.manylinux2014_x86_64.whl (15.1 MB)\n",
      "Using cached igraph-0.11.9-cp39-abi3-manylinux_2_17_x86_64.manylinux2014_x86_64.whl (4.4 MB)\n",
      "Using cached texttable-1.7.0-py2.py3-none-any.whl (10 kB)\n",
      "Installing collected packages: texttable, CoolProp, igraph, pyCalor\n",
      "\u001b[2K   \u001b[90m━━━━━━━━━━━━━━━━━━━━━━━━━━━━━━━━━━━━━━━━\u001b[0m \u001b[32m4/4\u001b[0m [pyCalor]m2/4\u001b[0m [igraph]p]\n",
      "\u001b[1A\u001b[2KSuccessfully installed CoolProp-7.1.0 igraph-0.11.9 pyCalor-1.0.21 texttable-1.7.0\n"
     ]
    }
   ],
   "source": [
    "!pip install pyCalor"
   ]
  },
  {
   "cell_type": "code",
   "execution_count": 2,
   "id": "eb884353",
   "metadata": {},
   "outputs": [],
   "source": [
    "from pyCalor import thermo as th"
   ]
  },
  {
   "cell_type": "code",
   "execution_count": 4,
   "id": "1495c28e",
   "metadata": {},
   "outputs": [],
   "source": [
    "# pressure should be in the units MPa, \n",
    "# temperature in the units K, \n",
    "# quality a number betwee 0 and 1.\n",
    "p1_MPa = 140/1000\n",
    "T1_K = 20+273.15\n",
    "\n",
    "water_1 = th.state('water',p=(p1_MPa,'Mpa'), T=(T1_K,'K'),name='1')"
   ]
  },
  {
   "cell_type": "code",
   "execution_count": 5,
   "id": "fd14dade",
   "metadata": {},
   "outputs": [
    {
     "name": "stdout",
     "output_type": "stream",
     "text": [
      "0.29645482259516354\n",
      "84.04369577420377\n"
     ]
    }
   ],
   "source": [
    "s1 = water_1.s; print(s1) # kJ/kg*K\n",
    "h1 = water_1.h; print(h1) # kJ/kg\n",
    "v1 = water_1.v # m3/kg\n",
    "u1 = water_1.u # kJ/kg"
   ]
  },
  {
   "cell_type": "code",
   "execution_count": 6,
   "id": "56a742e0-d167-49e6-84ad-59a58c68b149",
   "metadata": {},
   "outputs": [
    {
     "name": "stdout",
     "output_type": "stream",
     "text": [
      "2510.71036244087\n"
     ]
    }
   ],
   "source": [
    "m_kg = 1.5\n",
    "Qin_kJ = 3640\n",
    "\n",
    "h2_kJperkg = (Qin_kJ/m_kg)+water_1.h; print(h2_kJperkg)"
   ]
  },
  {
   "cell_type": "code",
   "execution_count": 7,
   "id": "ffbac585-a950-473e-80c3-38a2a17eeee2",
   "metadata": {},
   "outputs": [],
   "source": [
    "water_2 = th.state('water',p=(p1_MPa,'Mpa'), h=h2_kJperkg, name='2')"
   ]
  },
  {
   "cell_type": "code",
   "execution_count": 8,
   "id": "ec4e3085-e025-4f9e-ba41-1563bc4dae10",
   "metadata": {},
   "outputs": [
    {
     "data": {
      "text/plain": [
       "382.44158629531563"
      ]
     },
     "execution_count": 8,
     "metadata": {},
     "output_type": "execute_result"
    }
   ],
   "source": [
    "water_2.T"
   ]
  },
  {
   "cell_type": "code",
   "execution_count": 9,
   "id": "3436edce-7724-407c-8aae-c2f1849242e7",
   "metadata": {},
   "outputs": [
    {
     "data": {
      "text/plain": [
       "6.777295550924947"
      ]
     },
     "execution_count": 9,
     "metadata": {},
     "output_type": "execute_result"
    }
   ],
   "source": [
    "water_2.s"
   ]
  },
  {
   "cell_type": "code",
   "execution_count": 10,
   "id": "0b1cf1f2-d168-4883-ab26-538c8542bea8",
   "metadata": {},
   "outputs": [
    {
     "name": "stdout",
     "output_type": "stream",
     "text": [
      "9.721261092494675\n"
     ]
    }
   ],
   "source": [
    "dS_kJperK = m_kg*(water_2.s - water_1.s); print(dS_kJperK)"
   ]
  },
  {
   "cell_type": "code",
   "execution_count": null,
   "id": "81049f1d-9538-4dcf-8d21-a3b0f476a36b",
   "metadata": {},
   "outputs": [],
   "source": []
  }
 ],
 "metadata": {
  "kernelspec": {
   "display_name": "Python 3 (ipykernel)",
   "language": "python",
   "name": "python3"
  },
  "language_info": {
   "codemirror_mode": {
    "name": "ipython",
    "version": 3
   },
   "file_extension": ".py",
   "mimetype": "text/x-python",
   "name": "python",
   "nbconvert_exporter": "python",
   "pygments_lexer": "ipython3",
   "version": "3.11.13"
  }
 },
 "nbformat": 4,
 "nbformat_minor": 5
}
