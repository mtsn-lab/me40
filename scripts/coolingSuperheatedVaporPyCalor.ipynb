{
 "cells": [
  {
   "cell_type": "markdown",
   "id": "1531ae64",
   "metadata": {},
   "source": [
    "## Cooling of a superheated water vapor at constant pressure\n",
    "\n",
    "For information on how to use `pyCalor`, please see here: [link](https://pypi.org/project/pyCalor/)\n",
    "\n",
    "Given:\n",
    "- $T_1 = 600^\\circ$C\n",
    "- $p_1 = 5$ MPa.\n",
    "\n",
    "You cool the superheated vapor at constant pressure until it becomes a saturated vapor, $x_2 = 1$.\n",
    "\n",
    "Determine: \n",
    "- $T_2$\n",
    "- $T_2$ assuming that it is an ideal gas and not water vapor. Assume that $v_\\text{2,water} = v_\\text{2,idealgas}$"
   ]
  },
  {
   "cell_type": "code",
   "execution_count": 10,
   "id": "8b2b847a-4e44-461c-a212-dc6bd04acb53",
   "metadata": {},
   "outputs": [],
   "source": [
    "# !pip install iapws\n",
    "try:\n",
    "    from pyCalor import thermo as th\n",
    "except ImportError:\n",
    "    !pip install pyCalor\n",
    "    from pyCalor import thermo as th"
   ]
  },
  {
   "cell_type": "code",
   "execution_count": 29,
   "id": "2cfead37",
   "metadata": {},
   "outputs": [],
   "source": [
    "T1_C = 600\n",
    "p1_kPa = 5000\n",
    "\n",
    "# conversion \n",
    "p1_MPa = p1_kPa/1000\n",
    "T1_K = T1_C + 273.15"
   ]
  },
  {
   "cell_type": "markdown",
   "id": "32769975",
   "metadata": {},
   "source": [
    "### Solution\n",
    "We can use the property tables in the book to determine the answers or we can use \"digital\" tables. Here we will use the digital tables. Documentation for pyCalor:"
   ]
  },
  {
   "cell_type": "code",
   "execution_count": 30,
   "id": "365c887a",
   "metadata": {},
   "outputs": [
    {
     "name": "stdout",
     "output_type": "stream",
     "text": [
      "stateObject = state(fluidName, property1=value1, property2, value2, name=\"A\")\n",
      "    \n",
      "    fluidName = 'water, 'r134a', 'air', ''nitrogen', etc.\n",
      "    proporty1 and property2 are two independent intensive properties\n",
      "    value1 and value2 are propery values (in base units; see >>> th.state.units)\n",
      "    \n",
      "    Examples:\n",
      "        >>> import thermo as th\n",
      "        >>> th.state.units\n",
      "        >>> st1 = th.state('water', p=(1,'bar'), v=0.1, name=\"1\")\n",
      "        >>> st1.plot(\"Pv\")\n",
      "        >>> st2 = th.state('R134a', x=1, t=300, name=\"B\")\n",
      "        >>> st2.plot(\"Ts\",isoProp=\"v\")    \n",
      "        >>> st3 = th.state('air', p=(1,'Mpa'), t=(10,'c'))\n",
      "        >>> st3.name = \"2a\"\n",
      "    \n"
     ]
    }
   ],
   "source": [
    "print(th.state.__doc__)"
   ]
  },
  {
   "cell_type": "code",
   "execution_count": 31,
   "id": "1495c28e",
   "metadata": {},
   "outputs": [],
   "source": [
    "# pressure should be in the units MPa, \n",
    "# temperature in the units K, \n",
    "# quality a number betwee 0 and 1. \n",
    "st1 = th.state('Water',p=(p1_MPa,'Mpa'), T=(T1_C,'C'), name='1')"
   ]
  },
  {
   "cell_type": "code",
   "execution_count": 32,
   "id": "fd14dade",
   "metadata": {},
   "outputs": [],
   "source": [
    "s1 = st1.s # kJ/kg*K\n",
    "h1 = st1.h # kJ/kg\n",
    "v1 = st1.v # m3/kg\n",
    "u1 = st1.u # kJ/kg"
   ]
  },
  {
   "cell_type": "code",
   "execution_count": 33,
   "id": "70dd7577",
   "metadata": {},
   "outputs": [
    {
     "name": "stdout",
     "output_type": "stream",
     "text": [
      "The specific entropy is: 7.2605 kJ/kg*K\n",
      "The specific enthalpy is: 3666.8624 kJ/kg\n",
      "The specific volume is: 0.0787 m3/kg\n",
      "The specific internal energy is: 3273.3388 kJ/kg\n"
     ]
    }
   ],
   "source": [
    "print('The specific entropy is: {0:1.4f} kJ/kg*K'.format(s1))\n",
    "print('The specific enthalpy is: {0:1.4f} kJ/kg'.format(h1))\n",
    "print('The specific volume is: {0:1.4f} m3/kg'.format(v1))\n",
    "print('The specific internal energy is: {0:1.4f} kJ/kg'.format(u1))"
   ]
  },
  {
   "cell_type": "markdown",
   "id": "d3184153-b0e0-4d06-9f5f-899686c1e901",
   "metadata": {},
   "source": [
    "We can now determine the properties of state 2. Since we are told that the pressure is constant, we know that $p_1 = p_2$. With this information and knowledge about the $x_2 =1$, we have complete information about the second state:"
   ]
  },
  {
   "cell_type": "code",
   "execution_count": 39,
   "id": "8da9b0b4-cc69-40ab-b920-f2f5047c0bec",
   "metadata": {},
   "outputs": [],
   "source": [
    "p2_MPa = p1_MPa #isobaric\n",
    "x2 = 1;\n",
    "st2 = th.state('Water',P=(p2_MPa,'Mpa'), x=x2, name='2')"
   ]
  },
  {
   "cell_type": "code",
   "execution_count": 35,
   "id": "e7ef9ade-c4f2-4f77-818b-48c714112f96",
   "metadata": {},
   "outputs": [],
   "source": [
    "s2 = st2.s # kJ/kg*K\n",
    "h2 = st2.h # kJ/kg\n",
    "v2 = st2.v # m3/kg\n",
    "u2 = st2.u # kJ/kg\n",
    "T2 = st2.T # kJ/kg"
   ]
  },
  {
   "cell_type": "code",
   "execution_count": 36,
   "id": "6d066309-eb16-463d-8706-ecb0983a9f05",
   "metadata": {},
   "outputs": [
    {
     "name": "stdout",
     "output_type": "stream",
     "text": [
      "The specific entropy is: 5.9737 kJ/kg*K\n",
      "The specific enthalpy is: 2794.2053 kJ/kg\n",
      "The specific volume is: 0.0394 m3/kg\n",
      "The specific internal energy is: 2596.9759 kJ/kg\n",
      "The temperature is: 537.0907 K\n"
     ]
    }
   ],
   "source": [
    "print('The specific entropy is: {0:1.4f} kJ/kg*K'.format(s2))\n",
    "print('The specific enthalpy is: {0:1.4f} kJ/kg'.format(h2))\n",
    "print('The specific volume is: {0:1.4f} m3/kg'.format(v2))\n",
    "print('The specific internal energy is: {0:1.4f} kJ/kg'.format(u2))\n",
    "print('The temperature is: {0:1.4f} K'.format(T2))"
   ]
  },
  {
   "cell_type": "markdown",
   "id": "ce91cae1-857f-4360-971b-c2124a723cee",
   "metadata": {},
   "source": [
    "So now we know $T_2$ and $p_2$. It is instructive to plot this process on $T-v$ and $p-v$ diagrams."
   ]
  },
  {
   "cell_type": "code",
   "execution_count": 37,
   "id": "72c1b969-104e-4537-954a-66449700b795",
   "metadata": {},
   "outputs": [
    {
     "name": "stdout",
     "output_type": "stream",
     "text": [
      "pr = process([(state1,state2),(state2,state3),...])\n",
      "    \n",
      "    Examples:\n",
      "        >>> import thermo as th\n",
      "        >>> st1 = th.state('water', p=( 1,'bar'), x=0, name=\"A\")\n",
      "        >>> st2 = th.state('water', p=(20,'bar'), s=st1.s, name=\"B\")\n",
      "        >>> pr = process([st1,st2])\n",
      "        >>> pr.plot(\"pv\")\n",
      "        >>> st3 = th.state('water', p=(20,'bar'), x=1,name=\"C\")\n",
      "        >>> st4 = th.state('water', p=( 1,'bar'), s=st3.s, name=\"D\")\n",
      "        >>> pr2 = th.process([(st1,st2),(st2,st3),(st3,st4),(st4,st1)])\n",
      "        >>> pr2.plot(\"Ts\")\n",
      "    \n"
     ]
    }
   ],
   "source": [
    "print(th.process.__doc__)"
   ]
  },
  {
   "cell_type": "code",
   "execution_count": 43,
   "id": "a6867b53-8b29-40f3-8365-9fb3f9ae3cb7",
   "metadata": {},
   "outputs": [],
   "source": [
    "pr = th.process([(st1,st2)])\n",
    "# pr.plot(\"Tv\")"
   ]
  },
  {
   "cell_type": "code",
   "execution_count": 42,
   "id": "69392fc9-a14a-40a2-b6de-4d7d704b851a",
   "metadata": {},
   "outputs": [],
   "source": [
    "# pr.plot(\"pv\")"
   ]
  },
  {
   "cell_type": "markdown",
   "id": "8eb3649b-3a76-4709-8354-ab02ed186313",
   "metadata": {},
   "source": [
    "We can compare this answer with what we would get with an ideal gas:\n",
    "$p_1 = p_2$\n",
    "\n",
    "Ideal gas equation:\n",
    "\n",
    "$p_2 \\bar{v}_2 = R T_\\text{2,idealgas}$\n",
    "\n",
    "$\\implies T_\\text{2,idealgas} = p_2 \\bar{v}_2/R $\n",
    "\n"
   ]
  },
  {
   "cell_type": "code",
   "execution_count": 46,
   "id": "e85652b8-6966-4166-b333-eb8c323e3afc",
   "metadata": {},
   "outputs": [
    {
     "name": "stdout",
     "output_type": "stream",
     "text": [
      "T2_idealGas is: 427.3453 K\n"
     ]
    }
   ],
   "source": [
    "p2_Pa = p2_MPa*1e6; \n",
    "R = 8.3144598; # J⋅mol^−1⋅K^−1\n",
    "M = 0.0180153; # kg / mol\n",
    "v2_m3perMol = v2*M\n",
    "\n",
    "T2_idealGas_K = (p2_Pa*v2_m3perMol)/R\n",
    "print('T2_idealGas is: {0:1.4f} K'.format(T2_idealGas_K))\n",
    "\n",
    "R_JperKgPerK = R/M\n",
    "\n",
    "T2_idealGas_K_ = (p2_Pa*v2)/R_JperKgPerK"
   ]
  },
  {
   "cell_type": "markdown",
   "id": "f94b8e7c-5da6-4111-a6b2-2c4702249687",
   "metadata": {},
   "source": [
    "Compare this result with what we had above when using the water property database. The error is significant."
   ]
  },
  {
   "cell_type": "code",
   "execution_count": null,
   "id": "ec54fed3-0e96-46e8-a155-de6c6516925f",
   "metadata": {},
   "outputs": [],
   "source": []
  }
 ],
 "metadata": {
  "kernelspec": {
   "display_name": "Python 3 (ipykernel)",
   "language": "python",
   "name": "python3"
  },
  "language_info": {
   "codemirror_mode": {
    "name": "ipython",
    "version": 3
   },
   "file_extension": ".py",
   "mimetype": "text/x-python",
   "name": "python",
   "nbconvert_exporter": "python",
   "pygments_lexer": "ipython3",
   "version": "3.11.13"
  }
 },
 "nbformat": 4,
 "nbformat_minor": 5
}
