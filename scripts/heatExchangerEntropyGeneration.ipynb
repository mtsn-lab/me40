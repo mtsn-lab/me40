{
 "cells": [
  {
   "cell_type": "code",
   "execution_count": 5,
   "id": "f4ed255b-d79f-4ec6-88c1-ead66e30ae98",
   "metadata": {},
   "outputs": [
    {
     "name": "stdout",
     "output_type": "stream",
     "text": [
      "Requirement already satisfied: iapws in /srv/conda/lib/python3.11/site-packages (1.5.4)\n",
      "Requirement already satisfied: scipy>=1.2 in /srv/conda/lib/python3.11/site-packages (from iapws) (1.10.0)\n",
      "Requirement already satisfied: numpy<1.27.0,>=1.19.5 in /srv/conda/lib/python3.11/site-packages (from scipy>=1.2->iapws) (1.26.4)\n"
     ]
    }
   ],
   "source": [
    "!pip install iapws"
   ]
  },
  {
   "attachments": {},
   "cell_type": "markdown",
   "id": "4b988abe-7f86-4d87-ab6e-8f3c083b43d6",
   "metadata": {},
   "source": [
    "Problem 7-141 from Cengels Thermodynamics 9th edition\n",
    "\n",
    "Cold water (Cp = 4.18 kJ/kg.°C) leading to a shower enters a well-insulated, thin-walled, double-pipe, counterflow heat exchanger at 10°C at a rate of 0.95 kg/s and is heated to 70°C by hot water (Cp = 4.19 kJ/kg.°C) that enters at 85°C at a rate of 1.6 kg/s. Determine (a) the rate of heat transfer and (b) the rate of entropy generation in the heat exchanger."
   ]
  },
  {
   "cell_type": "code",
   "execution_count": 6,
   "id": "9242ecd8-1278-44e3-9b27-915383e04b64",
   "metadata": {},
   "outputs": [],
   "source": [
    "from iapws import IAPWS97"
   ]
  },
  {
   "cell_type": "code",
   "execution_count": 7,
   "id": "6fdef8c5-281f-4d3d-8e3a-0860ca51836e",
   "metadata": {},
   "outputs": [],
   "source": [
    "cpCold_kJperKgperK = 4.18\n",
    "cpHot_kJperKgperK = 4.19\n",
    "\n",
    "TColdIn_C = 10\n",
    "TColdOut_C = 70\n",
    "mdotCold_kgPerS = 0.95\n",
    "\n",
    "THotIn_C = 85\n",
    "mdotHot_kgPerS = 1.6"
   ]
  },
  {
   "cell_type": "markdown",
   "id": "3aac4fe2-50b5-458f-9acb-3c2bee3ba92e",
   "metadata": {},
   "source": [
    "Analyze the cold water control volume. Assume steady state.\n",
    "\n",
    "$\\dot{m}_\\text{in} = \\dot{m}_\\text{out}$\n",
    "\n",
    "$\\dot{E}_\\text{in} = \\dot{E}_\\text{out}$\n",
    "\n",
    "$\\dot{W}_\\text{in} + \\dot{Q}_\\text{in} + \\dot{m}\\left(h_1 + w_1^2/2 + gz_1 \\right) = \\dot{W}_\\text{out} + \\dot{Q}_\\text{out} + \\dot{m}\\left(h_2 + w_2^2/2 + gz_1 \\right)$ \n",
    "\n",
    "$\\dot{Q}_\\text{in} + \\dot{m}\\left(h_1\\right) = \\dot{m}\\left(h_2 \\right)$ \n",
    "\n",
    "$\\dot{Q}_\\text{in} = \\dot{m}\\left(h_2 - h_1 \\right) = \\dot{m} c_p \\left(T_2 - T_1 \\right)$ "
   ]
  },
  {
   "cell_type": "code",
   "execution_count": 11,
   "id": "6181a765-0a59-453e-bdb2-e1b337ae8164",
   "metadata": {},
   "outputs": [
    {
     "name": "stdout",
     "output_type": "stream",
     "text": [
      "(a) QdotIn_kW = 238.3 kW.\n"
     ]
    }
   ],
   "source": [
    "QdotIn_kW = mdotCold_kgPerS * cpCold_kJperKgperK* (TColdOut_C  - TColdIn_C) \n",
    "print('(a) QdotIn_kW = {0:1.1f} kW.'.format(QdotIn_kW))"
   ]
  },
  {
   "cell_type": "markdown",
   "id": "8f942592-5ff5-4c82-9e74-a97851367f3c",
   "metadata": {},
   "source": [
    "Let's compare this value with what we get when we use the property tables. "
   ]
  },
  {
   "cell_type": "code",
   "execution_count": 13,
   "id": "2c8022c3-655a-4d96-a0f3-2671e93c94d2",
   "metadata": {},
   "outputs": [],
   "source": [
    "p1_MPa = 0.1\n",
    "waterColdIn = IAPWS97(P=p1_MPa, T=TColdIn_C+273.15)\n",
    "waterColdOut = IAPWS97(P=p1_MPa, T=TColdOut_C+273.15)"
   ]
  },
  {
   "cell_type": "code",
   "execution_count": 15,
   "id": "15d32dbc-f74f-4e33-8c30-8465fc938b98",
   "metadata": {},
   "outputs": [
    {
     "name": "stdout",
     "output_type": "stream",
     "text": [
      "(a) Alternate answer: QdotIn_kW = 238.4 kW.\n"
     ]
    }
   ],
   "source": [
    "QdotIn_kW_ = mdotCold_kgPerS * (waterColdOut.h  - waterColdIn.h)\n",
    "print('(a) Alternate answer: QdotIn_kW = {0:1.1f} kW.'.format(QdotIn_kW_))"
   ]
  },
  {
   "cell_type": "code",
   "execution_count": null,
   "id": "10c4fa37-d86e-4128-b418-744e0f3e7264",
   "metadata": {},
   "outputs": [],
   "source": []
  }
 ],
 "metadata": {
  "kernelspec": {
   "display_name": "Python 3 (ipykernel)",
   "language": "python",
   "name": "python3"
  },
  "language_info": {
   "codemirror_mode": {
    "name": "ipython",
    "version": 3
   },
   "file_extension": ".py",
   "mimetype": "text/x-python",
   "name": "python",
   "nbconvert_exporter": "python",
   "pygments_lexer": "ipython3",
   "version": "3.11.9"
  }
 },
 "nbformat": 4,
 "nbformat_minor": 5
}
