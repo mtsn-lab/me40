{
 "cells": [
  {
   "cell_type": "code",
   "execution_count": 1,
   "id": "a06c7452-d21c-43c5-b6b8-ff029cef2df7",
   "metadata": {},
   "outputs": [],
   "source": [
    "try:\n",
    "    from iapws import IAPWS97\n",
    "except ImportError:\n",
    "    !pip install iapws\n",
    "    from iapws import IAPWS97"
   ]
  },
  {
   "cell_type": "code",
   "execution_count": 2,
   "id": "a67a3009-cfb8-48b9-9607-81fe8a3be3e3",
   "metadata": {},
   "outputs": [],
   "source": [
    "try:\n",
    "    from pyfluids import HumidAir, InputHumidAir\n",
    "except ImportError:\n",
    "    !pip install pyfluids\n",
    "    from pyfluids import HumidAir, InputHumidAir"
   ]
  },
  {
   "cell_type": "markdown",
   "id": "76b34d62-c611-41ea-ad2c-b0d767b5e485",
   "metadata": {},
   "source": [
    "An air-conditioning system operates at a total pressure of 95 kPa and consists of a heating section and a humidifier that supplies wet steam (saturated water vapor) at 100°C. Air enters the heating section at 10°C and 70 percent relative humidity at a rate of 35 m$^3$/min, and it leaves the humidifying section at 20°C and 60 percent relative humidity. \n",
    "\n",
    "Determine: \n",
    "- (a) the temperature and relative humidity of air when it leaves the heating section,\n",
    "- (b) the rate of heat transfer in the heating section, and\n",
    "- (c) the rate at which water is added to the air in the humidifying section.\n",
    "\n",
    "Answers:\n",
    "- (a) 19.5 C, 37.7%\n",
    "- (b) 391 kJ/min\n",
    "- (c) 0.147 kg/min"
   ]
  },
  {
   "cell_type": "code",
   "execution_count": 3,
   "id": "f7dc9843-2798-499b-ba88-0d787c6cb113",
   "metadata": {},
   "outputs": [],
   "source": [
    "# state 1\n",
    "p1_Pa = 95e3\n",
    "T1_C = 10 \n",
    "phi_1_percent = 70\n",
    "Vdot1_m3PerMin = 35\n",
    "Vdot1_m3PerS = Vdot1_m3PerMin/60\n",
    "\n",
    "# state 2\n",
    "p2_Pa = p1_Pa\n",
    "\n",
    "# state 3\n",
    "p3_Pa = p1_Pa\n",
    "T3_C = 20\n",
    "phi_3_percent = 60"
   ]
  },
  {
   "cell_type": "code",
   "execution_count": 6,
   "id": "51124ddd-bc36-4fa3-a721-74b7bc732fc7",
   "metadata": {},
   "outputs": [
    {
     "name": "stdout",
     "output_type": "stream",
     "text": [
      "24.2961764001007\n",
      "0.8580794146526238\n",
      "0.6798127578546843\n"
     ]
    }
   ],
   "source": [
    "# define state 1\n",
    "\n",
    "state1 = HumidAir().with_state(\n",
    "    InputHumidAir.pressure(p1_Pa),\n",
    "    InputHumidAir.temperature(T1_C),\n",
    "    InputHumidAir.relative_humidity(phi_1_percent),\n",
    "    #InputHumidAir.wet_bulb_temperature(Twb_C),\n",
    ")\n",
    "\n",
    "h1_JperKg = state1.enthalpy\n",
    "h1_kJperKg = h1_JperKg/1e3; print(h1_kJperKg)\n",
    "w1 = state1.humidity\n",
    "v1_m3PerKg = state1.specific_volume; print(v1_m3PerKg)\n",
    "\n",
    "mdotAir_kgPerS = Vdot1_m3PerS/v1_m3PerKg; print(mdotAir_kgPerS)"
   ]
  },
  {
   "cell_type": "markdown",
   "id": "0499ba74-a124-41aa-854a-2a35000b73b7",
   "metadata": {},
   "source": [
    "At state 2, we know that we haven't added any water, therefore, $\\omega_2 = \\omega_1$. We also know that the pressure at $p_2$ is the same as $p_1$. We need one more piece of information in order to have full information at that state. "
   ]
  },
  {
   "cell_type": "code",
   "execution_count": 5,
   "id": "a3cf6f90-098d-4a9a-b766-92e1da6a851f",
   "metadata": {},
   "outputs": [],
   "source": [
    "w2 = w1 \n",
    "p2_Pa = p1_Pa"
   ]
  },
  {
   "cell_type": "code",
   "execution_count": 9,
   "id": "9f930657-8f76-4a02-98b6-01d1db224275",
   "metadata": {},
   "outputs": [
    {
     "name": "stdout",
     "output_type": "stream",
     "text": [
      "43.48320052706497\n",
      "0.009364105201709692\n"
     ]
    }
   ],
   "source": [
    "# define state 3\n",
    "state3 = HumidAir().with_state(\n",
    "    InputHumidAir.pressure(p3_Pa),\n",
    "    InputHumidAir.temperature(T3_C),\n",
    "    InputHumidAir.relative_humidity(phi_3_percent),\n",
    "    #InputHumidAir.wet_bulb_temperature(Twb_C),\n",
    ")\n",
    "\n",
    "h3_JperKg = state3.enthalpy\n",
    "h3_kJperKg = h3_JperKg/1e3; print(h3_kJperKg)\n",
    "w3 = state3.humidity; print(w3)"
   ]
  },
  {
   "cell_type": "markdown",
   "id": "9414705c-86aa-4611-b709-4b39de7a7a02",
   "metadata": {},
   "source": [
    "Let's do a mass balance for the water flow:\n",
    "\n",
    "$$\\dot{m}_\\text{a}\\omega_1 + \\dot{m}_\\text{w} = \\dot{m}_\\text{a}\\omega_3$$\n",
    "\n",
    "$$\\dot{m}_\\text{w} = \\dot{m}_\\text{a}(\\omega_3 - \\omega_1)$$"
   ]
  },
  {
   "cell_type": "code",
   "execution_count": 12,
   "id": "92b4a745-8e0b-4030-b967-5cd0cadfd60d",
   "metadata": {},
   "outputs": [
    {
     "name": "stdout",
     "output_type": "stream",
     "text": [
      "(c) Rate of water addition to the humidifying section: 0.149 kg/min\n"
     ]
    }
   ],
   "source": [
    "mdotWater_kgPerS = mdotAir_kgPerS*(w3 - w1)\n",
    "print('(c) Rate of water addition to the humidifying section: {0:1.3f} kg/min'.format(mdotWater_kgPerS*60))"
   ]
  },
  {
   "cell_type": "markdown",
   "id": "4f17d3df-b958-40a6-ac1a-702147590f74",
   "metadata": {},
   "source": [
    "Let's do an energy balance now between states 2 and 3. \n",
    "\n",
    "$$\\dot{m}_\\text{a} h_2 + \\dot{m}_\\text{w} h_\\text{g} = \\dot{m}_\\text{a} h_3   $$\n",
    "\n",
    "$$\\implies  h_2 = \\dot{m}_\\text{a} h_3/\\dot{m}_\\text{a} - \\dot{m}_\\text{w} h_\\text{g}/\\dot{m}_\\text{a}  $$\n",
    "\n",
    "$$\\implies  h_2 = h_3 - \\dot{m}_\\text{w} h_\\text{g}/\\dot{m}_\\text{a}  $$"
   ]
  },
  {
   "cell_type": "code",
   "execution_count": 17,
   "id": "7af1e584-2966-478a-9bae-928c71870e1d",
   "metadata": {},
   "outputs": [],
   "source": [
    "# !pip install iapws\n",
    "try:\n",
    "    from iapws import IAPWS97\n",
    "except ImportError:\n",
    "    !pip install iapws\n",
    "    from iapws import IAPWS97"
   ]
  },
  {
   "cell_type": "code",
   "execution_count": 20,
   "id": "4c5171cc-fea3-46fa-b16e-0dfcfb592130",
   "metadata": {},
   "outputs": [
    {
     "name": "stdout",
     "output_type": "stream",
     "text": [
      "2675.572029220833\n"
     ]
    }
   ],
   "source": [
    "water = IAPWS97(T=100+273.15,x=1)\n",
    "hg_kJperKg = water.h; print(hg_kJperKg)"
   ]
  },
  {
   "cell_type": "code",
   "execution_count": 22,
   "id": "27738187-583f-46e6-acf3-47c4ef04b91f",
   "metadata": {},
   "outputs": [
    {
     "name": "stdout",
     "output_type": "stream",
     "text": [
      "33.68494093468713\n"
     ]
    }
   ],
   "source": [
    "h2_kJperKg = h3_kJperKg - (mdotWater_kgPerS/mdotAir_kgPerS)*hg_kJperKg; print(h2_kJperKg)\n",
    "h2_JperKg = h2_kJperKg*1e3"
   ]
  },
  {
   "cell_type": "code",
   "execution_count": 24,
   "id": "b0be7e8f-d89d-47f9-89dc-b86ba58ac57c",
   "metadata": {},
   "outputs": [
    {
     "name": "stdout",
     "output_type": "stream",
     "text": [
      "19.288313000544292\n"
     ]
    }
   ],
   "source": [
    "# define state 2\n",
    "\n",
    "state2 = HumidAir().with_state(\n",
    "    InputHumidAir.pressure(p2_Pa),\n",
    "    #InputHumidAir.temperature(T3_C),\n",
    "    InputHumidAir.humidity(w2),\n",
    "    InputHumidAir.enthalpy(h2_JperKg),\n",
    "    #InputHumidAir.relative_humidity(phi_3_percent),\n",
    "    #InputHumidAir.wet_bulb_temperature(Twb_C),\n",
    ")\n",
    "\n",
    "T2_C = state2.temperature; print(T2_C)\n",
    "phi_2_percent = state2.relative_humidity"
   ]
  },
  {
   "cell_type": "code",
   "execution_count": 26,
   "id": "91a6be18-54d8-46eb-95e8-7c4885f4dac8",
   "metadata": {},
   "outputs": [
    {
     "name": "stdout",
     "output_type": "stream",
     "text": [
      "(a) The temperature of air when it leaves the heating section: 19.29 C\n",
      "(a) The humidity of air when it leaves the heating section: 38.41 %\n"
     ]
    }
   ],
   "source": [
    "print('(a) The temperature of air when it leaves the heating section: {0:1.2f} C'.format(T2_C))\n",
    "print('(a) The humidity of air when it leaves the heating section: {0:1.2f} %'.format(phi_2_percent))"
   ]
  },
  {
   "cell_type": "markdown",
   "id": "9892661f-168d-4420-960b-991fcbd5dd6f",
   "metadata": {},
   "source": [
    "The rate of heat transfer is then:\n",
    "$$\\dot{Q}_\\text{in} = \\dot{m}_\\text{a} (h_2 - h_1) $$\n"
   ]
  },
  {
   "cell_type": "code",
   "execution_count": 28,
   "id": "412eeb9a-061f-49ce-84d2-016ca953c4d8",
   "metadata": {},
   "outputs": [],
   "source": [
    "QdotIn_kJperS = mdotAir_kgPerS*(h2_kJperKg - h1_kJperKg)"
   ]
  },
  {
   "cell_type": "code",
   "execution_count": 30,
   "id": "6f27b97b-6894-4118-a9dc-8630329d584a",
   "metadata": {},
   "outputs": [
    {
     "name": "stdout",
     "output_type": "stream",
     "text": [
      "(b) The rate of heat transfer in the heating section: 382.96 kJ/min\n"
     ]
    }
   ],
   "source": [
    "print('(b) The rate of heat transfer in the heating section: {0:1.2f} kJ/min'.format(QdotIn_kJperS*60))"
   ]
  },
  {
   "cell_type": "markdown",
   "id": "d5ade644-b800-458c-bd13-9aa0ddfcdebc",
   "metadata": {},
   "source": [
    "#### Checking water property values with those of CoolProp\n",
    "\n",
    "Let's determine the enthalpy of the water vapor using CoolProp."
   ]
  },
  {
   "cell_type": "code",
   "execution_count": 31,
   "id": "934dcddc-092a-497e-a69b-38581dc5dca7",
   "metadata": {},
   "outputs": [
    {
     "name": "stdout",
     "output_type": "stream",
     "text": [
      "Requirement already satisfied: CoolProp in /srv/conda/lib/python3.11/site-packages (6.6.0)\n"
     ]
    }
   ],
   "source": [
    "!pip install CoolProp"
   ]
  },
  {
   "cell_type": "code",
   "execution_count": 32,
   "id": "940b35e6-cfd3-4835-8501-41751a8b8413",
   "metadata": {},
   "outputs": [],
   "source": [
    "from CoolProp.CoolProp import PropsSI"
   ]
  },
  {
   "cell_type": "code",
   "execution_count": 35,
   "id": "fa604ddd-0ab4-4e27-a29f-5c41831c3934",
   "metadata": {},
   "outputs": [
    {
     "name": "stdout",
     "output_type": "stream",
     "text": [
      "2675.5698844194585\n",
      "8.01623485014104e-07\n"
     ]
    }
   ],
   "source": [
    "hg_JperKg_ = PropsSI('H','T',100+273.15,'Q',1,'water')\n",
    "hg_kJperKg_ = hg_JperKg_/1000; print(hg_kJperKg_)\n",
    "\n",
    "error = (hg_kJperKg - hg_kJperKg_)/hg_kJperKg; print(error)"
   ]
  },
  {
   "cell_type": "code",
   "execution_count": null,
   "id": "925a6e41-ba5c-479d-b678-2a1eb498e989",
   "metadata": {},
   "outputs": [],
   "source": []
  }
 ],
 "metadata": {
  "kernelspec": {
   "display_name": "Python 3 (ipykernel)",
   "language": "python",
   "name": "python3"
  },
  "language_info": {
   "codemirror_mode": {
    "name": "ipython",
    "version": 3
   },
   "file_extension": ".py",
   "mimetype": "text/x-python",
   "name": "python",
   "nbconvert_exporter": "python",
   "pygments_lexer": "ipython3",
   "version": "3.11.10"
  }
 },
 "nbformat": 4,
 "nbformat_minor": 5
}
