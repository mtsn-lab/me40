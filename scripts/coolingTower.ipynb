{
 "cells": [
  {
   "cell_type": "markdown",
   "id": "f64bcfad-363e-498c-8ad6-dcfcd9cb0690",
   "metadata": {},
   "source": [
    "### Power plant cooling\n",
    "\n",
    "Cooling water leaves the condenser of a power plant and enters a wet cooling tower at 35°C at a rate of 100 kg/s. Water is cooled to 22°C in the cooling tower by air that enters the tower at 1 atm, 20°C, and 60 percent relative humidity and leaves saturated at 30°C. \n",
    "\n",
    "Neglecting the power input to the fan, determine: \n",
    "- (a) the volume flow rate of air into the cooling tower and\n",
    "- (b) the mass flow rate of the required makeup water."
   ]
  },
  {
   "cell_type": "code",
   "execution_count": 3,
   "id": "e43b203b-9577-4063-a416-4ad585fe3615",
   "metadata": {},
   "outputs": [],
   "source": [
    "Tw3_C = 35\n",
    "mdot_w_kgPerS = 100\n",
    "\n",
    "Tw4_C = 22\n",
    "\n",
    "pAir_Pa = 101325\n",
    "Tair1_C = 20\n",
    "RH1 = 60\n",
    "\n",
    "Tair2_C = 30\n",
    "RH2 = 100"
   ]
  },
  {
   "cell_type": "markdown",
   "id": "f1c3c3c1-a74e-4087-96c7-9ff676c0d4c5",
   "metadata": {},
   "source": [
    "Defining states:\n",
    "- 1: undersaturated air entering the cooling tower\n",
    "- 2: saturated air exiting the cooling tower\n",
    "- 3: warm water entering the cooling tower\n",
    "- 4: cool water exiting the cooling tower"
   ]
  },
  {
   "cell_type": "code",
   "execution_count": 4,
   "id": "b85a1087-8c77-47a5-9e7f-bd652b1be65f",
   "metadata": {},
   "outputs": [],
   "source": [
    "try:\n",
    "    from iapws import IAPWS97\n",
    "except ImportError:\n",
    "    !pip install iapws\n",
    "    from iapws import IAPWS97"
   ]
  },
  {
   "cell_type": "code",
   "execution_count": 6,
   "id": "eb710312-5122-4370-9a5c-05adefd4e27f",
   "metadata": {},
   "outputs": [
    {
     "name": "stdout",
     "output_type": "stream",
     "text": [
      "146.6448016353406\n"
     ]
    }
   ],
   "source": [
    "# state 3\n",
    "state3 = IAPWS97(T=Tw3_C+273.15, x=0)\n",
    "h3_kJperKg = state3.h; print(h3_kJperKg)"
   ]
  },
  {
   "cell_type": "code",
   "execution_count": 7,
   "id": "f33531ce-92a1-4458-acf2-366241c9c19d",
   "metadata": {},
   "outputs": [
    {
     "name": "stdout",
     "output_type": "stream",
     "text": [
      "92.28904176486171\n"
     ]
    }
   ],
   "source": [
    "# state 4\n",
    "state4 = IAPWS97(T=Tw4_C+273.15, x=0)\n",
    "h4_kJperKg = state4.h; print(h4_kJperKg)"
   ]
  },
  {
   "cell_type": "code",
   "execution_count": 8,
   "id": "8148a6a7-307f-48c6-8794-a96f6077fd66",
   "metadata": {},
   "outputs": [],
   "source": [
    "try:\n",
    "    from pyfluids import HumidAir, InputHumidAir\n",
    "except ImportError:\n",
    "    !pip install pyfluids\n",
    "    from pyfluids import HumidAir, InputHumidAir"
   ]
  },
  {
   "cell_type": "code",
   "execution_count": 11,
   "id": "6c333fcf-523f-4710-9f67-f4ca56d28b0e",
   "metadata": {},
   "outputs": [
    {
     "name": "stdout",
     "output_type": "stream",
     "text": [
      "42.00662487579089\n",
      "0.008773013888634404\n",
      "0.8345067876192733\n"
     ]
    }
   ],
   "source": [
    "state1 = HumidAir().with_state(\n",
    "    InputHumidAir.pressure(pAir_Pa),\n",
    "    InputHumidAir.temperature(Tair1_C),\n",
    "    InputHumidAir.relative_humidity(RH1),\n",
    "    #InputHumidAir.wet_bulb_temperature(Twb_C),\n",
    ")\n",
    "\n",
    "h1_JperKg = state1.enthalpy\n",
    "h1_kJperKg = h1_JperKg/1e3; print(h1_kJperKg)\n",
    "w1 = state1.humidity; print(w1)\n",
    "v1_m3PerKg = state1.specific_volume; print(v1_m3PerKg)"
   ]
  },
  {
   "cell_type": "code",
   "execution_count": 14,
   "id": "3f164d65-f1af-4987-8ed2-8a3e97e859ec",
   "metadata": {},
   "outputs": [
    {
     "name": "stdout",
     "output_type": "stream",
     "text": [
      "97349.63193164689\n",
      "0.027332863482547005\n"
     ]
    }
   ],
   "source": [
    "state2 = HumidAir().with_state(\n",
    "    InputHumidAir.pressure(pAir_Pa),\n",
    "    InputHumidAir.temperature(Tair2_C),\n",
    "    InputHumidAir.relative_humidity(RH2),\n",
    "    #InputHumidAir.wet_bulb_temperature(Twb_C),\n",
    ")\n",
    "\n",
    "h2_JperKg = state2.enthalpy; print(h2_JperKg)\n",
    "h2_kJperKg = h2_JperKg/1e3\n",
    "w2 = state2.humidity; print(w2)"
   ]
  },
  {
   "cell_type": "markdown",
   "id": "2dd39384-c997-4a65-b38a-10671f46fd8c",
   "metadata": {},
   "source": [
    "Mass balance:\n",
    "$$\\dot{m}_\\text{a1} = \\dot{m}_\\text{a2} = \\dot{m}_\\text{a} $$\n",
    "\n",
    "$$\\dot{m}_3 + \\dot{m}_\\text{a1}\\omega_1 = \\dot{m}_4 + \\dot{m}_\\text{a2}\\omega_2$$\n",
    "\n",
    "Energy balance:\n",
    "\n",
    "$$\\dot{m}_\\text{a1}h_1 + \\dot{m}_\\text{3}h_3 = \\dot{m}_\\text{a2}h_2 + \\dot{m}_\\text{4}h_4 $$"
   ]
  },
  {
   "cell_type": "markdown",
   "id": "2f143baf-11ed-49d8-9d13-b6585e632faf",
   "metadata": {},
   "source": [
    "$$\\dot{m}_\\text{a}(h_1 - h_2) = \\dot{m}_\\text{4}h_4 - \\dot{m}_\\text{3}h_3 $$"
   ]
  },
  {
   "cell_type": "markdown",
   "id": "39fb9b71-1caa-40a6-b376-5c3a34da1001",
   "metadata": {},
   "source": [
    "The losses due to evaporation that must be \"made up\" are: \n",
    "\n",
    "$$\\dot{m}_\\text{makeup} = \\dot{m}_3 - \\dot{m}_4 = \\dot{m}_\\text{a} (\\omega_2 - \\omega_1)  $$\n",
    "\n",
    "\n",
    "Re-writing our energy balance yields:\n",
    "\n",
    "$$\\dot{m}_\\text{a}(h_1 - h_2) = (\\dot{m}_\\text{3} - \\dot{m}_\\text{makeup})h_4 - \\dot{m}_\\text{3}h_3 $$\n",
    "\n",
    "Substituting the definition for the makeup mass flow rate:\n",
    "\n",
    "\n",
    "\n",
    "\n"
   ]
  },
  {
   "cell_type": "markdown",
   "id": "1c904933-6dec-46d3-8d7e-460a0b28c7ec",
   "metadata": {},
   "source": [
    "$$\\dot{m}_\\text{a}(h_1 - h_2) = h_4\\dot{m}_\\text{3} - h_4(\\dot{m}_\\text{a} (\\omega_2 - \\omega_1) ) - \\dot{m}_\\text{3}h_3 $$"
   ]
  },
  {
   "cell_type": "markdown",
   "id": "c6ff1212-cb1b-49a8-9300-7113456ef18b",
   "metadata": {},
   "source": [
    "$$\\dot{m}_\\text{a}[(h_1 - h_2) + h_4(\\omega_2 - \\omega_1)] = h_4\\dot{m}_\\text{3} - \\dot{m}_\\text{3}h_3 $$"
   ]
  },
  {
   "cell_type": "markdown",
   "id": "67a3b645-93cb-4e1e-9c17-cccf60585a52",
   "metadata": {},
   "source": [
    "$$\\dot{m}_\\text{a} = \\frac{h_4\\dot{m}_\\text{3} - \\dot{m}_\\text{3}h_3}{[(h_1 - h_2) + h_4(\\omega_2 - \\omega_1)]} $$\n",
    "\n",
    "Rearranging:\n",
    "$$\\dot{m}_\\text{a} = \\frac{\\dot{m}_\\text{3}(h_3 - h_4)}{[(h_2 - h_1) - h_4(\\omega_2 - \\omega_1)]} $$"
   ]
  },
  {
   "cell_type": "code",
   "execution_count": 19,
   "id": "354ddc33-107a-4416-8762-61de1a7baca6",
   "metadata": {},
   "outputs": [
    {
     "name": "stdout",
     "output_type": "stream",
     "text": [
      "101.35301455247969\n"
     ]
    }
   ],
   "source": [
    "mdotAir_kgPerS = (mdot_w_kgPerS*(h3_kJperKg - h4_kJperKg))/((h2_kJperKg - h1_kJperKg)-(h4_kJperKg*(w2-w1))); print(mdotAir_kgPerS)"
   ]
  },
  {
   "cell_type": "code",
   "execution_count": 20,
   "id": "38193f10-4dbf-44e5-9b4b-5b3577af0f5a",
   "metadata": {},
   "outputs": [
    {
     "name": "stdout",
     "output_type": "stream",
     "text": [
      "(a) Volume flow rate of air into the cooling tower: 84.58 m3/s\n"
     ]
    }
   ],
   "source": [
    "Vdot_m3PerS = mdotAir_kgPerS*v1_m3PerKg\n",
    "\n",
    "print('(a) Volume flow rate of air into the cooling tower: {0:1.2f} m3/s'.format(Vdot_m3PerS))"
   ]
  },
  {
   "cell_type": "code",
   "execution_count": 21,
   "id": "df202900-0a16-40d9-b186-4cd40a1c42ab",
   "metadata": {},
   "outputs": [
    {
     "name": "stdout",
     "output_type": "stream",
     "text": [
      "(b) mdotMakeup_kgPerS: 1.88 kg/s\n"
     ]
    }
   ],
   "source": [
    "mdotMakeup_kgPerS = mdotAir_kgPerS*(w2 - w1)\n",
    "\n",
    "print('(b) mdotMakeup_kgPerS: {0:1.2f} kg/s'.format(mdotMakeup_kgPerS))"
   ]
  },
  {
   "cell_type": "code",
   "execution_count": null,
   "id": "b8b09182-0be3-4ba8-ac50-320a4fb67ee0",
   "metadata": {},
   "outputs": [],
   "source": []
  }
 ],
 "metadata": {
  "kernelspec": {
   "display_name": "Python 3 (ipykernel)",
   "language": "python",
   "name": "python3"
  },
  "language_info": {
   "codemirror_mode": {
    "name": "ipython",
    "version": 3
   },
   "file_extension": ".py",
   "mimetype": "text/x-python",
   "name": "python",
   "nbconvert_exporter": "python",
   "pygments_lexer": "ipython3",
   "version": "3.11.10"
  }
 },
 "nbformat": 4,
 "nbformat_minor": 5
}
