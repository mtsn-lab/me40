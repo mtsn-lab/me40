{
 "cells": [
  {
   "cell_type": "markdown",
   "id": "f28de3e1-b08e-471b-bcdf-f29c46ae5da8",
   "metadata": {},
   "source": [
    "## Problem Metadata \n",
    "DO NOT DELETE. This is a JSON Block. The metadata and course context MUST be in the first cell. \n",
    "\n",
    "```json\n",
    "{\n",
    "    \"problem_title\": \"exergyBalanceElectronicsCooling\",\n",
    "    \"author\": \"tschutzius\",\n",
    "    \"year\": \"Fa25\",\n",
    "    \"difficulty_tags\": [\"medium\"],\n",
    "    \"topic\": \"Exergy\",\n",
    "    \"lecture_reference\": {\n",
    "        \"lecture_id\": \"TBD\",\n",
    "        \"subtopics\": [\n",
    "            {\n",
    "                \"key\": \"TBD\",\n",
    "                \"topic\": \"TBD\"\n",
    "            }\n",
    "        ]\n",
    "    },\n",
    "    \"book_reference\": {\n",
    "        \"chapter_number\": 8,\n",
    "        \"title\": \"Exergy (Availability)\",\n",
    "        \"sections\": [\n",
    "            \"The Exergy Balance - Control Volumes\"\n",
    "        ]\n",
    "    },\n",
    "    \"notes\": \".\"\n",
    "}"
   ]
  },
  {
   "cell_type": "markdown",
   "id": "f340d5fc-f49a-445c-8cec-f93f07b8beba",
   "metadata": {},
   "source": [
    "## 1. Problem Statement\n",
    "### Analyzing: Hot water cooled electronics: Exergy analysis and waste heat reuse feasibility\n",
    "\n",
    "This article was published in the International Journal of Heat and Mass Transfer in 2012: https://www.sciencedirect.com/science/article/pii/S0017931012004553?via%3Dihub\n",
    "\n",
    "They use a flow loop to cool a heat sink that is attached to a computer chip:\n",
    "\n",
    "They perform first law (energy based) and second law (exergy based) analysis to understand how much waste heat they can recover and the quality of that recovered heat for potential reuse in building heating. They state that data centers require significant cooling, which is currently achieved with air. That air cooling requires a significant amount of energy. They state that liquid cooling should provide better heat transfer efficiency, and they hypothesize that if they use \"hot water\" to cool the chips, that this would keep the waste heat output from computers at higher exergy. This means it may have better potential for resuse, for example, in building heating. Instead of requiring extra energy for cooling, the cooling process itself can actulally bring a benefit by reducing the building heating energy requirements.\n",
    "\n",
    "### Analysis\n",
    "- define second law efficiency\n",
    "- determine exergy terms\n",
    "- calculate second law efficiency for different conditions"
   ]
  },
  {
   "cell_type": "markdown",
   "id": "de1cbe85-a690-4f85-ae6e-e7fbba17a934",
   "metadata": {},
   "source": [
    "## 2. Schematic \n",
    "Draw a schematic of a computer chip that is attached to a cold plate. The cold plate has water entering and leaving it. The chip is connected to electricity. Indicate that electrical work is transferred to the chip. Draw a control volume around the chip and the cold plate. There should be one fluid stream entering and one exiting. Electrical work is transferred into the control volume."
   ]
  },
  {
   "cell_type": "markdown",
   "id": "a05878fd-12d8-4588-b9e7-8ea683a1c955",
   "metadata": {},
   "source": [
    "## 3. Assumptions and Approximations\n",
    "* **Control Volume** (mass crosses the boundary).\n",
    "* **Properties** We can use `pyCalor` to determine properties. \n",
    "* **Steady-flow process** ($\\Delta m_\\text{CV}= 0$, $\\Delta E_\\text{CV}= 0$, $\\Delta S_\\text{CV}= 0$).\n",
    "* We have a single inlet and outlet ($\\dot{m}_\\text{in}$ and $\\dot{m}_\\text{out}$).\n",
    "* **No Shaft Work**\n",
    "* **Isobaric**: Heat exchangers are isobaric devices. (Justification: Negligible changes in pressure between the inlet and exit.)"
   ]
  },
  {
   "cell_type": "markdown",
   "id": "bd6ff237",
   "metadata": {},
   "source": [
    "## 4. Physical Laws\n",
    "### Analyzing: Hot water cooled electronics: Exergy analysis and waste heat reuse feasibility\n",
    "\n",
    "Second law efficiency can be defined as:\n",
    "\n",
    "$$\\eta_\\text{II} = \\frac{\\text{Exergy recovered}}{\\text{Exergy expended}} $$\n",
    "\n",
    "It is instructive to first look at the second law efficiency of a simple electric heater:\n",
    "\n",
    "$$\\eta_\\text{II,electric heater} = \\frac{\\dot{X}_\\text{recovered}}{\\dot{X}_\\text{expended}} = \\frac{\\dot{X}_\\text{heat}}{\\dot{W}_\\text{e}} = \\frac{\\dot{Q}_\\text{e} \\left(1 - T_0/T_\\text{H} \\right)}{\\dot{W}_\\text{e}} = 1 - \\frac{T_0}{T_\\text{H}} $$\n",
    "\n",
    "In the case of electronics cooling, there is exergy expended on running the computer and pump and the recovered exergy is heat exergy:\n",
    "\n",
    "$$\\eta_\\text{II} = \\frac{\\dot{X}_\\text{recovered}}{\\dot{X}_\\text{expended}} = \\frac{\\dot{X}_\\text{outlet}}{\\dot{X}_\\text{inlet} + \\dot{X}_\\text{el} + \\dot{P}_\\text{pump}}$$\n",
    "\n",
    "We can write the inlet and outlet exergy terms using this equation:\n",
    "\n",
    "$$ \\dot{X}_\\text{flow} = \\dot{m}\\left[\\left(h - h_0\\right) - T_0 \\left( s - s_0 \\right) \\right]$$\n",
    "\n",
    "In the study, they say that 100 W of electrical power is used for the processor chip, which is pure exergy. \n",
    "\n",
    "The maximum upper temperature where the chip can operate safely is this temperature, $T_\\text{max}$.\n",
    "\n",
    "They say that the pump has a flow rate of 1 L/min and that that the pump requires 0.24 W of power. The power for a pump can be estimated as:\n",
    "\n",
    "$$\\dot{P} = \\Delta p \\dot{V} $$\n",
    "\n",
    "All of the electrical exergy will become heat. Therefore, the heat transferred from the chip to the water is equal to the electrical work transferred into the chip. Therefore, \n",
    "\n",
    "$$T_\\text{out} - T_\\text{in} = \\frac{\\dot{Q}}{\\dot{m}c_p} $$\n",
    "\n",
    "For the exergy analysis, recall that: \n",
    "$$ \\dot{X}_\\text{flow} = \\dot{m}\\left[\\left(h - h_0\\right) - T_0 \\left( s - s_0 \\right) \\right]$$\n",
    "\n",
    "$$\\eta_\\text{II} = \\frac{\\dot{X}_\\text{recovered}}{\\dot{X}_\\text{expended}} = \\frac{\\dot{X}_\\text{outlet}}{\\dot{X}_\\text{inlet} + \\dot{X}_\\text{el} + \\dot{P}_\\text{pump}}$$\n",
    "\n",
    "We would like to study the effect of inlet water temperature on second law efficiency. \n",
    "Therefore, that will be an independent variable. What we need to know though is the outlet temperature from the device. \n",
    "For this, we will assume that the flow rate is kept constant. \n",
    "Therefore, from Newton's cooling law, we can estimate what the outlet temperature increase will be relative to the inlet temperature. \n",
    "We can estimate the mean temperature increase by assuming a constant value of specific heat, $c_p$.\n",
    "\n",
    "Our approach:\n",
    "- define the inlet temperature, which defines the properties.\n",
    "- the electrical exergy defines the heat transferred to the fluid, which determines the outlet temperature and properties. \n",
    "- calculate the flow exergy terms. \n",
    "- calculate the second law efficiency."
   ]
  },
  {
   "cell_type": "code",
   "execution_count": 11,
   "id": "8ca929c7",
   "metadata": {},
   "outputs": [
    {
     "name": "stdout",
     "output_type": "stream",
     "text": [
      "0.016637289829730256\n",
      "The temperature increase is: 1.4379 K\n"
     ]
    },
    {
     "data": {
      "image/png": "[encoded data removed]",
      "text/plain": [
       "<Figure size 640x480 with 1 Axes>"
      ]
     },
     "metadata": {},
     "output_type": "display_data"
    }
   ],
   "source": [
    "# 6 Calculations (Code Cell)\n",
    "mdot_kgPers = V_m3perS*rho0\n",
    "print(mdot_kgPers)\n",
    "\n",
    "# All of the electrical exergy will become heat. Therefore, the heat transferred from the chip to the water is:\n",
    "Q_W = Xel_W\n",
    "\n",
    "dT_K = Q_W / (mdot_kgPers*cp_JperKg )\n",
    "print('The temperature increase is: {0:1.4f} K'.format(dT_K))\n",
    "\n",
    "import numpy as np\n",
    "import matplotlib.pyplot as plt\n",
    "\n",
    "plt.figure()\n",
    "plt.clf()\n",
    "steps = 100\n",
    "\n",
    "T = np.linspace(300, Tmax_K, steps) # range of temperatures\n",
    "h0 = np.linspace(h0_kJperKg, h0_kJperKg, steps) # range of temperatures\n",
    "T0 = np.linspace(T0_K, T0_K, steps)\n",
    "s0 = np.linspace(s0_kJperKgperK, s0_kJperKgperK, steps)\n",
    "Xel = np.linspace(Xel_W, Xel_W, steps)\n",
    "P = np.linspace(P_W, P_W, steps)\n",
    "\n",
    "sin = [s.s for s in [th.state(substance,T=t, p=(p0_MPa,'Mpa')) for t in T]]\n",
    "hin = [s.h for s in [th.state(substance,T=t, p=(p0_MPa,'Mpa')) for t in T]]\n",
    "\n",
    "sout = [s.s for s in [th.state(substance,T=t+dT_K, p=(p0_MPa,'Mpa')) for t in T]]\n",
    "hout = [s.h for s in [th.state(substance,T=t+dT_K, p=(p0_MPa,'Mpa')) for t in T]]\n",
    "\n",
    "Xdot_in = mdot_kgPers*(hin - h0 - T0*(sin - s0))\n",
    "Xdot_out = mdot_kgPers*(hout - h0 - T0*(sout - s0))\n",
    "\n",
    "eta = Xdot_out/(Xdot_in + (Xel/1000) + (P/1000))\n",
    "\n",
    "plt.plot(T, eta, 'k-')\n",
    "\n",
    "plt.xlabel('$T_{in}$ (K))')\n",
    "plt.ylabel('$\\eta_{II}$ (-)')\n",
    "plt.savefig('eta-Tin.png')"
   ]
  },
  {
   "cell_type": "markdown",
   "id": "d4d8f95f-3c12-4850-a1f8-c270ee67f763",
   "metadata": {},
   "source": [
    "## 7. Summary and Reasoning\n",
    "\n",
    "This is simplified analysis, but it shows the plausibility of using hot water to cool electronics in order to facilitate heat reuse. This can minimize the overall system carbon footprint because the recovered heat can replace significant amounts of fossil fuels used in secondary applications such as building heating."
   ]
  },
  {
   "cell_type": "markdown",
   "id": "5a5f0dd4",
   "metadata": {},
   "source": [
    "THIS SHOULD BE THE FINAL CELL, DO NOT ADD OTHERS AFTER THIS, EVEN IF THEY'RE EMPTY\n",
    "--- End of the Jupyter Notebook ---"
   ]
  }
 ],
 "metadata": {
  "kernelspec": {
   "display_name": "Python 3 (ipykernel)",
   "language": "python",
   "name": "python3"
  },
  "language_info": {
   "codemirror_mode": {
    "name": "ipython",
    "version": 3
   },
   "file_extension": ".py",
   "mimetype": "text/x-python",
   "name": "python",
   "nbconvert_exporter": "python",
   "pygments_lexer": "ipython3",
   "version": "3.10.18"
  }
 },
 "nbformat": 4,
 "nbformat_minor": 5
}
