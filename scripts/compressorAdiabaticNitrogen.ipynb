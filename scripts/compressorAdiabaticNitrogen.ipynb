{
 "cells": [
  {
   "cell_type": "code",
   "execution_count": 1,
   "id": "66e980c2-1ab0-4425-ba67-9552bca0e3da",
   "metadata": {},
   "outputs": [
    {
     "name": "stdout",
     "output_type": "stream",
     "text": [
      "Collecting CoolProp\n",
      "  Using cached CoolProp-6.6.0-cp311-cp311-manylinux_2_17_x86_64.manylinux2014_x86_64.whl (7.3 MB)\n",
      "Installing collected packages: CoolProp\n",
      "Successfully installed CoolProp-6.6.0\n"
     ]
    }
   ],
   "source": [
    "!pip install CoolProp"
   ]
  },
  {
   "cell_type": "code",
   "execution_count": 2,
   "id": "39d3980e-c8ed-4f24-8a0c-c85f9ea794a3",
   "metadata": {},
   "outputs": [],
   "source": [
    "from CoolProp.CoolProp import PropsSI"
   ]
  },
  {
   "cell_type": "code",
   "execution_count": 3,
   "id": "b48ee82c-d6ae-4814-9e71-ef11978c9271",
   "metadata": {},
   "outputs": [],
   "source": [
    "fluid = 'nitrogen'"
   ]
  },
  {
   "cell_type": "code",
   "execution_count": 4,
   "id": "115b1ed2-80d3-483a-85a4-5d59c9573125",
   "metadata": {},
   "outputs": [],
   "source": [
    "p1_Pa = 110e3\n",
    "T1_C = 30\n",
    "T1_K = T1_C + 273.15\n",
    "\n",
    "p2_Pa = 682e3"
   ]
  },
  {
   "cell_type": "code",
   "execution_count": 5,
   "id": "09b77b04-6c84-4bc9-adef-fecffbaabf82",
   "metadata": {},
   "outputs": [
    {
     "name": "stdout",
     "output_type": "stream",
     "text": [
      "314455.0322751732\n",
      "6828.172388564683\n"
     ]
    }
   ],
   "source": [
    "h1_JperKg = PropsSI('H','T',T1_K,'P',p1_Pa,fluid); print(h1_JperKg)\n",
    "s1_JperKgperK = PropsSI('S','T',T1_K,'P',p1_Pa,fluid); print(s1_JperKgperK)"
   ]
  },
  {
   "cell_type": "code",
   "execution_count": 6,
   "id": "e18cbc31-95b7-400e-bcea-1e57886536b4",
   "metadata": {},
   "outputs": [],
   "source": [
    "s2_JperKgperK = s1_JperKgperK "
   ]
  },
  {
   "cell_type": "code",
   "execution_count": 17,
   "id": "344cf66d-0af9-481e-ae51-228e0b595b63",
   "metadata": {},
   "outputs": [
    {
     "name": "stdout",
     "output_type": "stream",
     "text": [
      "529980.7769910189\n",
      "509.21562922030313\n"
     ]
    }
   ],
   "source": [
    "h2_JperKg = PropsSI('H','P',p2_Pa,'S',s2_JperKgperK,fluid); print(h2_JperKg)\n",
    "T2_K_ = PropsSI('T','P',p2_Pa,'S',s2_JperKgperK,fluid); print(T2_K_)"
   ]
  },
  {
   "cell_type": "code",
   "execution_count": 8,
   "id": "1dc2c5ac-4703-4ad9-b2a1-2eea70ce5c1e",
   "metadata": {},
   "outputs": [
    {
     "name": "stdout",
     "output_type": "stream",
     "text": [
      "215525.74471584574\n"
     ]
    }
   ],
   "source": [
    "WdotIn_JperKg = h2_JperKg - h1_JperKg; print(WdotIn_JperKg)\n",
    "WdotIn_kJperKg = WdotIn_JperKg/1000"
   ]
  },
  {
   "cell_type": "code",
   "execution_count": 18,
   "id": "72769ecf-4e63-4392-9d78-6aa64c0199d4",
   "metadata": {},
   "outputs": [
    {
     "name": "stdout",
     "output_type": "stream",
     "text": [
      "1041.509364849375\n",
      "1060.5939885024793\n",
      "1051.0516766759272\n"
     ]
    }
   ],
   "source": [
    "# Can also do this using the TdS relations. For that we need to know the specific heats.\n",
    "# We will determine T2 using those relations. Then we can go to the air property tables to determine enthalpy.\n",
    "# C: Specific heat at constant pressure [kJ/kg/K]\n",
    "cp1_kJperKgperK = PropsSI('C','T',T1_K,'P',p1_Pa,fluid); print(cp1_kJperKgperK)\n",
    "cp2_kJperKgperK = PropsSI('C','P',p2_Pa,'S',s2_JperKgperK,fluid); print(cp2_kJperKgperK)\n",
    "\n",
    "cp_avg_kJperKgperK = (cp1_kJperKgperK+cp2_kJperKgperK)/2; print(cp_avg_kJperKgperK)\n"
   ]
  },
  {
   "cell_type": "code",
   "execution_count": 14,
   "id": "82ba6e4f-04a7-4311-9260-69181503f278",
   "metadata": {},
   "outputs": [
    {
     "name": "stdout",
     "output_type": "stream",
     "text": [
      "743.2387910363043\n",
      "761.1651663935752\n",
      "752.2019787149397\n"
     ]
    }
   ],
   "source": [
    "# O: Specific heat at constant volume [kJ/kg/K]\n",
    "cv1_kJperKgperK = PropsSI('O','T',T1_K,'P',p1_Pa,fluid); print(cv1_kJperKgperK)\n",
    "cv2_kJperKgperK = PropsSI('O','P',p2_Pa,'S',s2_JperKgperK,fluid); print(cv2_kJperKgperK)\n",
    "\n",
    "cv_avg_kJperKgperK = (cv1_kJperKgperK+cv2_kJperKgperK)/2; print(cv_avg_kJperKgperK)"
   ]
  },
  {
   "cell_type": "code",
   "execution_count": 15,
   "id": "b0b9c8d0-7a3b-4598-bf39-8f849db27a05",
   "metadata": {},
   "outputs": [
    {
     "name": "stdout",
     "output_type": "stream",
     "text": [
      "1.3972998030017705\n"
     ]
    }
   ],
   "source": [
    "k = cp_avg_kJperKgperK/cv_avg_kJperKgperK; print(k)"
   ]
  },
  {
   "cell_type": "code",
   "execution_count": 16,
   "id": "7f75463c-83cc-4ab0-a281-7f04f53916ec",
   "metadata": {},
   "outputs": [
    {
     "name": "stdout",
     "output_type": "stream",
     "text": [
      "509.2856613018043\n"
     ]
    }
   ],
   "source": [
    "T2_K = T1_K * (p2_Pa/p1_Pa)**((k-1)/k); print(T2_K)"
   ]
  },
  {
   "cell_type": "code",
   "execution_count": 19,
   "id": "e4162910-7eb1-41c8-b4a1-9033c89f62a2",
   "metadata": {},
   "outputs": [
    {
     "name": "stdout",
     "output_type": "stream",
     "text": [
      "530055.0529618565\n"
     ]
    }
   ],
   "source": [
    "h2_JperKg_ = PropsSI('H','P',p2_Pa,'T',T2_K,fluid); print(h2_JperKg_)"
   ]
  },
  {
   "cell_type": "code",
   "execution_count": 20,
   "id": "a854b6f6-8190-4c40-9f94-14c662a9270e",
   "metadata": {},
   "outputs": [
    {
     "name": "stdout",
     "output_type": "stream",
     "text": [
      "215600.0206866833\n"
     ]
    }
   ],
   "source": [
    "WdotIn_JperKg_ = h2_JperKg_ - h1_JperKg; print(WdotIn_JperKg_)"
   ]
  },
  {
   "cell_type": "code",
   "execution_count": 21,
   "id": "6b061d13-57b8-462a-b6e3-c3ba1afea617",
   "metadata": {},
   "outputs": [
    {
     "name": "stdout",
     "output_type": "stream",
     "text": [
      "-0.0003446269072657385\n"
     ]
    }
   ],
   "source": [
    "error = (WdotIn_JperKg-WdotIn_JperKg_)/WdotIn_JperKg; print(error)"
   ]
  },
  {
   "cell_type": "code",
   "execution_count": null,
   "id": "5427a511-6cb7-460c-8b2e-5b1cb8ee9d93",
   "metadata": {},
   "outputs": [],
   "source": []
  }
 ],
 "metadata": {
  "kernelspec": {
   "display_name": "Python 3 (ipykernel)",
   "language": "python",
   "name": "python3"
  },
  "language_info": {
   "codemirror_mode": {
    "name": "ipython",
    "version": 3
   },
   "file_extension": ".py",
   "mimetype": "text/x-python",
   "name": "python",
   "nbconvert_exporter": "python",
   "pygments_lexer": "ipython3",
   "version": "3.11.9"
  }
 },
 "nbformat": 4,
 "nbformat_minor": 5
}
