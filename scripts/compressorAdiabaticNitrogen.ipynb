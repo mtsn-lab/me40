{
 "cells": [
  {
   "cell_type": "code",
   "execution_count": 1,
   "id": "66e980c2-1ab0-4425-ba67-9552bca0e3da",
   "metadata": {},
   "outputs": [
    {
     "name": "stdout",
     "output_type": "stream",
     "text": [
      "Collecting CoolProp\n",
      "  Using cached CoolProp-6.6.0-cp311-cp311-manylinux_2_17_x86_64.manylinux2014_x86_64.whl (7.3 MB)\n",
      "Installing collected packages: CoolProp\n",
      "Successfully installed CoolProp-6.6.0\n"
     ]
    }
   ],
   "source": [
    "!pip install CoolProp"
   ]
  },
  {
   "cell_type": "code",
   "execution_count": 2,
   "id": "39d3980e-c8ed-4f24-8a0c-c85f9ea794a3",
   "metadata": {},
   "outputs": [],
   "source": [
    "from CoolProp.CoolProp import PropsSI"
   ]
  },
  {
   "cell_type": "code",
   "execution_count": 3,
   "id": "b48ee82c-d6ae-4814-9e71-ef11978c9271",
   "metadata": {},
   "outputs": [],
   "source": [
    "fluid = 'nitrogen'"
   ]
  },
  {
   "cell_type": "code",
   "execution_count": 11,
   "id": "115b1ed2-80d3-483a-85a4-5d59c9573125",
   "metadata": {},
   "outputs": [],
   "source": [
    "p1_Pa = 110e3\n",
    "T1_C = 30\n",
    "T1_K = T1_C + 273.15\n",
    "\n",
    "p2_Pa = 682e3"
   ]
  },
  {
   "cell_type": "code",
   "execution_count": 12,
   "id": "09b77b04-6c84-4bc9-adef-fecffbaabf82",
   "metadata": {},
   "outputs": [
    {
     "name": "stdout",
     "output_type": "stream",
     "text": [
      "314455.0322751732\n",
      "6828.172388564683\n"
     ]
    }
   ],
   "source": [
    "h1_JperKg = PropsSI('H','T',T1_K,'P',p1_Pa,fluid); print(h1_JperKg)\n",
    "s1_JperKgperK = PropsSI('S','T',T1_K,'P',p1_Pa,fluid); print(s1_JperKgperK)"
   ]
  },
  {
   "cell_type": "code",
   "execution_count": 13,
   "id": "e18cbc31-95b7-400e-bcea-1e57886536b4",
   "metadata": {},
   "outputs": [],
   "source": [
    "s2_JperKgperK = s1_JperKgperK "
   ]
  },
  {
   "cell_type": "code",
   "execution_count": 14,
   "id": "344cf66d-0af9-481e-ae51-228e0b595b63",
   "metadata": {},
   "outputs": [
    {
     "name": "stdout",
     "output_type": "stream",
     "text": [
      "529980.7769910189\n"
     ]
    }
   ],
   "source": [
    "h2_JperKg = PropsSI('H','P',p2_Pa,'S',s2_JperKgperK,fluid); print(h2_JperKg)"
   ]
  },
  {
   "cell_type": "code",
   "execution_count": 15,
   "id": "1dc2c5ac-4703-4ad9-b2a1-2eea70ce5c1e",
   "metadata": {},
   "outputs": [
    {
     "name": "stdout",
     "output_type": "stream",
     "text": [
      "215525.74471584574\n"
     ]
    }
   ],
   "source": [
    "WdotIn_JperKg = h2_JperKg - h1_JperKg; print(WdotIn_JperKg)\n",
    "WdotIn_kJperKg = WdotIn_JperKg/1000"
   ]
  },
  {
   "cell_type": "code",
   "execution_count": null,
   "id": "72769ecf-4e63-4392-9d78-6aa64c0199d4",
   "metadata": {},
   "outputs": [],
   "source": []
  }
 ],
 "metadata": {
  "kernelspec": {
   "display_name": "Python 3 (ipykernel)",
   "language": "python",
   "name": "python3"
  },
  "language_info": {
   "codemirror_mode": {
    "name": "ipython",
    "version": 3
   },
   "file_extension": ".py",
   "mimetype": "text/x-python",
   "name": "python",
   "nbconvert_exporter": "python",
   "pygments_lexer": "ipython3",
   "version": "3.11.9"
  }
 },
 "nbformat": 4,
 "nbformat_minor": 5
}
