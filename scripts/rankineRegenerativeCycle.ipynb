{
 "cells": [
  {
   "cell_type": "markdown",
   "id": "1531ae64",
   "metadata": {},
   "source": [
    "## The Ideal Regenerative Rankine Cycle\n",
    "Consider a steam power plant operating on the ideal regenerative Rankine cycle with one open feedwater heater. Here are the states:\n",
    "\n"
   ]
  },
  {
   "cell_type": "markdown",
   "id": "301f24f2",
   "metadata": {},
   "source": [
    "- (1) after the condenser, entering the pump;\n",
    "- (2) after the pump, entering the feedwater heater;\n",
    "- (3) after the feedwater heater, entering the second pump;\n",
    "- (4) after the second pump, entering the boiler;\n",
    "- (5) after the boiler, entering the turbine;\n",
    "- (6) after the turbine, entering the feedwater heater;\n",
    "- (7) after the turbine, entering the condenser."
   ]
  },
  {
   "cell_type": "markdown",
   "id": "299bb340",
   "metadata": {},
   "source": [
    "Steam enters the high-pressure turbine at $p_5$ and $T_5$.\n",
    "\n",
    "Steam then enters the feedwater heater at $p_6$.\n",
    "\n",
    "Steam is then condensed in the condeser at a pressure of $p_7$. \n",
    "\n",
    "Determine:\n",
    "- the fraction of steam extracted from the turbine;\n",
    "- the thermal efficiency of this cycle."
   ]
  },
  {
   "cell_type": "code",
   "execution_count": 10,
   "id": "2cfead37",
   "metadata": {},
   "outputs": [],
   "source": [
    "T5_C = 600\n",
    "p5_MPa = 15\n",
    "\n",
    "p6_MPa = 1.2\n",
    "p7_MPa = 10/1000\n",
    "\n",
    "# conversion \n",
    "T5_K = T5_C + 273.15"
   ]
  },
  {
   "cell_type": "markdown",
   "id": "32769975",
   "metadata": {},
   "source": [
    "### Solution\n",
    "A steam power plant operates on the ideal regenerative Rankine cycle with one open feedwater heater. The fraction of steam extracted from the turbine and the thermal efficiency are to be determined. \n",
    "\n",
    "### Assumptions\n",
    "- steady operating conditions exist\n",
    "- kinetic and potential energy changes are negligible \n",
    "- as the power plant operates on the ideal Rankine cycle, we assume that the pump and turbine are isentropic; there are no pressure drops in the boiler and condenser; and steam leaves the condenser and feedwater heater and enters the pump as a saturated liquid at the condenser pressure."
   ]
  },
  {
   "cell_type": "code",
   "execution_count": 11,
   "id": "3942ab21",
   "metadata": {},
   "outputs": [],
   "source": [
    "x3 = 0\n",
    "x7 = 0\n",
    "\n",
    "p1_MPa = p7_MPa"
   ]
  },
  {
   "cell_type": "markdown",
   "id": "8cd434ca",
   "metadata": {},
   "source": [
    "### Analysis\n",
    "To solve this, we need to know the properties at all of the states. For this, we can use the IAPWS module as our working fluid is water. "
   ]
  },
  {
   "cell_type": "code",
   "execution_count": 12,
   "id": "365c887a",
   "metadata": {},
   "outputs": [
    {
     "name": "stdout",
     "output_type": "stream",
     "text": [
      "Requirement already satisfied: iapws in /srv/conda/lib/python3.11/site-packages (1.5.4)\n",
      "Requirement already satisfied: scipy>=1.2 in /srv/conda/lib/python3.11/site-packages (from iapws) (1.10.0)\n",
      "Requirement already satisfied: numpy<1.27.0,>=1.19.5 in /srv/conda/lib/python3.11/site-packages (from scipy>=1.2->iapws) (1.26.4)\n"
     ]
    }
   ],
   "source": [
    "!pip install iapws"
   ]
  },
  {
   "cell_type": "markdown",
   "id": "75ea9b85",
   "metadata": {},
   "source": [
    "IAPWS stands for \"The International Association for the Properties of Water and Steam\". According to them, they are \"...an international non-profit association of national organizations concerned with the properties of water and steam, particularly thermophysical properties, cycle chemistry guidelines, and other aspects of high-temperature steam, water and aqueous mixtures relevant to thermal power cycles and other industrial and scientific applications.\"\n",
    "\n",
    "This looks like:"
   ]
  },
  {
   "cell_type": "code",
   "execution_count": 13,
   "id": "eb884353",
   "metadata": {},
   "outputs": [],
   "source": [
    "from iapws import IAPWS97"
   ]
  },
  {
   "cell_type": "markdown",
   "id": "4cb22450",
   "metadata": {},
   "source": [
    "In order to calculate a thermodynamic property, we need to define several properties, such as temperature $T$ and pressure $p$, and for vapor-liquid mixtures, the quality $x$. $T$ should be in the units Kelvin, $p$ should be in MPa, and $x$ should be between 0 and 1.\n",
    "\n",
    "State 1 is a saturated liquid. Therefore, $x = 0$:"
   ]
  },
  {
   "cell_type": "code",
   "execution_count": 14,
   "id": "acbc8609",
   "metadata": {},
   "outputs": [],
   "source": [
    "x1 = 0"
   ]
  },
  {
   "cell_type": "markdown",
   "id": "e28bb60b",
   "metadata": {},
   "source": [
    "We then have enough information to calculate all of the thermodynamic properties at this state. The first step in determining properties like $p$, specific entropy $s$, specific enthalpy $h$, etc., is to use the IAPWS97 module. This is written in this case as:"
   ]
  },
  {
   "cell_type": "code",
   "execution_count": 15,
   "id": "1495c28e",
   "metadata": {},
   "outputs": [],
   "source": [
    "# pressure should be in the units MPa, \n",
    "# temperature in the units K, \n",
    "# quality a number betwee 0 and 1. \n",
    "P1 = p1_MPa\n",
    "sat_liquid1 = IAPWS97(P=P1, x=x1)"
   ]
  },
  {
   "cell_type": "markdown",
   "id": "8b23cb58",
   "metadata": {},
   "source": [
    "From this, we can now calculate $T_1$ (K), $s_1$ (kJ/(kg K)), $h_1$ (kJ/kg), specific volume $v_1$ (m$^3$/kg)."
   ]
  },
  {
   "cell_type": "code",
   "execution_count": 16,
   "id": "fd14dade",
   "metadata": {},
   "outputs": [],
   "source": [
    "T1 = sat_liquid1.T # K\n",
    "s1 = sat_liquid1.s # kJ/kg*K\n",
    "h1 = sat_liquid1.h # kJ/kg\n",
    "v1 = sat_liquid1.v # m3/kg"
   ]
  },
  {
   "cell_type": "markdown",
   "id": "44d1990e",
   "metadata": {},
   "source": [
    "If we want to analyze a steam cycle, we can define three other states. Here we will look at a Rankine cycle, an idealized cycle for a thermoelectric powerplant. So we can say that state 2 is after the compressor, so the pressure is higher ($p_2$), and we will assume that the compressor is isentropic ($s_1 = s_2$):"
   ]
  },
  {
   "cell_type": "code",
   "execution_count": 17,
   "id": "e0e7a22d",
   "metadata": {},
   "outputs": [],
   "source": [
    "p2_MPa = p6_MPa\n",
    "P2 = p2_MPa        # MPa\n",
    "s2 = s1            # kJ/kg*K"
   ]
  },
  {
   "cell_type": "markdown",
   "id": "00a0adb8",
   "metadata": {},
   "source": [
    "Again, we can calculate the properties at this state as:"
   ]
  },
  {
   "cell_type": "code",
   "execution_count": 19,
   "id": "7637516e",
   "metadata": {},
   "outputs": [],
   "source": [
    "sat_liquid2 = IAPWS97(P=P2, s=s1)\n",
    "T2 = sat_liquid2.T # K\n",
    "h2 = sat_liquid2.h # kJ/kg"
   ]
  },
  {
   "cell_type": "markdown",
   "id": "e3746713",
   "metadata": {},
   "source": [
    "With the values of $p_1$, $p_2$, and $v_1$ known, we can calculate the specific work, $w_{12}$ (kJ/kg) done by this compressor as:"
   ]
  },
  {
   "cell_type": "code",
   "execution_count": 20,
   "id": "aac834d7",
   "metadata": {},
   "outputs": [],
   "source": [
    "w12 = v1*(P2 - P1)*1e6/1e3 # kJ/kg; \n",
    "# Pressure is in MPa units, \n",
    "# and we want this to be in kJ/kg, \n",
    "# hence the 1e6/1e3 ratio."
   ]
  },
  {
   "cell_type": "markdown",
   "id": "d8d4de2d",
   "metadata": {},
   "source": [
    "Note: 1e6 = 1000000 and 1e3 = 1000\n",
    "\n",
    "We can print this value as:"
   ]
  },
  {
   "cell_type": "code",
   "execution_count": 21,
   "id": "70dd7577",
   "metadata": {},
   "outputs": [
    {
     "name": "stdout",
     "output_type": "stream",
     "text": [
      "The compressor work is: 1.2022 kJ/kg\n"
     ]
    }
   ],
   "source": [
    "print('The compressor work is: {0:1.4f} kJ/kg'.format(w12))"
   ]
  },
  {
   "cell_type": "markdown",
   "id": "aa962785",
   "metadata": {},
   "source": [
    "We can now define state 3 of our Rankine cycle, which is after the feedwater heater. \n",
    "\n",
    "We know $p_3 = p_2 = p_6$."
   ]
  },
  {
   "cell_type": "code",
   "execution_count": 22,
   "id": "9246f9d5",
   "metadata": {},
   "outputs": [],
   "source": [
    "p3_MPa = p2_MPa\n",
    "P3 = p3_MPa # definition of isobaric, MPa"
   ]
  },
  {
   "cell_type": "markdown",
   "id": "bdbea589",
   "metadata": {},
   "source": [
    "Again, we can calculate the properties at this state as:"
   ]
  },
  {
   "cell_type": "code",
   "execution_count": 23,
   "id": "e89d5ac6",
   "metadata": {},
   "outputs": [],
   "source": [
    "liquid = IAPWS97(P=P3, x=x3)\n",
    "T3 = liquid.T\n",
    "h3 = liquid.h # kJ/kg\n",
    "s3 = liquid.s # kJ/kg*K\n",
    "v3 = liquid.v"
   ]
  },
  {
   "cell_type": "markdown",
   "id": "983adbbf",
   "metadata": {},
   "source": [
    "Determining state 4. We can assume the pump operates isentropically:"
   ]
  },
  {
   "cell_type": "code",
   "execution_count": 24,
   "id": "d8b56553",
   "metadata": {},
   "outputs": [],
   "source": [
    "s4 = s3"
   ]
  },
  {
   "cell_type": "code",
   "execution_count": 25,
   "id": "59c7ba56",
   "metadata": {},
   "outputs": [],
   "source": [
    "p4_MPa = p5_MPa\n",
    "P4 = p4_MPa\n",
    "\n",
    "liquid2 = IAPWS97(P=P4, s=s4)"
   ]
  },
  {
   "cell_type": "code",
   "execution_count": 26,
   "id": "8d7da8ca",
   "metadata": {},
   "outputs": [
    {
     "name": "stdout",
     "output_type": "stream",
     "text": [
      "The compressor work is: 15.7113 kJ/kg\n"
     ]
    }
   ],
   "source": [
    "w34 = v3*(P4 - P3)*1e6/1e3 # kJ/kg; \n",
    "print('The compressor work is: {0:1.4f} kJ/kg'.format(w34))"
   ]
  },
  {
   "cell_type": "markdown",
   "id": "6e4bff1d",
   "metadata": {},
   "source": [
    "The steam properties can be determined as:"
   ]
  },
  {
   "cell_type": "code",
   "execution_count": 27,
   "id": "6b8aecba",
   "metadata": {},
   "outputs": [],
   "source": [
    "P5 = p5_MPa\n",
    "T5 = T5_K\n",
    "steam = IAPWS97(P=P5,T=T5)\n",
    "h5 = steam.h # kJ/kg\n",
    "s5 = steam.s #kJ/kg/K"
   ]
  },
  {
   "cell_type": "code",
   "execution_count": 28,
   "id": "75cca953",
   "metadata": {},
   "outputs": [],
   "source": [
    "s6 = s5"
   ]
  },
  {
   "cell_type": "code",
   "execution_count": 30,
   "id": "dfc68475",
   "metadata": {},
   "outputs": [],
   "source": [
    "P6 = P2\n",
    "sat_liquid6 = IAPWS97(P=P6, s=s6)"
   ]
  },
  {
   "cell_type": "markdown",
   "id": "5ac36c2b",
   "metadata": {},
   "source": [
    "We can calculate the heat transferred to the water $Q_\\text{b}$ (kJ/kg), generating steam by taking the difference in specific enthalpy between states 3 and 2:"
   ]
  },
  {
   "cell_type": "markdown",
   "id": "bf681b6a",
   "metadata": {},
   "source": [
    "Next, the high pressure steam passes through the turbine, which is used to generate electricity in a powerplant. Here we assume that the turbine operates isentropically, $s_4 = s_3$. We also assume that the pressure at the exit of the high pressure turbine is the same as the pressure entering the low pressure turbine, $p_4 = p_5$\n",
    "\n",
    "With these assumptions, we can calculate the thermodynamic properties of state 4 as:"
   ]
  },
  {
   "cell_type": "code",
   "execution_count": 31,
   "id": "d983c9f2",
   "metadata": {},
   "outputs": [],
   "source": [
    "s4 = s3 # isentropic #kJ/kg*K"
   ]
  },
  {
   "cell_type": "code",
   "execution_count": 32,
   "id": "3d7f1c8f",
   "metadata": {},
   "outputs": [],
   "source": [
    "P4 = p4_MPa # MPa"
   ]
  },
  {
   "cell_type": "code",
   "execution_count": 33,
   "id": "cfdeb58e",
   "metadata": {},
   "outputs": [],
   "source": [
    "steam = IAPWS97(P=P4,s=s4)\n",
    "T4 = steam.T # K\n",
    "h4 = steam.h # kJ/kg\n",
    "x4 = steam.x"
   ]
  },
  {
   "cell_type": "markdown",
   "id": "34e8e3d2",
   "metadata": {},
   "source": [
    "We can then calculate the specific work generated by the high pressure turbine, $w_{34}$:"
   ]
  },
  {
   "cell_type": "code",
   "execution_count": 34,
   "id": "4f48a3b8",
   "metadata": {},
   "outputs": [
    {
     "name": "stdout",
     "output_type": "stream",
     "text": [
      "The turbine work is: 15.65 kJ/kg\n"
     ]
    }
   ],
   "source": [
    "w34 = h4 - h3 # work extracted from the expansion, kJ/kg\n",
    "print('The turbine work is: {0:1.2f} kJ/kg'.format(w34))"
   ]
  },
  {
   "cell_type": "markdown",
   "id": "75960861",
   "metadata": {},
   "source": [
    "From the T-s diagram, we see that state 4 is a saturated liquid-vapor region. As an aside, we can calculate its quality:"
   ]
  },
  {
   "cell_type": "code",
   "execution_count": 36,
   "id": "d0a8540f",
   "metadata": {},
   "outputs": [
    {
     "name": "stdout",
     "output_type": "stream",
     "text": [
      "The quality of the vapor at state 4 is: 0.0000 (-)\n"
     ]
    }
   ],
   "source": [
    "print('The quality of the vapor at state 4 is: {0:1.4f} (-)'.format(x4))"
   ]
  },
  {
   "cell_type": "markdown",
   "id": "9cd0194a",
   "metadata": {},
   "source": [
    "After the reheating stage, we can calculate the properties of the steam."
   ]
  },
  {
   "cell_type": "code",
   "execution_count": 37,
   "id": "6e8f597b",
   "metadata": {},
   "outputs": [],
   "source": [
    "P5 = p5_MPa\n",
    "T5 = T5_K\n",
    "\n",
    "steamReheat = IAPWS97(P=P5, T=T5)\n",
    "h5 = steamReheat.h # kJ/kg\n",
    "s5 = steamReheat.s # kJ/kg*K"
   ]
  },
  {
   "cell_type": "markdown",
   "id": "caf04e83",
   "metadata": {},
   "source": [
    "We assume that the turbine operates isentropically, therefore $s_6 = s_5$:"
   ]
  },
  {
   "cell_type": "code",
   "execution_count": 38,
   "id": "328ddb98",
   "metadata": {},
   "outputs": [],
   "source": [
    "s6 = s5"
   ]
  },
  {
   "cell_type": "markdown",
   "id": "0927a220",
   "metadata": {},
   "source": [
    "The pressure of the steam entering the condenser is given. So with the entropy and pressure at that state defined, we know the properties:"
   ]
  },
  {
   "cell_type": "code",
   "execution_count": 39,
   "id": "f705ee32",
   "metadata": {},
   "outputs": [],
   "source": [
    "P6 = p6_MPa\n",
    "sat_liquid6 = IAPWS97(P=P6, s=s6)\n",
    "h6 = sat_liquid6.h\n",
    "x6 = sat_liquid6.x\n",
    "T6 = sat_liquid6.T"
   ]
  },
  {
   "cell_type": "markdown",
   "id": "c8a395c3",
   "metadata": {},
   "source": [
    "The final state can be determined from:"
   ]
  },
  {
   "cell_type": "code",
   "execution_count": 40,
   "id": "6b7c4c99",
   "metadata": {},
   "outputs": [],
   "source": [
    "s7 = s5\n",
    "P7 = p7_MPa\n",
    "sat_liquid7 = IAPWS97(P=P7, s=s7)\n",
    "h7 = sat_liquid7.h\n",
    "x7 = sat_liquid7.x\n",
    "T7 = sat_liquid7.T"
   ]
  },
  {
   "cell_type": "code",
   "execution_count": 41,
   "id": "1e676883",
   "metadata": {},
   "outputs": [
    {
     "name": "stdout",
     "output_type": "stream",
     "text": [
      "The value of y is: 0.23 (-)\n"
     ]
    }
   ],
   "source": [
    "y = (h3- h2)/(h6 - h2)\n",
    "print('The value of y is: {0:1.2f} (-)'.format(y))"
   ]
  },
  {
   "cell_type": "markdown",
   "id": "cca270ec",
   "metadata": {},
   "source": [
    "$y$ is the fraction of steam extracted from the turbine, $y = \\frac{\\dot{m}_6}{\\dot{m}_5}$."
   ]
  },
  {
   "cell_type": "markdown",
   "id": "087a5d6c",
   "metadata": {},
   "source": [
    "The steam enters the condenser where it is cooled, condensing back into a liquid, where is it is then pumped by the compressor back into the boiler. The amount of heat removed by the condenser can be calculated as ($Q_{\\text{c}}$):"
   ]
  },
  {
   "cell_type": "code",
   "execution_count": 42,
   "id": "b5d6425c",
   "metadata": {},
   "outputs": [
    {
     "name": "stdout",
     "output_type": "stream",
     "text": [
      "The condenser heat duty is 1486.61 kJ/kg\n"
     ]
    }
   ],
   "source": [
    "Qc = (1-y)*(h7 - h1) # Cooling from T4 to T1, kJ/kg\n",
    "print('The condenser heat duty is {0:1.2f} kJ/kg'.format(Qc))"
   ]
  },
  {
   "cell_type": "code",
   "execution_count": 43,
   "id": "60939cbe",
   "metadata": {},
   "outputs": [
    {
     "name": "stdout",
     "output_type": "stream",
     "text": [
      "The boiler heat duty is: 2769.16 kJ/kg\n"
     ]
    }
   ],
   "source": [
    "Qb = (h5 - h4) # heat required to make the steam, kJ/kg\n",
    "\n",
    "print('The boiler heat duty is: {0:1.2f} kJ/kg'.format(Qb))"
   ]
  },
  {
   "cell_type": "markdown",
   "id": "c527032b",
   "metadata": {},
   "source": [
    "The efficiency of the Rankine cycle can be calculated then as:"
   ]
  },
  {
   "cell_type": "code",
   "execution_count": 44,
   "id": "c4ab1f86",
   "metadata": {},
   "outputs": [
    {
     "name": "stdout",
     "output_type": "stream",
     "text": [
      "The overall efficiency is 46.32%.\n"
     ]
    }
   ],
   "source": [
    "eta = 1 - Qc/Qb\n",
    "print('The overall efficiency is {0:1.2%}.'.format(eta))"
   ]
  },
  {
   "cell_type": "markdown",
   "id": "25107df5",
   "metadata": {},
   "source": [
    "The negative sign we have in front of the $w$ terms is due to the convention we used here. In our convention, the work we calculated was the energy consumed by the device. Normally, the convention in thermodynamics is that the work done by a system is positive, and the heat transferred into a system is positive. The opposites of this are then negative. For whatever convention you decide to use, the main point is to be consistent, although we recommend following the norm. "
   ]
  },
  {
   "cell_type": "markdown",
   "id": "a1545e69",
   "metadata": {},
   "source": [
    "It is instructive to compare the efficiency we calculated here with the Carnot efficiency. Recall that:\n",
    "\n",
    "$\\eta_\\text{Carnot} = 1 - \\frac{T_\\text{C}}{T_\\text{H}}$."
   ]
  },
  {
   "cell_type": "code",
   "execution_count": 45,
   "id": "65242ce6",
   "metadata": {},
   "outputs": [],
   "source": [
    "TC_K = T1\n",
    "TH_K = T5"
   ]
  },
  {
   "cell_type": "code",
   "execution_count": 46,
   "id": "8b05a9ba",
   "metadata": {},
   "outputs": [
    {
     "name": "stdout",
     "output_type": "stream",
     "text": [
      "The Carnot efficiency of this power plant is 63.47%.\n"
     ]
    }
   ],
   "source": [
    "eta_carnot = 1 - TC_K / TH_K\n",
    "\n",
    "print('The Carnot efficiency of this power plant is {0:1.2%}.'.format(eta_carnot))"
   ]
  },
  {
   "cell_type": "code",
   "execution_count": 47,
   "id": "c66bbdbc-ce79-48a4-8e88-8feb79670892",
   "metadata": {},
   "outputs": [],
   "source": [
    "import numpy as np\n",
    "import matplotlib.pyplot as plt"
   ]
  },
  {
   "cell_type": "code",
   "execution_count": 74,
   "id": "719d82e0",
   "metadata": {},
   "outputs": [
    {
     "data": {
      "text/plain": [
       "[<matplotlib.lines.Line2D at 0x7b759c466050>]"
      ]
     },
     "execution_count": 74,
     "metadata": {},
     "output_type": "execute_result"
    },
    {
     "data": {
      "image/png": "[encoded data removed]",
      "text/plain": [
       "<Figure size 640x480 with 1 Axes>"
      ]
     },
     "metadata": {},
     "output_type": "display_data"
    }
   ],
   "source": [
    "plt.figure()\n",
    "plt.clf()\n",
    "T = np.linspace(300, 372+273, 200) # range of temperatures\n",
    "for P in [p1_MPa, p5_MPa, p6_MPa]: #MPa\n",
    "    steam = [IAPWS97(T=t, P=P) for t in T]\n",
    "    S = [s.s for s in steam]\n",
    "    plt.plot(S, T, 'k--')\n",
    "\n",
    "# saturated vapor and liquid entropy lines\n",
    "svap = [s.s for s in [IAPWS97(T=t, x=1) for t in T]]\n",
    "sliq = [s.s for s in [IAPWS97(T=t, x=0) for t in T]]\n",
    "\n",
    "plt.plot(svap, T, 'k-')\n",
    "plt.plot(sliq, T, 'k-')\n",
    "\n",
    "plt.xlabel('s (kJ/(kg K))')\n",
    "plt.ylabel('T (K)')\n",
    "\n",
    "\n",
    "\n",
    "plt.plot([s1, s2], [T1, T2], 'g-', lw=2) # Path 1 to 2, isentropic\n",
    "\n",
    "T23 = np.linspace(T2, T3) \n",
    "S23 = [s.s for s in [IAPWS97(P=P6, T=t) for t in T23]]\n",
    "plt.plot(S23, T23, 'g-', lw=2) # path from 4 to 5 is isobaric\n",
    "\n",
    "plt.plot([s3, s4], [T3, T4], 'g-', lw=2) # path from 3 to 4 is isentropic\n",
    "\n",
    "T45 = np.linspace(T4, T5) # I added \"0.2\" degree to T4 so the process didn't go down to a saturated liquid\n",
    "S45 = [s.s for s in [IAPWS97(P=P4, T=t) for t in T45]]\n",
    "plt.plot(S45, T45, 'r-', lw=2) # path from 4 to 5 is isobaric\n",
    "\n",
    "plt.plot([s5, s6], [T5, T6], 'r-', lw=2) # path from 5 to 6 is isentropic\n",
    "\n",
    "plt.plot([s6, s7], [T6, T7], 'g-', lw=2) # path from 5 to 6 is isentropic\n",
    "\n",
    "\n",
    "T36 = np.linspace(T3, T6) \n",
    "S36 = [s.s for s in [IAPWS97(P=P6, T=t) for t in T36]]\n",
    "plt.plot(S36, T36, 'r-', lw=2) # path from 3 to 6 is isobaric\n",
    "\n",
    "\n",
    "\n",
    "\n",
    "plt.plot([s1, s7], [T1, T7], 'g-', lw=2) # path from 7 to 1 is isobaric\n",
    "\n",
    "#plt.savefig('rankineReheatCycleTSdiagram_plot.png')"
   ]
  },
  {
   "cell_type": "code",
   "execution_count": null,
   "id": "b14ed193-ff57-4f7b-8568-7d4aa598256d",
   "metadata": {},
   "outputs": [],
   "source": []
  }
 ],
 "metadata": {
  "kernelspec": {
   "display_name": "Python 3 (ipykernel)",
   "language": "python",
   "name": "python3"
  },
  "language_info": {
   "codemirror_mode": {
    "name": "ipython",
    "version": 3
   },
   "file_extension": ".py",
   "mimetype": "text/x-python",
   "name": "python",
   "nbconvert_exporter": "python",
   "pygments_lexer": "ipython3",
   "version": "3.11.10"
  }
 },
 "nbformat": 4,
 "nbformat_minor": 5
}
