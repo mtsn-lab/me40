{
 "cells": [
  {
   "cell_type": "markdown",
   "id": "4d4f439e-57b7-4606-bcd4-951a52c50e34",
   "metadata": {},
   "source": [
    "A mixture of hydrocarbon gases is composed of: \n",
    "- 60% methane,\n",
    "- 25% propane, and\n",
    "- 15% butane by weight.\n",
    "\n",
    "This mixture is compressed from 100 kPa and 20 C to 1000 kPa in a reversible, isothermal, steady-flow compressor. \n",
    " \n",
    "Calculate the work and heat transfer for this compression per unit mass of the mixture.\r\n"
   ]
  },
  {
   "cell_type": "code",
   "execution_count": 28,
   "id": "409f2217-aa95-4010-999a-0412277d18a2",
   "metadata": {},
   "outputs": [],
   "source": [
    "p1_Pa = 100e3\n",
    "T1_C = 20\n",
    "T1_K = T1_C + 273.15\n",
    "\n",
    "p2_Pa = 1000e3\n",
    "T2_K = T1_K"
   ]
  },
  {
   "cell_type": "markdown",
   "id": "67cabe80-8d27-4eb6-8c87-1ff4c5749f4c",
   "metadata": {},
   "source": [
    "If we assume that the mixture behaves as an ideal gas, since the process is isothermal, there is no change in internal energy. So any work that is transferred in must be equal to the heat transferred out. \n",
    "\n",
    "If the process is internally reversible, then the entropy difference between the entrance and exit of the compressor, multiplied by the temperature, would give us the heat transferred. \n",
    "\n",
    "$$q = T \\Delta s $$\n",
    "\n",
    "$$s_2 - s_1 = c_p \\ln (T_2/T_1) - R \\ln (p_2/p_1) $$"
   ]
  },
  {
   "cell_type": "markdown",
   "id": "2bfa2f1b-7226-4a2f-8f50-ea9510eac0e1",
   "metadata": {},
   "source": [
    "Since it is an isothermal process, the temperature ratio term drops out:\n",
    "\n",
    "$$s_2 - s_1 = - R \\ln (p_2/p_1) $$\n",
    "\n",
    "We just then need the gas constant for the mixture. "
   ]
  },
  {
   "cell_type": "markdown",
   "id": "acfc9d80-8c90-48dc-b3e0-859a37ff2acf",
   "metadata": {},
   "source": [
    "Recall that:\n",
    "\n",
    "$$R = c_p - c_v $$"
   ]
  },
  {
   "cell_type": "code",
   "execution_count": 29,
   "id": "6956c480-ee57-4ddf-871e-6c113b0e5727",
   "metadata": {},
   "outputs": [
    {
     "name": "stdout",
     "output_type": "stream",
     "text": [
      "Requirement already satisfied: CoolProp in /srv/conda/lib/python3.11/site-packages (6.6.0)\n"
     ]
    }
   ],
   "source": [
    "!pip install CoolProp"
   ]
  },
  {
   "cell_type": "code",
   "execution_count": 30,
   "id": "24ff0003-3abc-4f82-9814-a8f1c1612d23",
   "metadata": {},
   "outputs": [],
   "source": [
    "from CoolProp.CoolProp import PropsSI"
   ]
  },
  {
   "cell_type": "code",
   "execution_count": 31,
   "id": "954f64eb-7308-4c1f-ad72-ea77dc7a7136",
   "metadata": {},
   "outputs": [
    {
     "name": "stdout",
     "output_type": "stream",
     "text": [
      "1663.9802635149535\n",
      "1460.9612855649723\n",
      "1712.8524817423697\n",
      "1546.4098908504848\n"
     ]
    }
   ],
   "source": [
    "cp_methane_JperKgPerK = PropsSI('C','T',T1_K,'P',101325,'methane')\n",
    "cv_methane_JperKgPerK = PropsSI('O','T',T1_K,'P',101325,'methane')\n",
    "\n",
    "cp_ethane_JperKgPerK = PropsSI('C','T',T1_K,'P',101325,'propane'); print(cp_ethane_JperKgPerK)\n",
    "cv_ethane_JperKgPerK = PropsSI('O','T',T1_K,'P',101325,'propane'); print(cv_ethane_JperKgPerK)\n",
    "\n",
    "cp_butane_JperKgPerK = PropsSI('C','T',T1_K,'P',101325,'butane'); print(cp_butane_JperKgPerK)\n",
    "cv_butane_JperKgPerK = PropsSI('O','T',T1_K,'P',101325,'butane'); print(cv_butane_JperKgPerK)"
   ]
  },
  {
   "cell_type": "code",
   "execution_count": 32,
   "id": "a75b60b3-e922-4288-bcd4-8c359ec35134",
   "metadata": {},
   "outputs": [],
   "source": [
    "mf_methane = 0.6\n",
    "mf_propane = 0.25\n",
    "mf_butane = 0.15"
   ]
  },
  {
   "cell_type": "code",
   "execution_count": 33,
   "id": "c251fc7b-2701-4295-b901-241ad402f7a4",
   "metadata": {},
   "outputs": [
    {
     "name": "stdout",
     "output_type": "stream",
     "text": [
      "2005.2816191255283\n",
      "1615.5749673216435\n",
      "389.7066518038848\n"
     ]
    }
   ],
   "source": [
    "cp = cp_methane_JperKgPerK*mf_methane + cp_ethane_JperKgPerK*mf_propane + cp_butane_JperKgPerK*mf_butane; print(cp)\n",
    "cv = cv_methane_JperKgPerK*mf_methane + cv_ethane_JperKgPerK*mf_propane + cv_butane_JperKgPerK*mf_butane; print(cv)\n",
    "R = cp - cv; print(R)"
   ]
  },
  {
   "cell_type": "code",
   "execution_count": 34,
   "id": "5b45aa4c-b0ec-48c2-871d-81be8a76605c",
   "metadata": {},
   "outputs": [],
   "source": [
    "import math"
   ]
  },
  {
   "cell_type": "code",
   "execution_count": 35,
   "id": "5e7ff23d-46d1-4045-af20-9aa1a64b203c",
   "metadata": {},
   "outputs": [
    {
     "name": "stdout",
     "output_type": "stream",
     "text": [
      "-897.3327270842464\n"
     ]
    }
   ],
   "source": [
    "ds_JperKgPerK = -R* math.log(p2_Pa/p1_Pa); print(ds_JperKgPerK)"
   ]
  },
  {
   "cell_type": "code",
   "execution_count": 36,
   "id": "f9704a92-cae7-481d-b745-92a6bd8c3a84",
   "metadata": {},
   "outputs": [
    {
     "name": "stdout",
     "output_type": "stream",
     "text": [
      "The heat transferred out of the compressor per mass is q_out: 263.05 kJ/kg.\n"
     ]
    }
   ],
   "source": [
    "q_JperKg = T1_K*ds_JperKgPerK\n",
    "\n",
    "print('The heat transferred out of the compressor per mass is q_out: {0:1.2f} kJ/kg.'.format(-q_JperKg/1e3))"
   ]
  },
  {
   "cell_type": "code",
   "execution_count": 37,
   "id": "14737620-e629-4cc1-bf9a-fe88c82dc927",
   "metadata": {},
   "outputs": [
    {
     "name": "stdout",
     "output_type": "stream",
     "text": [
      "The work transferred into the compressor per mass is w_in: 263.05 kJ/kg.\n"
     ]
    }
   ],
   "source": [
    "Win_kJperKg = -q_JperKg/1e3; \n",
    "print('The work transferred into the compressor per mass is w_in: {0:1.2f} kJ/kg.'.format(Win_kJperKg))"
   ]
  },
  {
   "cell_type": "code",
   "execution_count": null,
   "id": "da34ff45-ee54-4540-8dfc-cc1592ee04dd",
   "metadata": {},
   "outputs": [],
   "source": []
  }
 ],
 "metadata": {
  "kernelspec": {
   "display_name": "Python 3 (ipykernel)",
   "language": "python",
   "name": "python3"
  },
  "language_info": {
   "codemirror_mode": {
    "name": "ipython",
    "version": 3
   },
   "file_extension": ".py",
   "mimetype": "text/x-python",
   "name": "python",
   "nbconvert_exporter": "python",
   "pygments_lexer": "ipython3",
   "version": "3.11.10"
  }
 },
 "nbformat": 4,
 "nbformat_minor": 5
}
