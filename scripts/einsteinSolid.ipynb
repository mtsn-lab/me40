{
 "cells": [
  {
   "cell_type": "code",
   "execution_count": 1,
   "id": "ec8d50c8-22c7-4e5e-b867-522d94c9d50f",
   "metadata": {},
   "outputs": [],
   "source": [
    "import numpy as np\n",
    "import matplotlib.pyplot as plt"
   ]
  },
  {
   "cell_type": "markdown",
   "id": "de018e44-fa2b-4a41-a59d-3888bb3941be",
   "metadata": {},
   "source": [
    "# Einstein solid\n",
    "\n",
    "The energy levels of the harmonic oscillators are given by:\n",
    "\n",
    "$$E_n = \\left(n + \\frac{1}{2} \\right)\\bar{h} \\omega $$\n",
    "\n",
    "where $n$ is the vibrational quantum number and $\\bar{h}$ is Planck's constant divided by $2 \\pi$ (relates energy carried by a particle to angular frequency). \n",
    "\n",
    "Our goal: \n",
    "\n",
    "$$C_V = \\left( \\frac{\\partial U}{\\partial T} \\right)_V $$\n",
    "\n",
    "$$\\epsilon = \\bar{h} \\omega $$\n",
    "\n",
    "Therefore:\n",
    "\n",
    "$$E_n =\\epsilon \\left(n + \\frac{1}{2} \\right) $$\n",
    "\n",
    "Every energy quanta $\\bar{h} \\omega $ in a normal mode is called a phonon. The integer $n$ is the number of phonons in that normal mode. \n",
    "\n",
    "Assuming the oscillators are in thermal equilibrium at temperature, $T$, the partition function for a single oscillator is:\n",
    "\n",
    "$$Z = \\sum_{n=0}^\\infty \\exp \\left[-E_n / (k_B T) \\right] $$\n",
    "\n",
    "Recall:\n",
    "\n",
    "$$\\sum_{n = 0}^{\\infty}X^n = \\frac{1}{1-X} $$ \n",
    "\n",
    "We can simplify the above such that:\n",
    "\n",
    "$$Z = \\frac{1}{2 \\sinh\\left( \\frac{\\epsilon}{2 k_B T} \\right)} $$\n",
    "\n",
    "which is the partition function for one harmonic oscillator. We related the partition function and the internal energy last time. It can be shown that:\n",
    "\n",
    "$$U = - \\frac{1}{Z} \\frac{\\partial Z}{\\partial \\beta} $$\n",
    "\n",
    "where $\\beta = 1/(k_B T)$. The average energy of one oscillator is then:\n",
    "\n",
    "$$ U = \\frac{\\epsilon}{2} \\coth \\left( \\frac{\\epsilon}{2 k_B T} \\right) $$\n",
    "\n",
    "The heat capacity of one oscillator is then:\n",
    "\n",
    "$$\\frac{\\partial U}{\\partial T} = k_B \\left( \\frac{\\epsilon}{2 k_B T} \\right)^2 \\frac{1}{\\sinh^2\\left( \\frac{\\epsilon}{2 k_B T} \\right)} $$\n",
    "\n",
    "The heat capacity of the entire solid is then:\n",
    "\n",
    "$$C_V = 3 N \\frac{\\partial U}{\\partial T} $$\n",
    "\n",
    "$$\\implies C_V = 3 N  k_B \\left( \\frac{\\epsilon}{2 k_B T} \\right)^2 \\frac{1}{\\sinh^2\\left( \\frac{\\epsilon}{2 k_B T} \\right)} $$\n",
    "\n",
    "$T_E = \\epsilon / k_B $ is known as Einstein's temperature. \n",
    "\n",
    "$$\\implies C_V = 3 N  k_B \\left( \\frac{T_E}{2 T} \\right)^2 \\frac{1}{\\sinh^2\\left( \\frac{T_E}{2 T} \\right)} $$"
   ]
  },
  {
   "cell_type": "code",
   "execution_count": 5,
   "id": "d7b796a5-0a96-42cd-a88b-a4058b97c706",
   "metadata": {},
   "outputs": [],
   "source": [
    "# T_nondim = T/T_E\n",
    "T_nondim = np.linspace(0.1,6,100)\n",
    "f = ((1/T_nondim)**2)*(1/4)*1/(np.sinh((1/2)*(1/T_nondim))**2)"
   ]
  },
  {
   "cell_type": "code",
   "execution_count": 9,
   "id": "36ff1664-5e76-4313-8178-10b9f5909f6a",
   "metadata": {},
   "outputs": [
    {
     "data": {
      "image/png": "[encoded data removed]",
      "text/plain": [
       "<Figure size 640x480 with 1 Axes>"
      ]
     },
     "metadata": {},
     "output_type": "display_data"
    }
   ],
   "source": [
    "plt.plot(T_nondim, f, 'k-')\n",
    "plt.xlabel('T/T_E (-)')\n",
    "plt.ylabel('C_V/(3 N k_B) (-)')\n",
    "plt.savefig('einstein-solid.pdf')"
   ]
  },
  {
   "cell_type": "code",
   "execution_count": null,
   "id": "ee9587aa-cef7-40a5-bb47-a603698b685d",
   "metadata": {},
   "outputs": [],
   "source": []
  }
 ],
 "metadata": {
  "kernelspec": {
   "display_name": "Python 3 (ipykernel)",
   "language": "python",
   "name": "python3"
  },
  "language_info": {
   "codemirror_mode": {
    "name": "ipython",
    "version": 3
   },
   "file_extension": ".py",
   "mimetype": "text/x-python",
   "name": "python",
   "nbconvert_exporter": "python",
   "pygments_lexer": "ipython3",
   "version": "3.11.13"
  }
 },
 "nbformat": 4,
 "nbformat_minor": 5
}
