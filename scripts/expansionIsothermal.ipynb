{
 "cells": [
  {
   "cell_type": "markdown",
   "id": "8c211574-7e9e-45e6-b8b5-65def072bf1b",
   "metadata": {},
   "source": [
    "# Isothermal Expansion\n",
    "\n",
    "Problem solving approach:\n",
    "1. Problem Statement  \n",
    "2. Schematic  \n",
    "3. Assumptions and Approximations  \n",
    "4. Physical Laws  \n",
    "5. Properties  \n",
    "6. Calculations  \n",
    "7. Reasoning  \n"
   ]
  },
  {
   "cell_type": "markdown",
   "id": "a0dd3fbb-40f3-4062-885e-943d6222ca95",
   "metadata": {},
   "source": [
    "## Problem Statement\n",
    "If a piston cyldiner expands as an ideal gas in quasi-equilibrium\n",
    "\n",
    "## Schematic\n",
    "Show a piston expanding some distance. \n",
    "\n",
    "## Assumptions and Approximations\n",
    "- Ideal gas\n",
    "- Closed system\n",
    "- Neglect kinetic and potential energy\n",
    "- Work is transferred only through expansion ($p dV$).\n",
    "\n",
    "## Physical Laws\n",
    "- Ideal gas law\n",
    "- Work for piston-cylinder expansion is $p dV$.\n",
    "\n",
    "### Conservation of energy\n",
    "\n",
    "$$\\delta W = p dV \\tag{1}$$\n",
    "\n",
    "Ideal gas law:\n",
    "\n",
    "$$ p V = m RT $$\n",
    "\n",
    "Rearranging:\n",
    "\n",
    "$$p = \\frac{m R T}{V} \\tag{2}$$\n",
    "\n",
    "Substituting equation (2) into (1):\n",
    "\n",
    "$$\\delta W = \\frac{m R T}{V} dV $$\n",
    "\n",
    "Assuming the process is isothermal, we can write:\n",
    "\n",
    "$$W = m R T \\int \\frac{dV}{V} $$\n",
    "\n",
    "$$W = m R T \\ln \\frac{V_2}{V_1} \\tag{3} $$\n",
    "\n",
    "Now we need to determine the mass, $m$, and the gas constant, $R$. "
   ]
  },
  {
   "cell_type": "code",
   "execution_count": 3,
   "id": "8b755687-42b8-4a48-9dd8-386957b2bb53",
   "metadata": {},
   "outputs": [
    {
     "name": "stdout",
     "output_type": "stream",
     "text": [
      "0.098664039572173\n"
     ]
    }
   ],
   "source": [
    "R_JperKgPerK = 287\n",
    "\n",
    "# p V = m R T\n",
    "p1_Pa = 100e3\n",
    "V1_m3 = 0.1\n",
    "T1_C = 80\n",
    "T1_K = T1_C + 273.15\n",
    "\n",
    "V2_m3 = 0.4\n",
    "\n",
    "m_kg = (p1_Pa*V1_m3)/(R_JperKgPerK*T1_K); print(m_kg)"
   ]
  },
  {
   "cell_type": "code",
   "execution_count": 2,
   "id": "9a02328e-94ae-4270-a16f-c5ceeb759427",
   "metadata": {},
   "outputs": [],
   "source": [
    "import numpy as np"
   ]
  },
  {
   "cell_type": "code",
   "execution_count": 5,
   "id": "376cac2d-f98a-4e55-9e35-0f0f64932320",
   "metadata": {},
   "outputs": [
    {
     "name": "stdout",
     "output_type": "stream",
     "text": [
      "13.862943611198904\n"
     ]
    }
   ],
   "source": [
    "W_J = m_kg*R_JperKgPerK*T1_K*np.log(V2_m3/V1_m3)\n",
    "W_kJ = W_J/1e3; print(W_kJ)"
   ]
  },
  {
   "cell_type": "markdown",
   "id": "9c15359e-4100-4dd6-9b3d-3887c4fb27f9",
   "metadata": {},
   "source": [
    "## Alternative solution\n",
    "\n",
    "$$ p V = m R T$$\n",
    "\n",
    "$$T_1 = T_2$$\n",
    "\n",
    "$$\\implies p V = \\text{const} \\implies p = C / V$$\n",
    "\n",
    "$$W = \\int_2^1 p dV $$\n",
    "\n",
    "$$W = C \\int_2^1 \\frac{dV}{V} $$\n",
    "\n",
    "We can use our knowledge of state 1 to define C:\n",
    "\n",
    "$$C = p_1 V_1 $$\n",
    "\n",
    "$$W = p_1 V_1 \\int_2^1 \\frac{dV}{V} $$\n",
    "\n",
    "$$W = p_1 V_1 \\ln \\frac{V_2}{V_1}$$"
   ]
  },
  {
   "cell_type": "code",
   "execution_count": 6,
   "id": "73bdf052-b3ac-4578-89dc-92edefefcc36",
   "metadata": {},
   "outputs": [
    {
     "name": "stdout",
     "output_type": "stream",
     "text": [
      "13.862943611198904\n"
     ]
    }
   ],
   "source": [
    "W_J_ = p1_Pa*V1_m3*np.log(V2_m3/V1_m3)\n",
    "W_kJ_ = W_J_/1e3; print(W_kJ_)"
   ]
  },
  {
   "cell_type": "code",
   "execution_count": null,
   "id": "a8d580f4-aee9-4235-8dda-eed619590abb",
   "metadata": {},
   "outputs": [],
   "source": []
  }
 ],
 "metadata": {
  "kernelspec": {
   "display_name": "Python 3 (ipykernel)",
   "language": "python",
   "name": "python3"
  },
  "language_info": {
   "codemirror_mode": {
    "name": "ipython",
    "version": 3
   },
   "file_extension": ".py",
   "mimetype": "text/x-python",
   "name": "python",
   "nbconvert_exporter": "python",
   "pygments_lexer": "ipython3",
   "version": "3.11.13"
  }
 },
 "nbformat": 4,
 "nbformat_minor": 5
}
