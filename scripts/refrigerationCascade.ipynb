{
 "cells": [
  {
   "cell_type": "code",
   "execution_count": 1,
   "id": "cf3f8a1d",
   "metadata": {},
   "outputs": [
    {
     "name": "stdout",
     "output_type": "stream",
     "text": [
      "Requirement already satisfied: CoolProp in /srv/conda/lib/python3.11/site-packages (6.6.0)\n"
     ]
    }
   ],
   "source": [
    "!pip install CoolProp"
   ]
  },
  {
   "cell_type": "code",
   "execution_count": 2,
   "id": "16e82b45",
   "metadata": {},
   "outputs": [],
   "source": [
    "from CoolProp.CoolProp import PropsSI"
   ]
  },
  {
   "cell_type": "markdown",
   "id": "d36ba6c5",
   "metadata": {},
   "source": [
    "Consider a two-stage cascade refrigeration system. The refrigeration cycle cooling the cold refrigerated space is the process 1 to 4, termed \"bottom cycle\" (B). The cycle rejecting heat to the higher temperature environment is the process of 5 to 6, termed \"upper cycle\" (A). Heat is changed between the two cycles A and B occurs between processes 2-3 and 8-5. \n",
    "\n",
    "These cycles operate between the pressure limits of $p_1 = p_4$ and $p_6 = p_7$. Each stage operates on an ideal vapor-compression refrigeration cycle with refrigerant-134a as the working fluid. Heat rejection from the lower cycle to the upper cycle takes place in an adiabatic counterflow heat exchanger where both streams enter at approximately $p_2 = p_3$ which is equal to $p_8 = p_5$. \n",
    "\n",
    "Here are the properties for cycle B."
   ]
  },
  {
   "cell_type": "code",
   "execution_count": 3,
   "id": "3fe38e2f",
   "metadata": {},
   "outputs": [],
   "source": [
    "# values that are given in the problem\n",
    "P1 = 0.14*1e6 # Pa\n",
    "P2 = 0.32*1e6\n",
    "P6 = 0.8*1e6\n",
    "\n",
    "fluidA = 'R134a'\n",
    "#fluidA = 'CarbonDioxide'\n",
    "fluidB = 'R134a'"
   ]
  },
  {
   "cell_type": "code",
   "execution_count": 4,
   "id": "7baf17a0",
   "metadata": {},
   "outputs": [],
   "source": [
    "# state 1\n",
    "Q1 = 1 # quality\n",
    "h1 = PropsSI('H','P',P1,'Q',Q1,fluidB)\n",
    "s1 = PropsSI('S','P',P1,'Q',Q1,fluidB)\n",
    "T1 = PropsSI('T','P',P1,'Q',Q1,fluidB)"
   ]
  },
  {
   "cell_type": "code",
   "execution_count": 5,
   "id": "4e50b7a4",
   "metadata": {},
   "outputs": [],
   "source": [
    "# state 2\n",
    "s2 = s1 # isentropic compressor\n",
    "h2 = PropsSI('H','P',P2,'S',s2,fluidB)\n",
    "s2 = PropsSI('S','P',P2,'S',s2,fluidB)\n",
    "T2 = PropsSI('T','P',P2,'S',s2,fluidB)"
   ]
  },
  {
   "cell_type": "code",
   "execution_count": 6,
   "id": "0e015980",
   "metadata": {},
   "outputs": [],
   "source": [
    "# state 3\n",
    "P3 = P2 # isobaric\n",
    "Q3 = 0\n",
    "h3 = PropsSI('H','P',P3,'Q',Q3,fluidB)\n",
    "s3 = PropsSI('S','P',P3,'Q',Q3,fluidB)\n",
    "T3 = PropsSI('T','P',P3,'Q',Q3,fluidB)"
   ]
  },
  {
   "cell_type": "code",
   "execution_count": 7,
   "id": "ccc845b1",
   "metadata": {},
   "outputs": [],
   "source": [
    "# state 4\n",
    "P4 = P1 # isobaric\n",
    "h4 = h3 # isenthalpic\n",
    "s4 = PropsSI('S','P',P4,'H',h4,fluidB)\n",
    "T4 = PropsSI('T','P',P4,'H',h4,fluidB)\n",
    "Q4 = PropsSI('Q','P',P4,'H',h4,fluidB)"
   ]
  },
  {
   "cell_type": "markdown",
   "id": "8b30f3b6",
   "metadata": {},
   "source": [
    "Here are the properties for cycle A:"
   ]
  },
  {
   "cell_type": "code",
   "execution_count": 8,
   "id": "93c0d091",
   "metadata": {},
   "outputs": [],
   "source": [
    "# state 5\n",
    "Q5 = 1 # saturated vapor \n",
    "P5 = P2\n",
    "h5 = PropsSI('H','P',P5,'Q',Q5,fluidA)\n",
    "s5 = PropsSI('S','P',P5,'Q',Q5,fluidA)\n",
    "T5 = PropsSI('T','P',P5,'Q',Q5,fluidA)"
   ]
  },
  {
   "cell_type": "code",
   "execution_count": 9,
   "id": "e7463c3a",
   "metadata": {},
   "outputs": [],
   "source": [
    "# state 6\n",
    "s6 = s5 # compressor operates isentropically \n",
    "# P6 is given above\n",
    "h6 = PropsSI('H','P',P6,'S',s6,fluidA)\n",
    "s6 = PropsSI('S','P',P6,'S',s6,fluidA)\n",
    "T6 = PropsSI('T','P',P6,'S',s6,fluidA)"
   ]
  },
  {
   "cell_type": "code",
   "execution_count": 10,
   "id": "996746f0",
   "metadata": {},
   "outputs": [],
   "source": [
    "# state 7\n",
    "P7 = P6 # isobaric process. Heat rejection at high pressures.\n",
    "Q7 = 0 # vapor quality at the exit of the condenser is 0\n",
    "h7 = PropsSI('H','P',P7,'Q',Q7,fluidA)\n",
    "s7 = PropsSI('S','P',P7,'Q',Q7,fluidA)\n",
    "T7 = PropsSI('T','P',P7,'Q',Q7,fluidA)"
   ]
  },
  {
   "cell_type": "code",
   "execution_count": 11,
   "id": "4142b205",
   "metadata": {},
   "outputs": [],
   "source": [
    "# state 8\n",
    "h8 = h7 # isenthalpic process going from state 7 to 8\n",
    "P8 = P5 # isobaric process going from state 8 to state 5\n",
    "s8 = PropsSI('S','P',P8,'H',h8,fluidA)\n",
    "T8 = PropsSI('T','P',P8,'H',h8,fluidA)\n",
    "Q8 = PropsSI('Q','P',P8,'H',h8,fluidA)"
   ]
  },
  {
   "cell_type": "markdown",
   "id": "fad04f34",
   "metadata": {},
   "source": [
    "The mass flow rate through the \"upper\" cycle is $\\dot{m}_\\text{A}$. "
   ]
  },
  {
   "cell_type": "code",
   "execution_count": 12,
   "id": "611369a2",
   "metadata": {},
   "outputs": [],
   "source": [
    "mdotA_kgPerS = 0.05"
   ]
  },
  {
   "cell_type": "code",
   "execution_count": 13,
   "id": "d228a42a",
   "metadata": {},
   "outputs": [
    {
     "name": "stdout",
     "output_type": "stream",
     "text": [
      "The rate of heat removal from cycle A is 7819.82 W.\n"
     ]
    }
   ],
   "source": [
    "QAL_W = mdotA_kgPerS*(h5 - h8)\n",
    "print('The rate of heat removal from cycle A is {0:1.2f} W.'.format(QAL_W))"
   ]
  },
  {
   "cell_type": "code",
   "execution_count": 14,
   "id": "3843f744",
   "metadata": {},
   "outputs": [
    {
     "name": "stdout",
     "output_type": "stream",
     "text": [
      "The power input to the compressor in cycle A is 950.13 W.\n"
     ]
    }
   ],
   "source": [
    "WAin_W = mdotA_kgPerS*(h6 - h5)\n",
    "print('The power input to the compressor in cycle A is {0:1.2f} W.'.format(WAin_W))"
   ]
  },
  {
   "cell_type": "code",
   "execution_count": 15,
   "id": "bfa33a11",
   "metadata": {},
   "outputs": [
    {
     "name": "stdout",
     "output_type": "stream",
     "text": [
      "The heat rejected from cycle A to the environment is 10036.41 W.\n"
     ]
    }
   ],
   "source": [
    "QAH_W = mdotA_kgPerS*(h2 - h3)\n",
    "print('The heat rejected from cycle A to the environment is {0:1.2f} W.'.format(QAH_W))"
   ]
  },
  {
   "cell_type": "code",
   "execution_count": 20,
   "id": "e73182b4",
   "metadata": {},
   "outputs": [],
   "source": [
    "import numpy as np\n",
    "import matplotlib.pyplot as plt"
   ]
  },
  {
   "cell_type": "code",
   "execution_count": 22,
   "id": "e73d5d8a",
   "metadata": {},
   "outputs": [
    {
     "data": {
      "image/png": "[encoded data removed]",
      "text/plain": [
       "<Figure size 640x480 with 1 Axes>"
      ]
     },
     "metadata": {},
     "output_type": "display_data"
    }
   ],
   "source": [
    "plt.figure()\n",
    "plt.clf()\n",
    "T = np.linspace(200, 373, 500) # range of temperatures\n",
    "for P in [140000,800000]: #MPa\n",
    "    S = [PropsSI('S','P',P,'T',t,'R134a') for t in T]\n",
    "    plt.plot(S, T, 'k--')\n",
    "\n",
    "# saturated vapor and liquid entropy lines\n",
    "svap = [PropsSI('S','T',t,'Q',1,'R134a') for t in T]\n",
    "sliq = [PropsSI('S','T',t,'Q',0,'R134a') for t in T]\n",
    "\n",
    "#sliq = [s.s for s in [IAPWS97(T=t, x=0) for t in T]]\n",
    "\n",
    "plt.plot(svap, T, 'k-')\n",
    "plt.plot(sliq, T, 'k-')\n",
    "\n",
    "plt.xlabel('s (J/(kg K))')\n",
    "plt.ylabel('T (K)')\n",
    "\n",
    "plt.plot([s1, s2], [T1, T2], 'g-', lw=4) # Path 1 to 2\n",
    "\n",
    "S23 = np.linspace(s2, s3)\n",
    "T23 = [PropsSI('T','P',P2,'S',s,'R134a') for s in S23]\n",
    "plt.plot(S23,T23, 'g-', lw=4)\n",
    "\n",
    "plt.plot([s3, s4], [T3, T4], 'g-', lw=4) # path from 3 to 4 \n",
    "\n",
    "T41 = np.linspace(T4, T1) \n",
    "Q41 = np.linspace(Q4, Q1)\n",
    "S41 = [PropsSI('S','P',P4,'Q',q,'R134a') for q in Q41]\n",
    "plt.plot(S41, T41, 'g-', lw=4) # and from 4 to 1 is isobaric\n",
    "\n",
    "plt.plot([s5, s6], [T5, T6], 'r-', lw=4) # Path 5 to 6\n",
    "\n",
    "S67 = np.linspace(s6, s7)\n",
    "T67 = [PropsSI('T','P',P6,'S',s,'R134a') for s in S67]\n",
    "plt.plot(S67,T67, 'r-', lw=4)\n",
    "\n",
    "plt.plot([s7, s8], [T7, T8], 'r-', lw=4) # path from 7 to 8\n",
    "\n",
    "T85 = np.linspace(T8, T5) \n",
    "Q85 = np.linspace(Q8, Q5)\n",
    "S85 = [PropsSI('S','P',P8,'Q',q,'R134a') for q in Q85]\n",
    "plt.plot(S85, T85, 'r-', lw=4) # and from 4 to 1 is isobaric\n",
    "\n",
    "plt.savefig('vaporCompression.png')"
   ]
  },
  {
   "cell_type": "markdown",
   "id": "6fa5329c",
   "metadata": {},
   "source": [
    "Again, the \"bottom cycle\", shown in green, is cycle \"B\", and the \"upper cycle\", shown in red, is cycle \"A\". \n",
    "\n",
    "We are asked the following questions:\n",
    "- What is the mass flow rate of the refrigerant through the \"lower cycle\" aka cycle B?\n",
    "- What is the rate of heat removal from the refrigerated space and the power input to the compressor? \n",
    "- What is the coefficient of performance of this cascade refrigerator? "
   ]
  },
  {
   "cell_type": "markdown",
   "id": "9aa8ea69",
   "metadata": {},
   "source": [
    "To determine the mass flow rate of the refrigerant through cycle B, we need to match the heat transfer rates from processes 2-3 and 8-5. Specifically:\n",
    "\n",
    "$$-\\dot{Q}_\\text{A,L} =  \\dot{Q}_\\text{B,H}$$\n",
    "\n",
    "where the sign convention is heat into the cycle is positive and heat out of the cycle is negative."
   ]
  },
  {
   "cell_type": "code",
   "execution_count": 23,
   "id": "889f6601",
   "metadata": {},
   "outputs": [],
   "source": [
    "QBH_W = -QAL_W"
   ]
  },
  {
   "cell_type": "markdown",
   "id": "69c20833",
   "metadata": {},
   "source": [
    "Since we know that $$\\dot{Q}_\\text{B,H} = \\dot{m} \\left( h_3 - h_2 \\right) $$\n",
    "\n",
    "$$\\implies  \\dot{m} = \\frac{\\dot{Q}_\\text{B,H}}{\\left( h_3 - h_2 \\right)}$$"
   ]
  },
  {
   "cell_type": "code",
   "execution_count": 24,
   "id": "96ca2805",
   "metadata": {},
   "outputs": [
    {
     "name": "stdout",
     "output_type": "stream",
     "text": [
      "The mass flow rate in cycle B is 0.039 kg/s.\n"
     ]
    }
   ],
   "source": [
    "mdotB_kgPerS = QBH_W/(h3 - h2)\n",
    "\n",
    "print('The mass flow rate in cycle B is {0:1.3f} kg/s.'.format(mdotB_kgPerS))"
   ]
  },
  {
   "cell_type": "markdown",
   "id": "2f815da1",
   "metadata": {},
   "source": [
    "The rate of heat removal from the refrigerated space can be calculated from the process 4 to 1. Since we know the mass flow rate, we know that: $$\\dot{Q}_\\text{B,L} = \\dot{m} \\left(h_1 - h_4\\right) $$"
   ]
  },
  {
   "cell_type": "code",
   "execution_count": 25,
   "id": "e6fcad54",
   "metadata": {},
   "outputs": [
    {
     "name": "stdout",
     "output_type": "stream",
     "text": [
      "The rate of heat removal from states 4 to 1 is 7167.516 W.\n"
     ]
    }
   ],
   "source": [
    "QBL_W = mdotB_kgPerS *(h1 - h4)\n",
    "print('The rate of heat removal from states 4 to 1 is {0:1.3f} W.'.format(QBL_W))"
   ]
  },
  {
   "cell_type": "markdown",
   "id": "65a248f0",
   "metadata": {},
   "source": [
    "The power input to the compressors is the sum of the compressor for cycles A and B. That is:\n",
    "$$\\dot{W}_\\text{in} = \\dot{W}_\\text{compressor A, in} + \\dot{W}_\\text{compressor B, in} $$\n",
    "\n",
    "and\n",
    "\n",
    "$$\\dot{W}_\\text{in} = \\dot{m}\\left(h_6 - h_6 \\right) + \\dot{m}\\left(h_2 - h_1\\right)$$.\n",
    "\n",
    "The sign convention here is that energy transferred into the control volume is positive."
   ]
  },
  {
   "cell_type": "code",
   "execution_count": 26,
   "id": "79872d89",
   "metadata": {},
   "outputs": [
    {
     "name": "stdout",
     "output_type": "stream",
     "text": [
      "1602.439134223449\n"
     ]
    }
   ],
   "source": [
    "WdotIn_W = mdotA_kgPerS *(h6 - h5) + mdotB_kgPerS * (h2 - h1)\n",
    "print(WdotIn_W)"
   ]
  },
  {
   "cell_type": "markdown",
   "id": "811752f7",
   "metadata": {},
   "source": [
    "The coefficient of performance of any refrigeration system is the ratio of the rate that heat is removed from the refrigated space divided by the net power input:\n",
    "\n",
    "$$\\text{COP}_\\text{R} = \\frac{\\dot{Q}_\\text{B,L}}{\\dot{W}_\\text{in}} $$\n"
   ]
  },
  {
   "cell_type": "code",
   "execution_count": 27,
   "id": "f5a2add2",
   "metadata": {},
   "outputs": [
    {
     "name": "stdout",
     "output_type": "stream",
     "text": [
      "4.472878943509001\n"
     ]
    }
   ],
   "source": [
    "COP_R = QBL_W/WdotIn_W\n",
    "print(COP_R)"
   ]
  },
  {
   "cell_type": "markdown",
   "id": "5413afb2",
   "metadata": {},
   "source": [
    "We have analyzed a single-stage refrigeration system. How does this COP value for the cascade system compare to the single-stage system? "
   ]
  },
  {
   "cell_type": "code",
   "execution_count": null,
   "id": "6d87f749-4a3f-4415-b35e-6d951b6c2ee8",
   "metadata": {},
   "outputs": [],
   "source": []
  }
 ],
 "metadata": {
  "kernelspec": {
   "display_name": "Python 3 (ipykernel)",
   "language": "python",
   "name": "python3"
  },
  "language_info": {
   "codemirror_mode": {
    "name": "ipython",
    "version": 3
   },
   "file_extension": ".py",
   "mimetype": "text/x-python",
   "name": "python",
   "nbconvert_exporter": "python",
   "pygments_lexer": "ipython3",
   "version": "3.11.10"
  }
 },
 "nbformat": 4,
 "nbformat_minor": 5
}
