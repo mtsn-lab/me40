{
 "cells": [
  {
   "cell_type": "markdown",
   "id": "2a21d006-b98a-42ea-80a2-e882eec1816e",
   "metadata": {},
   "source": [
    "# Nitrogen Heating Work Transfer\n",
    "\n",
    "Problem solving approach:\n",
    "1. Problem Statement  \n",
    "2. Schematic  \n",
    "3. Assumptions and Approximations  \n",
    "4. Physical Laws  \n",
    "5. Properties  \n",
    "6. Calculations  \n",
    "7. Reasoning  \n",
    "\n",
    "## Problem Statement\n",
    "An ideal gas in a closed piston cylinder is having work transferred to it electrically and heat transferred out of it. The initial state is given and we are told that the process is isobaric. Determine the final temperature. \n",
    "\n",
    "## Schematic\n",
    "Draw a control volume. \n",
    "\n",
    "## Assumptions and Approximations\n",
    "- Ideal gas, undergoes quasi-equilibrium expansion or compression\n",
    "- Neglect kinetic and potential energy\n",
    "- Boundary work is transferred through expansion ($p dV$).\n",
    "\n",
    "## Physical Laws\n",
    "- Conservation of energy\n",
    "- Ideal gas law\n",
    "- Constant values for specific heat\n",
    "\n",
    "### Conservation of energy\n",
    "\n",
    "$$\\Delta E_\\text{CV} = E_\\text{in} - E_\\text{out} $$\n",
    "\n",
    "$$\\Delta U + \\Delta KE + \\Delta PE = (W_\\text{in} + Q_\\text{in}) - (W_\\text{out} + Q_\\text{out})  $$\n",
    "\n",
    "$$\\Delta U = W_\\text{in} - (W_\\text{out} + Q_\\text{out})  $$\n",
    "\n",
    "$$W_\\text{in} = \\text{V} I t $$\n",
    "\n",
    "$$ W_\\text{out} = \\int_1^2 p dV = p \\int_1^2 dV = p (V_2 - V_1)  $$\n",
    "\n",
    "$$U_2 - U_1 = \\text{V} I t - p (V_2 - V_1) - Q_\\text{out}  $$\n",
    "\n",
    "$$m (u_2 - u_1) = \\text{V} I t - p m (v_2 - v_1) - Q_\\text{out}  $$\n",
    "\n",
    "$$m ((u_2 + p v_2) - (u_1 + p v_1)) = \\text{V} I t - Q_\\text{out}  $$\n",
    "\n",
    "$$m (h_2 - h_1) = \\text{V} I t - Q_\\text{out}  $$\n",
    "\n",
    "$$h_2 = h_1 + (\\text{V} I t - Q_\\text{out})/m  $$\n",
    "\n",
    "By knowing the enthalpy and pressure at state 2, we have complete information and can determine $T_2$.\n",
    "\n",
    "## Properties"
   ]
  },
  {
   "cell_type": "code",
   "execution_count": 2,
   "id": "af5adf84-4025-4054-81ad-4d58e217fcfc",
   "metadata": {},
   "outputs": [
    {
     "name": "stdout",
     "output_type": "stream",
     "text": [
      "2.245058961983519\n"
     ]
    }
   ],
   "source": [
    "R_JperKgPerK = 296.8\n",
    "V1_m3 = 0.5\n",
    "p1_Pa = 400e3\n",
    "T1_K = 27+273.15\n",
    "\n",
    "m_kg = (p1_Pa*V1_m3)/(R_JperKgPerK*T1_K); print(m_kg)"
   ]
  },
  {
   "cell_type": "code",
   "execution_count": 3,
   "id": "f9c1eb2b-6b89-482f-bbda-780bfb3dad7b",
   "metadata": {},
   "outputs": [
    {
     "name": "stdout",
     "output_type": "stream",
     "text": [
      "72000\n"
     ]
    }
   ],
   "source": [
    "Qout_J = 2800\n",
    "Volt_V = 120\n",
    "I_A = 2\n",
    "t_s = 5*60\n",
    "\n",
    "Win_J = Volt_V*I_A*t_s; print(Win_J)"
   ]
  },
  {
   "cell_type": "code",
   "execution_count": 4,
   "id": "1ca8dc7d-e5d6-4409-a612-2c72d31fb484",
   "metadata": {},
   "outputs": [
    {
     "name": "stdout",
     "output_type": "stream",
     "text": [
      "Collecting pyCalor\n",
      "  Using cached pycalor-1.0.7-py3-none-any.whl.metadata (3.6 kB)\n",
      "Collecting CoolProp (from pyCalor)\n",
      "  Using cached coolprop-7.0.0-cp311-cp311-manylinux_2_17_x86_64.manylinux2014_x86_64.whl.metadata (282 bytes)\n",
      "Collecting igraph (from pyCalor)\n",
      "  Using cached igraph-0.11.9-cp39-abi3-manylinux_2_17_x86_64.manylinux2014_x86_64.whl.metadata (4.4 kB)\n",
      "Collecting texttable>=1.6.2 (from igraph->pyCalor)\n",
      "  Using cached texttable-1.7.0-py2.py3-none-any.whl.metadata (9.8 kB)\n",
      "Using cached pycalor-1.0.7-py3-none-any.whl (22 kB)\n",
      "Using cached coolprop-7.0.0-cp311-cp311-manylinux_2_17_x86_64.manylinux2014_x86_64.whl (15.8 MB)\n",
      "Using cached igraph-0.11.9-cp39-abi3-manylinux_2_17_x86_64.manylinux2014_x86_64.whl (4.4 MB)\n",
      "Using cached texttable-1.7.0-py2.py3-none-any.whl (10 kB)\n",
      "Installing collected packages: texttable, CoolProp, igraph, pyCalor\n",
      "\u001b[2K   \u001b[90m━━━━━━━━━━━━━━━━━━━━━━━━━━━━━━━━━━━━━━━━\u001b[0m \u001b[32m4/4\u001b[0m [pyCalor]m2/4\u001b[0m [igraph]p]\n",
      "\u001b[1A\u001b[2KSuccessfully installed CoolProp-7.0.0 igraph-0.11.9 pyCalor-1.0.7 texttable-1.7.0\n"
     ]
    }
   ],
   "source": [
    "!pip install pyCalor"
   ]
  },
  {
   "cell_type": "code",
   "execution_count": 5,
   "id": "d8871d37-b9a3-468e-9617-c7ca4d244bc9",
   "metadata": {},
   "outputs": [],
   "source": [
    "from pyCalor import thermo as th"
   ]
  },
  {
   "cell_type": "code",
   "execution_count": 6,
   "id": "4d6f7947-c6ba-4d40-8d73-96d6bc694833",
   "metadata": {},
   "outputs": [],
   "source": [
    "substance = 'nitrogen'\n",
    "st1 = th.state(substance,T=(T1_K,'K'),p=(400,'kpa'),name='1')\n",
    "h1_JperKg = st1.h*1e3"
   ]
  },
  {
   "cell_type": "markdown",
   "id": "68d5a51b-be28-47dc-bd07-0f9a51f133d3",
   "metadata": {},
   "source": [
    "## Calculations"
   ]
  },
  {
   "cell_type": "code",
   "execution_count": 7,
   "id": "83be137a-a963-4753-88b9-1ca7055b402f",
   "metadata": {},
   "outputs": [],
   "source": [
    "h2_JperKg = h1_JperKg + ((Win_J - Qout_J)/m_kg)\n",
    "h2_kJperKg = h2_JperKg/1e3"
   ]
  },
  {
   "cell_type": "code",
   "execution_count": 8,
   "id": "0e5e52eb-1eb7-40bb-8d7b-f479d0965306",
   "metadata": {},
   "outputs": [],
   "source": [
    "st2 = th.state(substance,p=(p1_Pa/1e3,'kpa'),h=h2_kJperKg,name='2')"
   ]
  },
  {
   "cell_type": "code",
   "execution_count": 9,
   "id": "381e9778-8449-44f3-9b78-4818f883b5f3",
   "metadata": {},
   "outputs": [
    {
     "name": "stdout",
     "output_type": "stream",
     "text": [
      "56.47293424320816\n"
     ]
    }
   ],
   "source": [
    "T2_C = st2.T-273.15\n",
    "print(T2_C)"
   ]
  },
  {
   "cell_type": "markdown",
   "id": "bbb3e264-699c-4c7e-9be5-4a0746d9aff4",
   "metadata": {},
   "source": [
    "## Alternative solution\n",
    "\n",
    "Picking up where we left off with our equation for enthalpy:\n",
    "\n",
    "$$h_2 = h_1 + (\\text{V} I t - Q_\\text{out})/m  $$\n",
    "\n",
    "Recall that we can define changes in enthalpy as:\n",
    "\n",
    "$$ dh = c_p dT $$\n",
    "\n",
    "Therefore, for constant specific heats:\n",
    "\n",
    "$$ h_2 - h_1 = c_p (T_2 - T_1) $$\n",
    "\n",
    "Substituting yields:\n",
    "\n",
    "$$T_2 = T_1 + (\\text{V} I t - Q_\\text{out})/(c_p m)  $$\n",
    "\n",
    "From the textbook we can determine the specific heat, $c_p$.\n",
    "                                               "
   ]
  },
  {
   "cell_type": "code",
   "execution_count": 15,
   "id": "84366187-7e3a-4121-a899-603cc656f338",
   "metadata": {},
   "outputs": [],
   "source": [
    "cp_N2_JperKgPerK = 1.039*1e3"
   ]
  },
  {
   "cell_type": "code",
   "execution_count": 16,
   "id": "dd04f063-cf5c-4f0f-a1f3-8fc4355c4ae1",
   "metadata": {},
   "outputs": [
    {
     "name": "stdout",
     "output_type": "stream",
     "text": [
      "56.666259788257946\n"
     ]
    }
   ],
   "source": [
    "T2_K_ = T1_K + ((Win_J - Qout_J)/(cp_N2_JperKgPerK*m_kg))\n",
    "print(T2_K_-273.15)"
   ]
  },
  {
   "cell_type": "code",
   "execution_count": 18,
   "id": "f95200db-1047-4632-a6a7-ab64db34998e",
   "metadata": {},
   "outputs": [
    {
     "name": "stdout",
     "output_type": "stream",
     "text": [
      "0.05865051395578723\n"
     ]
    }
   ],
   "source": [
    "error = (T2_K_ - st2.T)/st2.T; \n",
    "print(error*100)"
   ]
  },
  {
   "cell_type": "markdown",
   "id": "d1921068-f837-46d4-86c6-8cbe192ed68e",
   "metadata": {},
   "source": [
    "## Reasoning\n",
    "\n",
    "We see that the values for $T_2$ are the same for two different approaches. The assumption of constant specific heat values appears to be a good one. "
   ]
  },
  {
   "cell_type": "code",
   "execution_count": null,
   "id": "9b1863eb-dd8d-4bd2-9166-fde62036e516",
   "metadata": {},
   "outputs": [],
   "source": []
  }
 ],
 "metadata": {
  "kernelspec": {
   "display_name": "Python 3 (ipykernel)",
   "language": "python",
   "name": "python3"
  },
  "language_info": {
   "codemirror_mode": {
    "name": "ipython",
    "version": 3
   },
   "file_extension": ".py",
   "mimetype": "text/x-python",
   "name": "python",
   "nbconvert_exporter": "python",
   "pygments_lexer": "ipython3",
   "version": "3.11.13"
  }
 },
 "nbformat": 4,
 "nbformat_minor": 5
}
