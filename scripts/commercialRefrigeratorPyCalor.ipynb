{
 "cells": [
  {
   "cell_type": "markdown",
   "id": "1531ae64",
   "metadata": {},
   "source": [
    "## Commercial refrigerator\n",
    "Problem 6-107, Thermodynamics: An Engineering Approach, Yunus Cengel, Michael Boles, 9th Edtition\n",
    "\n",
    "A commercial refrigerator with refrigerant-134a as the working fluid is used to keep the refrigerated space at -35°C by rejecting waste heat to cooling water that enters the condenser at 18°C at a rate of 0.25 kg/s and leaves at 26°C. The refrigerant enters the condenser at 1.2 MPa and 50°C and leaves at the same pressure subcooled by 5°C. If the compressor consumes 3.3 kW of power, determine (a) the mass flow rate of the refrigerant, (b) the refrigeration load, (c) the COP, and (d) the minimum power input to the compressor for the same refrigeration load."
   ]
  },
  {
   "cell_type": "code",
   "execution_count": 22,
   "id": "365c887a",
   "metadata": {},
   "outputs": [
    {
     "name": "stdout",
     "output_type": "stream",
     "text": [
      "Requirement already satisfied: pyCalor in /srv/conda/lib/python3.11/site-packages (1.0.21)\n",
      "Requirement already satisfied: CoolProp in /srv/conda/lib/python3.11/site-packages (from pyCalor) (7.1.0)\n",
      "Requirement already satisfied: igraph in /srv/conda/lib/python3.11/site-packages (from pyCalor) (0.11.9)\n",
      "Requirement already satisfied: texttable>=1.6.2 in /srv/conda/lib/python3.11/site-packages (from igraph->pyCalor) (1.7.0)\n"
     ]
    }
   ],
   "source": [
    "!pip install pyCalor"
   ]
  },
  {
   "cell_type": "code",
   "execution_count": 23,
   "id": "eb884353",
   "metadata": {},
   "outputs": [],
   "source": [
    "from pyCalor import thermo as th"
   ]
  },
  {
   "cell_type": "code",
   "execution_count": 24,
   "id": "ea9086fb-7129-4562-8fad-455eea27d8d9",
   "metadata": {},
   "outputs": [],
   "source": [
    "substance = 'R134a'"
   ]
  },
  {
   "cell_type": "code",
   "execution_count": 25,
   "id": "bc160aa5",
   "metadata": {},
   "outputs": [],
   "source": [
    "# state 2: After the compressor\n",
    "P2_Pa = 1.2e6 # Pa\n",
    "T2_K = 50+273.15\n",
    "st2 = th.state(substance,p=(P2_Pa,'Pa'),T=(T2_K,'K'),name='2')\n",
    "h2_JperKg = st2.h*1000"
   ]
  },
  {
   "cell_type": "code",
   "execution_count": 26,
   "id": "2bddff8d-51bd-4358-976f-5d930d33283a",
   "metadata": {},
   "outputs": [],
   "source": [
    "# state 3: After the condenser\n",
    "P3_Pa = 1.2e6 # Pa\n",
    "x3SatLiq = 0\n",
    "st3sat = th.state(substance,p=(P3_Pa,'Pa'),x=x3SatLiq,name='3sat')\n",
    "\n",
    "T3sat_K = st3sat.T\n",
    "subcooling_K = 5\n",
    "\n",
    "T3_K = T3sat_K - subcooling_K\n",
    "st3 = th.state(substance,T=(T3_K,'K'),p=(P3_Pa,'Pa'),name='3')\n",
    "h3_JperKg = st3.h*1000"
   ]
  },
  {
   "cell_type": "markdown",
   "id": "4ecac694-2a07-48f2-9209-cc7428ac5dcb",
   "metadata": {},
   "source": [
    "$\\dot{Q}_\\text{H} = \\dot{m}_\\text{R134a} \\left(h_2 - h_3 \\right)$\n",
    "\n",
    "So we need to determine the heat transferred to the cooling water. For that we can determine the properties of the water entering and exiting the condenser. "
   ]
  },
  {
   "cell_type": "code",
   "execution_count": 27,
   "id": "0cfdf9a9-46be-4e18-8c80-2f1b4186e768",
   "metadata": {},
   "outputs": [],
   "source": [
    "# mass flow rate of water\n",
    "mdotWater_kgPerS = 0.25\n",
    "\n",
    "# state 5: Water entering the condenser\n",
    "T5_K = 18+273.15\n",
    "P5_MPa = 0.1 # Atmospheric pressure\n",
    "\n",
    "st5 = th.state('water',p=(P5_MPa,'Mpa'),T=(T5_K,'K'),name='5')\n",
    "h5_kJperKg = st5.h\n",
    "\n",
    "# state 6: Water exiting the condenser\n",
    "T6_K = 26 + 273.15\n",
    "P6_MPa = 0.1 # Atmospheric pressure\n",
    "\n",
    "st6 = th.state('water',p=(P6_MPa,'Mpa'),T=(T6_K,'K'),name='6')\n",
    "h6_kJperKg = st6.h"
   ]
  },
  {
   "cell_type": "markdown",
   "id": "be360a68-5e7e-4b2f-b213-69a97e86d146",
   "metadata": {},
   "source": [
    "$\\dot{Q}_\\text{H} = \\dot{m}_\\text{water} \\left(h_6 - h_5 \\right)$"
   ]
  },
  {
   "cell_type": "code",
   "execution_count": 15,
   "id": "7db280e9-c508-4ee3-a2f3-2015c6621ec3",
   "metadata": {},
   "outputs": [
    {
     "name": "stdout",
     "output_type": "stream",
     "text": [
      "QdotH_kW = 8.365889 kW.\n"
     ]
    }
   ],
   "source": [
    "QdotH_kW = mdotWater_kgPerS*(h6_kJperKg - h5_kJperKg)\n",
    "QdotH_W = QdotH_kW*1000\n",
    "print('QdotH_kW = {0:1.6f} kW.'.format(QdotH_kW))"
   ]
  },
  {
   "cell_type": "markdown",
   "id": "3681de52-8caf-40bf-8782-0c932ee221a7",
   "metadata": {},
   "source": [
    "Now that we know the heat transferred out from the hot side of the refrigerator, and the refrigerant properties before and after the condenser, we can determine the mass flow rate of the refrigerant:"
   ]
  },
  {
   "cell_type": "code",
   "execution_count": 16,
   "id": "66deece2-beb8-42d3-93fc-778a9d336096",
   "metadata": {},
   "outputs": [
    {
     "name": "stdout",
     "output_type": "stream",
     "text": [
      "(a) mdot-R134a = 0.049777 kg/s.\n"
     ]
    }
   ],
   "source": [
    "mdotR134a_kgPerS = QdotH_W/(h2_JperKg - h3_JperKg)\n",
    "print('(a) mdot-R134a = {0:1.6f} kg/s.'.format(mdotR134a_kgPerS))"
   ]
  },
  {
   "cell_type": "markdown",
   "id": "3bbdc894-8b27-468f-b479-a7b32aeb1dad",
   "metadata": {},
   "source": [
    "For the refrigeration load, we can use this formula:\n",
    "$W_\\text{net,in} = Q_\\text{H} - Q_\\text{L}$\n",
    "\n",
    "as we are given the work input and we have determined the heat rejected to the hot side of the refrigerator."
   ]
  },
  {
   "cell_type": "code",
   "execution_count": 17,
   "id": "8145582b-743e-422f-9356-f753fa9ddea6",
   "metadata": {},
   "outputs": [
    {
     "name": "stdout",
     "output_type": "stream",
     "text": [
      "(b) QdotL = 5065.9 W.\n"
     ]
    }
   ],
   "source": [
    "WdotIn_W = 3300\n",
    "QdotL_W = QdotH_W - WdotIn_W\n",
    "print('(b) QdotL = {0:1.1f} W.'.format(QdotL_W))"
   ]
  },
  {
   "cell_type": "markdown",
   "id": "1d585b41-3c3a-4673-b8c2-d3258f67a053",
   "metadata": {},
   "source": [
    "Recall that:\n",
    "$\\text{COP} = \\frac{\\dot{Q}_\\text{L}}{\\dot{W}_\\text{net,in}}$"
   ]
  },
  {
   "cell_type": "code",
   "execution_count": 18,
   "id": "4e4399f7-5095-4a19-8a75-864f4c0ac9d9",
   "metadata": {},
   "outputs": [
    {
     "name": "stdout",
     "output_type": "stream",
     "text": [
      "(c) COP = 1.54.\n"
     ]
    }
   ],
   "source": [
    "COP = QdotL_W / WdotIn_W\n",
    "print('(c) COP = {0:1.2f}.'.format(COP))"
   ]
  },
  {
   "cell_type": "markdown",
   "id": "48442133-d210-4838-b36e-1f8e7cec3325",
   "metadata": {},
   "source": [
    "The refrigeration space is kept at $T_\\text{L} = $-35 $^\\circ$C. We know the value for $T_\\text{H}$. Therefore, we can determine the COP for the Carnot cycle. \n",
    "\n",
    "$\\text{COP}_\\text{R,rev} = \\frac{1}{T_\\text{H}/T_\\text{L} - 1}$\n",
    "\n",
    "By knowning the value of $Q_\\text{L}$ from above, we can determine the minimum power input to the system. "
   ]
  },
  {
   "cell_type": "code",
   "execution_count": 19,
   "id": "80ca275f-3702-479e-8328-21e24f261645",
   "metadata": {},
   "outputs": [],
   "source": [
    "TL_K = -35 + 273.15\n",
    "TH_K = T2_K"
   ]
  },
  {
   "cell_type": "code",
   "execution_count": 20,
   "id": "531f166f-afb6-4a9e-9904-11bf0d668291",
   "metadata": {},
   "outputs": [
    {
     "name": "stdout",
     "output_type": "stream",
     "text": [
      "2.8017647058823534\n"
     ]
    }
   ],
   "source": [
    "COP_Rrev = 1/((TH_K/TL_K)-1); print(COP_Rrev)"
   ]
  },
  {
   "cell_type": "code",
   "execution_count": 21,
   "id": "b36cf1c7-215a-4576-999b-0030b0f3b7ac",
   "metadata": {},
   "outputs": [
    {
     "name": "stdout",
     "output_type": "stream",
     "text": [
      "(d) Wdot_minimum = 1808.11 W.\n"
     ]
    }
   ],
   "source": [
    "WdotInMinimum_W = QdotL_W / COP_Rrev\n",
    "print('(d) Wdot_minimum = {0:1.2f} W.'.format(WdotInMinimum_W))"
   ]
  },
  {
   "cell_type": "code",
   "execution_count": null,
   "id": "d45307a8-6a60-47e1-accc-20b08e512e43",
   "metadata": {},
   "outputs": [],
   "source": []
  }
 ],
 "metadata": {
  "kernelspec": {
   "display_name": "Python 3 (ipykernel)",
   "language": "python",
   "name": "python3"
  },
  "language_info": {
   "codemirror_mode": {
    "name": "ipython",
    "version": 3
   },
   "file_extension": ".py",
   "mimetype": "text/x-python",
   "name": "python",
   "nbconvert_exporter": "python",
   "pygments_lexer": "ipython3",
   "version": "3.11.13"
  }
 },
 "nbformat": 4,
 "nbformat_minor": 5
}
