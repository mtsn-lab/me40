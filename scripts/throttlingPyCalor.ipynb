{
 "cells": [
  {
   "cell_type": "code",
   "execution_count": 1,
   "id": "3a61955b",
   "metadata": {},
   "outputs": [
    {
     "name": "stdout",
     "output_type": "stream",
     "text": [
      "Requirement already satisfied: pyCalor in /srv/conda/lib/python3.11/site-packages (1.0.19)\n",
      "Requirement already satisfied: CoolProp in /srv/conda/lib/python3.11/site-packages (from pyCalor) (7.0.0)\n",
      "Requirement already satisfied: igraph in /srv/conda/lib/python3.11/site-packages (from pyCalor) (0.11.9)\n",
      "Requirement already satisfied: texttable>=1.6.2 in /srv/conda/lib/python3.11/site-packages (from igraph->pyCalor) (1.7.0)\n"
     ]
    }
   ],
   "source": [
    "!pip install pyCalor"
   ]
  },
  {
   "cell_type": "code",
   "execution_count": 2,
   "id": "bc064890",
   "metadata": {},
   "outputs": [],
   "source": [
    "from pyCalor import thermo as th"
   ]
  },
  {
   "cell_type": "markdown",
   "id": "b2765991",
   "metadata": {},
   "source": [
    "Refrigerant-134a enters the compressor of a refrigerator as superheated vapor at $p_1$ and $T_1$ at a rate of $\\dot{m}$ and leaves at $P_2$ and $T_2$. The refrigerant is cooled in the condenser to $T_3$ and $p_3$ and is throttled to $p_4$. We can treat the throttling process as isenthalpic, $h_3 = h_4$. Disregard any heat transfer and pressure drops in the connecting lines between the components. Please analyze the throttling process from state 3 to 4.\n",
    "\n",
    "Determine:\n",
    "- (a) the change in temperature from state 3 to state 4, $T_3 - T_4$. \n",
    "- (b) the change in specific volume from state 3 to state 4, $v_4 - v_3$.\n",
    "- (c) the change in pressure from state 3 to state 4, $p_3 - p_4$.\n",
    "- (d) the change in internal energy from state 3 to state 4, $u_3 - u_4$."
   ]
  },
  {
   "cell_type": "code",
   "execution_count": 3,
   "id": "e86a4eb6",
   "metadata": {},
   "outputs": [],
   "source": [
    "p1_MPa = 0.14\n",
    "T1_C = -10\n",
    "\n",
    "p2_MPa = 0.8\n",
    "T2_C = 50\n",
    "\n",
    "p3_MPa = p2_MPa\n",
    "x3 = 0.0\n",
    "\n",
    "p4_MPa = 0.15\n",
    "\n",
    "mdot_kgPerS = 0.05\n",
    "\n",
    "fluid = 'R134a'"
   ]
  },
  {
   "cell_type": "code",
   "execution_count": 4,
   "id": "606cf0cd",
   "metadata": {},
   "outputs": [],
   "source": [
    "st1 = th.state(fluid,p=(p1_MPa,'Mpa'),T=(T1_C,'C'),name='1')\n",
    "st2 = th.state(fluid,p=(p2_MPa,'Mpa'),T=(T2_C,'C'),name='2')\n",
    "st3 = th.state(fluid,p=(p3_MPa,'Mpa'),x=x3,name='3')\n",
    "\n",
    "# isenthalpic process, 3 to 4, h4 = st3.h\n",
    "st4 = th.state(fluid,h=st3.h,p=(p4_MPa,'Mpa'),name='4')"
   ]
  },
  {
   "cell_type": "markdown",
   "id": "4fa4ba83-078d-4e94-b58a-d84bf195bc82",
   "metadata": {},
   "source": [
    "We can now calculate the answers to (a)-(d):"
   ]
  },
  {
   "cell_type": "code",
   "execution_count": 5,
   "id": "83b03dde-e5c1-4dfa-af5a-acb296439663",
   "metadata": {},
   "outputs": [
    {
     "name": "stdout",
     "output_type": "stream",
     "text": [
      "(a): T3 - T4: 48.4597 K\n",
      "(b): v3-v4: -0.0409 m3/kg\n",
      "(c): p3-p4: 650.0000 kPa\n",
      "(d): u3-u4: 5.5871 kJ/kg\n"
     ]
    }
   ],
   "source": [
    "print('(a): T3 - T4: {0:1.4f} K'.format(st3.T-st4.T))\n",
    "print('(b): v3-v4: {0:1.4f} m3/kg'.format(st3.v-st4.v))\n",
    "print('(c): p3-p4: {0:1.4f} kPa'.format(st3.p-st4.p))\n",
    "print('(d): u3-u4: {0:1.4f} kJ/kg'.format(st3.u-st4.u))"
   ]
  },
  {
   "cell_type": "code",
   "execution_count": null,
   "id": "d74030bc-86e7-4d9a-8f56-b85ec8e9936a",
   "metadata": {},
   "outputs": [],
   "source": []
  }
 ],
 "metadata": {
  "kernelspec": {
   "display_name": "Python 3 (ipykernel)",
   "language": "python",
   "name": "python3"
  },
  "language_info": {
   "codemirror_mode": {
    "name": "ipython",
    "version": 3
   },
   "file_extension": ".py",
   "mimetype": "text/x-python",
   "name": "python",
   "nbconvert_exporter": "python",
   "pygments_lexer": "ipython3",
   "version": "3.11.13"
  }
 },
 "nbformat": 4,
 "nbformat_minor": 5
}
