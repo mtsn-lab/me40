{
 "cells": [
  {
   "cell_type": "code",
   "execution_count": 1,
   "id": "a06c7452-d21c-43c5-b6b8-ff029cef2df7",
   "metadata": {},
   "outputs": [
    {
     "name": "stdout",
     "output_type": "stream",
     "text": [
      "Collecting iapws\n",
      "  Using cached iapws-1.5.4-py3-none-any.whl\n",
      "Requirement already satisfied: scipy>=1.2 in /srv/conda/lib/python3.11/site-packages (from iapws) (1.10.0)\n",
      "Requirement already satisfied: numpy<1.27.0,>=1.19.5 in /srv/conda/lib/python3.11/site-packages (from scipy>=1.2->iapws) (1.26.4)\n",
      "Installing collected packages: iapws\n",
      "Successfully installed iapws-1.5.4\n"
     ]
    }
   ],
   "source": [
    "try:\n",
    "    from iapws import IAPWS97\n",
    "except ImportError:\n",
    "    !pip install iapws\n",
    "    from iapws import IAPWS97"
   ]
  },
  {
   "cell_type": "code",
   "execution_count": 2,
   "id": "a67a3009-cfb8-48b9-9607-81fe8a3be3e3",
   "metadata": {},
   "outputs": [
    {
     "name": "stdout",
     "output_type": "stream",
     "text": [
      "Collecting pyfluids\n",
      "  Using cached pyfluids-2.7.1-py3-none-any.whl (23 kB)\n",
      "Collecting CoolProp==6.6.0\n",
      "  Using cached CoolProp-6.6.0-cp311-cp311-manylinux_2_17_x86_64.manylinux2014_x86_64.whl (7.3 MB)\n",
      "Requirement already satisfied: tomli==2.0.2 in /srv/conda/lib/python3.11/site-packages (from pyfluids) (2.0.2)\n",
      "Installing collected packages: CoolProp, pyfluids\n",
      "Successfully installed CoolProp-6.6.0 pyfluids-2.7.1\n"
     ]
    }
   ],
   "source": [
    "try:\n",
    "    from pyfluids import HumidAir, InputHumidAir\n",
    "except ImportError:\n",
    "    !pip install pyfluids\n",
    "    from pyfluids import HumidAir, InputHumidAir"
   ]
  },
  {
   "cell_type": "markdown",
   "id": "76b34d62-c611-41ea-ad2c-b0d767b5e485",
   "metadata": {},
   "source": [
    "Air enters a 30-cm-diameter cooling section at 1 atm, 35°C, and 45 percent relative humidity at 18 m/s. Heat is removed from the air at a rate of 750 kJ/min. \n",
    "\n",
    "Determine: \n",
    "- (a) the exit temperature,\n",
    "- (b) the exit relative humidity of the air, and\n",
    "- (c) the exit velocity. \n",
    "\n",
    "Answers: \n",
    "- (a) 26.5°C,\n",
    "- (b) 73.1 percent,\n",
    "- (c) 17.5 m/s"
   ]
  },
  {
   "cell_type": "code",
   "execution_count": 18,
   "id": "f7dc9843-2798-499b-ba88-0d787c6cb113",
   "metadata": {},
   "outputs": [],
   "source": [
    "D0_cm = 30\n",
    "D0_m = D0_cm/100\n",
    "\n",
    "p1_Pa = 101325\n",
    "T1_C = 35 \n",
    "phi_1_percent = 45\n",
    "vel1_mPerS = 18\n",
    "\n",
    "Qout_kJperMin = 750 \n",
    "Qout_kJperSec = Qout_kJperMin/60"
   ]
  },
  {
   "cell_type": "code",
   "execution_count": 10,
   "id": "51124ddd-bc36-4fa3-a721-74b7bc732fc7",
   "metadata": {},
   "outputs": [
    {
     "name": "stdout",
     "output_type": "stream",
     "text": [
      "75.10321439967704\n",
      "0.8810477281821751\n"
     ]
    }
   ],
   "source": [
    "# define state 1\n",
    "\n",
    "state1 = HumidAir().with_state(\n",
    "    InputHumidAir.pressure(p1_Pa),\n",
    "    InputHumidAir.temperature(T1_C),\n",
    "    InputHumidAir.relative_humidity(phi_1_percent),\n",
    "    #InputHumidAir.wet_bulb_temperature(Twb_C),\n",
    ")\n",
    "\n",
    "h1_JperKg = state1.enthalpy\n",
    "h1_kJperKg = h1_JperKg/1e3; print(h1_kJperKg)\n",
    "w1 = state1.humidity\n",
    "v1_m3PerKg = state1.specific_volume; print(v1_m3PerKg)"
   ]
  },
  {
   "cell_type": "markdown",
   "id": "2bf7ca07-ce11-4dba-aac6-0723400f120d",
   "metadata": {},
   "source": [
    "Let's do an energy balance for this steady flow device:\n",
    "\n",
    "$$\\dot{m} h_1 = \\dot{Q}_\\text{out} + \\dot{m}h_2  $$\n",
    "\n",
    "$$\\implies h_2 = h_1 -\\dot{Q}_\\text{out}/\\dot{m} $$\n",
    "\n",
    "We need to know the mass flow rate."
   ]
  },
  {
   "cell_type": "code",
   "execution_count": 19,
   "id": "16141237-ced5-4638-af7c-b31460d36c61",
   "metadata": {},
   "outputs": [
    {
     "name": "stdout",
     "output_type": "stream",
     "text": [
      "1.2723075000000001\n"
     ]
    }
   ],
   "source": [
    "Vdot_m3PerS = 3.1415*((D0_m/2)**2)*vel1_mPerS; print(Vdot_m3PerS)"
   ]
  },
  {
   "cell_type": "code",
   "execution_count": 9,
   "id": "56dfe918-a8b9-4604-93e0-148d3b7d02fc",
   "metadata": {},
   "outputs": [
    {
     "name": "stdout",
     "output_type": "stream",
     "text": [
      "1.4440846497897375\n"
     ]
    }
   ],
   "source": [
    "mdot_kgPerS = Vdot_m3PerS/v1_m3PerKg; print(mdot_kgPerS)"
   ]
  },
  {
   "cell_type": "code",
   "execution_count": 11,
   "id": "77297e93-c542-4219-969f-67d1d841ff57",
   "metadata": {},
   "outputs": [
    {
     "name": "stdout",
     "output_type": "stream",
     "text": [
      "66.4472121342835\n"
     ]
    }
   ],
   "source": [
    "h2_kJperKg = h1_kJperKg - (Qout_kJperSec/mdot_kgPerS); print(h2_kJperKg)"
   ]
  },
  {
   "cell_type": "markdown",
   "id": "87110945-864f-4ffa-9dbf-2d18ce7e8c02",
   "metadata": {},
   "source": [
    "So now we have the enthalpy and pressure at state 2. However, we need one additional piece of information to be able to determine all other properties. \n",
    "\n",
    "Here let us assume that we are only doing \"simple\" cooling ($\\phi_1 < \\phi_2 < 100\\%$). That is, there is no condensation occurring. If this is the case, then $$\\omega_1 = \\omega_2$$."
   ]
  },
  {
   "cell_type": "code",
   "execution_count": 14,
   "id": "3835aae0-5a80-43e3-a469-62c02a32583f",
   "metadata": {},
   "outputs": [],
   "source": [
    "w2 = w1\n",
    "p2_Pa = p1_Pa\n",
    "h2_JperKg = h2_kJperKg*1000"
   ]
  },
  {
   "cell_type": "code",
   "execution_count": 22,
   "id": "16041a62-07c1-4320-8313-14b67b8e1ccb",
   "metadata": {},
   "outputs": [
    {
     "name": "stdout",
     "output_type": "stream",
     "text": [
      "66.4472121342835\n",
      "0.8567274884851074\n"
     ]
    }
   ],
   "source": [
    "# define state 2\n",
    "\n",
    "state2 = HumidAir().with_state(\n",
    "    InputHumidAir.pressure(p2_Pa),\n",
    "    InputHumidAir.enthalpy(h2_JperKg),\n",
    "    InputHumidAir.humidity(w2),\n",
    "    #InputHumidAir.temperature(T1_C),\n",
    "    #InputHumidAir.relative_humidity(phi_1_percent),\n",
    "    #InputHumidAir.wet_bulb_temperature(Twb_C),\n",
    ")\n",
    "\n",
    "h2_JperKg = state2.enthalpy\n",
    "h2_kJperKg = h2_JperKg/1e3; print(h2_kJperKg)\n",
    "# w1 = state1.humidity\n",
    "v2_m3PerKg = state2.specific_volume; print(v2_m3PerKg)"
   ]
  },
  {
   "cell_type": "code",
   "execution_count": 23,
   "id": "8bd7fa9c-c3b4-441c-9c61-361b2c3377cc",
   "metadata": {},
   "outputs": [
    {
     "name": "stdout",
     "output_type": "stream",
     "text": [
      "(a) The exit temperature is, T2: 26.52 C\n"
     ]
    }
   ],
   "source": [
    "print('(a) The exit temperature is, T2: {0:1.2f} C'.format(state2.temperature))"
   ]
  },
  {
   "cell_type": "code",
   "execution_count": 24,
   "id": "cfd10bb6-ef7c-4b90-8fa8-5e2c11fa2911",
   "metadata": {},
   "outputs": [
    {
     "name": "stdout",
     "output_type": "stream",
     "text": [
      "(b) The exit relative humidity is: 73.06 %\n"
     ]
    }
   ],
   "source": [
    "print('(b) The exit relative humidity is: {0:1.2f} %'.format(state2.relative_humidity))"
   ]
  },
  {
   "cell_type": "code",
   "execution_count": 25,
   "id": "e21a3dde-5a3f-46ba-ac81-52bd41338b0c",
   "metadata": {},
   "outputs": [],
   "source": [
    "Vdot2_m3perS = mdot_kgPerS*v2_m3PerKg\n",
    "area2_m2 = 3.1415*((D0_m/2)**2)\n",
    "vel2_mPerS = Vdot2_m3perS/area2_m2"
   ]
  },
  {
   "cell_type": "code",
   "execution_count": 26,
   "id": "3396b6e9-466f-4191-8171-1c83fd4dee53",
   "metadata": {},
   "outputs": [
    {
     "name": "stdout",
     "output_type": "stream",
     "text": [
      "(c) The exit velocity is: 17.50 m/s\n"
     ]
    }
   ],
   "source": [
    "print('(c) The exit velocity is: {0:1.2f} m/s'.format(vel2_mPerS))"
   ]
  },
  {
   "cell_type": "code",
   "execution_count": null,
   "id": "2a44b25b-0620-4a4c-8aa5-0b7e32b4e1cc",
   "metadata": {},
   "outputs": [],
   "source": []
  }
 ],
 "metadata": {
  "kernelspec": {
   "display_name": "Python 3 (ipykernel)",
   "language": "python",
   "name": "python3"
  },
  "language_info": {
   "codemirror_mode": {
    "name": "ipython",
    "version": 3
   },
   "file_extension": ".py",
   "mimetype": "text/x-python",
   "name": "python",
   "nbconvert_exporter": "python",
   "pygments_lexer": "ipython3",
   "version": "3.11.10"
  }
 },
 "nbformat": 4,
 "nbformat_minor": 5
}
