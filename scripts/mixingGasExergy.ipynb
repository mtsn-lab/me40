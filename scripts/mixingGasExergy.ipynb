{
 "cells": [
  {
   "cell_type": "markdown",
   "id": "ff541f05-c7f2-441f-a31b-c61fd057f68b",
   "metadata": {},
   "source": [
    "An insulated rigid tank is divided into two compartments by a partition. One compartment contains $n_\\text{O2} =$3 kmol of O$_2$, and the other compartment contains $n_\\text{CO2} =$5 kmol of CO$_2$. Both gases are initially at 25°C and 200 kPa.\n",
    "\n",
    "Now the partition is removed, and the two gases are allowed to mix. \n",
    "\n",
    "Assuming the surroundings are at 25°C and both gases behave as ideal gases, determine:\n",
    "\n",
    "- (a) the entropy change and\n",
    "- (b) exergy destruction associated with this process."
   ]
  },
  {
   "cell_type": "markdown",
   "id": "b32a7d63-34be-45c7-9386-e54f4c968cdf",
   "metadata": {},
   "source": [
    "![title](figure.png)"
   ]
  },
  {
   "cell_type": "markdown",
   "id": "1b996758-252f-4768-a4b5-3692352a5e36",
   "metadata": {},
   "source": [
    "Assumptions:\n",
    "- closed system; no change in volume.\n",
    "- no energy transfer as heat or work.\n",
    "- both gases initially at the sampe temperature and pressure.\n",
    "- when you mix two ideal gases at the same initial temperature and pressure, the pressure and temperature will not change. "
   ]
  },
  {
   "cell_type": "markdown",
   "id": "8b932c73-29d5-4ff8-966b-d359542e8128",
   "metadata": {},
   "source": [
    "The entropy change of each component can be calculated as:\n",
    "\n",
    "$$S = S_\\text{O2} + S_\\text{CO2} $$\n",
    "\n",
    "$$\\Delta S = \\Delta S_\\text{O2} + \\Delta S_\\text{CO2} = n_\\text{O2} \\Delta s_\\text{O2} + n_\\text{CO2} \\Delta s_\\text{CO2}$$"
   ]
  },
  {
   "cell_type": "markdown",
   "id": "6da9441c-db48-452b-8305-2cc758b4858f",
   "metadata": {},
   "source": [
    "For an ideal gas mixture, we can write:\n",
    "\n",
    "$$ \\Delta s_i = s_{i,2} - s_{i,1} \\approx c_{p,i} \\ln \\left(\\frac{T_{i,2}}{T_{i,1}} \\right) - R_i \\ln \\left(\\frac{p_{i,2}}{p_{i,1}} \\right)$$"
   ]
  },
  {
   "cell_type": "markdown",
   "id": "82f3e475-30ae-4a9c-8b42-1bee7a3df42d",
   "metadata": {},
   "source": [
    "where $p_{i,2} = y_{i,2} p_2$ and $p_{i,1} = y_{i,1} p_1$. Recall that:\n",
    "\n",
    "$$y_i = \\frac{p_i}{p} = \\frac{v_i}{v} = \\frac{n_i}{n} $$"
   ]
  },
  {
   "cell_type": "markdown",
   "id": "82476884-f1ee-40b5-a2b7-86aeca020c99",
   "metadata": {},
   "source": [
    "Since the final temperature is the same as the initial one, we see that:\n",
    "\n",
    "$$ \\Delta s_\\text{O2} \\approx  - R_\\text{u} \\ln \\left(\\frac{p_\\text{O2,2}}{p_\\text{O2,1}} \\right)$$\n",
    "\n",
    "$$ \\Delta s_\\text{CO2} \\approx  - R_\\text{u} \\ln \\left(\\frac{p_\\text{CO2,2}}{p_\\text{CO2,1}} \\right)$$\n"
   ]
  },
  {
   "cell_type": "markdown",
   "id": "d46d56ed-880d-4a44-abbe-07dcc59bcf25",
   "metadata": {},
   "source": [
    "We also see that $n = n_\\text{O2} + n_\\text{CO2} = $3 kmol + 5 kmol = 8 kmol.\n",
    "\n",
    "$$\\implies y_\\text{O2} = 3/8 = 0.375 $$\n",
    "\n",
    "$$\\implies y_\\text{CO2} = 5/8 = 0.625 $$"
   ]
  },
  {
   "cell_type": "markdown",
   "id": "79ca5c05-3353-4f23-8d57-c67d45df16ba",
   "metadata": {},
   "source": [
    "The final partial pressures are:\n",
    "\n",
    "$$ p_\\text{O2,2} = y_\\text{O2,2} p_2 = (3/8)(200 \\text{kPa}) = 75 \\text{kPa}$$\n",
    "\n",
    "$$ p_\\text{CO2,2} = y_\\text{CO2,2} p_2 = (5/8)(200 \\text{kPa}) = 125 \\text{kPa}$$\n",
    "\n",
    "Substituting into the above, with $R_\\text{u} = $ 8.314 kJ/kmol/K:"
   ]
  },
  {
   "cell_type": "markdown",
   "id": "801e3d0c-7dff-4ae5-87b3-b660fa438b2f",
   "metadata": {},
   "source": [
    "$$ \\Delta s_\\text{O2} \\approx  - (8.314) \\ln \\left(\\frac{75}{200} \\right)$$\n",
    "\n",
    "$$ \\Delta s_\\text{CO2} \\approx  - (8.314) \\ln \\left(\\frac{125}{200} \\right)$$"
   ]
  },
  {
   "cell_type": "code",
   "execution_count": 2,
   "id": "7ac42e6f-3956-4af0-88b0-208631f1b199",
   "metadata": {},
   "outputs": [],
   "source": [
    "import math"
   ]
  },
  {
   "cell_type": "code",
   "execution_count": 48,
   "id": "6a409300-8238-498a-84e2-3067c5ddfcf0",
   "metadata": {},
   "outputs": [
    {
     "name": "stdout",
     "output_type": "stream",
     "text": [
      "75.0\n",
      "125.0\n"
     ]
    }
   ],
   "source": [
    "T0_K = 273.15+25\n",
    "\n",
    "nO2_kmol = 3\n",
    "nCO2_kmol = 5\n",
    "\n",
    "n = nO2_kmol + nCO2_kmol\n",
    "\n",
    "yO2 = nO2_kmol/n\n",
    "yCO2 = nCO2_kmol/n\n",
    "\n",
    "pO2_1_kPa = 200\n",
    "pCO2_1_kPa = 200\n",
    "\n",
    "p2_kPa = 200\n",
    "\n",
    "pO2_2_kPa = p2_kPa*yO2; print(pO2_2_kPa)\n",
    "pCO2_2_kPa = p2_kPa*yCO2; print(pCO2_2_kPa)"
   ]
  },
  {
   "cell_type": "code",
   "execution_count": 8,
   "id": "d0c2f9cd-e52c-459d-a069-8ad9c1d22bcd",
   "metadata": {},
   "outputs": [
    {
     "name": "stdout",
     "output_type": "stream",
     "text": [
      "24.463843228618472\n",
      "19.53805086774523\n"
     ]
    }
   ],
   "source": [
    "Ru = 8.314\n",
    "\n",
    "SO2_12_kJperK = (-Ru * math.log(pO2_2_kPa/pO2_1_kPa))*nO2_kmol; print(SO2_12_kJperK)\n",
    "SCO2_12_kJperK = (-Ru * math.log(pCO2_2_kPa/pCO2_1_kPa))*nCO2_kmol; print(SCO2_12_kJperK)"
   ]
  },
  {
   "cell_type": "code",
   "execution_count": 47,
   "id": "4011f435-dad8-4376-867d-525811538b9a",
   "metadata": {},
   "outputs": [
    {
     "name": "stdout",
     "output_type": "stream",
     "text": [
      "(a) The total change in entropy is: 44.00 kJ/K\n"
     ]
    }
   ],
   "source": [
    "S12_kJperK = SO2_12_kJperK + SCO2_12_kJperK\n",
    "\n",
    "print('(a) The total change in entropy is: {0:1.2f} kJ/K'.format(S12_kJperK))"
   ]
  },
  {
   "cell_type": "markdown",
   "id": "3fce8459-f7be-47ec-bd59-b26e66e06472",
   "metadata": {},
   "source": [
    "The exergy destruction is defined as:\n",
    "\n",
    "$$X_\\text{destroyed} = T_0 S_\\text{gen} = T_0 \\Delta S_\\text{system} $$"
   ]
  },
  {
   "cell_type": "code",
   "execution_count": 49,
   "id": "187849d3-1653-4491-9f07-0808b0cdd16f",
   "metadata": {},
   "outputs": [
    {
     "name": "stdout",
     "output_type": "stream",
     "text": [
      "(b) The exergy destruction associated with this mixing process is: 13119.16 kJ\n"
     ]
    }
   ],
   "source": [
    "Xdestroyed_kJ = T0_K * S12_kJperK; \n",
    "\n",
    "print('(b) The exergy destruction associated with this mixing process is: {0:1.2f} kJ'.format(Xdestroyed_kJ))"
   ]
  },
  {
   "cell_type": "markdown",
   "id": "5dbe2040-cd76-4589-8a44-6c8a023946aa",
   "metadata": {},
   "source": [
    "### Compare with CoolProp"
   ]
  },
  {
   "cell_type": "code",
   "execution_count": 26,
   "id": "99bb7c25-c9e8-45e5-a2c2-255d0ed15506",
   "metadata": {},
   "outputs": [
    {
     "name": "stdout",
     "output_type": "stream",
     "text": [
      "Requirement already satisfied: CoolProp in /srv/conda/lib/python3.11/site-packages (6.6.0)\n"
     ]
    }
   ],
   "source": [
    "!pip install CoolProp"
   ]
  },
  {
   "cell_type": "code",
   "execution_count": 43,
   "id": "5f89a755-8800-4c5d-85b9-6d58c15b2647",
   "metadata": {},
   "outputs": [],
   "source": [
    "from CoolProp.CoolProp import PropsSI"
   ]
  },
  {
   "cell_type": "code",
   "execution_count": 44,
   "id": "189b5504-2829-4898-bbc6-2c18ac2a34de",
   "metadata": {},
   "outputs": [
    {
     "name": "stdout",
     "output_type": "stream",
     "text": [
      "6229.827173253442\n",
      "2606.181775510778\n",
      "6485.506816002578\n",
      "2696.62200542212\n"
     ]
    }
   ],
   "source": [
    "T1_K = 25+273.15\n",
    "T2_K = 25+273.15\n",
    "\n",
    "s1_O2_JperKgperK = PropsSI('S','T',T1_K,'P',pO2_1_kPa*1000,'Oxygen'); print(s1_O2_JperKgperK)\n",
    "s1_CO2_JperKgperK = PropsSI('S','T',T1_K,'P',pCO2_1_kPa*1000,'CarbonDioxide'); print(s1_CO2_JperKgperK)\n",
    "\n",
    "s2_O2_JperKgperK = PropsSI('S','T',T2_K,'P',pO2_2_kPa*1000,'Oxygen'); print(s2_O2_JperKgperK)\n",
    "s2_CO2_JperKgperK = PropsSI('S','T',T2_K,'P',pCO2_2_kPa*1000,'CarbonDioxide'); print(s2_CO2_JperKgperK)"
   ]
  },
  {
   "cell_type": "code",
   "execution_count": 45,
   "id": "15ce44f0-3453-40f6-ba90-5f15d5081860",
   "metadata": {},
   "outputs": [
    {
     "name": "stdout",
     "output_type": "stream",
     "text": [
      "95.994\n",
      "220.0475\n"
     ]
    }
   ],
   "source": [
    "MO2_kgPerKmol = 15.999*2\n",
    "MCO2_kgPerKmol = 44.0095 \n",
    "\n",
    "mO2_kg = nO2_kmol*MO2_kgPerKmol; print(mO2_kg)\n",
    "mCO2_kg = nCO2_kmol*MCO2_kgPerKmol; print(mCO2_kg)"
   ]
  },
  {
   "cell_type": "code",
   "execution_count": 50,
   "id": "726cf9d0-914e-4c4a-a6cb-eec4c4539d25",
   "metadata": {},
   "outputs": [
    {
     "name": "stdout",
     "output_type": "stream",
     "text": [
      "(a) Alternative: The total change in entropy using CoolProp is: 44.44 kJ/K\n"
     ]
    }
   ],
   "source": [
    "S12_JperK = mO2_kg*(s2_O2_JperKgperK - s1_O2_JperKgperK) + mCO2_kg*(s2_CO2_JperKgperK - s1_CO2_JperKgperK)\n",
    "S12_kJperK_ = S12_JperK/1e3\n",
    "\n",
    "print('(a) Alternative: The total change in entropy using CoolProp is: {0:1.2f} kJ/K'.format(S12_kJperK_))"
   ]
  },
  {
   "cell_type": "markdown",
   "id": "9a1956e6-4beb-42f2-a5fe-875708b31328",
   "metadata": {},
   "source": [
    "It is also possible to analyze gas mixtures directly using [CoolProp](http://www.coolprop.org/fluid_properties/Mixtures.html). "
   ]
  },
  {
   "cell_type": "code",
   "execution_count": 52,
   "id": "f0b8ecbc-2373-4abe-acb5-64b1338258e0",
   "metadata": {},
   "outputs": [
    {
     "name": "stdout",
     "output_type": "stream",
     "text": [
      "Error: 1.00 %\n"
     ]
    }
   ],
   "source": [
    "error = (S12_kJperK_ - S12_kJperK)/S12_kJperK_\n",
    "\n",
    "print('Error: {0:1.2f} %'.format(error*100))"
   ]
  },
  {
   "cell_type": "code",
   "execution_count": null,
   "id": "9ac0badf-4a87-478b-af6a-16c0db5b649a",
   "metadata": {},
   "outputs": [],
   "source": []
  }
 ],
 "metadata": {
  "kernelspec": {
   "display_name": "Python 3 (ipykernel)",
   "language": "python",
   "name": "python3"
  },
  "language_info": {
   "codemirror_mode": {
    "name": "ipython",
    "version": 3
   },
   "file_extension": ".py",
   "mimetype": "text/x-python",
   "name": "python",
   "nbconvert_exporter": "python",
   "pygments_lexer": "ipython3",
   "version": "3.11.10"
  }
 },
 "nbformat": 4,
 "nbformat_minor": 5
}
