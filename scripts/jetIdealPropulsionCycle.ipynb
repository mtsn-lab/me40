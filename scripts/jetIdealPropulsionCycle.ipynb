{
 "cells": [
  {
   "cell_type": "code",
   "execution_count": 1,
   "id": "f0d63513-8337-41b2-a630-c89d955c55e0",
   "metadata": {},
   "outputs": [
    {
     "name": "stdout",
     "output_type": "stream",
     "text": [
      "Collecting CoolProp\n",
      "  Using cached CoolProp-6.6.0-cp311-cp311-manylinux_2_17_x86_64.manylinux2014_x86_64.whl (7.3 MB)\n",
      "Installing collected packages: CoolProp\n",
      "Successfully installed CoolProp-6.6.0\n"
     ]
    }
   ],
   "source": [
    "!pip install CoolProp"
   ]
  },
  {
   "cell_type": "code",
   "execution_count": 2,
   "id": "157f7f8a-9cbf-4309-86bb-7aee035daa55",
   "metadata": {},
   "outputs": [],
   "source": [
    "from CoolProp.CoolProp import PropsSI"
   ]
  },
  {
   "cell_type": "markdown",
   "id": "a55e2848-6101-4ee5-9c29-24c1e20c0815",
   "metadata": {},
   "source": [
    "A turbojet aircraft flies with a velocity of 260 m/s at an altitude where the air is at 34.5 kPa and -40°C. The compressor has a pressure ratio of 10, and the temperature of the gases at the turbine inlet is 1093°C. Air enters the compressor at a rate of 45 kg/s. Utilizing the cold-air-standard assumptions, determine: \n",
    "- (a) the temperature and pressure of the gases at the turbine exit,\n",
    "- (b) the velocity of the gases at the nozzle exit, and\n",
    "- (c) the propulsive efficiency of the cycle.\n",
    "\n",
    "States:\n",
    "- 1: entering diffuser\n",
    "- 2: entering compressor\n",
    "- 3: entering combustion chamber\n",
    "- 4: entering turbine\n",
    "- 5: entering nozzle\n",
    "- 6: exiting nozzle\n",
    "\n",
    "Assume:\n",
    "- Steady state"
   ]
  },
  {
   "cell_type": "code",
   "execution_count": 15,
   "id": "05df40c8-2f00-485e-aee3-a949ee72993d",
   "metadata": {},
   "outputs": [],
   "source": [
    "fluid = 'air'\n",
    "\n",
    "Vaircraft_mPerS = 260\n",
    "pAir_Pa = 34.5e3\n",
    "Tair_K = -40+273.15\n",
    "\n",
    "compressorPressureRatio = 10\n",
    "# T4_K = 1093 + 273.15\n",
    "T4_K = 1366.483\n",
    "\n",
    "mdot_kgPerS = 45"
   ]
  },
  {
   "cell_type": "code",
   "execution_count": 16,
   "id": "46de034a-d5b3-41ff-b8c2-7f090c2a72b9",
   "metadata": {},
   "outputs": [
    {
     "name": "stdout",
     "output_type": "stream",
     "text": [
      "1006.308142514125\n",
      "1.4017663047263955\n"
     ]
    }
   ],
   "source": [
    "# cold air standard\n",
    "cp_JperKgperK = PropsSI('C','T',273.15+25,'P',101325,fluid); print(cp_JperKgperK)\n",
    "k = cp_JperKgperK/PropsSI('O','T',273.15+25,'P',101325,fluid); print(k)"
   ]
  },
  {
   "cell_type": "markdown",
   "id": "60282d21-1652-406a-9fce-38b4ad9672d7",
   "metadata": {},
   "source": [
    "#### Process 1 to 2: Isentropic compression of an ideal gas in a diffuser\n",
    "\n",
    "Assume:\n",
    "- aircraft is stationary and the air is moving towards the aircraft at a velocity of 260 m/s.\n",
    "- air exits the diffuser at a negligible velocity (0 m/s).\n",
    "\n",
    "$$h_2 + w_2^2/2 = h_1 + w_1^2/2 $$\n",
    "\n",
    "Recall for an ideal gas:\n",
    "\n",
    "$$h_2 - h_1 = c_p (T_2 - T_1)$$\n",
    "\n",
    "$$\\implies c_p (T_2 - T_1) + w_2^2/2 = w_1^2/2 $$\n",
    "\n",
    "since the velocity at state 2 is negligible:\n",
    "\n",
    "$$c_p (T_2 - T_1) = w_1^2/2 $$\n",
    "\n",
    "$$\\implies T_2 = w_1^2/(2c_p) +T_1 $$"
   ]
  },
  {
   "cell_type": "code",
   "execution_count": 17,
   "id": "ed70e33e-d1c9-4462-ae3d-b8bfb2dff1bf",
   "metadata": {},
   "outputs": [
    {
     "name": "stdout",
     "output_type": "stream",
     "text": [
      "266.7381213437817\n"
     ]
    }
   ],
   "source": [
    "w1_mPerS = Vaircraft_mPerS\n",
    "\n",
    "T1_K = Tair_K\n",
    "\n",
    "T2_K = (w1_mPerS**2)/(2*cp_JperKgperK)+T1_K; print(T2_K)"
   ]
  },
  {
   "cell_type": "markdown",
   "id": "d85b296f-adb9-406c-bb09-4e516d60bd89",
   "metadata": {},
   "source": [
    "For an isentropic process, and using our $TdS$ relations, we can write: \n",
    "\n",
    "$$p_2 = p_1 \\left(\\frac{T_2}{T_1} \\right)^{k/(k-1)} $$"
   ]
  },
  {
   "cell_type": "code",
   "execution_count": 18,
   "id": "5d1be5e4-b804-4e08-b576-76bc4dbb82f6",
   "metadata": {},
   "outputs": [
    {
     "name": "stdout",
     "output_type": "stream",
     "text": [
      "55176.039169998156\n"
     ]
    }
   ],
   "source": [
    "p1_Pa = pAir_Pa\n",
    "p2_Pa = p1_Pa*((T2_K/T1_K)**(k/(k-1))); print(p2_Pa)"
   ]
  },
  {
   "cell_type": "markdown",
   "id": "41b5626c-e19e-43f8-a19d-4182ebb5cc6f",
   "metadata": {},
   "source": [
    "#### Process 2 to 3: Isentropic compression of an ideal gas in a compressor\n",
    "\n",
    "The compression ratio, $r_p$, is defined as:\n",
    "$$p_3 = r_p p_2 $$\n",
    "\n"
   ]
  },
  {
   "cell_type": "code",
   "execution_count": 19,
   "id": "ba0c5f44-053d-47dd-a017-3835fcfee95e",
   "metadata": {},
   "outputs": [
    {
     "name": "stdout",
     "output_type": "stream",
     "text": [
      "551760.3916999815\n"
     ]
    }
   ],
   "source": [
    "p3_Pa = compressorPressureRatio*p2_Pa; print(p3_Pa)"
   ]
  },
  {
   "cell_type": "markdown",
   "id": "c79f2ecf-0822-47be-a9f9-9155632cdc0e",
   "metadata": {},
   "source": [
    "For an isentropic process, and using our $TdS$ relations, we can write: \n",
    "\n",
    "$$T_3 = T_2 \\left(\\frac{p_3}{p_2} \\right)^{(k-1)/k} $$"
   ]
  },
  {
   "cell_type": "code",
   "execution_count": 20,
   "id": "0a7c21d2-058e-402e-9631-c3d195c1ca04",
   "metadata": {},
   "outputs": [
    {
     "name": "stdout",
     "output_type": "stream",
     "text": [
      "516.059068504417\n"
     ]
    }
   ],
   "source": [
    "T3_K = T2_K*(p3_Pa/p2_Pa)**((k-1)/k); print(T3_K)"
   ]
  },
  {
   "cell_type": "markdown",
   "id": "81b175e3-43fc-4ad3-9a1b-52150504f94d",
   "metadata": {},
   "source": [
    "#### Process 3 to 4: Combustion chamber\n",
    "\n",
    "We are only given information about the temperature at the exit of the combustion chamber, as it enters the turbine, $T_4$.\n",
    "\n",
    "We assume that there is no pressure drop across the chamber: $p_4 = p_3$ "
   ]
  },
  {
   "cell_type": "code",
   "execution_count": 25,
   "id": "6dfe4fb2-e5ca-4b3a-8a76-81146c3ddbc7",
   "metadata": {},
   "outputs": [],
   "source": [
    "p4_Pa = p3_Pa"
   ]
  },
  {
   "cell_type": "markdown",
   "id": "891d62f4-f106-4dff-8f03-2b26636dcb91",
   "metadata": {},
   "source": [
    "#### Process 4 to 5: Isentropic expansion of an ideal gas in a turbine\n",
    "\n",
    "Assume: \n",
    "- We neglect kinetic energy changes across the compressor and turbine.\n",
    "- Turbine work is equal to compressor work.\n",
    "\n",
    "With this we can determine the pressure and temperature at the turbine exit:\n",
    "\n",
    "$$w_\\text{compressor, in} = w_\\text{turbine, out}$$\n",
    "\n",
    "$$\\implies h_3 - h_2 = h_4 - h_5$$ \n",
    "\n",
    "Again, assuming air behaves as an ideal gas:\n",
    "\n",
    "$$c_p (T_3 - T_2) = c_p (T_4 - T_5)$$ \n",
    "\n",
    "$$\\implies T_3 - T_2 = T_4 - T_5$$ \n",
    "\n",
    "$$\\implies T_5  = T_4 - T_3 + T_2$$ "
   ]
  },
  {
   "cell_type": "code",
   "execution_count": 39,
   "id": "4cda15a5-2541-453a-9323-7ef6ef1f0dcf",
   "metadata": {},
   "outputs": [
    {
     "name": "stdout",
     "output_type": "stream",
     "text": [
      "(a) the temperature of the gases at the turbine exit: T5 = 1117.2 K.\n"
     ]
    }
   ],
   "source": [
    "T5_K = T4_K - T3_K + T2_K\n",
    "print('(a) the temperature of the gases at the turbine exit: T5 = {0:1.1f} K.'.format(T5_K))"
   ]
  },
  {
   "cell_type": "markdown",
   "id": "f11f40e2-bfcd-411f-a5d1-626f6a5f3056",
   "metadata": {},
   "source": [
    "For an isentropic process, and using our $TdS$ relations, we can write: \n",
    "\n",
    "$$p_5 = p_4 \\left(\\frac{T_5}{T_4} \\right)^{k/(k-1)} $$"
   ]
  },
  {
   "cell_type": "code",
   "execution_count": 29,
   "id": "a16bf74c-bfd6-4ab3-acf1-fbf78796f134",
   "metadata": {},
   "outputs": [
    {
     "name": "stdout",
     "output_type": "stream",
     "text": [
      "(a) the pressure of the gases at the turbine exit: p5 = 273214.6 Pa.\n"
     ]
    }
   ],
   "source": [
    "p5_Pa = p4_Pa*(T5_K/T4_K)**(k/(k-1))\n",
    "print('(a) the pressure of the gases at the turbine exit: p5 = {0:1.1f} Pa.'.format(p5_Pa))"
   ]
  },
  {
   "cell_type": "markdown",
   "id": "91748ce9-19b1-4c53-a09a-00645be5616a",
   "metadata": {},
   "source": [
    "-------------------\n",
    "\n",
    "### Part (b)\n",
    "\n",
    "1) In order to find the air velocity at the nozzle exit, $w_6$, we need to determine the nozzle exit temperature. \n",
    "\n",
    "2) Then we can apply the steady-flow energy equation.\n",
    "\n",
    "#### Process 5-6 Isentropic expansion of an ideal gas in a nozzle\n",
    "\n",
    "$$T_6 = T_5 \\left(\\frac{p_6}{p_5} \\right)^{(k-1)/k} $$"
   ]
  },
  {
   "cell_type": "code",
   "execution_count": null,
   "id": "dddc2fc4-417f-4bbc-8e8b-59eadbe49312",
   "metadata": {},
   "outputs": [],
   "source": [
    "p6_Pa = pAir_Pa\n",
    "\n",
    "T6_K = T5_K*(p6_Pa/p5_Pa)**((k-1)/k); print(T6_K)"
   ]
  },
  {
   "cell_type": "markdown",
   "id": "9816ccf0-19d7-466e-83a9-d00f655568b3",
   "metadata": {},
   "source": [
    "Energy analysis of the nozzle:\n",
    "\n",
    "$$h_6 + w_6^2/2 = h_5 + w_5^2/2 $$\n",
    "\n",
    "We neglect the velocity of the air entering the nozzle:\n",
    "\n",
    "$$h_6 + w_6^2/2 = h_5$$\n",
    "\n",
    "$$\\implies w_6 = \\sqrt{2(h_5 - h_6)}$$\n",
    "\n",
    "Assuming ideal gas:\n",
    "\n",
    "$$\\implies w_6 = \\sqrt{2 c_p (T_5 - T_6)}$$"
   ]
  },
  {
   "cell_type": "code",
   "execution_count": 37,
   "id": "2a273c1e-253e-4a33-8991-d796ad7f9110",
   "metadata": {},
   "outputs": [
    {
     "name": "stdout",
     "output_type": "stream",
     "text": [
      "(b) the air velocity at the nozzle exit is: w6 = 1002.9 m/s.\n"
     ]
    }
   ],
   "source": [
    "w6_mPerS = (2*cp_JperKgperK*(T5_K - T6_K))**(0.5)\n",
    "print('(b) the air velocity at the nozzle exit is: w6 = {0:1.1f} m/s.'.format(w6_mPerS))"
   ]
  },
  {
   "cell_type": "markdown",
   "id": "51988cf4-d6fb-4447-8f6c-c6e1e637e455",
   "metadata": {},
   "source": [
    "-------------------\n",
    "\n",
    "### Part (c)\n",
    "\n",
    "The propulsive efficiency of a turbojet engine is the ratio of the propulsive power developed, $\\dot{W}_P$, to the total heat transfer rate to the working fluid:\n",
    "\n",
    "$$\\dot{W}_P = \\dot{m} (V_\\text{exit} - V_\\text{inlet}) V_\\text{aircraft} $$\n"
   ]
  },
  {
   "cell_type": "code",
   "execution_count": 34,
   "id": "72710bad-367c-4c43-894c-de2b3710bdc8",
   "metadata": {},
   "outputs": [
    {
     "name": "stdout",
     "output_type": "stream",
     "text": [
      "8692491.885722725\n"
     ]
    }
   ],
   "source": [
    "Wdot_W = mdot_kgPerS*(w6_mPerS - w1_mPerS)*Vaircraft_mPerS; print(Wdot_W)"
   ]
  },
  {
   "cell_type": "markdown",
   "id": "f606b1cc-2290-4f1f-aed4-58f4da0ae758",
   "metadata": {},
   "source": [
    "The heat transer rate is then:\n",
    "\n",
    "$$ \\dot{Q}_\\text{in} = \\dot{m} (h_4 - h_3) = \\dot{m} c_p (T_4 - T_3)$$"
   ]
  },
  {
   "cell_type": "code",
   "execution_count": 36,
   "id": "bda8e35b-ef3c-4bf8-8e3e-d492c7d84163",
   "metadata": {},
   "outputs": [
    {
     "name": "stdout",
     "output_type": "stream",
     "text": [
      "38510483.70837958\n"
     ]
    }
   ],
   "source": [
    "QdotIn_W = mdot_kgPerS*cp_JperKgperK*(T4_K - T3_K); print(QdotIn_W)"
   ]
  },
  {
   "cell_type": "markdown",
   "id": "6f4994ba-fd9e-4cff-a217-8f7a1fb094ae",
   "metadata": {},
   "source": [
    "The efficiency is then: \n",
    "\n",
    "$$\\eta_P = \\frac{\\dot{W}_P}{\\dot{Q}_\\text{in}} $$"
   ]
  },
  {
   "cell_type": "code",
   "execution_count": 38,
   "id": "3f83f943-31be-4d72-ba7e-5811bfbbe6a7",
   "metadata": {},
   "outputs": [
    {
     "name": "stdout",
     "output_type": "stream",
     "text": [
      "(c) the propulsive efficiency of this cycle is: eta_P = 22.6 %.\n"
     ]
    }
   ],
   "source": [
    "eta_P = Wdot_W/QdotIn_W\n",
    "print('(c) the propulsive efficiency of this cycle is: eta_P = {0:1.1f} %.'.format(eta_P*100))"
   ]
  },
  {
   "cell_type": "code",
   "execution_count": null,
   "id": "4bab39f8-a4f8-4929-a2fa-f3d1547d4119",
   "metadata": {},
   "outputs": [],
   "source": []
  }
 ],
 "metadata": {
  "kernelspec": {
   "display_name": "Python 3 (ipykernel)",
   "language": "python",
   "name": "python3"
  },
  "language_info": {
   "codemirror_mode": {
    "name": "ipython",
    "version": 3
   },
   "file_extension": ".py",
   "mimetype": "text/x-python",
   "name": "python",
   "nbconvert_exporter": "python",
   "pygments_lexer": "ipython3",
   "version": "3.11.10"
  }
 },
 "nbformat": 4,
 "nbformat_minor": 5
}
