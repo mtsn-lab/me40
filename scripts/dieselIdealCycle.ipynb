{
 "cells": [
  {
   "cell_type": "markdown",
   "id": "352dcd25-d0dc-4f62-8ea1-dff67d098a6b",
   "metadata": {},
   "source": [
    "### The Ideal Diesel Cycle\n",
    "\n",
    "An ideal Diesel cycle with air as the working fluid has a compression ratio of $r = 18$ and a cutoff ratio of $r_c = 2$.\n",
    "At the beginning of the compression process, the working fluid is at 101325 Pa, 26.7°C, and 1,917 cm$^3$.\n",
    "\n",
    "Utilizing the cold-air-standard assumptions, determine: \n",
    "\n",
    "- (a) the temperature and pressure of air at the end of each process, \n",
    "- (b) the net work output and the thermal efficiency, and \n",
    "- (c) compare your answer in part (b) by using table values instead of the cold air assumption\n",
    "- (d) compare your value in (b) with that for the formula: $\\eta = 1 - \\frac{1}{r^{k-1}}\\left[\\frac{r_c^k -1}{k(r_c - 1)} \\right] $"
   ]
  },
  {
   "cell_type": "markdown",
   "id": "cacd1a79-fe00-423f-8a33-ed3879058025",
   "metadata": {},
   "source": [
    "Recall, that the Diesel cycle consists of the following processes:\n",
    "- 1-2 isentropic compression\n",
    "- 2-3 isobaric heating\n",
    "- 3-4 isentropic expansion\n",
    "- 4-1 isochoric cooling"
   ]
  },
  {
   "cell_type": "code",
   "execution_count": 12,
   "id": "359c92ae-8dd2-4195-ac44-9552a23e1172",
   "metadata": {},
   "outputs": [
    {
     "name": "stdout",
     "output_type": "stream",
     "text": [
      "Requirement already satisfied: CoolProp in /srv/conda/lib/python3.11/site-packages (6.6.0)\n"
     ]
    }
   ],
   "source": [
    "!pip install CoolProp"
   ]
  },
  {
   "cell_type": "code",
   "execution_count": 13,
   "id": "436c17c3-1d0b-4f98-9a95-51e43e851ee9",
   "metadata": {},
   "outputs": [],
   "source": [
    "from CoolProp.CoolProp import PropsSI"
   ]
  },
  {
   "cell_type": "code",
   "execution_count": 14,
   "id": "0d08b1c2-9040-4c88-b7cb-89deeb5c46c8",
   "metadata": {},
   "outputs": [],
   "source": [
    "fluid = 'air'\n",
    "R_JperKgperK = 287.052874"
   ]
  },
  {
   "cell_type": "code",
   "execution_count": 71,
   "id": "833fa63b-0df3-40d6-84e8-cccfeb793942",
   "metadata": {},
   "outputs": [],
   "source": [
    "T0_K = 273.15+25\n",
    "p0_Pa = 101325\n",
    "\n",
    "cv_JperKgPerK = PropsSI('O','P',p0_Pa,'T',T0_K,fluid)#; print(cv_JperKgPerK)\n",
    "cp_JperKgPerK = PropsSI('C','P',p0_Pa,'T',T0_K,fluid)#; print(cp_JperKgPerK) \n",
    "k = cp_JperKgPerK/cv_JperKgPerK\n",
    "\n",
    "r = 18\n",
    "rc = 2"
   ]
  },
  {
   "cell_type": "code",
   "execution_count": 60,
   "id": "5d32538a-80c9-49b8-af11-9786dfaa158b",
   "metadata": {},
   "outputs": [],
   "source": [
    "# state 1\n",
    "V1_m3 = 1917/1000/1000\n",
    "T1_K = 26.7+273.15\n",
    "p1_Pa = 101325\n",
    "\n",
    "h1_JperKg = PropsSI('H','P',p1_Pa,'T',T1_K,fluid)\n",
    "u1_JperKg = PropsSI('U','P',p1_Pa,'T',T1_K,fluid)\n",
    "s1_JperKgPerK = PropsSI('S','P',p1_Pa,'T',T1_K,fluid)\n",
    "rho1_kgPerM3 = PropsSI('D','P',p1_Pa,'T',T1_K,fluid)"
   ]
  },
  {
   "cell_type": "markdown",
   "id": "b9d5b438-f3fe-4a22-9687-7ce76452a5b1",
   "metadata": {},
   "source": [
    "The compression ratio is defined as the ratio of the volumes before and after compression:\n",
    "\n",
    "$$V_2 = V_1/r$$"
   ]
  },
  {
   "cell_type": "code",
   "execution_count": 26,
   "id": "f1bc1cf0-3079-4ca4-a090-d387bb6468a5",
   "metadata": {},
   "outputs": [],
   "source": [
    "# state 2\n",
    "V2_m3 = V1_m3/r"
   ]
  },
  {
   "cell_type": "markdown",
   "id": "d685b7a4-d789-4757-8481-2a86588cee43",
   "metadata": {},
   "source": [
    "### Part (a)\n",
    "\n",
    "#### Process 1-2: isentropic compression of an ideal gas\n",
    "\n",
    "Recalling our TdS relations for an ideal gas assuming that the process is isentropic, we can use the  following equations:\n",
    "\n",
    "$$T_2 = T_1 \\left(\\frac{V_1}{V_2} \\right)^{k-1} $$\n",
    "$$p_2 = p_1 \\left(\\frac{V_1}{V_2} \\right)^{k} $$"
   ]
  },
  {
   "cell_type": "code",
   "execution_count": 44,
   "id": "cda28463-f5ee-4e57-a02f-561f8cdca2f5",
   "metadata": {},
   "outputs": [
    {
     "name": "stdout",
     "output_type": "stream",
     "text": [
      "(a) T2: 957.7 K\n",
      "(a) p2: 5825260.0 Pa\n"
     ]
    }
   ],
   "source": [
    "T2_K = T1_K*((V1_m3/V2_m3)**(k-1))\n",
    "p2_Pa = p1_Pa*((V1_m3/V2_m3)**k)\n",
    "\n",
    "print('(a) T2: {0:1.1f} K'.format(T2_K))\n",
    "print('(a) p2: {0:1.1f} Pa'.format(p2_Pa))"
   ]
  },
  {
   "cell_type": "markdown",
   "id": "7ce902cc-07dd-439b-ad5f-4b0330645b81",
   "metadata": {},
   "source": [
    "We can also get these values using CoolProp as:"
   ]
  },
  {
   "cell_type": "code",
   "execution_count": 45,
   "id": "776a70c3-9593-47d8-9d46-e4e0ee4c0c39",
   "metadata": {},
   "outputs": [
    {
     "name": "stdout",
     "output_type": "stream",
     "text": [
      "(a) CoolProp: T2: 905.3 K\n",
      "(a) CoolProp: p2: 5612521.1 Pa\n"
     ]
    }
   ],
   "source": [
    "rho2_kgPerM3 = rho1_kgPerM3*r\n",
    "s2_JperKgPerK = s1_JperKgPerK\n",
    "h2_JperKg = PropsSI('H','D',rho2_kgPerM3,'S',s2_JperKgPerK,fluid)\n",
    "\n",
    "T2_K_ = PropsSI('T','D',rho2_kgPerM3,'S',s2_JperKgPerK,fluid) \n",
    "p2_Pa_ = PropsSI('P','D',rho2_kgPerM3,'S',s2_JperKgPerK,fluid) \n",
    "\n",
    "print('(a) CoolProp: T2: {0:1.1f} K'.format(T2_K_))\n",
    "print('(a) CoolProp: p2: {0:1.1f} Pa'.format(p2_Pa_))"
   ]
  },
  {
   "cell_type": "markdown",
   "id": "58d573a7-deca-459b-b26b-a462d2921d62",
   "metadata": {},
   "source": [
    "#### Process 2-3: constant-pressure heat addition to an ideal gas\n",
    "\n",
    "$$p_3 = p_2 $$\n",
    "\n",
    "Using the ideal gas equation, it can be shown that:\n",
    "\n",
    "$$T_3 = T_2 \\left( \\frac{V_3}{V_2} \\right) $$\n",
    "\n",
    "We can also use the cutoff ratio, which is defined as:\n",
    "\n",
    "$$V_3 = r_c V_2 $$"
   ]
  },
  {
   "cell_type": "code",
   "execution_count": 46,
   "id": "4feb182d-2bf1-4013-906d-7b70b18b0e88",
   "metadata": {},
   "outputs": [
    {
     "name": "stdout",
     "output_type": "stream",
     "text": [
      "(a) T3: 1915.4 K\n",
      "(a) p3: 5825260.0 Pa\n"
     ]
    }
   ],
   "source": [
    "p3_Pa = p2_Pa\n",
    "V3_m3 = rc*V2_m3\n",
    "\n",
    "T3_K = T2_K *(V3_m3/V2_m3)\n",
    "\n",
    "print('(a) T3: {0:1.1f} K'.format(T3_K))\n",
    "print('(a) p3: {0:1.1f} Pa'.format(p3_Pa))"
   ]
  },
  {
   "cell_type": "markdown",
   "id": "dcc1fbad-e2e2-4245-8894-52be03a5a0b6",
   "metadata": {},
   "source": [
    "Can also determine the properties using CoolProp:"
   ]
  },
  {
   "cell_type": "code",
   "execution_count": 67,
   "id": "e645c824-0c9c-4fcb-a2d6-17b573566806",
   "metadata": {},
   "outputs": [
    {
     "name": "stdout",
     "output_type": "stream",
     "text": [
      "(c) CoolProp: T3: 1894.4 K\n",
      "(c) CoolProp: p3: 5825260.0 Pa\n"
     ]
    }
   ],
   "source": [
    "rho3_kgPerM3 = rho2_kgPerM3/rc\n",
    "T3_K_ = PropsSI('T','D',rho3_kgPerM3,'P',p3_Pa,fluid) \n",
    "s3_JperKgPerK = PropsSI('S','D',rho3_kgPerM3,'P',p3_Pa,fluid) \n",
    "h3_JperKg = PropsSI('H','D',rho3_kgPerM3,'P',p3_Pa,fluid)\n",
    "\n",
    "print('(c) CoolProp: T3: {0:1.1f} K'.format(T3_K_))\n",
    "print('(c) CoolProp: p3: {0:1.1f} Pa'.format(p3_Pa))"
   ]
  },
  {
   "cell_type": "markdown",
   "id": "e4e7938d-9756-4b4a-85ce-5c1f70be3d1b",
   "metadata": {},
   "source": [
    "#### Process 3-4: isentropic expansion of an ideal gas\n",
    "\n",
    "$$T_4 = T_3 \\left(\\frac{V_3}{V_4} \\right)^{k-1} $$\n",
    "$$p_4 = p_3 \\left(\\frac{V_3}{V_4} \\right)^{k} $$"
   ]
  },
  {
   "cell_type": "code",
   "execution_count": 51,
   "id": "fe761a5b-fdc1-4367-a817-aee78e0c4c0f",
   "metadata": {},
   "outputs": [
    {
     "name": "stdout",
     "output_type": "stream",
     "text": [
      "(a) T4: 792.3 K\n",
      "(a) p4: 267725.9 Pa\n"
     ]
    }
   ],
   "source": [
    "V4_m3 = V1_m3\n",
    "\n",
    "T4_K = T3_K*((V3_m3/V4_m3)**(k-1))\n",
    "p4_Pa = p3_Pa*((V3_m3/V4_m3)**k)\n",
    "\n",
    "print('(a) T4: {0:1.1f} K'.format(T4_K))\n",
    "print('(a) p4: {0:1.1f} Pa'.format(p4_Pa))"
   ]
  },
  {
   "cell_type": "markdown",
   "id": "b7eb6380-ad43-460b-90f7-121dbe2673a8",
   "metadata": {},
   "source": [
    "Using CoolProp:"
   ]
  },
  {
   "cell_type": "code",
   "execution_count": 68,
   "id": "2efeb77e-a459-46e2-9c40-5727d85e2742",
   "metadata": {},
   "outputs": [
    {
     "name": "stdout",
     "output_type": "stream",
     "text": [
      "(c) CoolProp: T4: 939.4 K\n",
      "(c) CoolProp: p4: 317867.5 Pa\n"
     ]
    }
   ],
   "source": [
    "s4_JperKgPerK = s3_JperKgPerK\n",
    "rho4_kgPerM3 = rho1_kgPerM3\n",
    "\n",
    "h4_JperKg = PropsSI('H','D',rho4_kgPerM3,'S',s4_JperKgPerK,fluid)\n",
    "u4_JperKg = PropsSI('U','D',rho4_kgPerM3,'S',s4_JperKgPerK,fluid)\n",
    "T4_K_ = PropsSI('T','D',rho4_kgPerM3,'S',s4_JperKgPerK,fluid)\n",
    "p4_Pa_ = PropsSI('P','D',rho4_kgPerM3,'S',s4_JperKgPerK,fluid)\n",
    "\n",
    "print('(c) CoolProp: T4: {0:1.1f} K'.format(T4_K_))\n",
    "print('(c) CoolProp: p4: {0:1.1f} Pa'.format(p4_Pa_))"
   ]
  },
  {
   "cell_type": "markdown",
   "id": "5ef40c06-81ac-4127-a840-cbca4b659dfb",
   "metadata": {},
   "source": [
    "-------\n",
    "\n",
    "### Part (b)\n",
    "\n"
   ]
  },
  {
   "cell_type": "code",
   "execution_count": 55,
   "id": "aab55cbe-e065-45ba-94ed-35e2c81070fc",
   "metadata": {},
   "outputs": [
    {
     "name": "stdout",
     "output_type": "stream",
     "text": [
      "0.002256694511697038\n"
     ]
    }
   ],
   "source": [
    "m_Kg = p1_Pa*V1_m3/(R_JperKgperK*T1_K); print(m_Kg)"
   ]
  },
  {
   "cell_type": "markdown",
   "id": "ca00b98d-0828-425f-902d-f180d9aa0570",
   "metadata": {},
   "source": [
    "The heat transferred in is:\n",
    "\n",
    "$$Q_\\text{in} = m (h_3 - h_2) $$\n",
    "\n",
    "Assuming ideal gas:\n",
    "\n",
    "$$Q_\\text{in} = m c_p (T_3 - T_2) $$\n"
   ]
  },
  {
   "cell_type": "code",
   "execution_count": 57,
   "id": "c9f3b59c-9bf4-4857-8cc9-4cccef209ae6",
   "metadata": {},
   "outputs": [
    {
     "name": "stdout",
     "output_type": "stream",
     "text": [
      "2174.8735343825624\n"
     ]
    }
   ],
   "source": [
    "Qin_J = m_Kg*cp_JperKgPerK*(T3_K - T2_K); print(Qin_J)"
   ]
  },
  {
   "cell_type": "code",
   "execution_count": 72,
   "id": "55cc26ee-0e87-4468-9ef8-fe180e91e69b",
   "metadata": {},
   "outputs": [
    {
     "name": "stdout",
     "output_type": "stream",
     "text": [
      "2672.2129109028183\n"
     ]
    }
   ],
   "source": [
    "# using CoolProp\n",
    "Qin_J_ = m_Kg*(h3_JperKg - h2_JperKg); print(Qin_J_)"
   ]
  },
  {
   "cell_type": "markdown",
   "id": "47f34f72-7e25-4d55-af84-b58a81dedfd9",
   "metadata": {},
   "source": [
    "The heat transferred out is:\n",
    "\n",
    "$$Q_\\text{out} = m (u_4 - u_1) $$\n",
    "\n",
    "Assuming ideal gas:\n",
    "\n",
    "$$Q_\\text{out} = m c_v (T_4 - T_1) $$"
   ]
  },
  {
   "cell_type": "code",
   "execution_count": 61,
   "id": "a515a580-0caa-4fa1-a2d9-fd3d9d6de0e1",
   "metadata": {},
   "outputs": [
    {
     "name": "stdout",
     "output_type": "stream",
     "text": [
      "797.7579521154977\n"
     ]
    }
   ],
   "source": [
    "Qout_J = m_Kg*cv_JperKgPerK*(T4_K - T1_K); print(Qout_J)"
   ]
  },
  {
   "cell_type": "code",
   "execution_count": 73,
   "id": "3a4f850a-1bf2-4cbf-9a92-228903443e74",
   "metadata": {},
   "outputs": [
    {
     "name": "stdout",
     "output_type": "stream",
     "text": [
      "1114.3732534876249\n"
     ]
    }
   ],
   "source": [
    "# using CoolProp\n",
    "Qout_J_ = m_Kg*(u4_JperKg - u1_JperKg); print(Qout_J_)"
   ]
  },
  {
   "cell_type": "markdown",
   "id": "f011266c-a4e9-4296-9ef9-e841000eba7f",
   "metadata": {},
   "source": [
    "Recall for a cycle that:\n",
    "\n",
    "$$W_\\text{net} = Q_\\text{in} - Q_\\text{out} $$"
   ]
  },
  {
   "cell_type": "code",
   "execution_count": 64,
   "id": "efb4f347-b96c-4f05-a4cf-102bc6590d15",
   "metadata": {},
   "outputs": [
    {
     "name": "stdout",
     "output_type": "stream",
     "text": [
      "(b) Wnet: 1377.1 J\n"
     ]
    }
   ],
   "source": [
    "Wnet_J = Qin_J - Qout_J\n",
    "print('(b) Wnet: {0:1.1f} J'.format(Wnet_J))"
   ]
  },
  {
   "cell_type": "code",
   "execution_count": 74,
   "id": "7977b95a-3181-4c8d-9e22-6053e9a36fd8",
   "metadata": {},
   "outputs": [
    {
     "name": "stdout",
     "output_type": "stream",
     "text": [
      "(c) CoolProp: Wnet: 1557.8 J\n"
     ]
    }
   ],
   "source": [
    "# using CoolProp\n",
    "Wnet_J_ = Qin_J_ - Qout_J_\n",
    "print('(c) CoolProp: Wnet: {0:1.1f} J'.format(Wnet_J_))"
   ]
  },
  {
   "cell_type": "markdown",
   "id": "30a66190-1f91-4f08-957d-210b8faf26a8",
   "metadata": {},
   "source": [
    "The thermal efficiency is then:"
   ]
  },
  {
   "cell_type": "code",
   "execution_count": 69,
   "id": "276a944b-be2d-42df-b75d-1266bd7e9151",
   "metadata": {},
   "outputs": [
    {
     "name": "stdout",
     "output_type": "stream",
     "text": [
      "(b) eta_th: 63.3 %\n",
      "(c) CoolProp: eta_th_: 58.3 %\n"
     ]
    }
   ],
   "source": [
    "eta_th = Wnet_J/Qin_J\n",
    "eta_th_ = Wnet_J_/Qin_J_\n",
    "\n",
    "print('(b) eta_th: {0:1.1f} %'.format(eta_th*100))\n",
    "print('(c) CoolProp: eta_th_: {0:1.1f} %'.format(eta_th_*100))"
   ]
  },
  {
   "cell_type": "markdown",
   "id": "6b2b8be2-ff57-4a89-bf4d-2abc0ae08a11",
   "metadata": {},
   "source": [
    "-------\n",
    "\n",
    "### Part (d)"
   ]
  },
  {
   "cell_type": "code",
   "execution_count": 75,
   "id": "f3a6e88a-3410-46e2-a6e7-cf32558e52de",
   "metadata": {},
   "outputs": [
    {
     "name": "stdout",
     "output_type": "stream",
     "text": [
      "(d) eta_th_Diesel: 63.3 %\n"
     ]
    }
   ],
   "source": [
    "eta_th_Diesel = 1 - (1/(r**(k-1)))*(((rc**k) - 1)/(k*(rc - 1)))\n",
    "print('(d) eta_th_Diesel: {0:1.1f} %'.format(eta_th_Diesel*100))"
   ]
  },
  {
   "cell_type": "markdown",
   "id": "02ef20f4-e4e0-4bbc-ba4e-bd8e916e2094",
   "metadata": {},
   "source": [
    "________\n"
   ]
  },
  {
   "cell_type": "code",
   "execution_count": 76,
   "id": "5c24cf40-8069-4202-93b4-504e8e51ee90",
   "metadata": {},
   "outputs": [],
   "source": [
    "import numpy as np\n",
    "import matplotlib.pyplot as plt"
   ]
  },
  {
   "cell_type": "code",
   "execution_count": 90,
   "id": "53693457-47c3-42c5-90e0-6ab05028b380",
   "metadata": {},
   "outputs": [
    {
     "data": {
      "image/png": "[encoded data removed]",
      "text/plain": [
       "<Figure size 640x480 with 1 Axes>"
      ]
     },
     "metadata": {},
     "output_type": "display_data"
    }
   ],
   "source": [
    "plt.figure()\n",
    "plt.clf()\n",
    "T = np.linspace(T1_K, T3_K, 200) # range of temperatures\n",
    "for P in [p1_Pa, p2_Pa, p3_Pa, p4_Pa_]: #MPa\n",
    "    # S = [IAPWS97(T=t, P=P) for t in T]\n",
    "    S = [PropsSI('S','T',t,'P',P,fluid) for t in T]\n",
    "    #S = [s.s for s in steam]\n",
    "    plt.plot(S, T, 'k--')\n",
    "\n",
    "plt.xlabel('s (kJ/(kg K))')\n",
    "plt.ylabel('T (K)')\n",
    "\n",
    "# Path 1 to 2 is isentropic\n",
    "plt.plot([s1_JperKgPerK, s2_JperKgPerK], [T1_K, T2_K_], 'g-', lw=4) \n",
    "\n",
    "# path from 2 to 3 is isobaric\n",
    "T23 = np.linspace(T2_K_, T3_K_)\n",
    "S23 = [PropsSI('S','T',t,'P',p2_Pa,fluid) for t in T23]\n",
    "plt.plot(S23, T23, 'g-', lw=4) \n",
    "\n",
    "# path from 3 to 4 is isentropic\n",
    "plt.plot([s3_JperKgPerK, s4_JperKgPerK], [T3_K_, T4_K_], 'g-', lw=4) \n",
    "\n",
    "# path from 4 to 1 is isochoric\n",
    "T41 = np.linspace(T1_K, T4_K_)\n",
    "S41 = [PropsSI('S','T',t,'D',rho4_kgPerM3,fluid) for t in T41]\n",
    "plt.plot(S41, T41, 'g-', lw=4) \n",
    "\n",
    "plt.savefig('dieselIdealCycle-T-s-diagram.png')"
   ]
  },
  {
   "cell_type": "code",
   "execution_count": null,
   "id": "9438f799-78a4-458b-8621-f0c0b877b75d",
   "metadata": {},
   "outputs": [],
   "source": []
  }
 ],
 "metadata": {
  "kernelspec": {
   "display_name": "Python 3 (ipykernel)",
   "language": "python",
   "name": "python3"
  },
  "language_info": {
   "codemirror_mode": {
    "name": "ipython",
    "version": 3
   },
   "file_extension": ".py",
   "mimetype": "text/x-python",
   "name": "python",
   "nbconvert_exporter": "python",
   "pygments_lexer": "ipython3",
   "version": "3.11.10"
  }
 },
 "nbformat": 4,
 "nbformat_minor": 5
}
