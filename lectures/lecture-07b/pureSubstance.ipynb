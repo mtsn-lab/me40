{
 "cells": [
  {
   "cell_type": "code",
   "execution_count": null,
   "id": "365c887a",
   "metadata": {},
   "outputs": [],
   "source": [
    "!pip install iapws"
   ]
  },
  {
   "cell_type": "code",
   "execution_count": 1,
   "id": "eb884353",
   "metadata": {},
   "outputs": [],
   "source": [
    "from iapws import IAPWS97"
   ]
  },
  {
   "cell_type": "code",
   "execution_count": 2,
   "id": "1495c28e",
   "metadata": {},
   "outputs": [],
   "source": [
    "# pressure should be in the units MPa, \n",
    "# temperature in the units K, \n",
    "# quality a number betwee 0 and 1.\n",
    "p1_MPa = 140/1000\n",
    "T1_K = 20+273.15\n",
    "\n",
    "water_1 = IAPWS97(P=p1_MPa, T=T1_K)"
   ]
  },
  {
   "cell_type": "code",
   "execution_count": 3,
   "id": "fd14dade",
   "metadata": {},
   "outputs": [
    {
     "name": "stdout",
     "output_type": "stream",
     "text": [
      "0.2964746404790217\n",
      "84.04945533150575\n"
     ]
    }
   ],
   "source": [
    "s1 = water_1.s; print(s1) # kJ/kg*K\n",
    "h1 = water_1.h; print(h1) # kJ/kg\n",
    "v1 = water_1.v # m3/kg\n",
    "u1 = water_1.u # kJ/kg"
   ]
  },
  {
   "cell_type": "code",
   "execution_count": 4,
   "id": "56a742e0-d167-49e6-84ad-59a58c68b149",
   "metadata": {},
   "outputs": [
    {
     "name": "stdout",
     "output_type": "stream",
     "text": [
      "2510.716121998172\n"
     ]
    }
   ],
   "source": [
    "m_kg = 1.5\n",
    "Qin_kJ = 3640\n",
    "\n",
    "h2_kJperkg = (Qin_kJ/m_kg)+water_1.h; print(h2_kJperkg)"
   ]
  },
  {
   "cell_type": "code",
   "execution_count": 5,
   "id": "ffbac585-a950-473e-80c3-38a2a17eeee2",
   "metadata": {},
   "outputs": [],
   "source": [
    "water_2 = IAPWS97(P=p1_MPa, h=h2_kJperkg)"
   ]
  },
  {
   "cell_type": "code",
   "execution_count": 6,
   "id": "ec4e3085-e025-4f9e-ba41-1563bc4dae10",
   "metadata": {},
   "outputs": [
    {
     "data": {
      "text/plain": [
       "382.4421058819827"
      ]
     },
     "execution_count": 6,
     "metadata": {},
     "output_type": "execute_result"
    }
   ],
   "source": [
    "water_2.T"
   ]
  },
  {
   "cell_type": "code",
   "execution_count": 7,
   "id": "3436edce-7724-407c-8aae-c2f1849242e7",
   "metadata": {},
   "outputs": [
    {
     "data": {
      "text/plain": [
       "6.777257155357412"
      ]
     },
     "execution_count": 7,
     "metadata": {},
     "output_type": "execute_result"
    }
   ],
   "source": [
    "water_2.s"
   ]
  },
  {
   "cell_type": "code",
   "execution_count": 14,
   "id": "0b1cf1f2-d168-4883-ab26-538c8542bea8",
   "metadata": {},
   "outputs": [
    {
     "name": "stdout",
     "output_type": "stream",
     "text": [
      "9.721173772317584\n"
     ]
    }
   ],
   "source": [
    "dS_kJperK = m_kg*(water_2.s - water_1.s); print(dS_kJperK)"
   ]
  },
  {
   "cell_type": "code",
   "execution_count": null,
   "id": "81049f1d-9538-4dcf-8d21-a3b0f476a36b",
   "metadata": {},
   "outputs": [],
   "source": []
  }
 ],
 "metadata": {
  "kernelspec": {
   "display_name": "Python 3 (ipykernel)",
   "language": "python",
   "name": "python3"
  },
  "language_info": {
   "codemirror_mode": {
    "name": "ipython",
    "version": 3
   },
   "file_extension": ".py",
   "mimetype": "text/x-python",
   "name": "python",
   "nbconvert_exporter": "python",
   "pygments_lexer": "ipython3",
   "version": "3.11.9"
  }
 },
 "nbformat": 4,
 "nbformat_minor": 5
}
