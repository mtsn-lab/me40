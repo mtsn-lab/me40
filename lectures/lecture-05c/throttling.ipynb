{
 "cells": [
  {
   "cell_type": "code",
   "execution_count": 20,
   "id": "3a61955b",
   "metadata": {},
   "outputs": [
    {
     "name": "stdout",
     "output_type": "stream",
     "text": [
      "Requirement already satisfied: CoolProp in /srv/conda/lib/python3.11/site-packages (6.6.0)\n"
     ]
    }
   ],
   "source": [
    "!pip install CoolProp"
   ]
  },
  {
   "cell_type": "code",
   "execution_count": 21,
   "id": "bc064890",
   "metadata": {},
   "outputs": [],
   "source": [
    "from CoolProp.CoolProp import PropsSI"
   ]
  },
  {
   "cell_type": "markdown",
   "id": "b2765991",
   "metadata": {},
   "source": [
    "Refrigerant-134a enters the compressor of a refrigerator as superheated vapor at $p_1$ and $T_1$ at a rate of $\\dot{m}$ and leaves at $P_2$ and $T_2$. The refrigerant is cooled in the condenser to $T_3$ and $p_3$ and is throttled to $p_4$. We can treat the throttling process as isenthalpic, $h_3 = h_4$. Disregard any heat transfer and pressure drops in the connecting lines between the components. Please analyze the throttling process from state 3 to 4.\n",
    "\n",
    "Determine:\n",
    "- (a) the change in temperature from state 3 to state 4, $T_3 - T_4$. \n",
    "- (b) the change in specific volume from state 3 to state 4, $v_4 - v_3$.\n",
    "- (c) the change in pressure from state 3 to state 4, $p_3 - p_4$.\n",
    "- (d) the change in internal energy from state 3 to state 4, $u_3 - u_4$."
   ]
  },
  {
   "cell_type": "code",
   "execution_count": 22,
   "id": "e86a4eb6",
   "metadata": {},
   "outputs": [],
   "source": [
    "p1_MPa = 0.14\n",
    "T1_C = -10\n",
    "mdot_kgPerS = 0.05\n",
    "p2_MPa = 0.8\n",
    "T2_C = 50\n",
    "p3_MPa = 0.72\n",
    "T3_C = 26\n",
    "p4_MPa = 0.15\n",
    "\n",
    "fluid = 'R134a'\n",
    "\n",
    "\n",
    "P1 = p1_MPa*1e6\n",
    "T1 = T1_C + 273.15\n",
    "P2 = p2_MPa*1e6\n",
    "T2 = T2_C +273.15\n",
    "P3 = p3_MPa*1e6\n",
    "T3 = T3_C + 273.15\n",
    "P4 = p4_MPa*1e6"
   ]
  },
  {
   "cell_type": "code",
   "execution_count": 23,
   "id": "606cf0cd",
   "metadata": {},
   "outputs": [],
   "source": [
    "h1 = PropsSI('H','P',P1,'T',T1,fluid)\n",
    "s1 = PropsSI('S','P',P1,'T',T1,fluid)\n",
    "\n",
    "h2 = PropsSI('H','P',P2,'T',T2,fluid)\n",
    "s2 = PropsSI('S','P',P2,'T',T2,fluid)\n",
    "\n",
    "u3 = PropsSI('U','P',P3,'T',T3,fluid)\n",
    "h3 = PropsSI('H','P',P3,'T',T3,fluid)\n",
    "s3 = PropsSI('S','P',P3,'T',T3,fluid)\n",
    "v3 = PropsSI('V','P',P3,'T',T3,fluid)\n",
    "\n",
    "h4 = h3\n",
    "u4 = PropsSI('U','P',P4,'H',h4,fluid)\n",
    "s4 = PropsSI('S','P',P4,'H',h4,fluid)\n",
    "T4 = PropsSI('T','P',P4,'H',h4,fluid)\n",
    "Q4 = PropsSI('Q','P',P4,'H',h4,fluid)\n",
    "v4 = PropsSI('V','P',P4,'H',h4,fluid)\n",
    "\n",
    "s41 = PropsSI('S','P',P4,'Q',1,fluid)"
   ]
  },
  {
   "cell_type": "markdown",
   "id": "4fa4ba83-078d-4e94-b58a-d84bf195bc82",
   "metadata": {},
   "source": [
    "We can now calculate the answers to (a)-(d):"
   ]
  },
  {
   "cell_type": "code",
   "execution_count": 52,
   "id": "83b03dde-e5c1-4dfa-af5a-acb296439663",
   "metadata": {},
   "outputs": [
    {
     "name": "stdout",
     "output_type": "stream",
     "text": [
      "(a): T3 - T4: 43.1323 K\n",
      "(b): v3-v4: 0.0002 m3/kg\n",
      "(c): p3-p4: 570000.0000 Pa\n",
      "(d): u3-u4: 4953.3066 J/kg\n"
     ]
    }
   ],
   "source": [
    "print('(a): T3 - T4: {0:1.4f} K'.format(T3-T4))\n",
    "print('(b): v3-v4: {0:1.4f} m3/kg'.format(v3-v4))\n",
    "print('(c): p3-p4: {0:1.4f} Pa'.format(P3-P4))\n",
    "print('(d): u3-u4: {0:1.4f} J/kg'.format(u3-u4))"
   ]
  },
  {
   "cell_type": "code",
   "execution_count": 25,
   "id": "dcd0659e-d390-40c7-ab18-5733f5a9393f",
   "metadata": {},
   "outputs": [],
   "source": [
    "import CoolProp\n",
    "from CoolProp.Plots import PropertyPlot\n",
    "\n",
    "import numpy as np\n",
    "import matplotlib.pyplot as plt"
   ]
  },
  {
   "cell_type": "code",
   "execution_count": 50,
   "id": "bd2a0532-145f-49df-a323-8021cb44f6cf",
   "metadata": {},
   "outputs": [
    {
     "data": {
      "image/png": "[encoded data removed]",
      "text/plain": [
       "<Figure size 640x480 with 1 Axes>"
      ]
     },
     "metadata": {},
     "output_type": "display_data"
    }
   ],
   "source": [
    "# plotting\n",
    "\n",
    "T_critical_K = 374.21\n",
    "T_triple_K = 169.85\n",
    "\n",
    "P_critical_Pa = 4059280.0\n",
    "P_triple_Pa = 389.5637885619895\n",
    "\n",
    "plt.figure()\n",
    "plt.clf()\n",
    "    \n",
    "# saturated vapor and liquid lines\n",
    "Psat = np.linspace(P_triple_Pa+600, P_critical_Pa-30000, 1000) # \n",
    "\n",
    "hvap = [PropsSI('H','P',p,'Q',1,fluid) for p in Psat]\n",
    "hliq = [PropsSI('H','P',p,'Q',0,fluid) for p in Psat]\n",
    "\n",
    "plt.semilogy(hvap, Psat, 'k-')\n",
    "plt.semilogy(hliq, Psat, 'k-')\n",
    "\n",
    "plt.semilogy([h3, h4], [P3, P4], 'g-', lw=2) # Throttling process\n",
    "\n",
    "plt.xlabel('h (J/kg)')\n",
    "plt.ylabel('p (Pa)')\n",
    "plt.savefig('r134a-throttling.png')\n",
    "plt.savefig('r134a-throttling.eps', format='eps')"
   ]
  },
  {
   "cell_type": "code",
   "execution_count": null,
   "id": "42e67338-ee81-41a9-a84e-f0b89bdfb4e1",
   "metadata": {},
   "outputs": [],
   "source": []
  }
 ],
 "metadata": {
  "kernelspec": {
   "display_name": "Python 3 (ipykernel)",
   "language": "python",
   "name": "python3"
  },
  "language_info": {
   "codemirror_mode": {
    "name": "ipython",
    "version": 3
   },
   "file_extension": ".py",
   "mimetype": "text/x-python",
   "name": "python",
   "nbconvert_exporter": "python",
   "pygments_lexer": "ipython3",
   "version": "3.11.9"
  }
 },
 "nbformat": 4,
 "nbformat_minor": 5
}
