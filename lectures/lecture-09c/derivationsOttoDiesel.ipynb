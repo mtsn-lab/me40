{
 "cells": [
  {
   "cell_type": "markdown",
   "id": "05b52f34-c02e-4f26-b477-68b0595308c9",
   "metadata": {},
   "source": [
    "#### Otto cycle\n",
    "\n",
    "$$(q_\\text{in} - q_\\text{out}) + (w_\\text{in} - w_\\text{out}) = \\Delta u $$"
   ]
  },
  {
   "cell_type": "markdown",
   "id": "48b3b09b-efbe-4939-8831-7b7fb47b4bb3",
   "metadata": {},
   "source": [
    "$$q_\\text{in}= u_3 - u_2 $$\n",
    "\n",
    "$$q_\\text{out}= u_4 - u_1 $$\n",
    "\n",
    "Assuming ideal gas:\n",
    "\n",
    "$$q_\\text{in}= u_3 - u_2 = c_v (T_3 - T_2)$$\n",
    "\n",
    "$$q_\\text{out}= u_4 - u_1 = c_v (T_4 - T_1)$$"
   ]
  },
  {
   "cell_type": "markdown",
   "id": "922b2b5d-c9ae-43f0-aa95-1b145b5dd68c",
   "metadata": {},
   "source": [
    "For a cycle we can write:\n",
    "\n",
    "$$q_\\text{in} + w_\\text{in} = w_\\text{out} + q_\\text{out} $$\n",
    "\n",
    "$$q_\\text{in} = (w_\\text{out} - w_\\text{in}) + q_\\text{out} $$\n",
    "\n",
    "Recall: \n",
    "$$w_\\text{net} = (w_\\text{out} - w_\\text{in})$$\n",
    "\n",
    "Therefore:\n",
    "$$q_\\text{in} = w_\\text{net} + q_\\text{out} $$\n",
    "\n",
    "$$\\implies w_\\text{net} = q_\\text{in} -  q_\\text{out} $$\n",
    "\n",
    "The definition of the efficiency for a thermal engine is:\n",
    "\n",
    "$$\\eta_\\text{th} = \\frac{w_\\text{net}}{q_\\text{in}} $$\n",
    "\n",
    "Therefore:\n",
    "\n",
    "$$\\eta_\\text{th} = \\frac{q_\\text{in} -  q_\\text{out}}{q_\\text{in}} $$\n",
    "\n",
    "$$\\implies \\eta_\\text{th} = 1 - \\frac{q_\\text{out}}{q_\\text{in}} $$\n",
    "\n",
    "$$\\implies \\eta_\\text{th} = 1 - \\frac{c_v (T_4 - T_1)}{c_v (T_3 - T_2)} $$\n",
    "\n",
    "$$\\implies \\eta_\\text{th} = 1 - \\frac{(T_4 - T_1)}{(T_3 - T_2)} $$\n",
    "\n",
    "$$\\implies \\eta_\\text{th} = 1 - \\frac{T_1(T_4/T_1 - 1)}{T_2(T_3/T_2 - 1)} $$"
   ]
  },
  {
   "cell_type": "markdown",
   "id": "32bccf07-0855-46a9-9abc-838a447ae4e2",
   "metadata": {},
   "source": [
    "Recall that we can use our $Tds$ relations for isentropic processes to relate properties in a process:\n",
    "\n",
    "$$\\frac{T_1}{T_2} = \\left(\\frac{v_2}{v_1} \\right)^{k-1}  $$\n",
    "\n",
    "$$\\frac{T_4}{T_3} = \\left(\\frac{v_3}{v_4} \\right)^{k-1}  $$\n",
    "\n",
    "We also know that the ratio of the volumes from states 2 to 1 and 3 to 4 are the same:\n",
    "\n",
    "$$V_2 / V_1 = V_3 / V_4 $$\n",
    "\n",
    "If the cycle does not have any change in mass, then:\n",
    "\n",
    "$$v_2 / v_1 = v_3 / v_4 $$\n",
    "\n",
    "$$\\implies (v_2 / v_1)^{k-1} = (v_3 / v_4)^{k-1} $$\n",
    "\n",
    "$$\\implies \\frac{T_1}{T_2} = \\frac{T_4}{T_3} $$\n",
    "\n",
    "$$\\implies \\frac{T_3}{T_2} = \\frac{T_4}{T_1} $$\n",
    "\n"
   ]
  },
  {
   "cell_type": "markdown",
   "id": "06f95ce3-ba96-4867-8e7a-248bc4e8866a",
   "metadata": {},
   "source": [
    "Recall:\n",
    "\n",
    "$$\\eta_\\text{th} = 1 - \\frac{T_1(T_4/T_1 - 1)}{T_2(T_3/T_2 - 1)} $$\n",
    "\n",
    "$$\\implies \\eta_\\text{th} = 1 - \\frac{T_1(T_4/T_1 - 1)}{T_2(T_4/T_1 - 1)} $$\n",
    "\n",
    "$$\\implies \\eta_\\text{th} = 1 - \\frac{T_1}{T_2} $$\n",
    "\n",
    "$$\\implies \\eta_\\text{th} = 1 - \\left(\\frac{v_2}{v_1} \\right)^{k-1} $$"
   ]
  },
  {
   "cell_type": "markdown",
   "id": "3ab876d0-a4c0-45e4-b74f-15091d403e66",
   "metadata": {},
   "source": [
    "Recall that the compression ratio is defined as the ratio of the volumes before and after compression:\n",
    "\n",
    "$$V_2 = V_1/r$$\n",
    "\n",
    "For constant mass:\n",
    "$$\\implies v_2 = v_1/r$$\n",
    "\n",
    "$$\\implies r  = v_1/v_2$$"
   ]
  },
  {
   "cell_type": "markdown",
   "id": "d16a7439-5ff7-4873-9df8-f6ed71de3a6f",
   "metadata": {},
   "source": [
    "Substituting this into the equation for thermal efficiency above:\n",
    "\n",
    "$$\\eta_\\text{th} = 1 - \\left(\\frac{1}{r} \\right)^{k-1} $$\n",
    "\n",
    "$$\\implies \\eta_\\text{th} = 1 - \\frac{1}{r^{k-1}} $$"
   ]
  },
  {
   "cell_type": "code",
   "execution_count": null,
   "id": "8aa2d405-4631-47b9-a764-bae519a207d8",
   "metadata": {},
   "outputs": [],
   "source": []
  }
 ],
 "metadata": {
  "kernelspec": {
   "display_name": "Python 3 (ipykernel)",
   "language": "python",
   "name": "python3"
  },
  "language_info": {
   "codemirror_mode": {
    "name": "ipython",
    "version": 3
   },
   "file_extension": ".py",
   "mimetype": "text/x-python",
   "name": "python",
   "nbconvert_exporter": "python",
   "pygments_lexer": "ipython3",
   "version": "3.11.10"
  }
 },
 "nbformat": 4,
 "nbformat_minor": 5
}
