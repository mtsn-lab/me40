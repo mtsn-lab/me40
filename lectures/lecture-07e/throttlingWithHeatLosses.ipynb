{
 "cells": [
  {
   "cell_type": "markdown",
   "id": "1531ae64",
   "metadata": {},
   "source": [
    "## Throttling with heat losses\n",
    "Problem 7-147, Thermodynamics: An Engineering Approach, Yunus Cengel, Michael Boles, 9th Edtition"
   ]
  },
  {
   "cell_type": "code",
   "execution_count": 1,
   "id": "365c887a",
   "metadata": {},
   "outputs": [
    {
     "name": "stdout",
     "output_type": "stream",
     "text": [
      "Requirement already satisfied: CoolProp in /srv/conda/lib/python3.11/site-packages (6.6.0)\n"
     ]
    }
   ],
   "source": [
    "!pip install CoolProp"
   ]
  },
  {
   "cell_type": "code",
   "execution_count": 2,
   "id": "eb884353",
   "metadata": {},
   "outputs": [],
   "source": [
    "from CoolProp.CoolProp import PropsSI"
   ]
  },
  {
   "cell_type": "code",
   "execution_count": 3,
   "id": "ea9086fb-7129-4562-8fad-455eea27d8d9",
   "metadata": {},
   "outputs": [],
   "source": [
    "fluid = 'R134a'"
   ]
  },
  {
   "cell_type": "code",
   "execution_count": 4,
   "id": "6d92a057-9e78-468b-931f-b46da3c389d3",
   "metadata": {},
   "outputs": [],
   "source": [
    "p1_Pa = 1200*1000\n",
    "T1_K = 40+273.15"
   ]
  },
  {
   "cell_type": "code",
   "execution_count": 5,
   "id": "8200fc9f-e331-4b97-8244-e4f90d87b30c",
   "metadata": {},
   "outputs": [],
   "source": [
    "p2_Pa = 200*1000"
   ]
  },
  {
   "cell_type": "code",
   "execution_count": 11,
   "id": "1c194a62-b4bb-464f-be61-002d3fd57413",
   "metadata": {},
   "outputs": [
    {
     "name": "stdout",
     "output_type": "stream",
     "text": [
      "256374.95719745598\n",
      "1189.8568247389292\n"
     ]
    }
   ],
   "source": [
    "# state 1\n",
    "h1_JperKg = PropsSI('H','T',T1_K,'P',p1_Pa,fluid); print(h1_JperKg)\n",
    "s1_JperKgPerK = PropsSI('S','T',T1_K,'P',p1_Pa,fluid); print(s1_JperKgPerK)"
   ]
  },
  {
   "cell_type": "code",
   "execution_count": 12,
   "id": "37c345e1-d92c-4df2-afc9-1e2472a7c5d4",
   "metadata": {},
   "outputs": [
    {
     "name": "stdout",
     "output_type": "stream",
     "text": [
      "255874.95719745598\n"
     ]
    }
   ],
   "source": [
    "# energy equation\n",
    "q_JperKg = 500\n",
    "T0_K = 25+273.15\n",
    "\n",
    "h2_JperKg = h1_JperKg - q_JperKg; print(h2_JperKg)"
   ]
  },
  {
   "cell_type": "code",
   "execution_count": 14,
   "id": "a81f777c-05a2-4603-93de-c27ada72bbaf",
   "metadata": {},
   "outputs": [
    {
     "name": "stdout",
     "output_type": "stream",
     "text": [
      "(a) T2 = 263.07 K\n",
      "1213.6113694538074\n"
     ]
    }
   ],
   "source": [
    "# state 2\n",
    "T2_K = PropsSI('T','H',h2_JperKg,'P',p2_Pa,fluid); #print(T2_K)\n",
    "print('(a) T2 = {0:1.2f} K'.format(T2_K))\n",
    "\n",
    "s2_JperKgPerK = PropsSI('S','H',h2_JperKg,'P',p2_Pa,fluid); print(s2_JperKgPerK)"
   ]
  },
  {
   "cell_type": "code",
   "execution_count": 15,
   "id": "38d0046d-39b2-4b3c-8c6a-dfd5feaaf668",
   "metadata": {},
   "outputs": [
    {
     "name": "stdout",
     "output_type": "stream",
     "text": [
      "(b) sGen_JperKgperK = 23.75 J/(kg K)\n"
     ]
    }
   ],
   "source": [
    "sGen_JperKgperK = (s2_JperKgPerK - s1_JperKgPerK)\n",
    "print('(b) sGen_JperKgperK = {0:1.2f} J/(kg K)'.format(sGen_JperKgperK))"
   ]
  }
 ],
 "metadata": {
  "kernelspec": {
   "display_name": "Python 3 (ipykernel)",
   "language": "python",
   "name": "python3"
  },
  "language_info": {
   "codemirror_mode": {
    "name": "ipython",
    "version": 3
   },
   "file_extension": ".py",
   "mimetype": "text/x-python",
   "name": "python",
   "nbconvert_exporter": "python",
   "pygments_lexer": "ipython3",
   "version": "3.11.9"
  }
 },
 "nbformat": 4,
 "nbformat_minor": 5
}
