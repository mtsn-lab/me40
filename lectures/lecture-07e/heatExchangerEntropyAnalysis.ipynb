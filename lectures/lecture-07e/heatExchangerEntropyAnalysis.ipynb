{
 "cells": [
  {
   "cell_type": "markdown",
   "id": "e575a39e-babf-4b8e-abe6-8ffa63546b5e",
   "metadata": {},
   "source": [
    "Example 7-20 from Cengels Thermodynamics 9th Edition\n",
    "\n",
    "Steam is used to heat air in a heat exchanger. Determine the following:\n",
    "- Heat transfer rate (kW)\n",
    "- Mass flow rate of air (kg/s)\n",
    "- Rate of entropy generation (kW/K)\n",
    "\n",
    "Air enters at state 1 and exits at state 2. Saturated water enters at state 3 and exits at state 4 as a saturated liquid."
   ]
  },
  {
   "cell_type": "code",
   "execution_count": 25,
   "id": "c5382614-58d1-43ed-9081-40619ec79062",
   "metadata": {},
   "outputs": [],
   "source": [
    "T3_C = 20\n",
    "T3_K = 20+273.15\n",
    "p3_Pa = 101325\n",
    "\n",
    "T4_C = 30\n",
    "T4_K = T2_C + 273.15\n",
    "p4_Pa = p3_Pa\n",
    "\n",
    "T1_C = 35\n",
    "T1_K = T1_C + 273.15\n",
    "x1 = 1\n",
    "\n",
    "T2_C = 32\n",
    "T2_K = T2_C + 273.15\n",
    "x2 = 0\n",
    "\n",
    "mdot12_kgPerHour = 10e3\n",
    "mdot12_kgPerS = mdot12_kgPerHour/(60*60)"
   ]
  },
  {
   "cell_type": "code",
   "execution_count": 12,
   "id": "580cfa21-0d07-42bd-9a41-97d2359fa7f9",
   "metadata": {},
   "outputs": [
    {
     "name": "stdout",
     "output_type": "stream",
     "text": [
      "Requirement already satisfied: iapws in /srv/conda/lib/python3.11/site-packages (1.5.4)\n",
      "Requirement already satisfied: scipy>=1.2 in /srv/conda/lib/python3.11/site-packages (from iapws) (1.10.0)\n",
      "Requirement already satisfied: numpy<1.27.0,>=1.19.5 in /srv/conda/lib/python3.11/site-packages (from scipy>=1.2->iapws) (1.26.4)\n"
     ]
    }
   ],
   "source": [
    "!pip install iapws"
   ]
  },
  {
   "cell_type": "code",
   "execution_count": 13,
   "id": "c36b10c6-12f1-456a-bf41-70aa7dd37c63",
   "metadata": {},
   "outputs": [],
   "source": [
    "from iapws import IAPWS97"
   ]
  },
  {
   "cell_type": "code",
   "execution_count": 28,
   "id": "1203f14d-c3fb-459d-b619-d1e96bd45aa3",
   "metadata": {},
   "outputs": [
    {
     "name": "stdout",
     "output_type": "stream",
     "text": [
      "2564.5845819893193\n",
      "8.351819064921752\n",
      "134.10565079884037\n",
      "0.4642793932935306\n"
     ]
    }
   ],
   "source": [
    "water_1 = IAPWS97(T=T1_K, x=x1); print(water_1.h); print(water_1.s)\n",
    "water_2 = IAPWS97(T=T2_K, x=x2); print(water_2.h); print(water_2.s)"
   ]
  },
  {
   "cell_type": "code",
   "execution_count": 15,
   "id": "17194836-5987-4e06-80af-94c0ad0952c3",
   "metadata": {},
   "outputs": [
    {
     "name": "stdout",
     "output_type": "stream",
     "text": [
      "Requirement already satisfied: CoolProp in /srv/conda/lib/python3.11/site-packages (6.6.0)\n"
     ]
    }
   ],
   "source": [
    "!pip install CoolProp"
   ]
  },
  {
   "cell_type": "code",
   "execution_count": 16,
   "id": "b8a73a5a-3dd3-4f05-a317-af94aa164f00",
   "metadata": {},
   "outputs": [],
   "source": [
    "from CoolProp.CoolProp import PropsSI"
   ]
  },
  {
   "cell_type": "code",
   "execution_count": 23,
   "id": "66a61b6f-9b81-4060-9ea4-8ef9cd1b8bc9",
   "metadata": {},
   "outputs": [],
   "source": [
    "fluid = 'air'\n",
    "h3_JperKg = PropsSI('H','T',T3_K,'P',p3_Pa,fluid)\n",
    "h4_JperKg = PropsSI('H','T',T4_K,'P',p4_Pa,fluid)\n",
    "\n",
    "s3_JperKgperK = PropsSI('S','T',T3_K,'P',p3_Pa,fluid)\n",
    "s4_JperKgperK = PropsSI('S','T',T4_K,'P',p4_Pa,fluid)"
   ]
  },
  {
   "cell_type": "code",
   "execution_count": 21,
   "id": "94f3a0da-315f-40aa-b7be-8b503e5c3036",
   "metadata": {},
   "outputs": [
    {
     "name": "stdout",
     "output_type": "stream",
     "text": [
      "(a) Qdot12_W = 6751330 W.\n"
     ]
    }
   ],
   "source": [
    "Qdot12_kW = modt12_kgPerS*(water_1.h - water_2.h)\n",
    "Qdot12_W = Qdot12_kW*1000\n",
    "\n",
    "print('(a) Qdot12_W = {0:1.0f} W.'.format(Qdot12_W))"
   ]
  },
  {
   "cell_type": "markdown",
   "id": "e70ab60e-9298-4c35-898e-cdba48eb5bad",
   "metadata": {},
   "source": [
    "$\\dot{Q}_\\text{in} = \\dot{m}_\\text{34}\\left(h_4 - h_3 \\right) = \\dot{m}_\\text{12} \\left(h_1 - h_2 \\right)$\n",
    "\n",
    "$\\implies \\dot{m}_\\text{34} = \\dot{m}_\\text{12}\\frac{\\left(h_1 - h_2 \\right)}{\\left(h_4 - h_3 \\right)}$"
   ]
  },
  {
   "cell_type": "code",
   "execution_count": 22,
   "id": "814168e9-4b80-4d9e-8ff5-85599605897e",
   "metadata": {},
   "outputs": [
    {
     "name": "stdout",
     "output_type": "stream",
     "text": [
      "(b) mdot34_kgPerS = 671 kg/s.\n"
     ]
    }
   ],
   "source": [
    "mdot34_kgPerS = Qdot12_W/(h4_JperKg - h3_JperKg); \n",
    "print('(b) mdot34_kgPerS = {0:1.0f} kg/s.'.format(mdot34_kgPerS))"
   ]
  },
  {
   "cell_type": "markdown",
   "id": "effbaa77-903c-4261-b7bd-932c02e93f68",
   "metadata": {},
   "source": [
    "$\\dot{S}_\\text{in} - \\dot{S}_\\text{out} + \\dot{S}_\\text{gen} = \\frac{dS_\\text{system}}{dt}$\n",
    "\n",
    "We assume steady state, therefore:\n",
    "\n",
    "$\\dot{m}_\\text{12}s_1 + \\dot{m}_\\text{34}s_3 - \\dot{m}_\\text{12}s_2 - \\dot{m}_\\text{34}s_4 + \\dot{S}_\\text{gen} = 0$ \n",
    "\n",
    "$\\implies  \\dot{S}_\\text{gen} = -\\dot{m}_\\text{12}s_1 + -\\dot{m}_\\text{34}s_3 + \\dot{m}_\\text{12}s_2 + \\dot{m}_\\text{34}s_4$ \n",
    "\n",
    "$\\implies  \\dot{S}_\\text{gen} = \\dot{m}_\\text{12} \\left(s_2 - s_1 \\right)  + \\dot{m}_\\text{34} \\left( s_4 -s_3 \\right)$"
   ]
  },
  {
   "cell_type": "code",
   "execution_count": 26,
   "id": "c7987177-7568-43c5-804e-57b052a348d8",
   "metadata": {},
   "outputs": [
    {
     "name": "stdout",
     "output_type": "stream",
     "text": [
      "(c) Sgen_WperK = 736.342 kW/K.\n"
     ]
    }
   ],
   "source": [
    "Sgen_WperK = mdot12_kgPerS*(1000*water_2.s - 1000*water_1.s) + mdot34_kgPerS*(s4_JperKgperK - s3_JperKgperK)#; print(Sgen_kWperK)\n",
    "print('(c) Sgen_WperK = {0:1.3f} kW/K.'.format(Sgen_WperK))"
   ]
  },
  {
   "cell_type": "code",
   "execution_count": null,
   "id": "eff5560b-05a3-4262-80fb-164877349694",
   "metadata": {},
   "outputs": [],
   "source": []
  }
 ],
 "metadata": {
  "kernelspec": {
   "display_name": "Python 3 (ipykernel)",
   "language": "python",
   "name": "python3"
  },
  "language_info": {
   "codemirror_mode": {
    "name": "ipython",
    "version": 3
   },
   "file_extension": ".py",
   "mimetype": "text/x-python",
   "name": "python",
   "nbconvert_exporter": "python",
   "pygments_lexer": "ipython3",
   "version": "3.11.9"
  }
 },
 "nbformat": 4,
 "nbformat_minor": 5
}
