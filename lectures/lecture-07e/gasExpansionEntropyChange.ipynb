{
 "cells": [
  {
   "cell_type": "code",
   "execution_count": 1,
   "id": "0462c354-904c-460d-880e-21c1205d6b97",
   "metadata": {},
   "outputs": [],
   "source": [
    "p1_Pa = 1e5\n",
    "m_kg = 1\n",
    "T1_K = 300"
   ]
  },
  {
   "cell_type": "code",
   "execution_count": 2,
   "id": "f129b160-df61-43b2-b364-188971049920",
   "metadata": {},
   "outputs": [],
   "source": [
    "R_JperKgperK = 0.287e3"
   ]
  },
  {
   "cell_type": "code",
   "execution_count": 3,
   "id": "cf3a48f1-ef1a-4c13-a04d-3f5dff726ef0",
   "metadata": {},
   "outputs": [
    {
     "name": "stdout",
     "output_type": "stream",
     "text": [
      "0.861\n"
     ]
    }
   ],
   "source": [
    "V1_m3 = m_kg * R_JperKgperK * T1_K / p1_Pa; print(V1_m3)"
   ]
  },
  {
   "cell_type": "code",
   "execution_count": 4,
   "id": "a3bc2e82-f651-47bc-8f46-099c484f160f",
   "metadata": {},
   "outputs": [],
   "source": [
    "v1_m3perKg = V1_m3/m_kg"
   ]
  },
  {
   "cell_type": "code",
   "execution_count": 6,
   "id": "e50d9071-0ec3-41f5-9576-704b4c854365",
   "metadata": {},
   "outputs": [],
   "source": [
    "V2_m3 = V1_m3 + 1"
   ]
  },
  {
   "cell_type": "code",
   "execution_count": 7,
   "id": "f731cfad-ec93-4319-9261-a353e5cc8965",
   "metadata": {},
   "outputs": [],
   "source": [
    "v2_m3perKg = V2 / m_kg"
   ]
  },
  {
   "cell_type": "markdown",
   "id": "6a668651-f5a9-47fd-be06-e6c6c53670d3",
   "metadata": {},
   "source": [
    "$s_2 - s_1 = c_\\text{v,avg} \\ln (T_2 / T_1) + R \\ln (v_2 / v_1) $"
   ]
  },
  {
   "cell_type": "code",
   "execution_count": 8,
   "id": "07945387-6335-48fe-9319-9a6625d74c00",
   "metadata": {},
   "outputs": [],
   "source": [
    "import numpy as np"
   ]
  },
  {
   "cell_type": "code",
   "execution_count": 10,
   "id": "0c25de54-e04a-4357-a19a-b9884836f9d7",
   "metadata": {},
   "outputs": [
    {
     "name": "stdout",
     "output_type": "stream",
     "text": [
      "221.21235388556727\n"
     ]
    }
   ],
   "source": [
    "dS_JperK = R_JperKgperK*np.log(v2_m3perKg/v1_m3perKg); print(dS_JperK)"
   ]
  },
  {
   "cell_type": "code",
   "execution_count": 11,
   "id": "cecc29da-2df7-4e35-81d1-ffe94af97f3c",
   "metadata": {},
   "outputs": [
    {
     "data": {
      "text/plain": [
       "0.22121235388556726"
      ]
     },
     "execution_count": 11,
     "metadata": {},
     "output_type": "execute_result"
    }
   ],
   "source": [
    "dS_JperK/1000"
   ]
  },
  {
   "cell_type": "code",
   "execution_count": null,
   "id": "1d9bea94-cc59-42e7-953c-610663e13d9b",
   "metadata": {},
   "outputs": [],
   "source": []
  }
 ],
 "metadata": {
  "kernelspec": {
   "display_name": "Python 3 (ipykernel)",
   "language": "python",
   "name": "python3"
  },
  "language_info": {
   "codemirror_mode": {
    "name": "ipython",
    "version": 3
   },
   "file_extension": ".py",
   "mimetype": "text/x-python",
   "name": "python",
   "nbconvert_exporter": "python",
   "pygments_lexer": "ipython3",
   "version": "3.11.9"
  }
 },
 "nbformat": 4,
 "nbformat_minor": 5
}
