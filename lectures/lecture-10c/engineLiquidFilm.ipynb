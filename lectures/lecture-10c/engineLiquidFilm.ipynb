{
 "cells": [
  {
   "cell_type": "markdown",
   "id": "68da5c26-d1e5-47b2-be6b-e62c9ec38997",
   "metadata": {},
   "source": [
    "### Thermodynamics of the film engine\n",
    "\n",
    "The following is taken from A. Laouir, L. Luo, D. Tondeur, T. Cachot, and P. Le Goff, Thermal Machines Based on Surface Energy of Wetting: Thermodynamic Analysis, 2003 Vol. 49 AIChE Journal"
   ]
  },
  {
   "cell_type": "markdown",
   "id": "8d7e0061-8d7d-43f6-8005-9a64eb4049c6",
   "metadata": {},
   "source": [
    "Let us consider a thermodynamic consisting of a liquid film with variables $(U, S, A, T, \\gamma)$ where $U = U(S,A)$. We have:\n",
    "\n",
    "$$dU = TdS + \\gamma dA $$\n",
    "\n",
    "where $\\gamma$ is the interfacial energy of the gas-liquid interface at the working temperature. We assume that the film is incompressible. \n",
    "\n",
    "The first law requires:\n",
    "\n",
    "$$dU = \\delta Q + \\delta W $$\n",
    "\n",
    "The mechanical work of extension is then:\n",
    "\n",
    "$$\\delta W = \\gamma dA $$\n",
    "\n",
    "The Maxwell relation is then:\n",
    "\n",
    "$$\\frac{\\partial^2 U}{\\partial S \\partial A} = \\frac{\\partial^2 U}{\\partial A \\partial S} $$\n",
    "\n",
    "which we can write as:\n",
    "\n",
    "$$\\left( \\frac{\\partial T}{\\partial A} \\right)_S = \\left( \\frac{\\partial \\gamma}{\\partial S} \\right)_A$$\n",
    "\n",
    "We assume that $S = S(T,A)$ and $\\sigma = \\sigma(T)$. This implies for an isothermal transformation:\n",
    "\n",
    "$$dS = - \\frac{d \\gamma}{dT} dA $$\n"
   ]
  },
  {
   "cell_type": "markdown",
   "id": "1fd5a116-a20f-4bb3-a773-025be7da360a",
   "metadata": {},
   "source": [
    "We can now write the heat transferred during the isothermal extension:\n",
    "\n",
    "$$\\delta Q = T dS = -T \\frac{d \\gamma}{d T} dA $$"
   ]
  },
  {
   "cell_type": "markdown",
   "id": "3583012c-25c2-4fde-9eb4-5d15f1bd5ba3",
   "metadata": {},
   "source": [
    "We assume that the liquid film is in physiochemical equilibrium with the gas phase, i.e., no evaporation/condensation. So there is no effect of the environment on $\\gamma$."
   ]
  },
  {
   "cell_type": "markdown",
   "id": "389d2882-7b48-4d1c-b57e-45bbaa7eb3f1",
   "metadata": {},
   "source": [
    "Surface tension generally decreases with increasing temperature, and is generally described by a power-law expresion:\n",
    "\n",
    "$$ \\gamma = \\gamma_0 (1 - T/T_c)^n $$\n",
    "\n",
    "where $T_c$ is the critical temnperature of the liquid and the exponent $n = 11/9$ has been proposed for simple substances. For common pure liquids, $n = 1$ for a wide range of temperature:\n",
    "\n",
    "$$ \\gamma = \\gamma_0 - \\alpha T $$\n",
    "\n",
    "where $\\gamma_0$ and $\\alpha$ are positive constants. "
   ]
  },
  {
   "cell_type": "markdown",
   "id": "4040481a-fce7-42ba-bde7-b014d794e65d",
   "metadata": {},
   "source": [
    "We can now write:\n",
    "\n",
    "$$\\delta Q = T dS = -T (- \\alpha) dA $$\n",
    "\n",
    "$$\\implies \\delta Q = T dS = T \\alpha dA $$"
   ]
  },
  {
   "cell_type": "markdown",
   "id": "de655f0e-dcec-4913-9403-a526e85395c8",
   "metadata": {},
   "source": [
    "So now we have the work and heat inputs. "
   ]
  },
  {
   "cell_type": "markdown",
   "id": "365656ed-dbf9-49db-a557-a0d12d8f0448",
   "metadata": {},
   "source": [
    "We have additional heat input and removal during the isochoric (iso-area?) steps"
   ]
  },
  {
   "cell_type": "code",
   "execution_count": null,
   "id": "1bf52972-01e4-4c1a-a7b3-854c9a6474f5",
   "metadata": {},
   "outputs": [],
   "source": []
  }
 ],
 "metadata": {
  "kernelspec": {
   "display_name": "Python 3 (ipykernel)",
   "language": "python",
   "name": "python3"
  },
  "language_info": {
   "codemirror_mode": {
    "name": "ipython",
    "version": 3
   },
   "file_extension": ".py",
   "mimetype": "text/x-python",
   "name": "python",
   "nbconvert_exporter": "python",
   "pygments_lexer": "ipython3",
   "version": "3.11.10"
  }
 },
 "nbformat": 4,
 "nbformat_minor": 5
}
