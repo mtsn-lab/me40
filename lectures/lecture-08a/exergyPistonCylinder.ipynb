{
 "cells": [
  {
   "cell_type": "markdown",
   "id": "773235d4-d00a-4292-b82d-436b770ff2de",
   "metadata": {},
   "source": [
    "Problem 8-38 from Thermodynamics, Cengels\n",
    "\n",
    "A piston-cylinder device initially contains 2 L of air at 100 kPa and 25°C. Air is now compressed to a final state of 600 kPa and 150°C. The useful work input is 1.2 kJ. Assuming the surroundings are at 100 kPa and 25°C, determine (a) the exergy of the air at the initial and the final states, (b) the minimum work that must be supplied to accomplish this compression process, and (c)\n",
    "the second-law efficiency of this process. \n",
    "\n",
    "Answers: (a) 0, 0.171 kJ, (b) 0.171 kJ, (c) 14.3 percent"
   ]
  },
  {
   "cell_type": "code",
   "execution_count": 2,
   "id": "4123e498-56a0-4822-accc-3eebaad8a3f2",
   "metadata": {},
   "outputs": [
    {
     "name": "stdout",
     "output_type": "stream",
     "text": [
      "Requirement already satisfied: CoolProp in /srv/conda/lib/python3.11/site-packages (6.6.0)\n"
     ]
    }
   ],
   "source": [
    "!pip install CoolProp"
   ]
  },
  {
   "cell_type": "code",
   "execution_count": 3,
   "id": "db49feb5-6416-4e74-8537-4f85dcf5aef6",
   "metadata": {},
   "outputs": [],
   "source": [
    "from CoolProp.CoolProp import PropsSI"
   ]
  },
  {
   "cell_type": "code",
   "execution_count": 9,
   "id": "e0b42dbf-ae52-440b-980b-8c0cb879becd",
   "metadata": {},
   "outputs": [
    {
     "name": "stdout",
     "output_type": "stream",
     "text": [
      "0.0023372936827042025\n"
     ]
    }
   ],
   "source": [
    "fluid = 'air'\n",
    "\n",
    "V1_m3 = 2/1000\n",
    "p1_Pa = 100e3\n",
    "T1_K = 25+273.15\n",
    "Rair_JperKgperK = 287\n",
    "\n",
    "m_kg = p1_Pa*V1_m3/(Rair_JperKgperK*T1_K); print(m_kg)\n",
    "\n",
    "p2_Pa = 600e3\n",
    "T2_K = 150+273.15\n",
    "\n",
    "Win_J = 1.2e3\n",
    "\n",
    "p0_Pa = 100e3\n",
    "T0_K = 25+273.15\n",
    "\n",
    "Win_J = 1200"
   ]
  },
  {
   "cell_type": "code",
   "execution_count": 25,
   "id": "5b7fb3b5-a139-4dbc-859b-081082acffa3",
   "metadata": {},
   "outputs": [],
   "source": [
    "u1_JperKg = PropsSI('U','P',p1_Pa,'T',T1_K,fluid)\n",
    "s1_JperKgperK = PropsSI('S','P',p1_Pa,'T',T1_K,fluid)\n",
    "rho1_kgPerM3 = PropsSI('D','P',p1_Pa,'T',T1_K,fluid)\n",
    "v1_m3PerKg = 1/rho1_kgPerM3\n",
    "\n",
    "m1_kg = rho1_kgPerM3*V1_m3\n",
    "\n",
    "s2_JperKgperK = PropsSI('S','P',p2_Pa,'T',T2_K,fluid)\n",
    "u2_JperKg = PropsSI('U','P',p2_Pa,'T',T2_K,fluid)\n",
    "rho2_kgPerM3 = PropsSI('D','P',p2_Pa,'T',T2_K,fluid)\n",
    "v2_m3perKg = 1/rho2_kgPerM3"
   ]
  },
  {
   "cell_type": "markdown",
   "id": "45f62cfc-362a-4c3e-b042-d48dca53b527",
   "metadata": {},
   "source": [
    "The initial state (1) has no exergy since $T_1 = T_0$, $p_1 = p_0$, and $v_1 = v_0$.\n",
    "\n",
    "The final state (2) is:\n",
    "\n",
    "$$X_2 = m\\left[(u_2 - u_0) + p_0 (v_2 - v_0) - T_0 (s_2 - s_0) \\right]$$"
   ]
  },
  {
   "cell_type": "code",
   "execution_count": 28,
   "id": "b9abcd5a-880f-445b-a2d9-f572d3f5fabe",
   "metadata": {},
   "outputs": [
    {
     "name": "stdout",
     "output_type": "stream",
     "text": [
      "(a) X2_J = 170.2 J.\n"
     ]
    }
   ],
   "source": [
    "X2_J = m_kg*((u2_JperKg - u1_JperKg) + p0_Pa*(v2_m3perKg - v1_m3PerKg) - T0_K*(s2_JperKgperK - s1_JperKgperK))\n",
    "print('(a) X2_J = {0:1.1f} J.'.format(X2_J))"
   ]
  },
  {
   "cell_type": "markdown",
   "id": "e966b214-aecd-449c-9e7d-9cad89dcd7d6",
   "metadata": {},
   "source": [
    "--------\n",
    "part (b)\n",
    "\n",
    "-------\n",
    "\n",
    "The minimum work required to do this process is by definition $W_\\text{rev,in} = X_2 - X_1$."
   ]
  },
  {
   "cell_type": "code",
   "execution_count": 29,
   "id": "e3b3c03f-7bad-4e70-a064-334b54327815",
   "metadata": {},
   "outputs": [
    {
     "name": "stdout",
     "output_type": "stream",
     "text": [
      "(b) WrevIn_J = 170.2 J.\n"
     ]
    }
   ],
   "source": [
    "WrevIn_J = X2_J\n",
    "print('(b) WrevIn_J = {0:1.1f} J.'.format(WrevIn_J))"
   ]
  },
  {
   "cell_type": "markdown",
   "id": "2de44a6b-3a7d-4c20-9438-d605881b3436",
   "metadata": {},
   "source": [
    "--------\n",
    "part (c)\n",
    "\n",
    "-------\n",
    "\n",
    "The second law efficiency is by definition:\n",
    "\n",
    "$$\\eta_\\text{II} = \\frac{{W}_\\text{rev,in}}{{W}_\\text{in}} $$"
   ]
  },
  {
   "cell_type": "code",
   "execution_count": 31,
   "id": "ae796509-2823-4371-a979-fb0efbb6a2ef",
   "metadata": {},
   "outputs": [
    {
     "name": "stdout",
     "output_type": "stream",
     "text": [
      "(c) eta_II = 14.2 %.\n"
     ]
    }
   ],
   "source": [
    "eta_II = WrevIn_J/Win_J\n",
    "print('(c) eta_II = {0:1.1f} %.'.format(eta_II*100))"
   ]
  },
  {
   "cell_type": "code",
   "execution_count": null,
   "id": "6f4540de-f016-416a-b197-f9a402527722",
   "metadata": {},
   "outputs": [],
   "source": []
  }
 ],
 "metadata": {
  "kernelspec": {
   "display_name": "Python 3 (ipykernel)",
   "language": "python",
   "name": "python3"
  },
  "language_info": {
   "codemirror_mode": {
    "name": "ipython",
    "version": 3
   },
   "file_extension": ".py",
   "mimetype": "text/x-python",
   "name": "python",
   "nbconvert_exporter": "python",
   "pygments_lexer": "ipython3",
   "version": "3.11.10"
  }
 },
 "nbformat": 4,
 "nbformat_minor": 5
}
