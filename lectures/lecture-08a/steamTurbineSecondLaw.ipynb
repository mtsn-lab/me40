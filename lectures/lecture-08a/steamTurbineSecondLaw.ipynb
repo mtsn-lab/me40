{
 "cells": [
  {
   "cell_type": "code",
   "execution_count": 30,
   "id": "a57e4848-a402-41ef-bd40-51f4ef802470",
   "metadata": {},
   "outputs": [
    {
     "name": "stdout",
     "output_type": "stream",
     "text": [
      "Requirement already satisfied: iapws in /srv/conda/lib/python3.11/site-packages (1.5.4)\n",
      "Requirement already satisfied: scipy>=1.2 in /srv/conda/lib/python3.11/site-packages (from iapws) (1.10.0)\n",
      "Requirement already satisfied: numpy<1.27.0,>=1.19.5 in /srv/conda/lib/python3.11/site-packages (from scipy>=1.2->iapws) (1.26.4)\n"
     ]
    }
   ],
   "source": [
    "!pip install iapws"
   ]
  },
  {
   "cell_type": "code",
   "execution_count": 31,
   "id": "43ca9340-3a10-4a05-a494-aa84fcae8a3f",
   "metadata": {},
   "outputs": [],
   "source": [
    "from iapws import IAPWS97"
   ]
  },
  {
   "cell_type": "markdown",
   "id": "e0cabc25-a693-4b0f-99ed-e43a432a994c",
   "metadata": {},
   "source": [
    "Steam enters a turbine steadily at 3 MPa and 450°C at a rate of 8 kg/s and exits at 0.2 MPa and 150°C. The steam is losing heat to the surrounding air at 100 kPa and 25°C at a rate of 300 kW, and the kinetic and potential energy changes are negligible. \n",
    "\n",
    "Determine: \n",
    "- (a) the actual power output,\n",
    "- (b) the maximum possible power output,\n",
    "- (c) the second-law efficiency,\n",
    "- (d) the exergy destroyed, and\n",
    "- (e) the exergy of the steam at the inlet conditions."
   ]
  },
  {
   "cell_type": "code",
   "execution_count": 32,
   "id": "132511a5-0b43-460a-97fc-371b6ccfd519",
   "metadata": {},
   "outputs": [],
   "source": [
    "# inlet\n",
    "p1_MPa = 3\n",
    "T1_C = 450\n",
    "T1_K = T1_C + 273.15\n",
    "\n",
    "# outlet\n",
    "p2_MPa = 0.2\n",
    "T2_C = 150\n",
    "T2_K = T2_C + 273.15\n",
    "\n",
    "# environment\n",
    "p0_MPa = 100/1000\n",
    "T0_C = 25\n",
    "T0_K = T0_C + 273.15\n",
    "\n",
    "# heat losses\n",
    "QdotOut_kW = 300\n",
    "\n",
    "# mass flow rate\n",
    "mdot_kgPerS = 8"
   ]
  },
  {
   "cell_type": "markdown",
   "id": "74438f8d-8e77-4963-a09c-bf4503374a92",
   "metadata": {},
   "source": [
    "We can determine the actual power output from our energy equation:\n",
    "\n",
    "$$\\frac{dE_\\text{CV}}{dt} = \\dot{E}_\\text{in} - \\dot{E}_\\text{out}$$\n",
    "\n",
    "$$\\frac{dm_\\text{CV}}{dt} = \\dot{m}_\\text{in} - \\dot{m}_\\text{out}$$"
   ]
  },
  {
   "cell_type": "markdown",
   "id": "412e64da-fcc5-4242-9ef0-833871de1db0",
   "metadata": {},
   "source": [
    "----------------------------------------------\n",
    "Part (a)\n",
    "\n",
    "----------------------------------------------\n",
    "\n",
    "Assuming steady state:\n",
    "\n",
    "$$ \\dot{E}_\\text{in} = \\dot{E}_\\text{out}$$\n",
    "\n",
    "$$\\dot{m}_\\text{in} = \\dot{m}_\\text{out}$$\n",
    "\n",
    "So we will refer to the mass flow rate as $\\dot{m}$.\n",
    "\n",
    "Our energy equation is then:\n",
    "\n",
    "$$ (\\dot{W} + \\dot{Q})_\\text{in} + \\dot{m} (h_1 + w_1^2/2 + gz_1) = (\\dot{W} + \\dot{Q})_\\text{out} + \\dot{m} (h_2 + w_2^2/2 + gz_2)$$\n",
    "\n",
    "We assume:\n",
    "- Neglect kinetic and potential energy effects.\n",
    "- No work transfer in.\n",
    "- No heat transfer in.\n",
    "\n",
    "$$\\dot{W}_\\text{out} = \\dot{m} (h_1 - h_2) - \\dot{Q}_\\text{out}$$"
   ]
  },
  {
   "cell_type": "code",
   "execution_count": 33,
   "id": "714f8ad7-edd4-4889-b228-9120da6a06e1",
   "metadata": {},
   "outputs": [],
   "source": [
    "water_1 = IAPWS97(T = T1_K, P = p1_MPa)\n",
    "water_2 = IAPWS97(T = T2_K, P = p2_MPa)"
   ]
  },
  {
   "cell_type": "code",
   "execution_count": 34,
   "id": "b7afc887-ae88-4a7d-8ca1-7c7ec311d54e",
   "metadata": {},
   "outputs": [
    {
     "name": "stdout",
     "output_type": "stream",
     "text": [
      "(a) WdotOut_kW = 4304.6 kW.\n"
     ]
    }
   ],
   "source": [
    "WdotOut_kW = mdot_kgPerS * (water_1.h - water_2.h) - QdotOut_kW;\n",
    "print('(a) WdotOut_kW = {0:1.1f} kW.'.format(WdotOut_kW))"
   ]
  },
  {
   "cell_type": "markdown",
   "id": "1a80389f-6041-4ac2-974b-f4273de9a3d6",
   "metadata": {},
   "source": [
    "----------------------------------------------\n",
    "Part (b) \n",
    "\n",
    "----------------------------------------------\n",
    "From the textbook we are told that the maximum power output is the reversible power. For this we need to analyze the system and its immediate surroundings, whose boundary is at the environmental temperature of $T_0$. The rate of change of exergy within the extended system is:\n",
    "\n",
    "$$\\frac{dX_\\text{system}}{dt} = \\dot{X}_\\text{in} - \\dot{X}_\\text{out} - \\dot{X}_\\text{destroyed} $$\n",
    "\n",
    "We assume the following:\n",
    "- steady state\n",
    "- reversible\n",
    "\n",
    "Therefore, there is no exergy destroyed and no change of exergy in the system:\n",
    "\n",
    "$$0 = \\dot{X}_\\text{in} - \\dot{X}_\\text{out} $$\n",
    "\n",
    "The exergy rate for a fluid stream is (called flow exergy):\n",
    "\n",
    "$$\\dot{X} = \\dot{W} + \\left(1 - \\frac{T_0}{T} \\right)\\dot{Q} + \\dot{m} \\psi$$\n",
    "\n",
    "where \n",
    "\n",
    "$$\\psi = (h - h_0) - T_0 (s - s_0) + w^2/2 + gz$$\n",
    "\n",
    "If we neglect kinetic and potential energy effects, we can then write:\n",
    "\n",
    "$$\\dot{W}_\\text{in} + \\left(1 - \\frac{T_0}{T_i} \\right)\\dot{Q}_\\text{in} + \\dot{m}\\left[(h_1 - h_0) - T_0 (s_1 - s_0)\\right] = \\dot{W}_\\text{out} + \\left(1 - \\frac{T_0}{T_j} \\right)\\dot{Q}_\\text{out} + \\dot{m}\\left[(h_2 - h_0) - T_0 (s_2 - s_0)\\right]$$\n",
    "\n",
    "We can eliminate some terms (see assumptions from part(a)):\n",
    "\n",
    "$$\\dot{m}\\left[(h_1 - h_0) - T_0 (s_1 - s_0)\\right] = \\dot{W}_\\text{out} + \\left(1 - \\frac{T_0}{T_2} \\right)\\dot{Q}_\\text{out} + \\dot{m}\\left[(h_2 - h_0) - T_0 (s_2 - s_0)\\right]$$\n",
    "\n",
    "Rearranging:\n",
    "\n",
    "$$\\dot{W}_\\text{out} = \\dot{m}\\left[(h_1 - h_0) - T_0 (s_1 - s_0)\\right] - \\dot{m}\\left[(h_2 - h_0) - T_0 (s_2 - s_0)\\right] - \\left(1 - \\frac{T_0}{T_j} \\right)\\dot{Q}_\\text{out}$$\n",
    "\n",
    "$$\\implies \\dot{W}_\\text{out} = \\dot{m}\\left[(h_1 - h_2) - T_0 (s_1 - s_2)\\right] - \\left(1 - \\frac{T_0}{T_j} \\right)\\dot{Q}_\\text{out}$$"
   ]
  },
  {
   "cell_type": "markdown",
   "id": "5a1f5137-b2af-412c-9b0b-9e5f4bb87508",
   "metadata": {},
   "source": [
    "So, which temperature do we select for $T_j$? We have to look at where the heat is being transferred to. In this case, we have heat losses from the turbine to the environment, which is at temperature $T_0$. Therefore, we set $T_j = T_0$. Substituting that into our equation above yields:\n",
    "$$\\dot{W}_\\text{out} = \\dot{m}\\left[(h_1 - h_2) - T_0 (s_1 - s_2)\\right] - \\left(1 - \\frac{T_j}{T_j} \\right)\\dot{Q}_\\text{out},$$\n",
    "\n",
    "and then,\n",
    "\n",
    "$$\\dot{W}_\\text{out} = \\dot{m}\\left[(h_1 - h_2) - T_0 (s_1 - s_2)\\right].$$\n",
    "\n",
    "Another way of viewing the above—where the exergy heat term ends up being zero—is to recall the meaning of exergy. For exergy, we need to know the initial state, the process, and the dead state. If we want to maximize the work output given the initial and dead state, then we should have no losses. That is, we would expect to have no heat losses to the surrounding environment. Another way of thinking about it is what is the quality of heat that is lost to the environment? It is useless, therefore, we should assign it zero value. In this case, heat lost to the environment has zero exergy.\n",
    "\n",
    "Substituting yields:"
   ]
  },
  {
   "cell_type": "code",
   "execution_count": 35,
   "id": "408d56e9-4f9f-43c6-82bb-74fd5474c112",
   "metadata": {},
   "outputs": [
    {
     "name": "stdout",
     "output_type": "stream",
     "text": [
      "(b) WdotRev_kW = 5071.1 kW.\n"
     ]
    }
   ],
   "source": [
    "WdotRev_kW = mdot_kgPerS*((water_1.h - water_2.h)-T0_K*(water_1.s - water_2.s))\n",
    "print('(b) WdotRev_kW = {0:1.1f} kW.'.format(WdotRev_kW))"
   ]
  },
  {
   "cell_type": "markdown",
   "id": "a0f5a8ad-fd08-4768-9544-3b79c1412af8",
   "metadata": {},
   "source": [
    "--------------\n",
    "part (c) \n",
    "\n",
    "--------------\n",
    "\n",
    "Since we know the real power output (part (a))and the reversible power output (part (b)), we can determine the second law efficiency of this turbine:\n",
    "\n",
    "$$\\eta_\\text{II} = \\frac{\\dot{W}_\\text{out}}{\\dot{W}_\\text{rev,out}} $$"
   ]
  },
  {
   "cell_type": "code",
   "execution_count": 36,
   "id": "43016605-c760-413b-917b-865bde315b3f",
   "metadata": {},
   "outputs": [
    {
     "name": "stdout",
     "output_type": "stream",
     "text": [
      "(c) eta_II = 84.9 %.\n"
     ]
    }
   ],
   "source": [
    "eta_II = WdotOut_kW/WdotRev_kW\n",
    "print('(c) eta_II = {0:1.1f} %.'.format(eta_II*100))"
   ]
  },
  {
   "cell_type": "markdown",
   "id": "adbc20bf-b46a-4d2e-914c-8d67fe804d59",
   "metadata": {},
   "source": [
    "This means that approximately 15% of the work potential is wasted during this process."
   ]
  },
  {
   "cell_type": "markdown",
   "id": "2968d92f-22d1-4fae-8af0-334c36b58478",
   "metadata": {},
   "source": [
    "-------\n",
    "part (d)\n",
    "\n",
    "-------\n",
    "\n",
    "Recall the definition of exergy destruction:\n",
    "\n",
    "$$\\frac{dX_\\text{system}}{dt} = \\dot{X}_\\text{in} - \\dot{X}_\\text{out} - \\dot{X}_\\text{destroyed} $$\n",
    "\n",
    "$$\\implies \\dot{X}_\\text{destroyed} = \\dot{X}_\\text{in} - \\dot{X}_\\text{out}$$\n",
    "\n",
    "So, the exergy transferred in is the answer we have from part (b). Essentially, the exergy transferred in is the maximum useful work that can be transferred out of the system. The exergy transferred out is the actual useful work transferred out of the system. Therefore, \n",
    "\n",
    "$$\\dot{X}_\\text{destroyed} = \\dot{W}_\\text{rev,out} - \\dot{W}_\\text{out}$$\n"
   ]
  },
  {
   "cell_type": "code",
   "execution_count": 37,
   "id": "25a087b8-8e0c-4f84-9b69-45bc122c585d",
   "metadata": {},
   "outputs": [
    {
     "name": "stdout",
     "output_type": "stream",
     "text": [
      "(d) Xdestroyed_kW = 766.5 kW.\n"
     ]
    }
   ],
   "source": [
    "Xdestroyed_kW = WdotRev_kW - WdotOut_kW\n",
    "print('(d) Xdestroyed_kW = {0:1.1f} kW.'.format(Xdestroyed_kW))"
   ]
  },
  {
   "cell_type": "markdown",
   "id": "5482206d-25eb-429e-a6cc-f3b2e89358df",
   "metadata": {},
   "source": [
    "Note: The answer given in the book is incorrect (776 kW). "
   ]
  },
  {
   "cell_type": "markdown",
   "id": "ee62ff9f-79f6-449b-90bd-a8890509df67",
   "metadata": {},
   "source": [
    "-------\n",
    "part (d), alternative solution\n",
    "\n",
    "-------\n",
    "\n",
    "We can also determine the rate of exergy destruction by determining the rate of entropy generation. Recall:"
   ]
  },
  {
   "cell_type": "markdown",
   "id": "a15cb461-a7c0-482b-97f1-0cd7d5f6c78a",
   "metadata": {},
   "source": [
    "$\\frac{dS_\\text{CV}}{dt} = \\dot{S}_\\text{in} - \\dot{S}_\\text{out} + \\dot{S}_\\text{gen} $\n",
    "\n",
    "Assume: steady state\n",
    "\n",
    "$\\implies \\dot{S}_\\text{gen} = \\dot{S}_\\text{out} - \\dot{S}_\\text{in} = \\dot{m} \\left(s_2 - s_1 \\right) + \\frac{\\dot{Q}_\\text{out}}{T_0}$\n",
    "\n",
    "Why this formula? The $\\dot{m}(s_2 - s_1)$ term is the change of entropy in the control volume associated with the flow stream. We also have heat being transferred out of the turbine to the environment which is at temperature $T_0$ and is the term on the right hand side."
   ]
  },
  {
   "cell_type": "code",
   "execution_count": 38,
   "id": "2c10cd33-073c-4dbc-a6e9-a6778127d940",
   "metadata": {},
   "outputs": [
    {
     "name": "stdout",
     "output_type": "stream",
     "text": [
      "2.570931104794056\n"
     ]
    }
   ],
   "source": [
    "Sgen_kWperK = mdot_kgPerS*(water_2.s - water_1.s) + QdotOut_kW/T0_K\n",
    "print(Sgen_kWperK)"
   ]
  },
  {
   "cell_type": "markdown",
   "id": "28cbc901-e04b-43fa-af2d-93b9faa9bc05",
   "metadata": {},
   "source": [
    "Recall the relation between entropy generation and exergy destruction:\n",
    "$\\dot{X}_\\text{destroyed} = T_0 \\dot{S}_\\text{gen}$\n"
   ]
  },
  {
   "cell_type": "code",
   "execution_count": 39,
   "id": "9aa58d5a-a2eb-4dc0-adb6-8d7b133c4f5a",
   "metadata": {},
   "outputs": [
    {
     "name": "stdout",
     "output_type": "stream",
     "text": [
      "(d) Alternative solution: Xdestroyed_kW_ = 766.5 kW.\n"
     ]
    }
   ],
   "source": [
    "Xdestroyed_kW_ = Sgen_kWperK*T0_K\n",
    "print('(d) Alternative solution: Xdestroyed_kW_ = {0:1.1f} kW.'.format(Xdestroyed_kW_))"
   ]
  }
 ],
 "metadata": {
  "kernelspec": {
   "display_name": "Python 3 (ipykernel)",
   "language": "python",
   "name": "python3"
  },
  "language_info": {
   "codemirror_mode": {
    "name": "ipython",
    "version": 3
   },
   "file_extension": ".py",
   "mimetype": "text/x-python",
   "name": "python",
   "nbconvert_exporter": "python",
   "pygments_lexer": "ipython3",
   "version": "3.11.10"
  }
 },
 "nbformat": 4,
 "nbformat_minor": 5
}
