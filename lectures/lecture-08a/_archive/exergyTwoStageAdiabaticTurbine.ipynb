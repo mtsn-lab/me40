{
 "cells": [
  {
   "cell_type": "markdown",
   "id": "e41686bc-9d6b-4476-a2b4-9a6390c5087d",
   "metadata": {},
   "source": [
    "Problem 8-104 from Thermodynamics an engineering approach by Cengels"
   ]
  },
  {
   "cell_type": "code",
   "execution_count": 10,
   "id": "d5251e80-b443-42fd-8a9c-a22daacd532c",
   "metadata": {},
   "outputs": [
    {
     "name": "stdout",
     "output_type": "stream",
     "text": [
      "Requirement already satisfied: iapws in /srv/conda/lib/python3.11/site-packages (1.5.4)\n",
      "Requirement already satisfied: scipy>=1.2 in /srv/conda/lib/python3.11/site-packages (from iapws) (1.10.0)\n",
      "Requirement already satisfied: numpy<1.27.0,>=1.19.5 in /srv/conda/lib/python3.11/site-packages (from scipy>=1.2->iapws) (1.26.4)\n"
     ]
    }
   ],
   "source": [
    "!pip install iapws"
   ]
  },
  {
   "cell_type": "code",
   "execution_count": 11,
   "id": "41851c55-7d35-4a64-a864-9afc5eadb2b6",
   "metadata": {},
   "outputs": [],
   "source": [
    "from iapws import IAPWS97"
   ]
  },
  {
   "cell_type": "markdown",
   "id": "fc84089b-54e3-4639-9ed5-898ab3f5da56",
   "metadata": {},
   "source": [
    "<img src=\"figure.png\" alt=\"Drawing\" style=\"width: 500px;\"/>"
   ]
  },
  {
   "cell_type": "code",
   "execution_count": 12,
   "id": "9b959ce3-d48f-4221-8775-d15955473ad6",
   "metadata": {},
   "outputs": [],
   "source": [
    "T0_K = 25+273.15"
   ]
  },
  {
   "cell_type": "code",
   "execution_count": 13,
   "id": "15648e97-a4c6-47bd-9554-9bc715df385b",
   "metadata": {},
   "outputs": [],
   "source": [
    "# state 1\n",
    "T1_K = 500+273.15\n",
    "p1_MPa = 8\n",
    "water_1 = IAPWS97(T = T1_K, P = p1_MPa)"
   ]
  },
  {
   "cell_type": "code",
   "execution_count": 14,
   "id": "a148123e-7b61-4fc2-a651-c81f4af6a593",
   "metadata": {},
   "outputs": [],
   "source": [
    "# state 2\n",
    "T2_K = 350+273.15\n",
    "p2_MPa = 2\n",
    "water_2 = IAPWS97(T = T2_K, P = p2_MPa)"
   ]
  },
  {
   "cell_type": "code",
   "execution_count": 15,
   "id": "a6ee4bf0-5f82-49b3-9f7c-94bf61a56b79",
   "metadata": {},
   "outputs": [],
   "source": [
    "# state 3\n",
    "T3_K = 500+273.15\n",
    "p3_MPa = 2\n",
    "water_3 = IAPWS97(T = T3_K, P = p3_MPa)"
   ]
  },
  {
   "cell_type": "code",
   "execution_count": 16,
   "id": "5cdd2e20-45a6-470b-adf1-902dd755cd8a",
   "metadata": {},
   "outputs": [],
   "source": [
    "# state 4\n",
    "x4 = .97\n",
    "p4_MPa = 30/1000\n",
    "water_4 = IAPWS97(P = p3_MPa, x=x4)"
   ]
  },
  {
   "cell_type": "markdown",
   "id": "c73e959d-4c4d-4fa9-837f-817000a6ab4a",
   "metadata": {},
   "source": [
    "Questions:\n",
    "- What is the rate of entropy generation?\n",
    "- What is the reversible power output?\n",
    "- What is the rate of exergy destruction?"
   ]
  },
  {
   "cell_type": "code",
   "execution_count": 17,
   "id": "889f6e6c-bba6-42b2-b3c0-a1aeea5bcf4f",
   "metadata": {},
   "outputs": [],
   "source": [
    "Wdot_kW = 5000"
   ]
  },
  {
   "cell_type": "code",
   "execution_count": 18,
   "id": "e4c071b1-5387-4425-ac69-cd6cd3cc5c09",
   "metadata": {},
   "outputs": [
    {
     "name": "stdout",
     "output_type": "stream",
     "text": [
      "10.7603111972244\n",
      "3555.7664909135374\n"
     ]
    }
   ],
   "source": [
    "mdot_kgPerS = Wdot_kW/((water_2.h-water_1.h) + (water_3.h-water_4.h))\n",
    "print(mdot_kgPerS)\n",
    "\n",
    "Qdot_kW = mdot_kgPerS*(water_3.h - water_2.h); print(Qdot_kW)"
   ]
  },
  {
   "cell_type": "markdown",
   "id": "e0d22734-cea6-499b-9050-8b63d9e442d9",
   "metadata": {},
   "source": [
    "We can determine what the reversible power output is by setting $X_\\text{destroyed} = 0$."
   ]
  },
  {
   "cell_type": "markdown",
   "id": "4679d1e8-91a1-44d3-a46e-0ef77b347365",
   "metadata": {},
   "source": [
    "The reversible power for a single-stream steady-flow device is:\n",
    "\n",
    "$$\\dot{W}_\\text{rev} = \\dot{m}(\\psi_1 - \\psi_2) + \\sum \\left(1 - \\frac{T_0}{T_k} \\right)\\dot{Q}_k $$\n",
    "\n",
    "where\n",
    "\n",
    "$$\\psi = (h - h_0) - T_0 (s - s_0) + w^2/2 + gz$$\n",
    "\n",
    "and therefore\n",
    "\n",
    "$$\\psi_2 - \\psi_1 = (h_2 - h_1) - T_0 (s_2 - s_1) + (1/2)(w_2^2 - w_1^2)  + g(z_2 - z_1)$$.\n",
    "\n",
    "Neglecting kinetic and potential energy effects:\n",
    "\n",
    "$$\\Delta \\psi = (h_2 - h_1) - T_0 (s_2 - s_1)$$."
   ]
  },
  {
   "cell_type": "code",
   "execution_count": 20,
   "id": "605f6d86-4e0e-4e90-9f4a-7f22e388886e",
   "metadata": {},
   "outputs": [
    {
     "name": "stdout",
     "output_type": "stream",
     "text": [
      "-330.86202944512763\n"
     ]
    }
   ],
   "source": [
    "deltaPsi12_kJperKg = (water_2.h - water_1.h) - T0_K * (water_2.s - water_1.s); print(deltaPsi12_kJperKg)"
   ]
  },
  {
   "cell_type": "code",
   "execution_count": 21,
   "id": "9cbea1f5-4ee4-4395-89f2-d9df0bbe03af",
   "metadata": {},
   "outputs": [
    {
     "name": "stdout",
     "output_type": "stream",
     "text": [
      "-365.32026938245815\n"
     ]
    }
   ],
   "source": [
    "deltaPsi34_kJperKg = (water_4.h - water_3.h) - T0_K * (water_4.s - water_3.s); print(deltaPsi34_kJperKg)"
   ]
  },
  {
   "cell_type": "code",
   "execution_count": 22,
   "id": "2f964c89-3d0e-4be8-9ac8-01f684be3c68",
   "metadata": {},
   "outputs": [
    {
     "name": "stdout",
     "output_type": "stream",
     "text": [
      "696.1822988275858\n"
     ]
    }
   ],
   "source": [
    "WdotRev_kW = - deltaPsi12_kJperKg - deltaPsi34_kJperKg; print(WdotRev_kW)"
   ]
  },
  {
   "cell_type": "markdown",
   "id": "881d11ac-2250-43f0-bd9a-9ec54f2e0212",
   "metadata": {},
   "source": [
    "$$\\frac{dX_\\text{CV}}{dt} = \\dot{X}_\\text{in} - \\dot{X}_\\text{out} - \\dot{X}_\\text{destroyed} $$"
   ]
  },
  {
   "cell_type": "markdown",
   "id": "794f161f-78fe-4cf0-8335-e3c4b9067247",
   "metadata": {},
   "source": [
    "Assume steady:\n",
    "\n",
    "$$\\dot{X}_\\text{destroyed} = \\dot{X}_\\text{in} - \\dot{X}_\\text{out}$$"
   ]
  },
  {
   "cell_type": "markdown",
   "id": "fe78ad0d-cad3-40ba-9f21-bb591ffb2f51",
   "metadata": {},
   "source": [
    "$$\\dot{X} = \\dot{W} + \\left(1 - \\frac{T_0}{T}\\right)\\dot{Q}$$"
   ]
  },
  {
   "cell_type": "markdown",
   "id": "621cea55-b6bb-4d3f-b20b-70a3b91735e6",
   "metadata": {},
   "source": [
    "$$\\dot{X}_\\text{destroyed} = \\left[\\left(1 - \\frac{T_0}{T}\\right)\\dot{Q} \\right]_\\text{in} - \\left[ \\dot{W} \\right]_\\text{out}$$"
   ]
  },
  {
   "cell_type": "code",
   "execution_count": null,
   "id": "4a02d050-fd10-40e9-8faa-d77f3401c327",
   "metadata": {},
   "outputs": [],
   "source": []
  }
 ],
 "metadata": {
  "kernelspec": {
   "display_name": "Python 3 (ipykernel)",
   "language": "python",
   "name": "python3"
  },
  "language_info": {
   "codemirror_mode": {
    "name": "ipython",
    "version": 3
   },
   "file_extension": ".py",
   "mimetype": "text/x-python",
   "name": "python",
   "nbconvert_exporter": "python",
   "pygments_lexer": "ipython3",
   "version": "3.11.10"
  }
 },
 "nbformat": 4,
 "nbformat_minor": 5
}
