{
 "cells": [
  {
   "cell_type": "markdown",
   "id": "0566b43a-ab70-47a2-a272-c0901a013833",
   "metadata": {},
   "source": [
    "Problem 8-101 from Thermodynamics, Cengels 9th edition \n",
    "\n",
    "An adiabatic turbine operates with air entering at 550 kPa and 425 K and leaving at 110 kPa and 325 K. Calculate the second-law efficiency of this turbine. Take To = 25°C. Answer: 64.0 percent"
   ]
  },
  {
   "cell_type": "code",
   "execution_count": 23,
   "id": "af66b65d-8d51-466b-8062-22e00aed3fcc",
   "metadata": {},
   "outputs": [
    {
     "name": "stdout",
     "output_type": "stream",
     "text": [
      "Requirement already satisfied: CoolProp in /srv/conda/lib/python3.11/site-packages (6.6.0)\n"
     ]
    }
   ],
   "source": [
    "!pip install CoolProp"
   ]
  },
  {
   "cell_type": "code",
   "execution_count": 24,
   "id": "90ea4a16-67af-4fce-9c6a-9dd57b402dea",
   "metadata": {},
   "outputs": [],
   "source": [
    "from CoolProp.CoolProp import PropsSI"
   ]
  },
  {
   "cell_type": "code",
   "execution_count": 25,
   "id": "78cde155-297a-4905-b4ba-778c4848c192",
   "metadata": {},
   "outputs": [],
   "source": [
    "fluid = 'air'\n",
    "\n",
    "p1_MPa = 550/1000\n",
    "T1_K = 425\n",
    "\n",
    "T2_K = 325\n",
    "p2_MPa = 110/1000\n",
    "\n",
    "T0_K = 25+273.15\n",
    "p0_MPa = 101325/1e6"
   ]
  },
  {
   "cell_type": "code",
   "execution_count": 26,
   "id": "43ddd1ee-49a1-426b-b8bc-9d403307405d",
   "metadata": {},
   "outputs": [],
   "source": [
    "h1_JperKg = PropsSI('H','P',p1_MPa*1e6,'T',T1_K,fluid)\n",
    "h1_kJperKg = h1_JperKg/1000\n",
    "s1_JperKgperK = PropsSI('S','P',p1_MPa*1e6,'T',T1_K,fluid)\n",
    "s1_kJperKgperK = s1_JperKgperK/1000"
   ]
  },
  {
   "cell_type": "code",
   "execution_count": 27,
   "id": "1120fb37-6f7c-4198-8e96-f770c361fd76",
   "metadata": {},
   "outputs": [],
   "source": [
    "h2_JperKg = PropsSI('H','P',p2_MPa*1e6,'T',T2_K,fluid)\n",
    "h2_kJperKg = h2_JperKg/1000\n",
    "s2_JperKgperK = PropsSI('S','P',p2_MPa*1e6,'T',T2_K,fluid)\n",
    "s2_kJperKgperK = s2_JperKgperK/1000"
   ]
  },
  {
   "cell_type": "code",
   "execution_count": 28,
   "id": "9d446026-f58d-4074-bb8a-2ef64e1a7cad",
   "metadata": {},
   "outputs": [],
   "source": [
    "h0_JperKg = PropsSI('H','P',p0_MPa*1e6,'T',T0_K,fluid)\n",
    "h0_kJperKg = h0_JperKg/1000\n",
    "s0_JperKgperK = PropsSI('S','P',p0_MPa*1e6,'T',T0_K,fluid)\n",
    "s0_kJperKgperK = s0_JperKgperK/1000"
   ]
  },
  {
   "cell_type": "code",
   "execution_count": 29,
   "id": "34da6387-067c-4c3f-9388-e6c460960864",
   "metadata": {},
   "outputs": [
    {
     "name": "stdout",
     "output_type": "stream",
     "text": [
      "100.76984046274941\n"
     ]
    }
   ],
   "source": [
    "wOut_kJperKg = h1_kJperKg - h2_kJperKg; print(wOut_kJperKg)"
   ]
  },
  {
   "cell_type": "markdown",
   "id": "71d893c3-6204-4b91-9a58-b848cb2c0ebf",
   "metadata": {},
   "source": [
    "By definition, for this problem the second law efficiency is the ratio of useful (actual) work output to maximum possible (reversible) work output:\n",
    "\n",
    "$$\\eta_\\text{II} = \\frac{\\dot{W}_\\text{out}}{\\dot{W}_\\text{rev}} = \\frac{{w}_\\text{out}\\dot{m}}{{w}_\\text{rev}\\dot{m}} $$"
   ]
  },
  {
   "cell_type": "markdown",
   "id": "e309595e-55f1-49be-9f97-9e0997a2d8a5",
   "metadata": {},
   "source": [
    "So what is the reversible work? That would be equal to the exergy transferred into the system (here given on a per mass basis):\n",
    "\n",
    "$$w_\\text{rev} = x_\\text{in} = (h_1 - h_0) - T_0 (s_1 - s_0) $$\n",
    "\n",
    "Note: $w$ here is work per mass, not velocity as we have with the other notation."
   ]
  },
  {
   "cell_type": "code",
   "execution_count": 30,
   "id": "62ad2ac7-da4e-4a07-aa85-84424e1b7f83",
   "metadata": {},
   "outputs": [
    {
     "name": "stdout",
     "output_type": "stream",
     "text": [
      "166.1568100478704\n"
     ]
    }
   ],
   "source": [
    "xIn_kJperKg = (h1_kJperKg - h0_kJperKg) - T0_K * (s1_kJperKgperK - s0_kJperKgperK)\n",
    "print(xIn_kJperKg)"
   ]
  },
  {
   "cell_type": "code",
   "execution_count": 31,
   "id": "504319b5-9483-4d93-a886-1d0724ca097e",
   "metadata": {},
   "outputs": [
    {
     "name": "stdout",
     "output_type": "stream",
     "text": [
      "eta_II = 60.6 %.\n"
     ]
    }
   ],
   "source": [
    "eta_II = wOut_kJperKg/xIn_kJperKg\n",
    "print('eta_II = {0:1.1f} %.'.format(eta_II*100))"
   ]
  },
  {
   "cell_type": "markdown",
   "id": "c3e43a96-05f6-4a6e-bffb-53bb7b9dc8db",
   "metadata": {},
   "source": [
    "I believe the difference in answers is likely due to the selection of air property values. Here we use electronic tables, while the book uses the appendix."
   ]
  },
  {
   "cell_type": "code",
   "execution_count": null,
   "id": "4039f37e-6cab-45ac-bb40-510586d838ff",
   "metadata": {},
   "outputs": [],
   "source": []
  }
 ],
 "metadata": {
  "kernelspec": {
   "display_name": "Python 3 (ipykernel)",
   "language": "python",
   "name": "python3"
  },
  "language_info": {
   "codemirror_mode": {
    "name": "ipython",
    "version": 3
   },
   "file_extension": ".py",
   "mimetype": "text/x-python",
   "name": "python",
   "nbconvert_exporter": "python",
   "pygments_lexer": "ipython3",
   "version": "3.11.10"
  }
 },
 "nbformat": 4,
 "nbformat_minor": 5
}
