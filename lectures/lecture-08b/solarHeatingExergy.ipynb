{
 "cells": [
  {
   "cell_type": "markdown",
   "id": "a6e5f729-0b36-4e94-9eb4-3556c1ec9bf8",
   "metadata": {},
   "source": [
    "Problem 8-111 from Thermodynamics by Cengels, 9th edition\n",
    "\n",
    "One method of passive solar heating is to stack gallons of liquid water inside the buildings and expose them to the sun. The solar energy stored in the water during the day is released at night to the room air, providing some heating. Consider a house that is maintained at 22°C and whose heating is assisted by a 270-L water storage system. \n",
    "\n",
    "- If the water is heated to 45°C during the day, determine the amount of heating this water will provide to the house at night. \n",
    "- Assuming an outside temperature of 5°C, determine the exergy destruction associated with this process. \n",
    "\n",
    "Answers:\n",
    "25,900 kJ, 904 kJ"
   ]
  },
  {
   "cell_type": "code",
   "execution_count": 9,
   "id": "7ab28347-0e06-471d-898f-896c0a69641f",
   "metadata": {},
   "outputs": [],
   "source": [
    "Thouse_K = 22 + 273.15\n",
    "T0_K = 5+273.15\n",
    "p0_MPa = 101325/1e6\n",
    "\n",
    "V_m3 = 270/1000\n",
    "\n",
    "T1_K = 45+273.15"
   ]
  },
  {
   "cell_type": "code",
   "execution_count": 4,
   "id": "85e3783f-9c93-4df2-a7f9-c35dd1643c9c",
   "metadata": {},
   "outputs": [
    {
     "name": "stdout",
     "output_type": "stream",
     "text": [
      "Requirement already satisfied: iapws in /srv/conda/lib/python3.11/site-packages (1.5.4)\n",
      "Requirement already satisfied: scipy>=1.2 in /srv/conda/lib/python3.11/site-packages (from iapws) (1.10.0)\n",
      "Requirement already satisfied: numpy<1.27.0,>=1.19.5 in /srv/conda/lib/python3.11/site-packages (from scipy>=1.2->iapws) (1.26.4)\n"
     ]
    }
   ],
   "source": [
    "!pip install iapws"
   ]
  },
  {
   "cell_type": "code",
   "execution_count": 5,
   "id": "95387917-3178-4928-9106-33ae1cccc028",
   "metadata": {},
   "outputs": [],
   "source": [
    "from iapws import IAPWS97"
   ]
  },
  {
   "cell_type": "code",
   "execution_count": 7,
   "id": "47f05d3f-2248-4faa-bcd6-601bbfda914b",
   "metadata": {},
   "outputs": [],
   "source": [
    "p1_MPa = 101325/1e6"
   ]
  },
  {
   "cell_type": "code",
   "execution_count": 8,
   "id": "04658e61-8386-42bb-8c7a-78ce71130db5",
   "metadata": {},
   "outputs": [],
   "source": [
    "water_1 = IAPWS97(T=T1_K,P=p1_MPa)"
   ]
  },
  {
   "cell_type": "code",
   "execution_count": 10,
   "id": "43d32ce2-38f3-4211-8bf6-ee6ac35b0b10",
   "metadata": {},
   "outputs": [],
   "source": [
    "water_0 = IAPWS97(T=T0_K,P=p0_MPa)"
   ]
  },
  {
   "cell_type": "code",
   "execution_count": 14,
   "id": "80f803b6-d1f2-4e07-869f-e71476878814",
   "metadata": {},
   "outputs": [],
   "source": [
    "water_house = IAPWS97(T=Thouse_K,P=p0_MPa)"
   ]
  },
  {
   "cell_type": "code",
   "execution_count": 16,
   "id": "18c1db8e-588b-4f34-a04c-b18ee696658a",
   "metadata": {},
   "outputs": [
    {
     "name": "stdout",
     "output_type": "stream",
     "text": [
      "269.39868380605407\n"
     ]
    }
   ],
   "source": [
    "m_kg = V_m3/water_house.v; print(m_kg)"
   ]
  },
  {
   "cell_type": "code",
   "execution_count": 21,
   "id": "79b0f964-3dc2-4eec-8d23-9957f5165c2e",
   "metadata": {},
   "outputs": [
    {
     "name": "stdout",
     "output_type": "stream",
     "text": [
      "(a) Amount of heating provided at night = 25899 kJ.\n"
     ]
    }
   ],
   "source": [
    "energy_kJ = m_kg*(water_1.h - water_house.h)\n",
    "print('(a) Amount of heating provided at night = {0:1.0f} kJ.'.format(energy_kJ))"
   ]
  },
  {
   "cell_type": "code",
   "execution_count": 27,
   "id": "1943c395-2030-4640-8ce6-8c6cfa722e21",
   "metadata": {},
   "outputs": [],
   "source": [
    "# The energy transferred in comes in at very high exergy. \n",
    "# It is heat transferred from the sun at a very high temperature.\n",
    "# Here what we assuming is that the initial state is the already\n",
    "# heated water tanks and the subsequent heat transfer process to\n",
    "# the house. \n",
    "Ein_kJ = energy_kJ"
   ]
  },
  {
   "cell_type": "markdown",
   "id": "3c7f7720-de81-4c47-9f57-7403c6995a73",
   "metadata": {},
   "source": [
    "$$X_\\text{in} - X_\\text{out} - X_\\text{destroyed} = \\Delta X_\\text{system} $$\n",
    "\n",
    "Recall that:\n",
    "\n",
    "$$ X_\\text{destroyed} = T_0 S_\\text{gen}$$ \n",
    "\n",
    "So we can perform an entropy analysis first:\n",
    "\n",
    "$$\\Delta S_\\text{CV} = S_\\text{in} - S_\\text{out} + S_\\text{gen} $$\n",
    "\n"
   ]
  },
  {
   "cell_type": "markdown",
   "id": "7d000f05-cc31-4ba3-89a0-d0c7c3fb731f",
   "metadata": {},
   "source": [
    "What is the control volume? The water tanks. The air in the house acts as a reservoir. So we have heat being transferred out of the tanks to the air, which is at the house temperature. The book notes that for closed systems it is usually more convenient to find the entropy generation $S_\\text{gen}$ first and then evaluate the exergy destroyed directly from $ X_\\text{destroyed} = T_0 S_\\text{gen}$."
   ]
  },
  {
   "cell_type": "code",
   "execution_count": 26,
   "id": "1a7bbce4-cc70-472b-be5c-4fedddccf305",
   "metadata": {},
   "outputs": [
    {
     "name": "stdout",
     "output_type": "stream",
     "text": [
      "3.250537433785283\n"
     ]
    }
   ],
   "source": [
    "Sgen_kJperK = m_kg*(water_house.s - water_1.s) + Ein_kJ/Thouse_K\n",
    "print(Sgen_kJperK)"
   ]
  },
  {
   "cell_type": "code",
   "execution_count": 25,
   "id": "c900cb20-f366-4867-a4fe-34551f4a320d",
   "metadata": {},
   "outputs": [
    {
     "name": "stdout",
     "output_type": "stream",
     "text": [
      "(b) Xdestroyed_kJ = 904 kJ.\n"
     ]
    }
   ],
   "source": [
    "Xdestroyed_kJ = Sgen_kJperK*T0_K\n",
    "print('(b) Xdestroyed_kJ = {0:1.0f} kJ.'.format(Xdestroyed_kJ))"
   ]
  },
  {
   "cell_type": "code",
   "execution_count": null,
   "id": "39a97e90-ba94-401f-90d9-9d517895a3f9",
   "metadata": {},
   "outputs": [],
   "source": []
  }
 ],
 "metadata": {
  "kernelspec": {
   "display_name": "Python 3 (ipykernel)",
   "language": "python",
   "name": "python3"
  },
  "language_info": {
   "codemirror_mode": {
    "name": "ipython",
    "version": 3
   },
   "file_extension": ".py",
   "mimetype": "text/x-python",
   "name": "python",
   "nbconvert_exporter": "python",
   "pygments_lexer": "ipython3",
   "version": "3.11.10"
  }
 },
 "nbformat": 4,
 "nbformat_minor": 5
}
