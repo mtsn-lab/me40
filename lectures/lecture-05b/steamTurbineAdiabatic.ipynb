{
 "cells": [
  {
   "cell_type": "code",
   "execution_count": 1,
   "id": "365c887a",
   "metadata": {},
   "outputs": [
    {
     "name": "stdout",
     "output_type": "stream",
     "text": [
      "Collecting iapws\n",
      "  Using cached iapws-1.5.4-py3-none-any.whl\n",
      "Requirement already satisfied: scipy>=1.2 in /srv/conda/lib/python3.11/site-packages (from iapws) (1.10.0)\n",
      "Requirement already satisfied: numpy<1.27.0,>=1.19.5 in /srv/conda/lib/python3.11/site-packages (from scipy>=1.2->iapws) (1.26.4)\n",
      "Installing collected packages: iapws\n",
      "Successfully installed iapws-1.5.4\n"
     ]
    }
   ],
   "source": [
    "!pip install iapws"
   ]
  },
  {
   "cell_type": "code",
   "execution_count": 2,
   "id": "eb884353",
   "metadata": {},
   "outputs": [],
   "source": [
    "from iapws import IAPWS97"
   ]
  },
  {
   "cell_type": "code",
   "execution_count": 9,
   "id": "1495c28e",
   "metadata": {},
   "outputs": [],
   "source": [
    "# pressure should be in the units MPa, \n",
    "# temperature in the units K, \n",
    "# quality a number betwee 0 and 1.\n",
    "mdot_KgPerS = 5.73\n",
    "g_MperS2 = 9.81\n",
    "\n",
    "p1_MPa = 2\n",
    "w1_MperS = 50\n",
    "T1_K = 400+273.15\n",
    "z1_m = 10\n",
    "\n",
    "p2_MPa = 15/1000\n",
    "w2_MperS = 180\n",
    "x2 = 0.9\n",
    "z2_m = 6\n",
    "\n",
    "water_1 = IAPWS97(P=p1_MPa, T=T1_K)\n",
    "water_2 = IAPWS97(P=p2_MPa, x=x2)"
   ]
  },
  {
   "cell_type": "code",
   "execution_count": 10,
   "id": "fd14dade",
   "metadata": {},
   "outputs": [
    {
     "name": "stdout",
     "output_type": "stream",
     "text": [
      "7.128961692387209\n",
      "3248.2270760371944\n",
      "0.15120803671136407\n",
      "2945.8110026144664\n",
      "7.281890456510356\n",
      "2361.065859980824\n",
      "9.018427903299497\n",
      "2225.7894414313314\n"
     ]
    }
   ],
   "source": [
    "s1 = water_1.s; print(s1) # kJ/kg*K\n",
    "h1 = water_1.h; print(h1) # kJ/kg\n",
    "v1 = water_1.v; print(v1) # m3/kg\n",
    "u1 = water_1.u; print(u1) # kJ/kg\n",
    "\n",
    "s2 = water_2.s; print(s2) # kJ/kg*K\n",
    "h2 = water_2.h; print(h2) # kJ/kg\n",
    "v2 = water_2.v; print(v2) # m3/kg\n",
    "u2 = water_2.u; print(u2) # kJ/kg"
   ]
  },
  {
   "cell_type": "code",
   "execution_count": 12,
   "id": "56a742e0-d167-49e6-84ad-59a58c68b149",
   "metadata": {},
   "outputs": [
    {
     "name": "stdout",
     "output_type": "stream",
     "text": [
      "4997995.113203004\n"
     ]
    }
   ],
   "source": [
    "h1_JperKg = h1*1000 #convert to SI units\n",
    "h2_JperKg = h2*1000 #convert to SI units\n",
    "\n",
    "Wout_JperS = mdot_KgPerS*(h1_JperKg-h2_JperKg + w1_MperS*w1_MperS/2 - w2_MperS*w2_MperS/2 +g_MperS2*z1_m - g_MperS2*z2_m); print(Wout_JperS)"
   ]
  },
  {
   "cell_type": "code",
   "execution_count": null,
   "id": "ffbac585-a950-473e-80c3-38a2a17eeee2",
   "metadata": {},
   "outputs": [],
   "source": []
  }
 ],
 "metadata": {
  "kernelspec": {
   "display_name": "Python 3 (ipykernel)",
   "language": "python",
   "name": "python3"
  },
  "language_info": {
   "codemirror_mode": {
    "name": "ipython",
    "version": 3
   },
   "file_extension": ".py",
   "mimetype": "text/x-python",
   "name": "python",
   "nbconvert_exporter": "python",
   "pygments_lexer": "ipython3",
   "version": "3.11.9"
  }
 },
 "nbformat": 4,
 "nbformat_minor": 5
}
