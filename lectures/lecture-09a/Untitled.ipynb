{
 "cells": [
  {
   "cell_type": "code",
   "execution_count": 1,
   "id": "d20cb487-2235-4840-8225-a1b38ce3c40a",
   "metadata": {},
   "outputs": [
    {
     "name": "stdout",
     "output_type": "stream",
     "text": [
      "Collecting CoolProp\n",
      "  Using cached CoolProp-6.6.0-cp311-cp311-manylinux_2_17_x86_64.manylinux2014_x86_64.whl (7.3 MB)\n",
      "Installing collected packages: CoolProp\n",
      "Successfully installed CoolProp-6.6.0\n"
     ]
    }
   ],
   "source": [
    "!pip install CoolProp"
   ]
  },
  {
   "cell_type": "markdown",
   "id": "3a4edd2a-5138-4f8c-b390-de9a805a8577",
   "metadata": {},
   "source": [
    "An ideal Otto cycle has a compression ratio of 8. At the beginning of the compression process, air is at 95 kPa and 27°C, and\n",
    "750 kJ/kg of heat is transferred to air during the constant-volume heat-addition process. Taking into account the variation of specific heats with temperature, determine: \n",
    "\n",
    "- (a) the pressure and temperature at the end of the heat-addition process, \n",
    "- (b) the net work output,\n",
    "- (c) the thermal efficiency, and\n",
    "- (d) the mean effective pressure for the cycle.\n",
    "\n",
    "Answers: (a) 3898 kPa, 1539 K, (b)\n",
    "392 kJ/kg, (c) 52.3 percent, (d) 495 kPa"
   ]
  },
  {
   "cell_type": "code",
   "execution_count": 2,
   "id": "6b94568d-e980-43db-9334-8475d8af9999",
   "metadata": {},
   "outputs": [],
   "source": [
    "from CoolProp.CoolProp import PropsSI"
   ]
  },
  {
   "cell_type": "code",
   "execution_count": 3,
   "id": "c11acc65-c7b9-46d8-bf40-4c82ca8c061a",
   "metadata": {},
   "outputs": [],
   "source": [
    "fluid = 'air'"
   ]
  },
  {
   "cell_type": "code",
   "execution_count": 4,
   "id": "bf553436-22a8-49ab-adbe-3863d683a1a5",
   "metadata": {},
   "outputs": [],
   "source": [
    "compressionRatio = 8"
   ]
  },
  {
   "cell_type": "code",
   "execution_count": 21,
   "id": "099f226a-bc7e-4436-b412-4725251a8b45",
   "metadata": {},
   "outputs": [
    {
     "name": "stdout",
     "output_type": "stream",
     "text": [
      "675.7108268003319\n"
     ]
    }
   ],
   "source": [
    "p1_Pa = 95e3\n",
    "T1_K = 27+273.15\n",
    "\n",
    "qin_JperKg = 750e3\n",
    "\n",
    "# p3_Pa = p2_Pa*compressionRatio\n",
    "\n",
    "rho1_kgPerM3 = PropsSI('D','P',p1_Pa,'T',T1_K,fluid)\n",
    "s1_JperKgperK = PropsSI('S','P',p1_Pa,'T',T1_K,fluid)\n",
    "\n",
    "v1_m3perKg = 1/rho1_kgPerM3\n",
    "v2_m3perKg = v1_m3perKg / 8\n",
    "\n",
    "s2_JperKgperK = s1_JperKgperK\n",
    "\n",
    "T2_K = PropsSI('T','D',1/v2_m3perKg,'S',s2_JperKgperK,fluid); print(T2_K)\n"
   ]
  },
  {
   "cell_type": "code",
   "execution_count": 8,
   "id": "c02c58c3-30af-4f5d-b732-b5489effbe57",
   "metadata": {},
   "outputs": [],
   "source": [
    "# rho1_kgPerM3 = PropsSI('D','P',p1_Pa,'T',T1_K,fluid)\n",
    "# rho2_kgPerM3 = rho1_kgPerM3"
   ]
  },
  {
   "cell_type": "markdown",
   "id": "b3e1f182-d1ce-45d2-917a-ef23f0dd03db",
   "metadata": {},
   "source": [
    "$q_\\text{in} = \\Delta u = c_v (T_3 - T_2)$"
   ]
  },
  {
   "cell_type": "code",
   "execution_count": 16,
   "id": "cb1e27de-53f5-4fba-ba7e-140edbc10dfd",
   "metadata": {},
   "outputs": [
    {
     "name": "stdout",
     "output_type": "stream",
     "text": [
      "(a) p3 = 760000.0 Pa.\n"
     ]
    }
   ],
   "source": [
    "cv_JperKgPerK = PropsSI('O','P',p1_Pa,'T',T1_K,fluid) #; print(cv_JperKgPerK)\n",
    "\n",
    "T3_K = (qin_JperKg/cv_JperKgPerK) + T2_K\n",
    "\n",
    "print('(a) p3 = {0:1.1f} Pa.'.format(p3_Pa))"
   ]
  },
  {
   "cell_type": "code",
   "execution_count": null,
   "id": "94873682-59f9-4911-a0a3-f6e2d615071a",
   "metadata": {},
   "outputs": [],
   "source": []
  }
 ],
 "metadata": {
  "kernelspec": {
   "display_name": "Python 3 (ipykernel)",
   "language": "python",
   "name": "python3"
  },
  "language_info": {
   "codemirror_mode": {
    "name": "ipython",
    "version": 3
   },
   "file_extension": ".py",
   "mimetype": "text/x-python",
   "name": "python",
   "nbconvert_exporter": "python",
   "pygments_lexer": "ipython3",
   "version": "3.11.10"
  }
 },
 "nbformat": 4,
 "nbformat_minor": 5
}
