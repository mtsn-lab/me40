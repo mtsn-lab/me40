{
 "cells": [
  {
   "cell_type": "markdown",
   "id": "2a8e7549",
   "metadata": {},
   "source": [
    "## Simple Brayton cycle\n",
    "\n",
    "A gas-turbine power plant operating on an ideal Brayton cycle has a pressure ratio of $r_p$. The gas temperature is $T_1$ at the compressor inlet and $T_3$ at the turbine inlet.\n",
    "\n",
    "Using the air-standard assumptions, determine:\n",
    "- (a) the gas temperature at the exits of the compressor and the turbine,\n",
    "- (b) the back work ratio,\n",
    "- (c) the thermal efficiency"
   ]
  },
  {
   "cell_type": "code",
   "execution_count": 64,
   "id": "a9c9cb2a",
   "metadata": {},
   "outputs": [],
   "source": [
    "P1_kPa = 140\n",
    "P2_kPa = 1700\n",
    "\n",
    "# pressure ratio\n",
    "r_p = P2_kPa/P1_kPa\n",
    "\n",
    "# inlet pressure to compressor\n",
    "P1 = P1_kPa*1000 # Pa\n",
    "\n",
    "# inlet temp to compressor\n",
    "T1_C = 40\n",
    "\n",
    "# volumetric flow rate\n",
    "vdot_m3perMin = 800\n",
    "\n",
    "vdot_m3perS = vdot_m3perMin/60\n",
    "\n",
    "# inlet temp to turbine\n",
    "T3_C = 1300\n",
    "\n",
    "# eta compressor\n",
    "eta_compressor = .84\n",
    "eta_turbine = .85\n",
    "\n",
    "fluid = 'air'\n",
    "R_JperKgperK = 287.052874\n",
    "\n",
    "# initializing values\n",
    "T1 = T1_C + 273.15 # K\n",
    "T3 = T3_C + 273.15 "
   ]
  },
  {
   "cell_type": "markdown",
   "id": "17e94603",
   "metadata": {},
   "source": [
    "# Assumptions\n",
    "- steady conditions\n",
    "- air standard\n",
    "- neglect changes in KE and PE\n",
    "- will consider variation of specific heats with respect to temperature"
   ]
  },
  {
   "cell_type": "code",
   "execution_count": 58,
   "id": "29226e65",
   "metadata": {},
   "outputs": [
    {
     "name": "stdout",
     "output_type": "stream",
     "text": [
      "Requirement already satisfied: CoolProp in /opt/conda/lib/python3.9/site-packages (6.5.0.post1)\r\n"
     ]
    }
   ],
   "source": [
    "!pip install CoolProp"
   ]
  },
  {
   "cell_type": "code",
   "execution_count": 59,
   "id": "7c6f523b",
   "metadata": {},
   "outputs": [],
   "source": [
    "from CoolProp.CoolProp import PropsSI"
   ]
  },
  {
   "cell_type": "markdown",
   "id": "4741c7ac",
   "metadata": {},
   "source": [
    "Calculate the properties of air at state 1"
   ]
  },
  {
   "cell_type": "code",
   "execution_count": 66,
   "id": "e1727283",
   "metadata": {},
   "outputs": [
    {
     "name": "stdout",
     "output_type": "stream",
     "text": [
      "0.642075767807857\n",
      "20.765981215667637\n"
     ]
    }
   ],
   "source": [
    "h1 = PropsSI('H','P',P1,'T',T1,fluid)\n",
    "s1 = PropsSI('S','P',P1,'T',T1,fluid)\n",
    "\n",
    "v1 = R_JperKgperK*T1/P1\n",
    "\n",
    "print(v1)\n",
    "mdotKgperS = vdot_m3perS/v1\n",
    "print(mdotKgperS)"
   ]
  },
  {
   "cell_type": "markdown",
   "id": "062c73e8",
   "metadata": {},
   "source": [
    "The process of going from state 1 to 2 is a compression process, which is assumed to be isentropic: $s_1 = s_2$. Therefore, we can calculate the properties of state 2 since we know $s_2$ and the pressure, which is $p_2 = p_1 r_p$"
   ]
  },
  {
   "cell_type": "code",
   "execution_count": 47,
   "id": "97015648",
   "metadata": {},
   "outputs": [],
   "source": [
    "P2 = P1*r_p \n",
    "s2 = s1\n",
    "\n",
    "h2 = PropsSI('H','P',P2,'S',s2,fluid)\n",
    "T2 = PropsSI('T','P',P2,'S',s2,fluid)"
   ]
  },
  {
   "cell_type": "markdown",
   "id": "c7e2ca68",
   "metadata": {},
   "source": [
    "The pressure of state 3 is the same as state 2, $p_3 = p_2$. We also know the temperature of the air so we can define all the remaining properties:"
   ]
  },
  {
   "cell_type": "code",
   "execution_count": 48,
   "id": "a2a2a8ef",
   "metadata": {},
   "outputs": [],
   "source": [
    "P3 = P2\n",
    "h3 = PropsSI('H','P',P3,'T',T3,fluid)\n",
    "s3 = PropsSI('S','P',P3,'T',T3,fluid)"
   ]
  },
  {
   "cell_type": "markdown",
   "id": "6488e564",
   "metadata": {},
   "source": [
    "The process of going from state 3 to 4 is an isentropic expansion of air. We also know that $p_4 = p_1$. Therefore:"
   ]
  },
  {
   "cell_type": "code",
   "execution_count": 49,
   "id": "44b17837",
   "metadata": {},
   "outputs": [],
   "source": [
    "P4 = P1\n",
    "s4 = s3\n",
    "h4 = PropsSI('H','P',P4,'S',s4,fluid)\n",
    "T4 = PropsSI('T','P',P4,'S',s4,fluid)"
   ]
  },
  {
   "cell_type": "markdown",
   "id": "3e2f6e07",
   "metadata": {},
   "source": [
    "The above values are for the case where the compressor and turbine operate isentropically. We can now use the $\\eta$ efficiency values to calculate the actual property values at the exit of the compressor and turbine. \n",
    "\n",
    "$$\\eta_\\text{compressor} = \\frac{\\text{Isentropic compressor work}}{\\text{Actual compressor work}} = \\frac{h_{2s} - h_1}{h_{2a} - h_1} $$\n",
    "\n",
    "and\n",
    "\n",
    "$$\\eta_\\text{turbine} = \\frac{\\text{Actual turbine work}}{\\text{Isentropic turbine work}} = \\frac{h_{3} - h_{4a}}{h_{3} - h_{4s}} $$"
   ]
  },
  {
   "cell_type": "code",
   "execution_count": 50,
   "id": "696b3a8d",
   "metadata": {},
   "outputs": [],
   "source": [
    "h4a = -(eta_turbine*(h3-h4)-h3)\n",
    "h2a = ((h2-h1)/eta_compressor)+h1\n",
    "\n",
    "T2a = PropsSI('T','P',P2,'H',h2a,fluid)\n",
    "T4a = PropsSI('T','P',P4,'H',h4a,fluid)"
   ]
  },
  {
   "cell_type": "markdown",
   "id": "830050ed",
   "metadata": {},
   "source": [
    "Now we have defined all of the states. Therefore, we can define the temperatures at the exits of the compressor and turbine:"
   ]
  },
  {
   "cell_type": "code",
   "execution_count": 51,
   "id": "b7fc7d46",
   "metadata": {},
   "outputs": [
    {
     "name": "stdout",
     "output_type": "stream",
     "text": [
      "The gas temperature at the compressor exit when it operates isentropically is 629.27 K.\n",
      "The real gas temperature at the compressor exit is 691.46 K.\n"
     ]
    }
   ],
   "source": [
    "print('The gas temperature at the compressor exit when it operates isentropically is {0:1.2f} K.'.format(T2))\n",
    "print('The real gas temperature at the compressor exit is {0:1.2f} K.'.format(T2a))"
   ]
  },
  {
   "cell_type": "code",
   "execution_count": 52,
   "id": "acf36d12",
   "metadata": {},
   "outputs": [
    {
     "name": "stdout",
     "output_type": "stream",
     "text": [
      "The gas temperature at the turbine exit when it operates isentropically is 883.41 K.\n",
      "The real gas temperature at the turbine exit is 984.02 K.\n"
     ]
    }
   ],
   "source": [
    "print('The gas temperature at the turbine exit when it operates isentropically is {0:1.2f} K.'.format(T4))\n",
    "print('The real gas temperature at the turbine exit is {0:1.2f} K.'.format(T4a))"
   ]
  },
  {
   "cell_type": "markdown",
   "id": "3113eb32",
   "metadata": {},
   "source": [
    "### Part (a)\n",
    "The net power output can be determined by knowing the work transferred into the compressor and out from the turbine:\n",
    "\n",
    "$$w_\\text{net} = w_\\text{turbine} - w_\\text{compressor} $$\n"
   ]
  },
  {
   "cell_type": "code",
   "execution_count": 71,
   "id": "6d503a04",
   "metadata": {},
   "outputs": [
    {
     "name": "stdout",
     "output_type": "stream",
     "text": [
      "The net energy output for an isentropic compressor and turbine is 548117.41 J/kg.\n",
      "The net power output for an isentropic compressor and turbine is 11382.20 kW.\n",
      "\n",
      "The net energy output for a real compressor and turbine is 368114.70 J/kg.\n",
      "The net power output for a real compressor and turbine is 7644.26 kW.\n"
     ]
    }
   ],
   "source": [
    "wComp = h2 - h1\n",
    "wTurb = h3 - h4\n",
    "\n",
    "wNet = wTurb - wComp\n",
    "WdotNet = wNet*mdotKgperS/1e3\n",
    "\n",
    "print('The net energy output for an isentropic compressor and turbine is {0:1.2f} J/kg.'.format(wNet))\n",
    "print('The net power output for an isentropic compressor and turbine is {0:1.2f} kW.'.format(WdotNet))\n",
    "\n",
    "wCompA = h2a - h1\n",
    "wTurbA = h3 - h4a\n",
    "\n",
    "wNetA = wTurbA - wCompA\n",
    "wdotNetA = wNetA*mdotKgperS/1e3\n",
    "\n",
    "print()\n",
    "print('The net energy output for a real compressor and turbine is {0:1.2f} J/kg.'.format(wNetA))\n",
    "print('The net power output for a real compressor and turbine is {0:1.2f} kW.'.format(wdotNetA))"
   ]
  },
  {
   "cell_type": "markdown",
   "id": "1b4077b3",
   "metadata": {},
   "source": [
    "### Part (b)\n",
    "\n",
    "The backwork ratio is defined as the work transferred in from the compressor and the work transferred out by the turbine:\n",
    "\n",
    "$$r_\\text{bw} = \\frac{w_\\text{comp,in}}{w_\\text{turb,out}} $$"
   ]
  },
  {
   "cell_type": "code",
   "execution_count": 54,
   "id": "2dce7dd2",
   "metadata": {},
   "outputs": [
    {
     "name": "stdout",
     "output_type": "stream",
     "text": [
      "The backwork ratio for an isentropic compressor and turbine is 0.37.\n",
      "The backwork ratio for a real compressor and turbine is 0.52.\n"
     ]
    }
   ],
   "source": [
    "r_bw = wComp/wTurb\n",
    "r_bwA = wCompA/WTurbA\n",
    "\n",
    "print('The backwork ratio for an isentropic compressor and turbine is {0:1.2f}.'.format(r_bw))\n",
    "print('The backwork ratio for a real compressor and turbine is {0:1.2f}.'.format(r_bwA))"
   ]
  },
  {
   "cell_type": "markdown",
   "id": "da28c118",
   "metadata": {},
   "source": [
    "### Part (c)\n",
    "\n",
    "The thermal efficiency of the cycle is the ratio of the net power output to the total heat input:\n",
    "\n",
    "$$\\eta_\\text{th} = \\frac{w_\\text{net}}{q_\\text{in}}$$"
   ]
  },
  {
   "cell_type": "code",
   "execution_count": 55,
   "id": "762dd116",
   "metadata": {},
   "outputs": [
    {
     "name": "stdout",
     "output_type": "stream",
     "text": [
      "The thermal efficiency for an isentropic compressor and turbine is 47.68%.\n",
      "The thermal efficiency for a real compressor and turbine is 33.99%.\n"
     ]
    }
   ],
   "source": [
    "qIn = h3 - h2\n",
    "qInA = h3 - h2a\n",
    "\n",
    "eta_th = (wTurb - wComp)/(qIn)\n",
    "eta_th_A = (wTurbA - wCompA)/(qInA)\n",
    "\n",
    "print('The thermal efficiency for an isentropic compressor and turbine is {0:1.2%}.'.format(eta_th))\n",
    "print('The thermal efficiency for a real compressor and turbine is {0:1.2%}.'.format(eta_th_A))"
   ]
  },
  {
   "cell_type": "markdown",
   "id": "16f02afb",
   "metadata": {},
   "source": [
    "Under the cold-air-standard assumptions, the thermal efficiency would be:\n",
    "\n",
    "$$\\eta_\\text{th,Brayton} = 1 - \\frac{1}{r_p^{(k-1)/k}} $$"
   ]
  },
  {
   "cell_type": "code",
   "execution_count": 56,
   "id": "2475c253",
   "metadata": {},
   "outputs": [
    {
     "name": "stdout",
     "output_type": "stream",
     "text": [
      "The thermal efficiency is 50.83%.\n"
     ]
    }
   ],
   "source": [
    "k = 1.4\n",
    "exponent = (k-1)/k\n",
    "eta_th_Brayton = 1 - 1/(r_p**exponent)\n",
    "\n",
    "print('The thermal efficiency is {0:1.2%}.'.format(eta_th_Brayton))"
   ]
  },
  {
   "cell_type": "code",
   "execution_count": null,
   "id": "cfb4d692",
   "metadata": {},
   "outputs": [],
   "source": []
  }
 ],
 "metadata": {
  "kernelspec": {
   "display_name": "Python 3 (ipykernel)",
   "language": "python",
   "name": "python3"
  },
  "language_info": {
   "codemirror_mode": {
    "name": "ipython",
    "version": 3
   },
   "file_extension": ".py",
   "mimetype": "text/x-python",
   "name": "python",
   "nbconvert_exporter": "python",
   "pygments_lexer": "ipython3",
   "version": "3.11.10"
  }
 },
 "nbformat": 4,
 "nbformat_minor": 5
}
