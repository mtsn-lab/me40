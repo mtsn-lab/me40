{
 "cells": [
  {
   "cell_type": "markdown",
   "id": "1531ae64",
   "metadata": {},
   "source": [
    "## The Simple Ideal Rankine Cycle\n",
    "Consider a steam power plant operating on the simple ideal Rankine cycle. Here are the states:\n",
    "\n",
    "- (1) after the condenser, entering the pump;\n",
    "- (2) after the pump, entering the boiler;\n",
    "- (3) after the boiler, entering the turbine;\n",
    "- (4) after the turbine, entering the condenser.\n",
    "\n",
    "\n",
    "Steam enters the turbine at $p_3$ and $T_3$ and is condensed in the condeser at a pressure of $p_4$. Determine the thermal efficiency of this cycle."
   ]
  },
  {
   "cell_type": "code",
   "execution_count": 3,
   "id": "382d8c7c",
   "metadata": {},
   "outputs": [],
   "source": [
    "T3_C = 350\n",
    "p3_MPa = 3\n",
    "p4_kPa = 75\n",
    "\n",
    "# conversion \n",
    "T3_K = T3_C + 273.15\n",
    "p4_MPa = p4_kPa/1000"
   ]
  },
  {
   "cell_type": "markdown",
   "id": "e6c54e1b",
   "metadata": {},
   "source": [
    "### Solution\n",
    "A steam power plant operating on the simple ideal Rankine cycle is considered. The thermal efficiency of the cycle is to be determined. \n",
    "\n",
    "### Assumptions\n",
    "- steady operating conditions exist\n",
    "- kinetic and potential energy changes are negligible \n",
    "- as the power plant operates on the ideal Rankine cycle, we assume that the pump and turbine are isentropic; there are no pressure drops in the boiler and condenser; and steam leaves the condenser and enters the pump as a saturated liquid at the condenser pressure. "
   ]
  },
  {
   "cell_type": "code",
   "execution_count": 4,
   "id": "a0aa7210",
   "metadata": {},
   "outputs": [],
   "source": [
    "p1_MPa = p4_MPa\n",
    "p2_MPa = p3_MPa"
   ]
  },
  {
   "cell_type": "markdown",
   "id": "ad379594",
   "metadata": {},
   "source": [
    "### Analysis\n",
    "To solve this, we need to know the properties at states 1, 2, 3, and 4. For this, we can use the IAPWS module as our working fluid is water. "
   ]
  },
  {
   "cell_type": "code",
   "execution_count": 5,
   "id": "365c887a",
   "metadata": {},
   "outputs": [
    {
     "name": "stdout",
     "output_type": "stream",
     "text": [
      "Requirement already satisfied: iapws in /opt/conda/lib/python3.9/site-packages (1.5.3)\r\n",
      "Requirement already satisfied: scipy>=1.2 in /opt/conda/lib/python3.9/site-packages (from iapws) (1.10.0)\r\n",
      "Requirement already satisfied: numpy<1.27.0,>=1.19.5 in /opt/conda/lib/python3.9/site-packages (from scipy>=1.2->iapws) (1.25.2)\r\n"
     ]
    }
   ],
   "source": [
    "!pip install iapws"
   ]
  },
  {
   "cell_type": "markdown",
   "id": "75ea9b85",
   "metadata": {},
   "source": [
    "IAPWS stands for \"The International Association for the Properties of Water and Steam\". According to them, they are \"...an international non-profit association of national organizations concerned with the properties of water and steam, particularly thermophysical properties, cycle chemistry guidelines, and other aspects of high-temperature steam, water and aqueous mixtures relevant to thermal power cycles and other industrial and scientific applications.\"\n",
    "\n",
    "This looks like:"
   ]
  },
  {
   "cell_type": "code",
   "execution_count": 6,
   "id": "eb884353",
   "metadata": {},
   "outputs": [],
   "source": [
    "from iapws import IAPWS97"
   ]
  },
  {
   "cell_type": "markdown",
   "id": "4cb22450",
   "metadata": {},
   "source": [
    "In order to calculate a thermodynamic property, we need to define several properties, such as temperature $T$ and pressure $p$, and for vapor-liquid mixtures, the quality $x$. $T$ should be in the units Kelvin, $p$ should be in MPa, and $x$ should be between 0 and 1.\n",
    "\n",
    "State 1 is a saturated liquid. Therefore, $x = 0$:"
   ]
  },
  {
   "cell_type": "code",
   "execution_count": 7,
   "id": "acbc8609",
   "metadata": {},
   "outputs": [],
   "source": [
    "quality = 0"
   ]
  },
  {
   "cell_type": "markdown",
   "id": "e28bb60b",
   "metadata": {},
   "source": [
    "We then have enough information to calculate all of the thermodynamic properties at this state. The first step in determining properties like $p$, specific entropy $s$, specific enthalpy $h$, etc., is to use the IAPWS97 module. This is written in this case as:"
   ]
  },
  {
   "cell_type": "code",
   "execution_count": 14,
   "id": "1495c28e",
   "metadata": {},
   "outputs": [],
   "source": [
    "# pressure should be in the units MPa, \n",
    "# temperature in the units K, \n",
    "# quality a number betwee 0 and 1. \n",
    "P1 = p1_MPa\n",
    "sat_liquid1 = IAPWS97(P=P1, x=quality)"
   ]
  },
  {
   "cell_type": "markdown",
   "id": "8b23cb58",
   "metadata": {},
   "source": [
    "From this, we can now calculate $T_1$ (K), $s_1$ (kJ/(kg K)), $h_1$ (kJ/kg), specific volume $v_1$ (m$^3$/kg)."
   ]
  },
  {
   "cell_type": "code",
   "execution_count": 15,
   "id": "fd14dade",
   "metadata": {},
   "outputs": [],
   "source": [
    "T1 = sat_liquid1.T # K\n",
    "s1 = sat_liquid1.s # kJ/kg*K\n",
    "h1 = sat_liquid1.h # kJ/kg\n",
    "v1 = sat_liquid1.v # m3/kg"
   ]
  },
  {
   "cell_type": "markdown",
   "id": "44d1990e",
   "metadata": {},
   "source": [
    "If we want to analyze a steam cycle, we can define three other states. Here we will look at a Rankine cycle, an idealized cycle for a thermoelectric powerplant. So we can say that state 2 is after the compressor, so the pressure is higher ($P_2 = 3$ MPa), and we will assume that the compressor is isentropic ($s_1 = s_2$):"
   ]
  },
  {
   "cell_type": "code",
   "execution_count": 16,
   "id": "e0e7a22d",
   "metadata": {},
   "outputs": [],
   "source": [
    "P2 = p2_MPa        # MPa\n",
    "s2 = s1            # kJ/kg*K"
   ]
  },
  {
   "cell_type": "markdown",
   "id": "00a0adb8",
   "metadata": {},
   "source": [
    "Again, we can calculate the properties at this state as:"
   ]
  },
  {
   "cell_type": "code",
   "execution_count": 17,
   "id": "7637516e",
   "metadata": {},
   "outputs": [],
   "source": [
    "sat_liquid2 = IAPWS97(P=P2, s=s1)\n",
    "T2 = sat_liquid2.T # K\n",
    "h2 = sat_liquid2.h # kJ/kg"
   ]
  },
  {
   "cell_type": "markdown",
   "id": "e3746713",
   "metadata": {},
   "source": [
    "With the values of $p_1$, $p_2$, and $v_1$ known, we can calculate the specific work, $w_{12}$ (kJ/kg) done by this compressor as:"
   ]
  },
  {
   "cell_type": "code",
   "execution_count": 18,
   "id": "aac834d7",
   "metadata": {},
   "outputs": [],
   "source": [
    "w12 = v1*(P2 - P1)*1e6/1e3 # kJ/kg; \n",
    "# Pressure is in MPa units, \n",
    "# and we want this to be in kJ/kg, \n",
    "# hence the 1e6/1e3 ratio."
   ]
  },
  {
   "cell_type": "markdown",
   "id": "d8d4de2d",
   "metadata": {},
   "source": [
    "Note: 1e6 = 1000000 and 1e3 = 1000\n",
    "\n",
    "We can print this value as:"
   ]
  },
  {
   "cell_type": "code",
   "execution_count": 19,
   "id": "70dd7577",
   "metadata": {},
   "outputs": [
    {
     "name": "stdout",
     "output_type": "stream",
     "text": [
      "The compressor work is: 3.0339 kJ/kg\n"
     ]
    }
   ],
   "source": [
    "print('The compressor work is: {0:1.4f} kJ/kg'.format(w12))"
   ]
  },
  {
   "cell_type": "markdown",
   "id": "aa962785",
   "metadata": {},
   "source": [
    "We can now define state 3 of our Rankine cycle, which is after the boiler. \n",
    "\n",
    "We know $T_3$ and $p_3 = p_2$:"
   ]
  },
  {
   "cell_type": "code",
   "execution_count": 20,
   "id": "9246f9d5",
   "metadata": {},
   "outputs": [],
   "source": [
    "T3 = T3_K # K\n",
    "P3 = P2 # definition of isobaric, MPa"
   ]
  },
  {
   "cell_type": "markdown",
   "id": "bdbea589",
   "metadata": {},
   "source": [
    "Again, we can calculate the properties at this state as:"
   ]
  },
  {
   "cell_type": "code",
   "execution_count": 21,
   "id": "e89d5ac6",
   "metadata": {},
   "outputs": [],
   "source": [
    "steam = IAPWS97(P=P3, T=T3)\n",
    "h3 = steam.h # kJ/kg\n",
    "s3 = steam.s # kJ/kg*K"
   ]
  },
  {
   "cell_type": "markdown",
   "id": "5ac36c2b",
   "metadata": {},
   "source": [
    "We can calculate the heat transferred to the water $Q_\\text{b}$ (kJ/kg), generating steam by taking the difference in specific enthalpy between states 3 and 2:"
   ]
  },
  {
   "cell_type": "code",
   "execution_count": 22,
   "id": "4b87da58",
   "metadata": {},
   "outputs": [
    {
     "name": "stdout",
     "output_type": "stream",
     "text": [
      "The boiler heat duty is: 2728.66 kJ/kg\n"
     ]
    }
   ],
   "source": [
    "Qb = h3 - h2 # heat required to make the steam, kJ/kg\n",
    "\n",
    "print('The boiler heat duty is: {0:1.2f} kJ/kg'.format(Qb))"
   ]
  },
  {
   "cell_type": "markdown",
   "id": "bf681b6a",
   "metadata": {},
   "source": [
    "Next, the high pressure steam passes through the turbine, which is used to generate electricity in a powerplant. Here we assume that the turbine operates isentropically, $s_4 = s_3$, and that the pressure is the same as that at state 1, $p_4 = p_1$. \n",
    "\n",
    "With these assumptions, we can calculate the thermodynamic properties of state 4 as:"
   ]
  },
  {
   "cell_type": "code",
   "execution_count": 23,
   "id": "d983c9f2",
   "metadata": {},
   "outputs": [],
   "source": [
    "s4 = s3 # isentropic #kJ/kg*K"
   ]
  },
  {
   "cell_type": "code",
   "execution_count": 24,
   "id": "3d7f1c8f",
   "metadata": {},
   "outputs": [],
   "source": [
    "P4 = P1 # MPa"
   ]
  },
  {
   "cell_type": "code",
   "execution_count": 25,
   "id": "cfdeb58e",
   "metadata": {},
   "outputs": [],
   "source": [
    "steam = IAPWS97(P=P4, s=s4)\n",
    "T4 = steam.T # K\n",
    "h4 = steam.h # kJ/kg"
   ]
  },
  {
   "cell_type": "markdown",
   "id": "34e8e3d2",
   "metadata": {},
   "source": [
    "We can then calculate the specific work generated by the turbine, $w_{34}$:"
   ]
  },
  {
   "cell_type": "code",
   "execution_count": 26,
   "id": "4f48a3b8",
   "metadata": {},
   "outputs": [
    {
     "name": "stdout",
     "output_type": "stream",
     "text": [
      "The turbine work is: -713.03 kJ/kg\n"
     ]
    }
   ],
   "source": [
    "w34 = h4 - h3 # work extracted from the expansion, kJ/kg\n",
    "print('The turbine work is: {0:1.2f} kJ/kg'.format(w34))"
   ]
  },
  {
   "cell_type": "markdown",
   "id": "087a5d6c",
   "metadata": {},
   "source": [
    "Next, the steam enters the condenser where it is cooled, condensing back into a liquid, where is it is then pumped by the compressor back into the boiler. The amount of heat removed by the condenser can be calculated as ($Q_{\\text{c}}$):"
   ]
  },
  {
   "cell_type": "code",
   "execution_count": 27,
   "id": "b5d6425c",
   "metadata": {},
   "outputs": [
    {
     "name": "stdout",
     "output_type": "stream",
     "text": [
      "The condenser heat duty is 2018.66 kJ/kg\n"
     ]
    }
   ],
   "source": [
    "Qc = h4 - h1 # Cooling from T4 to T1, kJ/kg\n",
    "print('The condenser heat duty is {0:1.2f} kJ/kg'.format(Qc))"
   ]
  },
  {
   "cell_type": "markdown",
   "id": "c527032b",
   "metadata": {},
   "source": [
    "The efficiency of the Rankine cycle can be calculated then as:"
   ]
  },
  {
   "cell_type": "code",
   "execution_count": 28,
   "id": "b80abd6b",
   "metadata": {},
   "outputs": [
    {
     "name": "stdout",
     "output_type": "stream",
     "text": [
      "The overall efficiency is 26.24%.\n"
     ]
    }
   ],
   "source": [
    "eta = -(w34 - w12) / Qb\n",
    "\n",
    "print('The overall efficiency is {0:1.2%}.'.format(eta))"
   ]
  },
  {
   "cell_type": "markdown",
   "id": "25107df5",
   "metadata": {},
   "source": [
    "The negative sign we have in front of the $w_{34}$ is due to the convention we used here. In our convention, the work we calculated was the energy consumed by the device. Normally, the convention in thermodynamics is that the work done by a system is positive, and the heat transferred into a system is positive. The opposites of this are then negative. For whatever convention you decide to use, the main point is to be consistent, although we recommend following the norm. "
   ]
  },
  {
   "cell_type": "markdown",
   "id": "ba3ed0a7",
   "metadata": {},
   "source": [
    "We can now show this Rankine cycle on the T-s diagram, as is customary. We can also save this plot as an image. For this we need to import some additional modules. "
   ]
  },
  {
   "cell_type": "code",
   "execution_count": 29,
   "id": "3dbf2670",
   "metadata": {},
   "outputs": [],
   "source": [
    "import numpy as np\n",
    "import matplotlib.pyplot as plt"
   ]
  },
  {
   "cell_type": "code",
   "execution_count": 36,
   "id": "045641ae",
   "metadata": {},
   "outputs": [
    {
     "data": {
      "text/plain": [
       "[<matplotlib.lines.Line2D at 0x7fe08e48cd90>]"
      ]
     },
     "execution_count": 36,
     "metadata": {},
     "output_type": "execute_result"
    },
    {
     "data": {
      "image/png": "[encoded data removed]",
      "text/plain": [
       "<Figure size 640x480 with 1 Axes>"
      ]
     },
     "metadata": {},
     "output_type": "display_data"
    }
   ],
   "source": [
    "plt.figure()\n",
    "plt.clf()\n",
    "T = np.linspace(300, 372+273, 200) # range of temperatures\n",
    "for P in [0.075, 1, 2, 3, 5, 10, 20]: #MPa\n",
    "    steam = [IAPWS97(T=t, P=P) for t in T]\n",
    "    S = [s.s for s in steam]\n",
    "    plt.plot(S, T, 'k-')\n",
    "\n",
    "# saturated vapor and liquid entropy lines\n",
    "svap = [s.s for s in [IAPWS97(T=t, x=1) for t in T]]\n",
    "sliq = [s.s for s in [IAPWS97(T=t, x=0) for t in T]]\n",
    "\n",
    "plt.plot(svap, T, 'r-')\n",
    "plt.plot(sliq, T, 'b-')\n",
    "\n",
    "plt.xlabel('s (kJ/(kg K))')\n",
    "plt.ylabel('T (K)')\n",
    "plt.savefig('iawps-steam.png')\n",
    "\n",
    "T23 = np.linspace(T2, T3)\n",
    "S23 = [s.s for s in [IAPWS97(P=P2, T=t) for t in T23]]\n",
    "\n",
    "T41 = np.linspace(T4, T1 - 0.01) # subtract a tiny bit to make sure we get a liquid\n",
    "S41 = [s.s for s in [IAPWS97(P=P1, T=t) for t in T41]]\n",
    "\n",
    "plt.plot([s1, s2], [T1, T2], 'r-', lw=4) # Path 1 to 2\n",
    "plt.plot(S23, T23, 'b-', lw=4) # path from 2 to 3 is isobaric\n",
    "plt.plot([s3, s4], [T3, T4], 'g-', lw=4) # path from 3 to 4 is isentropic\n",
    "plt.plot(S41, T41, 'k-', lw=4) # and from 4 to 1 is isobaric"
   ]
  },
  {
   "cell_type": "markdown",
   "id": "7473b3ea",
   "metadata": {},
   "source": [
    "It is instructive to compare the efficiency we calculated here with the Carnot efficiency. Recall that:\n",
    "\n",
    "$\\eta_\\text{Carnot} = 1 - \\frac{T_\\text{C}}{T_\\text{H}}$."
   ]
  },
  {
   "cell_type": "code",
   "execution_count": 31,
   "id": "4236284d",
   "metadata": {},
   "outputs": [],
   "source": [
    "TC_K = T4\n",
    "TH_K = T3"
   ]
  },
  {
   "cell_type": "code",
   "execution_count": 33,
   "id": "82348e21",
   "metadata": {},
   "outputs": [
    {
     "name": "stdout",
     "output_type": "stream",
     "text": [
      "The Carnot efficiency of this power plant is 41.44%.\n"
     ]
    }
   ],
   "source": [
    "eta_carnot = 1 - TC_K / TH_K\n",
    "\n",
    "print('The Carnot efficiency of this power plant is {0:1.2%}.'.format(eta_carnot))"
   ]
  },
  {
   "cell_type": "code",
   "execution_count": null,
   "id": "c3ef1a98",
   "metadata": {},
   "outputs": [],
   "source": []
  }
 ],
 "metadata": {
  "kernelspec": {
   "display_name": "Python 3 (ipykernel)",
   "language": "python",
   "name": "python3"
  },
  "language_info": {
   "codemirror_mode": {
    "name": "ipython",
    "version": 3
   },
   "file_extension": ".py",
   "mimetype": "text/x-python",
   "name": "python",
   "nbconvert_exporter": "python",
   "pygments_lexer": "ipython3",
   "version": "3.9.15"
  }
 },
 "nbformat": 4,
 "nbformat_minor": 5
}
