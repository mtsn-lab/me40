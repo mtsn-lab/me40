{
 "cells": [
  {
   "cell_type": "markdown",
   "id": "1531ae64",
   "metadata": {},
   "source": [
    "## Refrigeration cycle\n",
    "Problem 6-58, Thermodynamics: An Engineering Approach, Yunus Cengel, Michael Boles, 9th Edtition"
   ]
  },
  {
   "cell_type": "code",
   "execution_count": 16,
   "id": "365c887a",
   "metadata": {},
   "outputs": [
    {
     "name": "stdout",
     "output_type": "stream",
     "text": [
      "Requirement already satisfied: CoolProp in /srv/conda/lib/python3.11/site-packages (6.6.0)\n"
     ]
    }
   ],
   "source": [
    "!pip install CoolProp"
   ]
  },
  {
   "cell_type": "code",
   "execution_count": 17,
   "id": "eb884353",
   "metadata": {},
   "outputs": [],
   "source": [
    "from CoolProp.CoolProp import PropsSI"
   ]
  },
  {
   "cell_type": "code",
   "execution_count": 18,
   "id": "ea9086fb-7129-4562-8fad-455eea27d8d9",
   "metadata": {},
   "outputs": [],
   "source": [
    "fluid = 'R134a'"
   ]
  },
  {
   "cell_type": "markdown",
   "id": "75dced47-64ea-4201-803e-1621f68f0a8c",
   "metadata": {},
   "source": [
    "$\\text{COP} = \\frac{\\dot{Q}_\\text{L}}{\\dot{W}_\\text{net,in}}$"
   ]
  },
  {
   "cell_type": "code",
   "execution_count": 19,
   "id": "844b5f2f-5549-425d-b1a2-e00ccf36dd8b",
   "metadata": {},
   "outputs": [],
   "source": [
    "WdotIn_W = 600\n",
    "COP = 1.2\n",
    "QdotL_W = WdotIn_W*COP"
   ]
  },
  {
   "cell_type": "code",
   "execution_count": 20,
   "id": "bc160aa5",
   "metadata": {},
   "outputs": [
    {
     "name": "stdout",
     "output_type": "stream",
     "text": [
      "382885.71503696806\n"
     ]
    }
   ],
   "source": [
    "# state 1: Before the compressor\n",
    "P1_Pa = 100e3 # Pa\n",
    "T1_K = -26+273.15\n",
    "h1_JperKg = PropsSI('H','T',T1_K,'P',P1_Pa,fluid); print(h1_JperKg)"
   ]
  },
  {
   "cell_type": "code",
   "execution_count": 21,
   "id": "2bddff8d-51bd-4358-976f-5d930d33283a",
   "metadata": {},
   "outputs": [
    {
     "name": "stdout",
     "output_type": "stream",
     "text": [
      "208873.34486368773\n"
     ]
    }
   ],
   "source": [
    "# state 4: Before the evaporator\n",
    "x4 = 0.2 # quality\n",
    "P4_Pa = 100e3 # Pa\n",
    "h4_JperKg = PropsSI('H','P',P4_Pa,'Q',x4,fluid); print(h4_JperKg)"
   ]
  },
  {
   "cell_type": "markdown",
   "id": "4ecac694-2a07-48f2-9209-cc7428ac5dcb",
   "metadata": {},
   "source": [
    "$\\dot{Q}_\\text{L} = \\dot{m} \\left(h_1 - h_4 \\right)$"
   ]
  },
  {
   "cell_type": "code",
   "execution_count": 26,
   "id": "b0f7d3bd-5eb6-461f-b50e-f5e84a970742",
   "metadata": {},
   "outputs": [
    {
     "name": "stdout",
     "output_type": "stream",
     "text": [
      "mdot = 0.004138 kg/s.\n"
     ]
    }
   ],
   "source": [
    "mdot_kgPerS = QdotL_W / (h1_JperKg - h4_JperKg)\n",
    "\n",
    "print('mdot = {0:1.6f} kg/s.'.format(mdot_kgPerS))"
   ]
  },
  {
   "cell_type": "markdown",
   "id": "d63b230d-a949-40c9-ba16-f60023df743c",
   "metadata": {},
   "source": [
    "Recall: \n",
    "$W_\\text{net,in} = Q_\\text{H} - Q_\\text{L}$"
   ]
  },
  {
   "cell_type": "code",
   "execution_count": 25,
   "id": "6a7be768-038f-4592-8846-c6c2d240ef77",
   "metadata": {},
   "outputs": [
    {
     "name": "stdout",
     "output_type": "stream",
     "text": [
      "Qdot = 1320.00 W.\n"
     ]
    }
   ],
   "source": [
    "QdotH_W = WdotIn_W + QdotL_W\n",
    "\n",
    "print('Qdot = {0:1.2f} W.'.format(QdotH_W))"
   ]
  }
 ],
 "metadata": {
  "kernelspec": {
   "display_name": "Python 3 (ipykernel)",
   "language": "python",
   "name": "python3"
  },
  "language_info": {
   "codemirror_mode": {
    "name": "ipython",
    "version": 3
   },
   "file_extension": ".py",
   "mimetype": "text/x-python",
   "name": "python",
   "nbconvert_exporter": "python",
   "pygments_lexer": "ipython3",
   "version": "3.11.9"
  }
 },
 "nbformat": 4,
 "nbformat_minor": 5
}
