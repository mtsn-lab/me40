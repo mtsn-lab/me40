{
 "cells": [
  {
   "attachments": {},
   "cell_type": "markdown",
   "id": "1531ae64",
   "metadata": {},
   "source": [
    "## Water heater heated by a heat pump\n",
    "Problem 6-153, Thermodynamics: An Engineering Approach, Yunus Cengel, Michael Boles, 9th Edtition\n",
    "\n",
    "Cold water at 10°C enters a water heater at the rate of 0.02 m$^3$/min and leaves the water heater at 50°C. The water heater receives heat from a heat pump that receives heat from a heat source at 0°C.\n",
    "\n",
    "(a) Assuming the water to be an incompressible liquid that does not change phase during heat addition, determine the rate of heat supplied to the water, in kJ/s.\n",
    "(b) Assuming the water heater acts as a heat sink having an average temperature of 30°C, determine the minimum power supplied\n",
    "to the heat pump, in kW."
   ]
  },
  {
   "cell_type": "code",
   "execution_count": 1,
   "id": "8f4e9e57-21c5-4263-b2dd-46c75eff109e",
   "metadata": {},
   "outputs": [
    {
     "name": "stdout",
     "output_type": "stream",
     "text": [
      "Requirement already satisfied: iapws in /srv/conda/lib/python3.11/site-packages (1.5.4)\n",
      "Requirement already satisfied: scipy>=1.2 in /srv/conda/lib/python3.11/site-packages (from iapws) (1.10.0)\n",
      "Requirement already satisfied: numpy<1.27.0,>=1.19.5 in /srv/conda/lib/python3.11/site-packages (from scipy>=1.2->iapws) (1.26.4)\n"
     ]
    }
   ],
   "source": [
    "!pip install iapws"
   ]
  },
  {
   "cell_type": "code",
   "execution_count": 2,
   "id": "ccf9ad7c-e7b4-4da6-aaaa-69501b6e2969",
   "metadata": {},
   "outputs": [],
   "source": [
    "from iapws import IAPWS97"
   ]
  },
  {
   "cell_type": "code",
   "execution_count": 3,
   "id": "bc160aa5",
   "metadata": {},
   "outputs": [],
   "source": [
    "# state 1: Entering the water heater\n",
    "P1_MPa = 0.1 # atmospheric pressure\n",
    "T1_K = 10+273.15\n",
    "water1 = IAPWS97(P=P1_MPa, T=T1_K)"
   ]
  },
  {
   "cell_type": "code",
   "execution_count": 5,
   "id": "d8aba5a7-cd90-4cf1-b930-b60e2f2de19e",
   "metadata": {},
   "outputs": [],
   "source": [
    "# state 2: After the water heater\n",
    "P2_MPa = P1_MPa # atmospheric pressure\n",
    "T2_K = 50+273.15\n",
    "water2 = IAPWS97(P=P2_MPa, T=T2_K)"
   ]
  },
  {
   "cell_type": "code",
   "execution_count": 19,
   "id": "aba1365d-011c-4e25-bfe1-725dcbc824c4",
   "metadata": {},
   "outputs": [
    {
     "name": "stdout",
     "output_type": "stream",
     "text": [
      "0.0010061984434140787\n"
     ]
    }
   ],
   "source": [
    "# need to determine the mass flow rate of water; we are given the volumetric flow rate\n",
    "# therefore, we need density or its inverse, specific volume\n",
    "v_avg_m3perKg = (water1.v + water2.v)/2; print(v_avg_m3perKg)"
   ]
  },
  {
   "cell_type": "code",
   "execution_count": 8,
   "id": "7b9c07db-d233-456a-a4ab-f4937caa3095",
   "metadata": {},
   "outputs": [],
   "source": [
    "vdot_m3perS = 0.02/60\n",
    "mdot_kgPerS = vdot_m3perS/v_avg_m3perKg"
   ]
  },
  {
   "cell_type": "code",
   "execution_count": 10,
   "id": "78072add-40cc-4d39-83b6-841195a4eb1e",
   "metadata": {},
   "outputs": [
    {
     "name": "stdout",
     "output_type": "stream",
     "text": [
      "(a) QdotH = 55.42 kW.\n"
     ]
    }
   ],
   "source": [
    "QdotH_kW = mdot_kgPerS*(water2.h - water1.h)\n",
    "print('(a) QdotH = {0:1.2f} kW.'.format(QdotH_kW))"
   ]
  },
  {
   "cell_type": "code",
   "execution_count": 12,
   "id": "5aa7e011-b703-40b1-a1cf-5795e9616882",
   "metadata": {},
   "outputs": [],
   "source": [
    "TH_K = 30+273.15\n",
    "TL_K = 0+273.15"
   ]
  },
  {
   "cell_type": "markdown",
   "id": "f3eda36b-1611-483d-9af5-34227d33bd66",
   "metadata": {},
   "source": [
    "Recall that:\n",
    "$\\text{COP}_\\text{HP,rev} = \\frac{1}{1 - T_\\text{L}/T_\\text{H}}$"
   ]
  },
  {
   "cell_type": "code",
   "execution_count": 16,
   "id": "b1efa1ca-7d6e-44c8-8cdb-df65d9b91a97",
   "metadata": {},
   "outputs": [
    {
     "name": "stdout",
     "output_type": "stream",
     "text": [
      "10.105000000000002\n"
     ]
    }
   ],
   "source": [
    "COP_HPrev = 1/(1 - (TL_K/TH_K)); print(COP_HPrev)"
   ]
  },
  {
   "cell_type": "markdown",
   "id": "73285068-7dfd-4601-b759-0f4678a2d5f9",
   "metadata": {},
   "source": [
    "Recall that:\n",
    "$\\text{COP} = \\frac{\\dot{Q}_\\text{H}}{\\dot{W}_\\text{net,in}}$"
   ]
  },
  {
   "cell_type": "code",
   "execution_count": 18,
   "id": "b740ba30-1759-43f8-8e5b-82fd4dc10b05",
   "metadata": {},
   "outputs": [
    {
     "name": "stdout",
     "output_type": "stream",
     "text": [
      "(b) Wdot_minimum = 5.48 kW.\n"
     ]
    }
   ],
   "source": [
    "WdotInMinimum_kW = QdotH_kW / COP_HPrev\n",
    "print('(b) Wdot_minimum = {0:1.2f} kW.'.format(WdotInMinimum_kW))"
   ]
  },
  {
   "cell_type": "code",
   "execution_count": null,
   "id": "9d1ab181-daf6-4656-9852-6b9ef5b2e231",
   "metadata": {},
   "outputs": [],
   "source": []
  }
 ],
 "metadata": {
  "kernelspec": {
   "display_name": "Python 3 (ipykernel)",
   "language": "python",
   "name": "python3"
  },
  "language_info": {
   "codemirror_mode": {
    "name": "ipython",
    "version": 3
   },
   "file_extension": ".py",
   "mimetype": "text/x-python",
   "name": "python",
   "nbconvert_exporter": "python",
   "pygments_lexer": "ipython3",
   "version": "3.11.9"
  }
 },
 "nbformat": 4,
 "nbformat_minor": 5
}
